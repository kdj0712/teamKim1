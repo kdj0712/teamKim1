{
 "cells": [
  {
   "cell_type": "markdown",
   "id": "2d534085-50f0-4439-95f0-314d2f9312b7",
   "metadata": {},
   "source": [
    "# Riss 'rare diseases' 학술정보 스크래핑 data\n",
    "- 방법 1) 주제어 뽑아서 topic 분류 후 지도학습 / 의미있는 topic분류가 안된다면\n",
    "- 방법 2) 수동 분류 index 부여해서 지도학습"
   ]
  },
  {
   "cell_type": "code",
   "execution_count": 1,
   "id": "136d3c1a-f21f-4f44-8d2a-a7b8677236a8",
   "metadata": {},
   "outputs": [],
   "source": [
    "import pandas as pd\n",
    "import numpy as np"
   ]
  },
  {
   "cell_type": "code",
   "execution_count": null,
   "id": "0a4ba474-cfe6-484e-afa1-2da24f86abcd",
   "metadata": {
    "scrolled": true
   },
   "outputs": [],
   "source": [
    "df_Riss_research = pd.read_csv(\"./csv/Seleniums.eng_academic_research2.csv\")\n",
    "df_Riss_research.drop(labels='_id', axis=1, inplace=True)\n",
    "df_Riss_research"
   ]
  },
  {
   "cell_type": "markdown",
   "id": "a077d9ff-b027-46c8-855c-a90b643e442a",
   "metadata": {},
   "source": [
    "# 방법 1) 주제어 뽑아서 topic 분류 후 지도학습"
   ]
  },
  {
   "cell_type": "markdown",
   "id": "2c60b740-360a-4204-a7b1-d618b611b878",
   "metadata": {},
   "source": [
    "## 데이터 전처리"
   ]
  },
  {
   "cell_type": "markdown",
   "id": "4c2495d1-a7c1-435a-aca7-91a6e452fe6b",
   "metadata": {},
   "source": [
    "### dataframe 내 중복되는 학술정보 제거"
   ]
  },
  {
   "cell_type": "code",
   "execution_count": null,
   "id": "41b4285d-f499-4fba-820f-72b69e580316",
   "metadata": {},
   "outputs": [],
   "source": [
    "df_Riss_research['research_title'].value_counts()"
   ]
  },
  {
   "cell_type": "code",
   "execution_count": null,
   "id": "e23ca9a1-42a2-49a2-b10e-1874606c6659",
   "metadata": {
    "scrolled": true
   },
   "outputs": [],
   "source": [
    "df_Riss_research.drop_duplicates(subset=\"research_title\", keep='first', inplace=True)\n",
    "df_Riss_research['research_title'].value_counts()\n",
    "# 중복값 제거 완료 확인"
   ]
  },
  {
   "cell_type": "code",
   "execution_count": null,
   "id": "6069ca22-0bdd-4554-bc25-9d92a1246748",
   "metadata": {},
   "outputs": [],
   "source": [
    "df_Riss_research.reset_index(drop=True, inplace=True)"
   ]
  },
  {
   "cell_type": "markdown",
   "id": "e0d44682-db23-4f68-9451-cf0e84a14a53",
   "metadata": {},
   "source": [
    "### 영문 text만 남기기"
   ]
  },
  {
   "cell_type": "code",
   "execution_count": null,
   "id": "b073aee9-a149-4d29-9901-52cbb3583ee2",
   "metadata": {},
   "outputs": [],
   "source": [
    "import re\n",
    "def no_korean(text):\n",
    "    patterns = '([가-힣]|[一-龥]|[0-9]|[;])'\n",
    "    text_regex = re.sub(pattern=patterns, repl=' ', string=text)\n",
    "    return text_regex\n",
    "df_Riss_research['research_subject'] = df_Riss_research['research_subject'].apply(no_korean)"
   ]
  },
  {
   "cell_type": "markdown",
   "id": "7cb63b53-cf22-4748-b9a0-7f252b5e5e5e",
   "metadata": {},
   "source": [
    "### 대문자 -> 소문자"
   ]
  },
  {
   "cell_type": "code",
   "execution_count": null,
   "id": "a2919217-a5fd-41e9-80a6-16243bfbab4b",
   "metadata": {},
   "outputs": [],
   "source": [
    "df_Riss_research['research_subject'] = df_Riss_research['research_subject'].str.lower()"
   ]
  },
  {
   "cell_type": "markdown",
   "id": "52e7b2a3-f892-4c19-930b-5d15a8ab90bd",
   "metadata": {},
   "source": [
    "### 불용어 제거"
   ]
  },
  {
   "cell_type": "code",
   "execution_count": null,
   "id": "e0df13b1-70c0-463c-88d1-91a3c380286d",
   "metadata": {},
   "outputs": [],
   "source": [
    "f=open('./csv/eng_academic_research_stopwords.txt')\n",
    "stopwords=[]\n",
    "lines = f.readlines()\n",
    "for line in lines:\n",
    "    line = line.strip()\n",
    "    stopwords.append(line)\n",
    "f.close()"
   ]
  },
  {
   "cell_type": "markdown",
   "id": "459eea61-ffe5-4216-9475-6b73c9e3695c",
   "metadata": {},
   "source": [
    "### Tfidfvectorizer"
   ]
  },
  {
   "cell_type": "code",
   "execution_count": null,
   "id": "c9f0d190-c493-4f75-9e30-304be129851d",
   "metadata": {
    "scrolled": true
   },
   "outputs": [],
   "source": [
    "eng_subject = df_Riss_research['research_subject'].tolist()\n",
    "eng_subject"
   ]
  },
  {
   "cell_type": "code",
   "execution_count": null,
   "id": "d7a4acc0-7edf-42af-a613-39f2c58fe703",
   "metadata": {},
   "outputs": [],
   "source": [
    "from sklearn.feature_extraction.text import TfidfVectorizer\n",
    "tfidfVectorizer = TfidfVectorizer(stop_words=stopwords\n",
    "                                  , ngram_range=(1,2)\n",
    "                                  , max_df=0.95\n",
    "                                  , min_df=2)  # stop_words는 vocabulary에서 필요없는 단어를 빼주는 것. ngram_range는 단어를 붙여주는 것으로 2개의 단어가 합성되었을때 의미를 가지고, 떨어져있을때 의미가 상실되는 경우를 포함함.\n",
    "result_vectors = tfidfVectorizer.fit_transform(eng_subject)  # fit & transform은 다른 2가지 임.(fit하면 각 단어의 vocabulary 만들 수 있음.)\n",
    "result_vectors.toarray()[:2]"
   ]
  },
  {
   "cell_type": "code",
   "execution_count": null,
   "id": "0a854fca-b632-443a-ae47-24dd4b8261a3",
   "metadata": {
    "scrolled": true
   },
   "outputs": [],
   "source": [
    "tfidfVectorizer.vocabulary_ "
   ]
  },
  {
   "cell_type": "markdown",
   "id": "2e5affa6-90a3-4f35-a009-c1833a7eff72",
   "metadata": {},
   "source": [
    "### LDA : topic 모델링"
   ]
  },
  {
   "cell_type": "code",
   "execution_count": null,
   "id": "a0dc8eda-410d-4631-ac99-e0d88ff49f48",
   "metadata": {},
   "outputs": [],
   "source": [
    "from sklearn.decomposition import LatentDirichletAllocation\n",
    "lda_model = LatentDirichletAllocation(n_components=3, n_jobs=-1)\n",
    "lda_model.fit(result_vectors)"
   ]
  },
  {
   "cell_type": "code",
   "execution_count": null,
   "id": "e414241f-a99f-416d-93d7-4d4d9abb3663",
   "metadata": {},
   "outputs": [],
   "source": [
    "dictionary_list = tfidfVectorizer.get_feature_names_out()\n",
    "dictionary_list"
   ]
  },
  {
   "cell_type": "code",
   "execution_count": null,
   "id": "b1396b87-63b6-43a7-81e4-b64c453f8be0",
   "metadata": {},
   "outputs": [],
   "source": [
    "lda_model.components_"
   ]
  },
  {
   "cell_type": "code",
   "execution_count": null,
   "id": "fc151490-e6db-40f6-8b18-5e7ae44ecba5",
   "metadata": {},
   "outputs": [],
   "source": [
    "topics_output = lda_model.transform(result_vectors)\n",
    "df_topics_score = pd.DataFrame(data=topics_output)\n",
    "df_topics_score"
   ]
  },
  {
   "cell_type": "code",
   "execution_count": null,
   "id": "37697133-ceab-4c47-b590-120f2f85dcd1",
   "metadata": {},
   "outputs": [],
   "source": [
    "df_topics_score['dominant_topic_number'] = np.argmax(topics_output, axis=1)\n",
    "df_topics_score['sentences'] = df_Riss_research['research_subject']\n",
    "df_topics_score"
   ]
  },
  {
   "cell_type": "markdown",
   "id": "1a337ef8-c764-4de7-9f7f-72014d0f4eb8",
   "metadata": {},
   "source": [
    "### topic별 word 추출"
   ]
  },
  {
   "cell_type": "code",
   "execution_count": null,
   "id": "d854e01f-f7c5-464a-be8e-e69c2f3ec556",
   "metadata": {},
   "outputs": [],
   "source": [
    "topics_list = list()\n",
    "for topic in lda_model.components_:\n",
    "    df_datas = [topic, dictionary_list]\n",
    "    df_topics = pd.DataFrame(data=df_datas)\n",
    "    df_topics= df_topics.T\n",
    "    df_topics = df_topics.sort_values(0, ascending=False)\n",
    "    topics_text = ' '.join(df_topics[1].values[:5])\n",
    "    print(topics_text)\n",
    "    topics_list.append(topics_text)\n",
    "\n",
    "topics_list_add = [topics_list, ['Topic0', 'Topic1', 'Topic2']]\n",
    "df_topics_keywords = pd.DataFrame(topics_list_add)"
   ]
  },
  {
   "cell_type": "code",
   "execution_count": null,
   "id": "8035a2a4-511b-4bf6-afc7-e21aecf57934",
   "metadata": {},
   "outputs": [],
   "source": [
    "df_topics_keywords"
   ]
  },
  {
   "cell_type": "markdown",
   "id": "15745545-832d-4070-9f06-b507e4a7d2dc",
   "metadata": {},
   "source": [
    "### LDA 시각화"
   ]
  },
  {
   "cell_type": "code",
   "execution_count": null,
   "id": "706fef20-aaa1-45f0-bf0d-9f3725177b80",
   "metadata": {},
   "outputs": [],
   "source": [
    "import pyLDAvis\n",
    "import pyLDAvis.lda_model"
   ]
  },
  {
   "cell_type": "code",
   "execution_count": null,
   "id": "6078184a-e564-4f77-8e7d-0643e9bf8372",
   "metadata": {},
   "outputs": [],
   "source": [
    "vis = pyLDAvis.lda_model.prepare(lda_model, result_vectors, tfidfVectorizer)"
   ]
  },
  {
   "cell_type": "code",
   "execution_count": null,
   "id": "903775ca-c8c5-49be-ab27-9202121437c9",
   "metadata": {},
   "outputs": [],
   "source": [
    "pyLDAvis.enable_notebook()\n",
    "pyLDAvis.display(vis)"
   ]
  },
  {
   "cell_type": "code",
   "execution_count": null,
   "id": "5531dadf-9955-4e53-8f70-136bb3f8997c",
   "metadata": {},
   "outputs": [],
   "source": []
  }
 ],
 "metadata": {
  "kernelspec": {
   "display_name": "Python 3 (ipykernel)",
   "language": "python",
   "name": "python3"
  },
  "language_info": {
   "codemirror_mode": {
    "name": "ipython",
    "version": 3
   },
   "file_extension": ".py",
   "mimetype": "text/x-python",
   "name": "python",
   "nbconvert_exporter": "python",
   "pygments_lexer": "ipython3",
   "version": "3.11.8"
  }
 },
 "nbformat": 4,
 "nbformat_minor": 5
}
