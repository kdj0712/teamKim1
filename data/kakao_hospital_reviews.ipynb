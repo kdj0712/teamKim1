{
 "cells": [
  {
   "cell_type": "markdown",
   "id": "05908f5b-427c-4dc6-9256-360f49398abb",
   "metadata": {},
   "source": [
    "## data"
   ]
  },
  {
   "cell_type": "code",
   "execution_count": null,
   "id": "93b39f21-43cf-4293-a50e-d613dd6dd390",
   "metadata": {},
   "outputs": [],
   "source": [
    "import pandas as pd\n",
    "df_hr = pd.read_csv('./csv/hospital_reviews.csv')\n",
    "df_hr_text = df_hr[['text']].dropna()\n",
    "df_khr = pd.read_csv('./csv/Seleniums_kakao_hospital_reviews_modified.csv')\n",
    "df_khr.dropna(inplace=True)"
   ]
  },
  {
   "cell_type": "code",
   "execution_count": null,
   "id": "317e54f8-33fc-44b6-a2c6-a8a7011d105c",
   "metadata": {},
   "outputs": [],
   "source": [
    "df_hr_text[0:500]"
   ]
  },
  {
   "cell_type": "code",
   "execution_count": null,
   "id": "d13ef0b8-d5e3-4b57-9794-c0edce9910eb",
   "metadata": {},
   "outputs": [],
   "source": [
    "df_khr_extract_sec = df_khr.query('positive != 1')[['text', 'positive']]"
   ]
  },
  {
   "cell_type": "code",
   "execution_count": null,
   "id": "fc0c4374-a176-4e83-be1c-241d090a0960",
   "metadata": {},
   "outputs": [],
   "source": [
    "df_khr_extract_sec"
   ]
  },
  {
   "cell_type": "code",
   "execution_count": null,
   "id": "6b60d6e4-50f8-426e-b10f-1fc0b35938a3",
   "metadata": {},
   "outputs": [],
   "source": [
    "pip install --upgrade pandas"
   ]
  },
  {
   "cell_type": "code",
   "execution_count": null,
   "id": "345293fe-a219-4171-9305-2913a13f86fa",
   "metadata": {},
   "outputs": [],
   "source": [
    "# data = {\n",
    "#     'text': ['쓰레기', '쓰레기병원', '개별로임'],\n",
    "#     'Value': [0,0,0]\n",
    "# }\n",
    "# df_khr_extract_sec.append(data, ignore_index=True)"
   ]
  },
  {
   "cell_type": "markdown",
   "id": "b92ed564-dcfd-40fc-bdfe-8863411e9f6c",
   "metadata": {},
   "source": [
    "## tokenizing"
   ]
  },
  {
   "cell_type": "code",
   "execution_count": null,
   "id": "616810c5-3a3f-44e8-bf3c-9e0d9f325c17",
   "metadata": {},
   "outputs": [],
   "source": [
    "!pip install python-mecab-ko"
   ]
  },
  {
   "cell_type": "code",
   "execution_count": null,
   "id": "b6d502e9-6638-4af7-ad8c-def0190f2670",
   "metadata": {},
   "outputs": [],
   "source": [
    "from mecab import MeCab\n",
    "mecab = MeCab()"
   ]
  },
  {
   "cell_type": "code",
   "execution_count": null,
   "id": "8b66cf86-27c4-401a-9959-5ffa2d8c4934",
   "metadata": {},
   "outputs": [],
   "source": [
    "mecab.pos(' 👍 👍 👍')\n"
   ]
  },
  {
   "cell_type": "code",
   "execution_count": null,
   "id": "094e7308-a4b0-4388-89b0-8de3d272e2b1",
   "metadata": {},
   "outputs": [],
   "source": [
    "import re\n",
    "def regex_func(text) :\n",
    "    patterns = '\\\\\\\\n'\n",
    "    text_regex = re.sub(pattern=patterns,repl=' ',string=text)\n",
    "    return text_regex\n",
    "df_khr_extract_sec['text'] = df_khr_extract_sec['text'].apply(regex_func)\n",
    "df_khr_extract_sec['text']"
   ]
  },
  {
   "cell_type": "code",
   "execution_count": null,
   "id": "a0db6c39-5e69-4a4b-9752-6f679260bb71",
   "metadata": {},
   "outputs": [],
   "source": [
    "mecab.pos(df_khr_extract_sec['text'].loc[495])"
   ]
  },
  {
   "cell_type": "code",
   "execution_count": null,
   "id": "2e430315-dd61-456f-aa17-35a23db12a13",
   "metadata": {},
   "outputs": [],
   "source": [
    "def extract(series) :\n",
    "    morphs_nouns_list = []\n",
    "    for sentence in series:\n",
    "        morphs_nouns = ''\n",
    "        for morph, tag in mecab.pos(sentence) : \n",
    "            if tag in ['NNG', 'NNP', 'NNB', 'NNBC', 'NP', 'NR', 'VA', 'MAG', 'SY'] :\n",
    "                morphs_nouns += (morph+' ')            \n",
    "        morphs_nouns_list.append(morphs_nouns)\n",
    "        pass\n",
    "    return morphs_nouns_list\n",
    "morphs_nouns_list = extract(df_khr_extract_sec['text'])"
   ]
  },
  {
   "cell_type": "code",
   "execution_count": null,
   "id": "f2ac9dd1-7c43-4c5c-b8d3-7cc69e0ae658",
   "metadata": {
    "scrolled": true
   },
   "outputs": [],
   "source": [
    "df_khr_extract_sec['text_tokenized'] = morphs_nouns_list"
   ]
  },
  {
   "cell_type": "code",
   "execution_count": null,
   "id": "fbe53279-40c6-4395-8bee-144c1e2b9240",
   "metadata": {},
   "outputs": [],
   "source": [
    "df_khr_extract_sec"
   ]
  },
  {
   "cell_type": "code",
   "execution_count": null,
   "id": "b859082a-016c-462d-9fa4-9db8afff1840",
   "metadata": {},
   "outputs": [],
   "source": [
    "df_khr_extract_sec"
   ]
  },
  {
   "cell_type": "code",
   "execution_count": null,
   "id": "20a33a70-90ba-4a35-96d4-b905e85d9dae",
   "metadata": {},
   "outputs": [],
   "source": [
    "from sklearn.feature_extraction.text import TfidfVectorizer\n",
    "tfidfVectorizer = TfidfVectorizer(tokenizer=None, ngram_range=(1,2))"
   ]
  },
  {
   "cell_type": "code",
   "execution_count": null,
   "id": "c12f0796-5079-4cdc-bc9e-bcf698977f3c",
   "metadata": {},
   "outputs": [],
   "source": [
    "tfidfVectorizer.fit(df_khr_extract_sec['text_tokenized'])"
   ]
  },
  {
   "cell_type": "code",
   "execution_count": null,
   "id": "b48efb4b-8b90-4d68-a755-ada1bd889276",
   "metadata": {},
   "outputs": [],
   "source": [
    "features = df_khr_extract_sec['text_tokenized']\n",
    "target = df_khr_extract_sec['positive']"
   ]
  },
  {
   "cell_type": "code",
   "execution_count": null,
   "id": "c2f6b632-065b-4183-85ba-db2b3095af08",
   "metadata": {},
   "outputs": [],
   "source": [
    "tokenized_features = tfidfVectorizer.transform(features)"
   ]
  },
  {
   "cell_type": "code",
   "execution_count": null,
   "id": "907d2d47-9705-40f2-b2aa-b73885cfa9ad",
   "metadata": {},
   "outputs": [],
   "source": [
    "from sklearn.ensemble import RandomForestClassifier\n",
    "model = RandomForestClassifier(n_jobs=-1)"
   ]
  },
  {
   "cell_type": "code",
   "execution_count": null,
   "id": "5a95f722-13f1-4680-8ac5-a66a827db837",
   "metadata": {},
   "outputs": [],
   "source": [
    "from sklearn.model_selection import train_test_split\n",
    "features_train, features_test, target_train, target_test = train_test_split(tokenized_features, target, test_size=0.1, random_state=55)\n",
    "features_train.shape, features_test.shape, target_train.shape, target_test.shape"
   ]
  },
  {
   "cell_type": "code",
   "execution_count": null,
   "id": "6528d263-484c-4016-bd84-24b92d30a9e8",
   "metadata": {},
   "outputs": [],
   "source": [
    "model.fit(features_train,target_train)"
   ]
  },
  {
   "cell_type": "code",
   "execution_count": null,
   "id": "565afb79-a1f4-4b6c-a14f-d0f009ba62ef",
   "metadata": {},
   "outputs": [],
   "source": [
    "model.predict(features_test)"
   ]
  },
  {
   "cell_type": "code",
   "execution_count": null,
   "id": "12ba74fe-9003-4c02-8faf-390b431732fc",
   "metadata": {},
   "outputs": [],
   "source": [
    "from sklearn.metrics import classification_report"
   ]
  },
  {
   "cell_type": "code",
   "execution_count": null,
   "id": "cb952513-73e8-412b-beec-4ea9080caa3a",
   "metadata": {},
   "outputs": [],
   "source": [
    "target_predict = model.predict(features_test)\n",
    "print(classification_report(target_test, target_predict))"
   ]
  },
  {
   "cell_type": "code",
   "execution_count": null,
   "id": "9b45ce7b-a531-4a7b-8b7d-f4c24449e87b",
   "metadata": {},
   "outputs": [],
   "source": [
    "# make predict function\n",
    "def sample_predict(features):\n",
    "    tokenized_features = tfidfVectorizer.transform(extract(features))\n",
    "    return model.predict(tokenized_features)\n",
    "sample_predict(['아...진짜 진찰 진료 개떡같이 하네'])"
   ]
  },
  {
   "cell_type": "code",
   "execution_count": null,
   "id": "ae88bff3-3850-40bb-a6da-84c79b935b7f",
   "metadata": {},
   "outputs": [],
   "source": []
  },
  {
   "cell_type": "code",
   "execution_count": null,
   "id": "94b8125a-ec4a-4da9-8e11-b6fd3e67394d",
   "metadata": {},
   "outputs": [],
   "source": []
  },
  {
   "cell_type": "code",
   "execution_count": null,
   "id": "32117af9-ca09-48b0-a164-8d259e6b47ba",
   "metadata": {},
   "outputs": [],
   "source": []
  },
  {
   "cell_type": "code",
   "execution_count": null,
   "id": "df68e3f3-0742-42bf-a701-1eca26e41847",
   "metadata": {},
   "outputs": [],
   "source": []
  },
  {
   "cell_type": "code",
   "execution_count": null,
   "id": "43750734-dcf7-430d-be7d-bb05fa8d7405",
   "metadata": {},
   "outputs": [],
   "source": []
  },
  {
   "cell_type": "code",
   "execution_count": null,
   "id": "cb2b84be-9d5d-4a4e-b2fc-6befa12cd1e1",
   "metadata": {},
   "outputs": [],
   "source": []
  },
  {
   "cell_type": "code",
   "execution_count": null,
   "id": "408e4c81-942f-4db5-9a9c-711ce228d014",
   "metadata": {},
   "outputs": [],
   "source": []
  },
  {
   "cell_type": "code",
   "execution_count": null,
   "id": "4de342ff-235f-4d1d-b85f-d7fe5f2b1ead",
   "metadata": {},
   "outputs": [],
   "source": []
  },
  {
   "cell_type": "code",
   "execution_count": null,
   "id": "7d49fd57-9311-43c6-89e7-394206fa5c15",
   "metadata": {},
   "outputs": [],
   "source": []
  }
 ],
 "metadata": {
  "kernelspec": {
   "display_name": "Python 3 (ipykernel)",
   "language": "python",
   "name": "python3"
  },
  "language_info": {
   "codemirror_mode": {
    "name": "ipython",
    "version": 3
   },
   "file_extension": ".py",
   "mimetype": "text/x-python",
   "name": "python",
   "nbconvert_exporter": "python",
   "pygments_lexer": "ipython3",
   "version": "3.11.8"
  }
 },
 "nbformat": 4,
 "nbformat_minor": 5
}
