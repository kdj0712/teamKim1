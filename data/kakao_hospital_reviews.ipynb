{
 "cells": [
  {
   "cell_type": "markdown",
   "id": "05908f5b-427c-4dc6-9256-360f49398abb",
   "metadata": {},
   "source": [
    "## data"
   ]
  },
  {
   "cell_type": "code",
   "execution_count": 2,
   "id": "93b39f21-43cf-4293-a50e-d613dd6dd390",
   "metadata": {},
   "outputs": [],
   "source": [
    "import pandas as pd\n",
    "df_hr = pd.read_csv('./csv/hospital_reviews.csv')\n",
    "df_hr_text = df_hr[['text']].dropna()\n",
    "df_khr = pd.read_csv('./csv/Seleniums_kakao_hospital_reviews_modified.csv')\n",
    "df_khr.dropna(inplace=True)"
   ]
  },
  {
   "cell_type": "code",
   "execution_count": 3,
   "id": "317e54f8-33fc-44b6-a2c6-a8a7011d105c",
   "metadata": {},
   "outputs": [
    {
     "data": {
      "text/html": [
       "<div>\n",
       "<style scoped>\n",
       "    .dataframe tbody tr th:only-of-type {\n",
       "        vertical-align: middle;\n",
       "    }\n",
       "\n",
       "    .dataframe tbody tr th {\n",
       "        vertical-align: top;\n",
       "    }\n",
       "\n",
       "    .dataframe thead th {\n",
       "        text-align: right;\n",
       "    }\n",
       "</style>\n",
       "<table border=\"1\" class=\"dataframe\">\n",
       "  <thead>\n",
       "    <tr style=\"text-align: right;\">\n",
       "      <th></th>\n",
       "      <th>text</th>\n",
       "    </tr>\n",
       "  </thead>\n",
       "  <tbody>\n",
       "    <tr>\n",
       "      <th>1</th>\n",
       "      <td>원장님 진료 잘봐주십니다 경력도 오래되신걸로 알고 있고 무엇보다 친절하심다</td>\n",
       "    </tr>\n",
       "    <tr>\n",
       "      <th>2</th>\n",
       "      <td>원장님 경력이 오래되셨다고 지인이 추천해줘서 방문했는데요 원장님 친절하시고 진료를 ...</td>\n",
       "    </tr>\n",
       "    <tr>\n",
       "      <th>3</th>\n",
       "      <td>통증은 꾸준하게 관리를 해줘야 한다고 해서 몇번 방문을 했는데 여기가 제일 괜찮아서...</td>\n",
       "    </tr>\n",
       "    <tr>\n",
       "      <th>4</th>\n",
       "      <td>직원분들 친친절하시고 원장님 진료 잘 봐주시네요 또 방문하려고요</td>\n",
       "    </tr>\n",
       "    <tr>\n",
       "      <th>5</th>\n",
       "      <td>친절하세요</td>\n",
       "    </tr>\n",
       "    <tr>\n",
       "      <th>...</th>\n",
       "      <td>...</td>\n",
       "    </tr>\n",
       "    <tr>\n",
       "      <th>498</th>\n",
       "      <td>좋아요</td>\n",
       "    </tr>\n",
       "    <tr>\n",
       "      <th>499</th>\n",
       "      <td>친절하셔서 편안히 치료받습니다.</td>\n",
       "    </tr>\n",
       "    <tr>\n",
       "      <th>500</th>\n",
       "      <td>내부 시설이 좋아요</td>\n",
       "    </tr>\n",
       "    <tr>\n",
       "      <th>501</th>\n",
       "      <td>친절하세요</td>\n",
       "    </tr>\n",
       "    <tr>\n",
       "      <th>502</th>\n",
       "      <td>좋아요</td>\n",
       "    </tr>\n",
       "  </tbody>\n",
       "</table>\n",
       "<p>500 rows × 1 columns</p>\n",
       "</div>"
      ],
      "text/plain": [
       "                                                  text\n",
       "1            원장님 진료 잘봐주십니다 경력도 오래되신걸로 알고 있고 무엇보다 친절하심다\n",
       "2    원장님 경력이 오래되셨다고 지인이 추천해줘서 방문했는데요 원장님 친절하시고 진료를 ...\n",
       "3    통증은 꾸준하게 관리를 해줘야 한다고 해서 몇번 방문을 했는데 여기가 제일 괜찮아서...\n",
       "4                  직원분들 친친절하시고 원장님 진료 잘 봐주시네요 또 방문하려고요\n",
       "5                                                친절하세요\n",
       "..                                                 ...\n",
       "498                                                좋아요\n",
       "499                                  친절하셔서 편안히 치료받습니다.\n",
       "500                                         내부 시설이 좋아요\n",
       "501                                              친절하세요\n",
       "502                                                좋아요\n",
       "\n",
       "[500 rows x 1 columns]"
      ]
     },
     "execution_count": 3,
     "metadata": {},
     "output_type": "execute_result"
    }
   ],
   "source": [
    "df_hr_text[0:500]"
   ]
  },
  {
   "cell_type": "code",
   "execution_count": 4,
   "id": "d13ef0b8-d5e3-4b57-9794-c0edce9910eb",
   "metadata": {},
   "outputs": [],
   "source": [
    "df_khr_extract_sec = df_khr.query('positive != 1')[['text', 'positive']]"
   ]
  },
  {
   "cell_type": "code",
   "execution_count": 5,
   "id": "fc0c4374-a176-4e83-be1c-241d090a0960",
   "metadata": {},
   "outputs": [
    {
     "data": {
      "text/html": [
       "<div>\n",
       "<style scoped>\n",
       "    .dataframe tbody tr th:only-of-type {\n",
       "        vertical-align: middle;\n",
       "    }\n",
       "\n",
       "    .dataframe tbody tr th {\n",
       "        vertical-align: top;\n",
       "    }\n",
       "\n",
       "    .dataframe thead th {\n",
       "        text-align: right;\n",
       "    }\n",
       "</style>\n",
       "<table border=\"1\" class=\"dataframe\">\n",
       "  <thead>\n",
       "    <tr style=\"text-align: right;\">\n",
       "      <th></th>\n",
       "      <th>text</th>\n",
       "      <th>positive</th>\n",
       "    </tr>\n",
       "  </thead>\n",
       "  <tbody>\n",
       "    <tr>\n",
       "      <th>0</th>\n",
       "      <td>불친절!! 전공의 복귀해!</td>\n",
       "      <td>0.0</td>\n",
       "    </tr>\n",
       "    <tr>\n",
       "      <th>1</th>\n",
       "      <td>Very crowded and the doctors can be very unfri...</td>\n",
       "      <td>0.0</td>\n",
       "    </tr>\n",
       "    <tr>\n",
       "      <th>3</th>\n",
       "      <td>여 기 진 짜 별로임\\n애기 발에 고름이 꽉차서 누렇고 퉁퉁부어있는데\\n발 보더니 ...</td>\n",
       "      <td>0.0</td>\n",
       "    </tr>\n",
       "    <tr>\n",
       "      <th>5</th>\n",
       "      <td>고대\\n구로병원에 가시거든 다른 병원가세요\\n저희 아버지 일반 병실에 계시다가\\n중...</td>\n",
       "      <td>0.0</td>\n",
       "    </tr>\n",
       "    <tr>\n",
       "      <th>6</th>\n",
       "      <td>여기 서류 처리 때문에 전화 했었는데 늙은 사람이 전화 받는 태도 말투가 기본도 안...</td>\n",
       "      <td>0.0</td>\n",
       "    </tr>\n",
       "    <tr>\n",
       "      <th>...</th>\n",
       "      <td>...</td>\n",
       "      <td>...</td>\n",
       "    </tr>\n",
       "    <tr>\n",
       "      <th>1030</th>\n",
       "      <td>최고에요~!</td>\n",
       "      <td>2.0</td>\n",
       "    </tr>\n",
       "    <tr>\n",
       "      <th>1031</th>\n",
       "      <td>여기는 찐입니다.~!!\\n회사 지인 소개로 갔는데\\n원장 선생님 진짜 명의라고 말할...</td>\n",
       "      <td>2.0</td>\n",
       "    </tr>\n",
       "    <tr>\n",
       "      <th>1032</th>\n",
       "      <td>2년동안 여기저기 다니며 주사 맞았는데 나르샤에서 주사 맞고 고통이 팍 줄었어요.\\...</td>\n",
       "      <td>2.0</td>\n",
       "    </tr>\n",
       "    <tr>\n",
       "      <th>1033</th>\n",
       "      <td>정확한 판단과 적절한 치료, 친절한 의료진</td>\n",
       "      <td>2.0</td>\n",
       "    </tr>\n",
       "    <tr>\n",
       "      <th>1034</th>\n",
       "      <td>엉치가 아파서 갔는데, 예상치 못하게 허리가 아픈 걸 발견해주셨어요. 원인을 잘 파...</td>\n",
       "      <td>2.0</td>\n",
       "    </tr>\n",
       "  </tbody>\n",
       "</table>\n",
       "<p>933 rows × 2 columns</p>\n",
       "</div>"
      ],
      "text/plain": [
       "                                                   text  positive\n",
       "0                                        불친절!! 전공의 복귀해!       0.0\n",
       "1     Very crowded and the doctors can be very unfri...       0.0\n",
       "3     여 기 진 짜 별로임\\n애기 발에 고름이 꽉차서 누렇고 퉁퉁부어있는데\\n발 보더니 ...       0.0\n",
       "5     고대\\n구로병원에 가시거든 다른 병원가세요\\n저희 아버지 일반 병실에 계시다가\\n중...       0.0\n",
       "6     여기 서류 처리 때문에 전화 했었는데 늙은 사람이 전화 받는 태도 말투가 기본도 안...       0.0\n",
       "...                                                 ...       ...\n",
       "1030                                             최고에요~!       2.0\n",
       "1031  여기는 찐입니다.~!!\\n회사 지인 소개로 갔는데\\n원장 선생님 진짜 명의라고 말할...       2.0\n",
       "1032  2년동안 여기저기 다니며 주사 맞았는데 나르샤에서 주사 맞고 고통이 팍 줄었어요.\\...       2.0\n",
       "1033                            정확한 판단과 적절한 치료, 친절한 의료진       2.0\n",
       "1034  엉치가 아파서 갔는데, 예상치 못하게 허리가 아픈 걸 발견해주셨어요. 원인을 잘 파...       2.0\n",
       "\n",
       "[933 rows x 2 columns]"
      ]
     },
     "execution_count": 5,
     "metadata": {},
     "output_type": "execute_result"
    }
   ],
   "source": [
    "df_khr_extract_sec"
   ]
  },
  {
   "cell_type": "code",
   "execution_count": 6,
   "id": "6b60d6e4-50f8-426e-b10f-1fc0b35938a3",
   "metadata": {},
   "outputs": [
    {
     "name": "stdout",
     "output_type": "stream",
     "text": [
      "Requirement already satisfied: pandas in /usr/local/lib/python3.11/site-packages (2.2.1)\n",
      "Requirement already satisfied: numpy<2,>=1.23.2 in /usr/local/lib/python3.11/site-packages (from pandas) (1.26.4)\n",
      "Requirement already satisfied: python-dateutil>=2.8.2 in /usr/local/lib/python3.11/site-packages (from pandas) (2.8.2)\n",
      "Requirement already satisfied: pytz>=2020.1 in /usr/local/lib/python3.11/site-packages (from pandas) (2024.1)\n",
      "Requirement already satisfied: tzdata>=2022.7 in /usr/local/lib/python3.11/site-packages (from pandas) (2024.1)\n",
      "Requirement already satisfied: six>=1.5 in /usr/local/lib/python3.11/site-packages (from python-dateutil>=2.8.2->pandas) (1.16.0)\n",
      "\u001b[33mWARNING: Running pip as the 'root' user can result in broken permissions and conflicting behaviour with the system package manager. It is recommended to use a virtual environment instead: https://pip.pypa.io/warnings/venv\u001b[0m\u001b[33m\n",
      "\u001b[0mNote: you may need to restart the kernel to use updated packages.\n"
     ]
    }
   ],
   "source": [
    "pip install --upgrade pandas"
   ]
  },
  {
   "cell_type": "code",
   "execution_count": 7,
   "id": "345293fe-a219-4171-9305-2913a13f86fa",
   "metadata": {},
   "outputs": [
    {
     "ename": "AttributeError",
     "evalue": "'DataFrame' object has no attribute 'append'",
     "output_type": "error",
     "traceback": [
      "\u001b[0;31m---------------------------------------------------------------------------\u001b[0m",
      "\u001b[0;31mAttributeError\u001b[0m                            Traceback (most recent call last)",
      "\u001b[0;32m/tmp/ipykernel_2340/1669732941.py\u001b[0m in \u001b[0;36m?\u001b[0;34m()\u001b[0m\n\u001b[1;32m      1\u001b[0m data = {\n\u001b[1;32m      2\u001b[0m     \u001b[0;34m'text'\u001b[0m\u001b[0;34m:\u001b[0m \u001b[0;34m[\u001b[0m\u001b[0;34m'쓰레기'\u001b[0m\u001b[0;34m,\u001b[0m \u001b[0;34m'쓰레기병원'\u001b[0m\u001b[0;34m,\u001b[0m \u001b[0;34m'개별로임'\u001b[0m\u001b[0;34m]\u001b[0m\u001b[0;34m,\u001b[0m\u001b[0;34m\u001b[0m\u001b[0;34m\u001b[0m\u001b[0m\n\u001b[1;32m      3\u001b[0m     \u001b[0;34m'Value'\u001b[0m\u001b[0;34m:\u001b[0m \u001b[0;34m[\u001b[0m\u001b[0;36m0\u001b[0m\u001b[0;34m,\u001b[0m\u001b[0;36m0\u001b[0m\u001b[0;34m,\u001b[0m\u001b[0;36m0\u001b[0m\u001b[0;34m]\u001b[0m\u001b[0;34m\u001b[0m\u001b[0;34m\u001b[0m\u001b[0m\n\u001b[1;32m      4\u001b[0m }\n\u001b[0;32m----> 5\u001b[0;31m \u001b[0mdf_khr_extract_sec\u001b[0m\u001b[0;34m.\u001b[0m\u001b[0mappend\u001b[0m\u001b[0;34m(\u001b[0m\u001b[0mdata\u001b[0m\u001b[0;34m,\u001b[0m \u001b[0mignore_index\u001b[0m\u001b[0;34m=\u001b[0m\u001b[0;32mTrue\u001b[0m\u001b[0;34m)\u001b[0m\u001b[0;34m\u001b[0m\u001b[0;34m\u001b[0m\u001b[0m\n\u001b[0m",
      "\u001b[0;32m/usr/local/lib/python3.11/site-packages/pandas/core/generic.py\u001b[0m in \u001b[0;36m?\u001b[0;34m(self, name)\u001b[0m\n\u001b[1;32m   6292\u001b[0m             \u001b[0;32mand\u001b[0m \u001b[0mname\u001b[0m \u001b[0;32mnot\u001b[0m \u001b[0;32min\u001b[0m \u001b[0mself\u001b[0m\u001b[0;34m.\u001b[0m\u001b[0m_accessors\u001b[0m\u001b[0;34m\u001b[0m\u001b[0;34m\u001b[0m\u001b[0m\n\u001b[1;32m   6293\u001b[0m             \u001b[0;32mand\u001b[0m \u001b[0mself\u001b[0m\u001b[0;34m.\u001b[0m\u001b[0m_info_axis\u001b[0m\u001b[0;34m.\u001b[0m\u001b[0m_can_hold_identifiers_and_holds_name\u001b[0m\u001b[0;34m(\u001b[0m\u001b[0mname\u001b[0m\u001b[0;34m)\u001b[0m\u001b[0;34m\u001b[0m\u001b[0;34m\u001b[0m\u001b[0m\n\u001b[1;32m   6294\u001b[0m         ):\n\u001b[1;32m   6295\u001b[0m             \u001b[0;32mreturn\u001b[0m \u001b[0mself\u001b[0m\u001b[0;34m[\u001b[0m\u001b[0mname\u001b[0m\u001b[0;34m]\u001b[0m\u001b[0;34m\u001b[0m\u001b[0;34m\u001b[0m\u001b[0m\n\u001b[0;32m-> 6296\u001b[0;31m         \u001b[0;32mreturn\u001b[0m \u001b[0mobject\u001b[0m\u001b[0;34m.\u001b[0m\u001b[0m__getattribute__\u001b[0m\u001b[0;34m(\u001b[0m\u001b[0mself\u001b[0m\u001b[0;34m,\u001b[0m \u001b[0mname\u001b[0m\u001b[0;34m)\u001b[0m\u001b[0;34m\u001b[0m\u001b[0;34m\u001b[0m\u001b[0m\n\u001b[0m",
      "\u001b[0;31mAttributeError\u001b[0m: 'DataFrame' object has no attribute 'append'"
     ]
    }
   ],
   "source": [
    "data = {\n",
    "    'text': ['쓰레기', '쓰레기병원', '개별로임'],\n",
    "    'Value': [0,0,0]\n",
    "}\n",
    "df_khr_extract_sec.append(data, ignore_index=True)"
   ]
  },
  {
   "cell_type": "code",
   "execution_count": null,
   "id": "bc6f807d-a26a-48bb-89a8-969487c907e9",
   "metadata": {},
   "outputs": [],
   "source": [
    "df_khr_extract"
   ]
  },
  {
   "cell_type": "markdown",
   "id": "b92ed564-dcfd-40fc-bdfe-8863411e9f6c",
   "metadata": {},
   "source": [
    "## tokenizing"
   ]
  },
  {
   "cell_type": "code",
   "execution_count": null,
   "id": "616810c5-3a3f-44e8-bf3c-9e0d9f325c17",
   "metadata": {},
   "outputs": [],
   "source": [
    "!pip install python-mecab-ko"
   ]
  },
  {
   "cell_type": "code",
   "execution_count": null,
   "id": "b6d502e9-6638-4af7-ad8c-def0190f2670",
   "metadata": {},
   "outputs": [],
   "source": [
    "from mecab import MeCab\n",
    "mecab = MeCab()"
   ]
  },
  {
   "cell_type": "code",
   "execution_count": null,
   "id": "8b66cf86-27c4-401a-9959-5ffa2d8c4934",
   "metadata": {},
   "outputs": [],
   "source": [
    "mecab.pos(' 👍 👍 👍')\n"
   ]
  },
  {
   "cell_type": "code",
   "execution_count": null,
   "id": "094e7308-a4b0-4388-89b0-8de3d272e2b1",
   "metadata": {},
   "outputs": [],
   "source": [
    "import re\n",
    "def regex_func(text) :\n",
    "    patterns = '\\\\\\\\n'\n",
    "    text_regex = re.sub(pattern=patterns,repl=' ',string=text)\n",
    "    return text_regex\n",
    "df_khr_extract_sec['text'] = df_khr_extract_sec['text'].apply(regex_func)\n",
    "df_khr_extract_sec['text']"
   ]
  },
  {
   "cell_type": "code",
   "execution_count": null,
   "id": "a0db6c39-5e69-4a4b-9752-6f679260bb71",
   "metadata": {},
   "outputs": [],
   "source": [
    "mecab.pos(df_khr_extract_sec['text'].loc[495])"
   ]
  },
  {
   "cell_type": "code",
   "execution_count": null,
   "id": "2e430315-dd61-456f-aa17-35a23db12a13",
   "metadata": {},
   "outputs": [],
   "source": [
    "def extract(series) :\n",
    "    morphs_nouns_list = []\n",
    "    for sentence in series:\n",
    "        morphs_nouns = ''\n",
    "        for morph, tag in mecab.pos(sentence) : \n",
    "            if tag in ['NNG', 'NNP', 'NNB', 'NNBC', 'NP', 'NR', 'VA', 'MAG', 'SY'] :\n",
    "                morphs_nouns += (morph+' ')            \n",
    "        morphs_nouns_list.append(morphs_nouns)\n",
    "        pass\n",
    "    return morphs_nouns_list\n",
    "morphs_nouns_list = extract(df_khr_extract_sec['text'])"
   ]
  },
  {
   "cell_type": "code",
   "execution_count": null,
   "id": "f2ac9dd1-7c43-4c5c-b8d3-7cc69e0ae658",
   "metadata": {
    "scrolled": true
   },
   "outputs": [],
   "source": [
    "df_khr_extract_sec['text_tokenized'] = morphs_nouns_list"
   ]
  },
  {
   "cell_type": "code",
   "execution_count": null,
   "id": "fbe53279-40c6-4395-8bee-144c1e2b9240",
   "metadata": {},
   "outputs": [],
   "source": [
    "df_khr_extract_sec"
   ]
  },
  {
   "cell_type": "code",
   "execution_count": null,
   "id": "b859082a-016c-462d-9fa4-9db8afff1840",
   "metadata": {},
   "outputs": [],
   "source": [
    "df_khr_extract_sec"
   ]
  },
  {
   "cell_type": "code",
   "execution_count": null,
   "id": "20a33a70-90ba-4a35-96d4-b905e85d9dae",
   "metadata": {},
   "outputs": [],
   "source": [
    "from sklearn.feature_extraction.text import TfidfVectorizer\n",
    "tfidfVectorizer = TfidfVectorizer(tokenizer=None, ngram_range=(1,2))"
   ]
  },
  {
   "cell_type": "code",
   "execution_count": null,
   "id": "c12f0796-5079-4cdc-bc9e-bcf698977f3c",
   "metadata": {},
   "outputs": [],
   "source": [
    "tfidfVectorizer.fit(df_khr_extract_sec['text_tokenized'])"
   ]
  },
  {
   "cell_type": "code",
   "execution_count": null,
   "id": "b48efb4b-8b90-4d68-a755-ada1bd889276",
   "metadata": {},
   "outputs": [],
   "source": [
    "features = df_khr_extract_sec['text_tokenized']\n",
    "target = df_khr_extract_sec['positive']"
   ]
  },
  {
   "cell_type": "code",
   "execution_count": null,
   "id": "c2f6b632-065b-4183-85ba-db2b3095af08",
   "metadata": {},
   "outputs": [],
   "source": [
    "tokenized_features = tfidfVectorizer.transform(features)"
   ]
  },
  {
   "cell_type": "code",
   "execution_count": null,
   "id": "907d2d47-9705-40f2-b2aa-b73885cfa9ad",
   "metadata": {},
   "outputs": [],
   "source": [
    "from sklearn.ensemble import RandomForestClassifier\n",
    "model = RandomForestClassifier(n_jobs=-1)"
   ]
  },
  {
   "cell_type": "code",
   "execution_count": null,
   "id": "5a95f722-13f1-4680-8ac5-a66a827db837",
   "metadata": {},
   "outputs": [],
   "source": [
    "from sklearn.model_selection import train_test_split\n",
    "features_train, features_test, target_train, target_test = train_test_split(tokenized_features, target, test_size=0.3, random_state=55)\n",
    "features_train.shape, features_test.shape, target_train.shape, target_test.shape"
   ]
  },
  {
   "cell_type": "code",
   "execution_count": null,
   "id": "6528d263-484c-4016-bd84-24b92d30a9e8",
   "metadata": {},
   "outputs": [],
   "source": [
    "model.fit(features_train,target_train)"
   ]
  },
  {
   "cell_type": "code",
   "execution_count": null,
   "id": "565afb79-a1f4-4b6c-a14f-d0f009ba62ef",
   "metadata": {},
   "outputs": [],
   "source": [
    "model.predict(features_test)"
   ]
  },
  {
   "cell_type": "code",
   "execution_count": null,
   "id": "12ba74fe-9003-4c02-8faf-390b431732fc",
   "metadata": {},
   "outputs": [],
   "source": [
    "from sklearn.metrics import classification_report"
   ]
  },
  {
   "cell_type": "code",
   "execution_count": null,
   "id": "cb952513-73e8-412b-beec-4ea9080caa3a",
   "metadata": {},
   "outputs": [],
   "source": [
    "target_predict = model.predict(features_test)\n",
    "print(classification_report(target_test, target_predict))"
   ]
  },
  {
   "cell_type": "code",
   "execution_count": null,
   "id": "9b45ce7b-a531-4a7b-8b7d-f4c24449e87b",
   "metadata": {},
   "outputs": [],
   "source": [
    "# make predict function\n",
    "def sample_predict(features):\n",
    "    tokenized_features = tfidfVectorizer.transform(extract(features))\n",
    "    return model.predict(tokenized_features)\n",
    "sample_predict(['가지마세요'])"
   ]
  },
  {
   "cell_type": "code",
   "execution_count": null,
   "id": "ae88bff3-3850-40bb-a6da-84c79b935b7f",
   "metadata": {},
   "outputs": [],
   "source": []
  },
  {
   "cell_type": "code",
   "execution_count": null,
   "id": "94b8125a-ec4a-4da9-8e11-b6fd3e67394d",
   "metadata": {},
   "outputs": [],
   "source": []
  }
 ],
 "metadata": {
  "kernelspec": {
   "display_name": "Python 3 (ipykernel)",
   "language": "python",
   "name": "python3"
  },
  "language_info": {
   "codemirror_mode": {
    "name": "ipython",
    "version": 3
   },
   "file_extension": ".py",
   "mimetype": "text/x-python",
   "name": "python",
   "nbconvert_exporter": "python",
   "pygments_lexer": "ipython3",
   "version": "3.11.8"
  }
 },
 "nbformat": 4,
 "nbformat_minor": 5
}
