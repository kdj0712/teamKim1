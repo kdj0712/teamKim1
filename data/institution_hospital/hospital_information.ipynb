{
 "cells": [
  {
   "cell_type": "markdown",
   "id": "ac9282e7-0a26-4d09-be08-42712231b065",
   "metadata": {},
   "source": [
    "## 병원 정보 확인"
   ]
  },
  {
   "cell_type": "code",
   "execution_count": 57,
   "id": "ee70d764-8eea-4b3c-9df7-faadf100299d",
   "metadata": {},
   "outputs": [],
   "source": [
    "import pandas as pd\n",
    "import numpy as np"
   ]
  },
  {
   "cell_type": "code",
   "execution_count": 58,
   "id": "3cc9e430-d05c-4ec1-97fa-470de91e1294",
   "metadata": {},
   "outputs": [
    {
     "data": {
      "text/plain": [
       "(77321, 35095, 14453)"
      ]
     },
     "execution_count": 58,
     "metadata": {},
     "output_type": "execute_result"
    }
   ],
   "source": [
    "df_hospital = pd.read_csv(\"institution_hospital_info.csv\") # 병원정보서비스\n",
    "df_hospital_rating = pd.read_csv(\"institution_hospital_rating_info.csv\") #병원평가정보서비스\n",
    "df_hospital_good = pd.read_csv(\"institution_good_hospital_info.csv\")# 우수기관병원평가정보서비스\n",
    "len(df_hospital), len(df_hospital_rating), len(df_hospital_good)"
   ]
  },
  {
   "cell_type": "markdown",
   "id": "a3572c2a-8602-4d29-ba22-ec7917ffb0d3",
   "metadata": {},
   "source": [
    "\n"
   ]
  },
  {
   "cell_type": "code",
   "execution_count": 59,
   "id": "bcf5ea37-34c2-4e61-be42-93f0b58942ee",
   "metadata": {},
   "outputs": [
    {
     "data": {
      "text/html": [
       "<div>\n",
       "<style scoped>\n",
       "    .dataframe tbody tr th:only-of-type {\n",
       "        vertical-align: middle;\n",
       "    }\n",
       "\n",
       "    .dataframe tbody tr th {\n",
       "        vertical-align: top;\n",
       "    }\n",
       "\n",
       "    .dataframe thead th {\n",
       "        text-align: right;\n",
       "    }\n",
       "</style>\n",
       "<table border=\"1\" class=\"dataframe\">\n",
       "  <thead>\n",
       "    <tr style=\"text-align: right;\">\n",
       "      <th></th>\n",
       "      <th>_id</th>\n",
       "      <th>addr</th>\n",
       "      <th>clCd</th>\n",
       "      <th>clCdNm</th>\n",
       "      <th>estbDd</th>\n",
       "      <th>hospUrl</th>\n",
       "      <th>yadmNm</th>\n",
       "      <th>ykiho</th>\n",
       "    </tr>\n",
       "  </thead>\n",
       "  <tbody>\n",
       "    <tr>\n",
       "      <th>0</th>\n",
       "      <td>65f109910f8f75fab7c7db55</td>\n",
       "      <td>경기도 수원시 팔달구 중부대로 93, (지동)</td>\n",
       "      <td>1</td>\n",
       "      <td>상급종합</td>\n",
       "      <td>19670523</td>\n",
       "      <td>http://www.cmcvincent.or.kr/skip.html</td>\n",
       "      <td>가톨릭대학교 성빈센트병원</td>\n",
       "      <td>JDQ4MTYyMiM1MSMkMSMkMCMkODkkMzgxMzUxIzExIyQxIy...</td>\n",
       "    </tr>\n",
       "    <tr>\n",
       "      <th>1</th>\n",
       "      <td>65f109910f8f75fab7c7db56</td>\n",
       "      <td>인천광역시 부평구 동수로 56, (부평동)</td>\n",
       "      <td>1</td>\n",
       "      <td>상급종합</td>\n",
       "      <td>19810806</td>\n",
       "      <td>http://www.cmcism.or.kr/</td>\n",
       "      <td>가톨릭대학교인천성모병원</td>\n",
       "      <td>JDQ4MTYyMiM1MSMkMSMkMCMkODkkMzgxMzUxIzExIyQxIy...</td>\n",
       "    </tr>\n",
       "    <tr>\n",
       "      <th>2</th>\n",
       "      <td>65f109910f8f75fab7c7db57</td>\n",
       "      <td>강원특별자치도 강릉시 사천면 방동길 38, (사천면)</td>\n",
       "      <td>1</td>\n",
       "      <td>상급종합</td>\n",
       "      <td>19960730</td>\n",
       "      <td>http://www.gnah.co.kr</td>\n",
       "      <td>강릉아산병원</td>\n",
       "      <td>JDQ4MTYyMiM1MSMkMSMkNCMkODkkMzgxMzUxIzExIyQxIy...</td>\n",
       "    </tr>\n",
       "    <tr>\n",
       "      <th>3</th>\n",
       "      <td>65f109910f8f75fab7c7db58</td>\n",
       "      <td>서울특별시 종로구 새문안로 29, (평동)</td>\n",
       "      <td>1</td>\n",
       "      <td>상급종합</td>\n",
       "      <td>19790324</td>\n",
       "      <td>http://www.kbsmc.co.kr</td>\n",
       "      <td>강북삼성병원</td>\n",
       "      <td>JDQ4MTg4MSM1MSMkMSMkMCMkODkkMzgxMzUxIzExIyQxIy...</td>\n",
       "    </tr>\n",
       "    <tr>\n",
       "      <th>4</th>\n",
       "      <td>65f109910f8f75fab7c7db59</td>\n",
       "      <td>서울특별시 광진구 능동로 120-1, (화양동)</td>\n",
       "      <td>1</td>\n",
       "      <td>상급종합</td>\n",
       "      <td>19821116</td>\n",
       "      <td>http://www.kuh.ac.kr</td>\n",
       "      <td>건국대학교병원</td>\n",
       "      <td>JDQ4MTg4MSM1MSMkMSMkMCMkODkkMzgxMzUxIzExIyQxIy...</td>\n",
       "    </tr>\n",
       "  </tbody>\n",
       "</table>\n",
       "</div>"
      ],
      "text/plain": [
       "                        _id                           addr  clCd clCdNm  \\\n",
       "0  65f109910f8f75fab7c7db55      경기도 수원시 팔달구 중부대로 93, (지동)     1   상급종합   \n",
       "1  65f109910f8f75fab7c7db56        인천광역시 부평구 동수로 56, (부평동)     1   상급종합   \n",
       "2  65f109910f8f75fab7c7db57  강원특별자치도 강릉시 사천면 방동길 38, (사천면)     1   상급종합   \n",
       "3  65f109910f8f75fab7c7db58        서울특별시 종로구 새문안로 29, (평동)     1   상급종합   \n",
       "4  65f109910f8f75fab7c7db59     서울특별시 광진구 능동로 120-1, (화양동)     1   상급종합   \n",
       "\n",
       "     estbDd                                hospUrl         yadmNm  \\\n",
       "0  19670523  http://www.cmcvincent.or.kr/skip.html  가톨릭대학교 성빈센트병원   \n",
       "1  19810806               http://www.cmcism.or.kr/   가톨릭대학교인천성모병원   \n",
       "2  19960730                  http://www.gnah.co.kr         강릉아산병원   \n",
       "3  19790324                 http://www.kbsmc.co.kr         강북삼성병원   \n",
       "4  19821116                   http://www.kuh.ac.kr        건국대학교병원   \n",
       "\n",
       "                                               ykiho  \n",
       "0  JDQ4MTYyMiM1MSMkMSMkMCMkODkkMzgxMzUxIzExIyQxIy...  \n",
       "1  JDQ4MTYyMiM1MSMkMSMkMCMkODkkMzgxMzUxIzExIyQxIy...  \n",
       "2  JDQ4MTYyMiM1MSMkMSMkNCMkODkkMzgxMzUxIzExIyQxIy...  \n",
       "3  JDQ4MTg4MSM1MSMkMSMkMCMkODkkMzgxMzUxIzExIyQxIy...  \n",
       "4  JDQ4MTg4MSM1MSMkMSMkMCMkODkkMzgxMzUxIzExIyQxIy...  "
      ]
     },
     "execution_count": 59,
     "metadata": {},
     "output_type": "execute_result"
    }
   ],
   "source": [
    "df_hospital.head() # add"
   ]
  },
  {
   "cell_type": "code",
   "execution_count": 60,
   "id": "bd32f2cf-0315-423f-9512-4f2532c51bcc",
   "metadata": {},
   "outputs": [
    {
     "data": {
      "text/html": [
       "<div>\n",
       "<style scoped>\n",
       "    .dataframe tbody tr th:only-of-type {\n",
       "        vertical-align: middle;\n",
       "    }\n",
       "\n",
       "    .dataframe tbody tr th {\n",
       "        vertical-align: top;\n",
       "    }\n",
       "\n",
       "    .dataframe thead th {\n",
       "        text-align: right;\n",
       "    }\n",
       "</style>\n",
       "<table border=\"1\" class=\"dataframe\">\n",
       "  <thead>\n",
       "    <tr style=\"text-align: right;\">\n",
       "      <th></th>\n",
       "      <th>_id</th>\n",
       "      <th>addr</th>\n",
       "      <th>yadmNm</th>\n",
       "      <th>ykiho</th>\n",
       "    </tr>\n",
       "  </thead>\n",
       "  <tbody>\n",
       "    <tr>\n",
       "      <th>0</th>\n",
       "      <td>65f0f96ab2107bcc50fc5829</td>\n",
       "      <td>경기도 안양시 동안구 평촌대로217번길 45, 205-207, 209-210호 (호...</td>\n",
       "      <td>희망가득의원</td>\n",
       "      <td>JDU4MTI3MSM1MSMkMiMkMCMkMDAkNDgxMzUxIzExIyQxIy...</td>\n",
       "    </tr>\n",
       "    <tr>\n",
       "      <th>1</th>\n",
       "      <td>65f0f96ab2107bcc50fc582a</td>\n",
       "      <td>인천광역시 부평구 주부토로 112, 2,3층 (부평동)</td>\n",
       "      <td>삼성의원</td>\n",
       "      <td>JDU4MTI3MSM1MSMkMiMkMCMkMDAkMzgxOTYxIzIxIyQyIy...</td>\n",
       "    </tr>\n",
       "    <tr>\n",
       "      <th>2</th>\n",
       "      <td>65f0f96ab2107bcc50fc582b</td>\n",
       "      <td>경상남도 창원시 의창구 동읍 의창대로915번길 2, 청담빌딩 2층</td>\n",
       "      <td>덕산의원</td>\n",
       "      <td>JDQ4MTYyMiM4MSMkMiMkNCMkMDAkNDgxOTYxIzExIyQxIy...</td>\n",
       "    </tr>\n",
       "    <tr>\n",
       "      <th>3</th>\n",
       "      <td>65f0f96ab2107bcc50fc582c</td>\n",
       "      <td>서울특별시 중랑구 망우로 203, 201호 (중화동, 동양엔파트상가)</td>\n",
       "      <td>권이비인후과의원</td>\n",
       "      <td>JDQ4MTg4MSM1MSMkMiMkNCMkMDAkMzgxNzAyIzIxIyQxIy...</td>\n",
       "    </tr>\n",
       "    <tr>\n",
       "      <th>4</th>\n",
       "      <td>65f0f96ab2107bcc50fc582d</td>\n",
       "      <td>서울특별시 성북구 아리랑로 89, 상가동 205,206,207호 (돈암동, 일신건영...</td>\n",
       "      <td>아리랑가정의원</td>\n",
       "      <td>JDQ4MTg4MSM1MSMkMiMkNCMkMDAkNDgxMTkxIzMxIyQxIy...</td>\n",
       "    </tr>\n",
       "  </tbody>\n",
       "</table>\n",
       "</div>"
      ],
      "text/plain": [
       "                        _id  \\\n",
       "0  65f0f96ab2107bcc50fc5829   \n",
       "1  65f0f96ab2107bcc50fc582a   \n",
       "2  65f0f96ab2107bcc50fc582b   \n",
       "3  65f0f96ab2107bcc50fc582c   \n",
       "4  65f0f96ab2107bcc50fc582d   \n",
       "\n",
       "                                                addr    yadmNm  \\\n",
       "0  경기도 안양시 동안구 평촌대로217번길 45, 205-207, 209-210호 (호...    희망가득의원   \n",
       "1                     인천광역시 부평구 주부토로 112, 2,3층 (부평동)      삼성의원   \n",
       "2               경상남도 창원시 의창구 동읍 의창대로915번길 2, 청담빌딩 2층      덕산의원   \n",
       "3             서울특별시 중랑구 망우로 203, 201호 (중화동, 동양엔파트상가)  권이비인후과의원   \n",
       "4  서울특별시 성북구 아리랑로 89, 상가동 205,206,207호 (돈암동, 일신건영...   아리랑가정의원   \n",
       "\n",
       "                                               ykiho  \n",
       "0  JDU4MTI3MSM1MSMkMiMkMCMkMDAkNDgxMzUxIzExIyQxIy...  \n",
       "1  JDU4MTI3MSM1MSMkMiMkMCMkMDAkMzgxOTYxIzIxIyQyIy...  \n",
       "2  JDQ4MTYyMiM4MSMkMiMkNCMkMDAkNDgxOTYxIzExIyQxIy...  \n",
       "3  JDQ4MTg4MSM1MSMkMiMkNCMkMDAkMzgxNzAyIzIxIyQxIy...  \n",
       "4  JDQ4MTg4MSM1MSMkMiMkNCMkMDAkNDgxMTkxIzMxIyQxIy...  "
      ]
     },
     "execution_count": 60,
     "metadata": {},
     "output_type": "execute_result"
    }
   ],
   "source": [
    "df_hospital_rating.head() #병원정보서비스와 겹치는 부분이 있어 사용하지 않아도 무관함"
   ]
  },
  {
   "cell_type": "code",
   "execution_count": 61,
   "id": "72ef1124-524d-433f-b57f-d447d334235e",
   "metadata": {},
   "outputs": [
    {
     "data": {
      "text/html": [
       "<div>\n",
       "<style scoped>\n",
       "    .dataframe tbody tr th:only-of-type {\n",
       "        vertical-align: middle;\n",
       "    }\n",
       "\n",
       "    .dataframe tbody tr th {\n",
       "        vertical-align: top;\n",
       "    }\n",
       "\n",
       "    .dataframe thead th {\n",
       "        text-align: right;\n",
       "    }\n",
       "</style>\n",
       "<table border=\"1\" class=\"dataframe\">\n",
       "  <thead>\n",
       "    <tr style=\"text-align: right;\">\n",
       "      <th></th>\n",
       "      <th>_id</th>\n",
       "      <th>asmGrd</th>\n",
       "      <th>asmGrdNm</th>\n",
       "      <th>asmNm</th>\n",
       "      <th>yadmNm</th>\n",
       "      <th>ykiho</th>\n",
       "    </tr>\n",
       "  </thead>\n",
       "  <tbody>\n",
       "    <tr>\n",
       "      <th>0</th>\n",
       "      <td>65f10f59b5a3f17e1ea35b3c</td>\n",
       "      <td>3</td>\n",
       "      <td>3회연속</td>\n",
       "      <td>급성기 뇌졸중</td>\n",
       "      <td>학교법인)동의병원</td>\n",
       "      <td>JDQ4MTAxMiM1MSMkMSMkMCMkODkkMzgxMzUxIzExIyQxIy...</td>\n",
       "    </tr>\n",
       "    <tr>\n",
       "      <th>1</th>\n",
       "      <td>65f10f59b5a3f17e1ea35b3d</td>\n",
       "      <td>3</td>\n",
       "      <td>3회연속</td>\n",
       "      <td>만성폐쇄성폐질환</td>\n",
       "      <td>학교법인)동의병원</td>\n",
       "      <td>JDQ4MTAxMiM1MSMkMSMkMCMkODkkMzgxMzUxIzExIyQxIy...</td>\n",
       "    </tr>\n",
       "    <tr>\n",
       "      <th>2</th>\n",
       "      <td>65f10f59b5a3f17e1ea35b3e</td>\n",
       "      <td>3</td>\n",
       "      <td>3회연속</td>\n",
       "      <td>폐렴</td>\n",
       "      <td>학교법인)동의병원</td>\n",
       "      <td>JDQ4MTAxMiM1MSMkMSMkMCMkODkkMzgxMzUxIzExIyQxIy...</td>\n",
       "    </tr>\n",
       "    <tr>\n",
       "      <th>3</th>\n",
       "      <td>65f10f59b5a3f17e1ea35b3f</td>\n",
       "      <td>3</td>\n",
       "      <td>3회연속</td>\n",
       "      <td>급성기 뇌졸중</td>\n",
       "      <td>의료법인정화의료재단 봉생기념병원</td>\n",
       "      <td>JDQ4MTAxMiM1MSMkMSMkMCMkODkkMzgxMzUxIzExIyQxIy...</td>\n",
       "    </tr>\n",
       "    <tr>\n",
       "      <th>4</th>\n",
       "      <td>65f10f59b5a3f17e1ea35b40</td>\n",
       "      <td>3</td>\n",
       "      <td>3회연속</td>\n",
       "      <td>만성폐쇄성폐질환</td>\n",
       "      <td>의료법인정화의료재단 봉생기념병원</td>\n",
       "      <td>JDQ4MTAxMiM1MSMkMSMkMCMkODkkMzgxMzUxIzExIyQxIy...</td>\n",
       "    </tr>\n",
       "  </tbody>\n",
       "</table>\n",
       "</div>"
      ],
      "text/plain": [
       "                        _id  asmGrd asmGrdNm     asmNm             yadmNm  \\\n",
       "0  65f10f59b5a3f17e1ea35b3c       3     3회연속   급성기 뇌졸중          학교법인)동의병원   \n",
       "1  65f10f59b5a3f17e1ea35b3d       3     3회연속  만성폐쇄성폐질환          학교법인)동의병원   \n",
       "2  65f10f59b5a3f17e1ea35b3e       3     3회연속        폐렴          학교법인)동의병원   \n",
       "3  65f10f59b5a3f17e1ea35b3f       3     3회연속   급성기 뇌졸중  의료법인정화의료재단 봉생기념병원   \n",
       "4  65f10f59b5a3f17e1ea35b40       3     3회연속  만성폐쇄성폐질환  의료법인정화의료재단 봉생기념병원   \n",
       "\n",
       "                                               ykiho  \n",
       "0  JDQ4MTAxMiM1MSMkMSMkMCMkODkkMzgxMzUxIzExIyQxIy...  \n",
       "1  JDQ4MTAxMiM1MSMkMSMkMCMkODkkMzgxMzUxIzExIyQxIy...  \n",
       "2  JDQ4MTAxMiM1MSMkMSMkMCMkODkkMzgxMzUxIzExIyQxIy...  \n",
       "3  JDQ4MTAxMiM1MSMkMSMkMCMkODkkMzgxMzUxIzExIyQxIy...  \n",
       "4  JDQ4MTAxMiM1MSMkMSMkMCMkODkkMzgxMzUxIzExIyQxIy...  "
      ]
     },
     "execution_count": 61,
     "metadata": {},
     "output_type": "execute_result"
    }
   ],
   "source": [
    "df_hospital_good.head() # ykiho를 사용해 asmGrd와 asmNm을 추가"
   ]
  },
  {
   "cell_type": "code",
   "execution_count": 62,
   "id": "9e531e58-16cb-441f-bff6-260bec688a30",
   "metadata": {},
   "outputs": [
    {
     "name": "stderr",
     "output_type": "stream",
     "text": [
      "/tmp/ipykernel_22/295537270.py:2: FutureWarning: A value is trying to be set on a copy of a DataFrame or Series through chained assignment using an inplace method.\n",
      "The behavior will change in pandas 3.0. This inplace method will never work because the intermediate object on which we are setting values always behaves as a copy.\n",
      "\n",
      "For example, when doing 'df[col].method(value, inplace=True)', try using 'df.method({col: value}, inplace=True)' or df[col] = df[col].method(value) instead, to perform the operation inplace on the original object.\n",
      "\n",
      "\n",
      "  df_hospital['Certification'].fillna('N', inplace=True)\n"
     ]
    },
    {
     "data": {
      "text/plain": [
       "Certification\n",
       "N    42226\n",
       "Y    35095\n",
       "Name: count, dtype: int64"
      ]
     },
     "execution_count": 62,
     "metadata": {},
     "output_type": "execute_result"
    }
   ],
   "source": [
    "df_hospital.loc[df_hospital['ykiho'].isin(df_hospital_rating['ykiho']), 'Certification'] = 'Y'\n",
    "df_hospital['Certification'].fillna('N', inplace=True)\n",
    "df_hospital['Certification'].value_counts()"
   ]
  },
  {
   "cell_type": "code",
   "execution_count": 72,
   "id": "989e91ee-0705-427f-8feb-68923bac0c90",
   "metadata": {},
   "outputs": [],
   "source": [
    "df_hospital.loc[df_hospital['ykiho'].isin(df_hospital_good['ykiho']), ['asmGrd', 'asmGrdNm', 'asmNm']] = df_hospital_good[['asmGrd', 'asmGrdNm', 'asmNm']].astype(df_hospital[['asmGrd', 'asmGrdNm', 'asmNm']].dtypes)\n"
   ]
  },
  {
   "cell_type": "code",
   "execution_count": 97,
   "id": "3b2eeae0-4d2b-4272-ac32-8148e274327b",
   "metadata": {},
   "outputs": [
    {
     "data": {
      "text/plain": [
       "array([ 3.,  2.,  1., nan])"
      ]
     },
     "execution_count": 97,
     "metadata": {},
     "output_type": "execute_result"
    }
   ],
   "source": [
    "df_hospital['asmGrd'].unique()"
   ]
  },
  {
   "cell_type": "code",
   "execution_count": 93,
   "id": "2ea4d2eb-1914-4416-9766-3f08d4b0de3c",
   "metadata": {},
   "outputs": [
    {
     "data": {
      "text/html": [
       "<div>\n",
       "<style scoped>\n",
       "    .dataframe tbody tr th:only-of-type {\n",
       "        vertical-align: middle;\n",
       "    }\n",
       "\n",
       "    .dataframe tbody tr th {\n",
       "        vertical-align: top;\n",
       "    }\n",
       "\n",
       "    .dataframe thead th {\n",
       "        text-align: right;\n",
       "    }\n",
       "</style>\n",
       "<table border=\"1\" class=\"dataframe\">\n",
       "  <thead>\n",
       "    <tr style=\"text-align: right;\">\n",
       "      <th></th>\n",
       "      <th>_id</th>\n",
       "      <th>asmGrd</th>\n",
       "      <th>asmGrdNm</th>\n",
       "      <th>asmNm</th>\n",
       "      <th>yadmNm</th>\n",
       "      <th>ykiho</th>\n",
       "    </tr>\n",
       "  </thead>\n",
       "  <tbody>\n",
       "  </tbody>\n",
       "</table>\n",
       "</div>"
      ],
      "text/plain": [
       "Empty DataFrame\n",
       "Columns: [_id, asmGrd, asmGrdNm, asmNm, yadmNm, ykiho]\n",
       "Index: []"
      ]
     },
     "execution_count": 93,
     "metadata": {},
     "output_type": "execute_result"
    }
   ],
   "source": [
    "df_hospital_good.query('ykiho == \"메디플러스\"')"
   ]
  },
  {
   "cell_type": "code",
   "execution_count": 74,
   "id": "3ac870a2-ac0d-4cd9-90d9-eed351ca23a2",
   "metadata": {},
   "outputs": [
    {
     "data": {
      "text/plain": [
       "_id                  0\n",
       "addr                 0\n",
       "clCd                 0\n",
       "clCdNm               0\n",
       "estbDd               0\n",
       "hospUrl          69005\n",
       "yadmNm               0\n",
       "ykiho                0\n",
       "Certification        0\n",
       "asmGrd           74546\n",
       "asmGrdNm         74546\n",
       "asmNm            74546\n",
       "dtype: int64"
      ]
     },
     "execution_count": 74,
     "metadata": {},
     "output_type": "execute_result"
    }
   ],
   "source": [
    "df_hospital.isnull().sum()"
   ]
  },
  {
   "cell_type": "code",
   "execution_count": 75,
   "id": "db4b3448-497a-4537-8c92-9fdfee1701aa",
   "metadata": {},
   "outputs": [
    {
     "name": "stdout",
     "output_type": "stream",
     "text": [
      "<class 'pandas.core.series.Series'>\n",
      "RangeIndex: 77321 entries, 0 to 77320\n",
      "Series name: asmGrd\n",
      "Non-Null Count  Dtype  \n",
      "--------------  -----  \n",
      "2775 non-null   float64\n",
      "dtypes: float64(1)\n",
      "memory usage: 604.2 KB\n"
     ]
    }
   ],
   "source": [
    "df_hospital['asmGrd'].info()"
   ]
  },
  {
   "cell_type": "code",
   "execution_count": null,
   "id": "4f7f4472-6015-46b4-b6a6-2283d0fe9436",
   "metadata": {},
   "outputs": [],
   "source": []
  }
 ],
 "metadata": {
  "kernelspec": {
   "display_name": "Python 3 (ipykernel)",
   "language": "python",
   "name": "python3"
  },
  "language_info": {
   "codemirror_mode": {
    "name": "ipython",
    "version": 3
   },
   "file_extension": ".py",
   "mimetype": "text/x-python",
   "name": "python",
   "nbconvert_exporter": "python",
   "pygments_lexer": "ipython3",
   "version": "3.11.8"
  }
 },
 "nbformat": 4,
 "nbformat_minor": 5
}
