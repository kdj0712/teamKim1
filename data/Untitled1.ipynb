{
 "cells": [
  {
   "cell_type": "code",
   "execution_count": 29,
   "id": "f8150bf0-e4e7-4ff2-935b-e08ace0ea0cf",
   "metadata": {},
   "outputs": [],
   "source": [
    "import pandas as pd\n",
    "import numpy as np"
   ]
  },
  {
   "cell_type": "code",
   "execution_count": 4,
   "id": "593e56f2-407f-4d4d-a034-d7539cff462a",
   "metadata": {},
   "outputs": [
    {
     "data": {
      "text/html": [
       "<div>\n",
       "<style scoped>\n",
       "    .dataframe tbody tr th:only-of-type {\n",
       "        vertical-align: middle;\n",
       "    }\n",
       "\n",
       "    .dataframe tbody tr th {\n",
       "        vertical-align: top;\n",
       "    }\n",
       "\n",
       "    .dataframe thead th {\n",
       "        text-align: right;\n",
       "    }\n",
       "</style>\n",
       "<table border=\"1\" class=\"dataframe\">\n",
       "  <thead>\n",
       "    <tr style=\"text-align: right;\">\n",
       "      <th></th>\n",
       "      <th>_id</th>\n",
       "      <th>disease_number</th>\n",
       "      <th>dise_name</th>\n",
       "      <th>KCD_code</th>\n",
       "      <th>sanjung_code</th>\n",
       "      <th>support_content</th>\n",
       "    </tr>\n",
       "  </thead>\n",
       "  <tbody>\n",
       "    <tr>\n",
       "      <th>0</th>\n",
       "      <td>65dea06e0dc299f1601720c8</td>\n",
       "      <td>1272</td>\n",
       "      <td>(무한성) 외배엽형성이상\\nEctodermal dysplasia (anhidrotic)</td>\n",
       "      <td>KCD코드 : Q82.4</td>\n",
       "      <td>산정특례코드 : V900</td>\n",
       "      <td>지원구분 : 의료비(급여부분)</td>\n",
       "    </tr>\n",
       "    <tr>\n",
       "      <th>1</th>\n",
       "      <td>65dea0700dc299f1601720ca</td>\n",
       "      <td>1271</td>\n",
       "      <td>(승모판 협착 또는 폐쇄와 함께) 상행대동맥의 형성저하와 좌심실의 결손발육을 동반하...</td>\n",
       "      <td>KCD코드 : Q23.4</td>\n",
       "      <td>산정특례코드 : V147</td>\n",
       "      <td>지원구분 : 의료비(급여부분)</td>\n",
       "    </tr>\n",
       "  </tbody>\n",
       "</table>\n",
       "</div>"
      ],
      "text/plain": [
       "                        _id  disease_number  \\\n",
       "0  65dea06e0dc299f1601720c8            1272   \n",
       "1  65dea0700dc299f1601720ca            1271   \n",
       "\n",
       "                                           dise_name       KCD_code  \\\n",
       "0   (무한성) 외배엽형성이상\\nEctodermal dysplasia (anhidrotic)  KCD코드 : Q82.4   \n",
       "1  (승모판 협착 또는 폐쇄와 함께) 상행대동맥의 형성저하와 좌심실의 결손발육을 동반하...  KCD코드 : Q23.4   \n",
       "\n",
       "    sanjung_code   support_content  \n",
       "0  산정특례코드 : V900  지원구분 : 의료비(급여부분)  \n",
       "1  산정특례코드 : V147  지원구분 : 의료비(급여부분)  "
      ]
     },
     "execution_count": 4,
     "metadata": {},
     "output_type": "execute_result"
    }
   ],
   "source": [
    "support = pd.read_csv(\"./csv/helpline_Support.csv\")\n",
    "support[:2]"
   ]
  },
  {
   "cell_type": "code",
   "execution_count": 7,
   "id": "6f2a2273-38c4-4884-9474-b564c868290b",
   "metadata": {},
   "outputs": [],
   "source": [
    "common_phrase1 = 'KCD코드 : '\n",
    "support['KCD_code'] = support['KCD_code'].str.replace(common_phrase1, '')"
   ]
  },
  {
   "cell_type": "code",
   "execution_count": 8,
   "id": "fc8418b5-ce83-4642-8433-4287cb28e8cb",
   "metadata": {},
   "outputs": [],
   "source": [
    "common_phrase2 = '산정특례코드 : '\n",
    "support['sanjung_code'] = support['sanjung_code'].str.replace(common_phrase2, '')"
   ]
  },
  {
   "cell_type": "code",
   "execution_count": 10,
   "id": "2d760c6f-8730-4332-a388-86198e4665fa",
   "metadata": {},
   "outputs": [],
   "source": [
    "common_phrase3 = '지원구분 : '\n",
    "support['support_content'] = support['support_content'].str.replace(common_phrase3, '')"
   ]
  },
  {
   "cell_type": "code",
   "execution_count": 23,
   "id": "e63fa2d0-cf23-4231-a98b-921aa6437e6c",
   "metadata": {},
   "outputs": [],
   "source": [
    "support['dise_name'] = support['dise_name'].str.split('\\n').str[0]"
   ]
  },
  {
   "cell_type": "code",
   "execution_count": 24,
   "id": "b436b3e2-5e39-413d-8d34-114a2868167e",
   "metadata": {},
   "outputs": [
    {
     "data": {
      "text/html": [
       "<div>\n",
       "<style scoped>\n",
       "    .dataframe tbody tr th:only-of-type {\n",
       "        vertical-align: middle;\n",
       "    }\n",
       "\n",
       "    .dataframe tbody tr th {\n",
       "        vertical-align: top;\n",
       "    }\n",
       "\n",
       "    .dataframe thead th {\n",
       "        text-align: right;\n",
       "    }\n",
       "</style>\n",
       "<table border=\"1\" class=\"dataframe\">\n",
       "  <thead>\n",
       "    <tr style=\"text-align: right;\">\n",
       "      <th></th>\n",
       "      <th>_id</th>\n",
       "      <th>disease_number</th>\n",
       "      <th>dise_name</th>\n",
       "      <th>KCD_code</th>\n",
       "      <th>sanjung_code</th>\n",
       "      <th>support_content</th>\n",
       "    </tr>\n",
       "  </thead>\n",
       "  <tbody>\n",
       "    <tr>\n",
       "      <th>0</th>\n",
       "      <td>65dea06e0dc299f1601720c8</td>\n",
       "      <td>1272</td>\n",
       "      <td>(무한성) 외배엽형성이상\\nEctodermal dysplasia (anhidrotic)</td>\n",
       "      <td>Q82.4</td>\n",
       "      <td>V900</td>\n",
       "      <td>의료비(급여부분)</td>\n",
       "    </tr>\n",
       "    <tr>\n",
       "      <th>1</th>\n",
       "      <td>65dea0700dc299f1601720ca</td>\n",
       "      <td>1271</td>\n",
       "      <td>(승모판 협착 또는 폐쇄와 함께) 상행대동맥의 형성저하와 좌심실의 결손발육을 동반하...</td>\n",
       "      <td>Q23.4</td>\n",
       "      <td>V147</td>\n",
       "      <td>의료비(급여부분)</td>\n",
       "    </tr>\n",
       "  </tbody>\n",
       "</table>\n",
       "</div>"
      ],
      "text/plain": [
       "                        _id  disease_number  \\\n",
       "0  65dea06e0dc299f1601720c8            1272   \n",
       "1  65dea0700dc299f1601720ca            1271   \n",
       "\n",
       "                                           dise_name KCD_code sanjung_code  \\\n",
       "0   (무한성) 외배엽형성이상\\nEctodermal dysplasia (anhidrotic)    Q82.4         V900   \n",
       "1  (승모판 협착 또는 폐쇄와 함께) 상행대동맥의 형성저하와 좌심실의 결손발육을 동반하...    Q23.4         V147   \n",
       "\n",
       "  support_content  \n",
       "0       의료비(급여부분)  \n",
       "1       의료비(급여부분)  "
      ]
     },
     "execution_count": 24,
     "metadata": {},
     "output_type": "execute_result"
    }
   ],
   "source": [
    "support[:2]"
   ]
  },
  {
   "cell_type": "code",
   "execution_count": 25,
   "id": "714703d6-c667-4714-8293-648c9d49ee1a",
   "metadata": {},
   "outputs": [
    {
     "data": {
      "text/plain": [
       "0     (무한성) 외배엽형성이상\\nEctodermal dysplasia (anhidrotic)\n",
       "1    (승모판 협착 또는 폐쇄와 함께) 상행대동맥의 형성저하와 좌심실의 결손발육을 동반하...\n",
       "2    (외)이도의 선천성 결여, 폐쇄, 협착\\nCongenital absence, atr...\n",
       "3    (이상형태성) 태아알코올증후군\\nFetal alcohol syndrome (dysm...\n",
       "4    (하)(상)대정맥의 선천성 협착\\nCongenital stenosis of vena...\n",
       "Name: dise_name, dtype: object"
      ]
     },
     "execution_count": 25,
     "metadata": {},
     "output_type": "execute_result"
    }
   ],
   "source": [
    "support['dise_name'][:5]"
   ]
  },
  {
   "cell_type": "code",
   "execution_count": 26,
   "id": "9f7493ec-f426-4c43-94e5-1a0caec1bd14",
   "metadata": {},
   "outputs": [
    {
     "data": {
      "text/html": [
       "<div>\n",
       "<style scoped>\n",
       "    .dataframe tbody tr th:only-of-type {\n",
       "        vertical-align: middle;\n",
       "    }\n",
       "\n",
       "    .dataframe tbody tr th {\n",
       "        vertical-align: top;\n",
       "    }\n",
       "\n",
       "    .dataframe thead th {\n",
       "        text-align: right;\n",
       "    }\n",
       "</style>\n",
       "<table border=\"1\" class=\"dataframe\">\n",
       "  <thead>\n",
       "    <tr style=\"text-align: right;\">\n",
       "      <th></th>\n",
       "      <th>disease_number</th>\n",
       "      <th>dise_name</th>\n",
       "      <th>KCD_code</th>\n",
       "      <th>sanjung_code</th>\n",
       "      <th>support_content</th>\n",
       "    </tr>\n",
       "  </thead>\n",
       "  <tbody>\n",
       "    <tr>\n",
       "      <th>0</th>\n",
       "      <td>1272</td>\n",
       "      <td>(무한성) 외배엽형성이상\\nEctodermal dysplasia (anhidrotic)</td>\n",
       "      <td>Q82.4</td>\n",
       "      <td>V900</td>\n",
       "      <td>의료비(급여부분)</td>\n",
       "    </tr>\n",
       "    <tr>\n",
       "      <th>1</th>\n",
       "      <td>1271</td>\n",
       "      <td>(승모판 협착 또는 폐쇄와 함께) 상행대동맥의 형성저하와 좌심실의 결손발육을 동반하...</td>\n",
       "      <td>Q23.4</td>\n",
       "      <td>V147</td>\n",
       "      <td>의료비(급여부분)</td>\n",
       "    </tr>\n",
       "    <tr>\n",
       "      <th>2</th>\n",
       "      <td>1270</td>\n",
       "      <td>(외)이도의 선천성 결여, 폐쇄, 협착\\nCongenital absence, atr...</td>\n",
       "      <td>Q16.1</td>\n",
       "      <td>V291</td>\n",
       "      <td>의료비(급여부분)</td>\n",
       "    </tr>\n",
       "    <tr>\n",
       "      <th>3</th>\n",
       "      <td>1269</td>\n",
       "      <td>(이상형태성) 태아알코올증후군\\nFetal alcohol syndrome (dysm...</td>\n",
       "      <td>Q86.0</td>\n",
       "      <td>V157</td>\n",
       "      <td>의료비(급여부분)</td>\n",
       "    </tr>\n",
       "    <tr>\n",
       "      <th>4</th>\n",
       "      <td>1268</td>\n",
       "      <td>(하)(상)대정맥의 선천성 협착\\nCongenital stenosis of vena...</td>\n",
       "      <td>Q26.0</td>\n",
       "      <td>V150</td>\n",
       "      <td>의료비(급여부분)</td>\n",
       "    </tr>\n",
       "    <tr>\n",
       "      <th>...</th>\n",
       "      <td>...</td>\n",
       "      <td>...</td>\n",
       "      <td>...</td>\n",
       "      <td>...</td>\n",
       "      <td>...</td>\n",
       "    </tr>\n",
       "    <tr>\n",
       "      <th>1267</th>\n",
       "      <td>5</td>\n",
       "      <td>휘파람부는 얼굴\\nWhistling face</td>\n",
       "      <td>Q87.0</td>\n",
       "      <td>V185</td>\n",
       "      <td>의료비(급여부분)</td>\n",
       "    </tr>\n",
       "    <tr>\n",
       "      <th>1268</th>\n",
       "      <td>4</td>\n",
       "      <td>흉선성 림프조직무형성\\nThymic alymphoplasia</td>\n",
       "      <td>D82.1</td>\n",
       "      <td>V111</td>\n",
       "      <td>의료비(급여부분)</td>\n",
       "    </tr>\n",
       "    <tr>\n",
       "      <th>1269</th>\n",
       "      <td>3</td>\n",
       "      <td>흉터유사천포창\\nCicatricial pemphigoid</td>\n",
       "      <td>L12.1</td>\n",
       "      <td>V212</td>\n",
       "      <td>의료비(급여부분)</td>\n",
       "    </tr>\n",
       "    <tr>\n",
       "      <th>1270</th>\n",
       "      <td>2</td>\n",
       "      <td>히스티딘대사장애\\nDisorder of histidine metabolism</td>\n",
       "      <td>E70.8</td>\n",
       "      <td>V117</td>\n",
       "      <td>의료비(급여부분)</td>\n",
       "    </tr>\n",
       "    <tr>\n",
       "      <th>1271</th>\n",
       "      <td>1</td>\n",
       "      <td>힘줄의 결여\\nAbsence of tendon</td>\n",
       "      <td>Q79.8</td>\n",
       "      <td>V155</td>\n",
       "      <td>의료비(급여부분)</td>\n",
       "    </tr>\n",
       "  </tbody>\n",
       "</table>\n",
       "<p>1272 rows × 5 columns</p>\n",
       "</div>"
      ],
      "text/plain": [
       "      disease_number                                          dise_name  \\\n",
       "0               1272   (무한성) 외배엽형성이상\\nEctodermal dysplasia (anhidrotic)   \n",
       "1               1271  (승모판 협착 또는 폐쇄와 함께) 상행대동맥의 형성저하와 좌심실의 결손발육을 동반하...   \n",
       "2               1270  (외)이도의 선천성 결여, 폐쇄, 협착\\nCongenital absence, atr...   \n",
       "3               1269  (이상형태성) 태아알코올증후군\\nFetal alcohol syndrome (dysm...   \n",
       "4               1268  (하)(상)대정맥의 선천성 협착\\nCongenital stenosis of vena...   \n",
       "...              ...                                                ...   \n",
       "1267               5                           휘파람부는 얼굴\\nWhistling face   \n",
       "1268               4                  흉선성 림프조직무형성\\nThymic alymphoplasia   \n",
       "1269               3                    흉터유사천포창\\nCicatricial pemphigoid   \n",
       "1270               2         히스티딘대사장애\\nDisorder of histidine metabolism   \n",
       "1271               1                          힘줄의 결여\\nAbsence of tendon   \n",
       "\n",
       "     KCD_code sanjung_code support_content  \n",
       "0       Q82.4         V900       의료비(급여부분)  \n",
       "1       Q23.4         V147       의료비(급여부분)  \n",
       "2       Q16.1         V291       의료비(급여부분)  \n",
       "3       Q86.0         V157       의료비(급여부분)  \n",
       "4       Q26.0         V150       의료비(급여부분)  \n",
       "...       ...          ...             ...  \n",
       "1267    Q87.0         V185       의료비(급여부분)  \n",
       "1268    D82.1         V111       의료비(급여부분)  \n",
       "1269    L12.1         V212       의료비(급여부분)  \n",
       "1270    E70.8         V117       의료비(급여부분)  \n",
       "1271    Q79.8         V155       의료비(급여부분)  \n",
       "\n",
       "[1272 rows x 5 columns]"
      ]
     },
     "execution_count": 26,
     "metadata": {},
     "output_type": "execute_result"
    }
   ],
   "source": [
    "new_support = support.drop('_id',axis=1)\n",
    "new_support"
   ]
  },
  {
   "cell_type": "code",
   "execution_count": 30,
   "id": "8f68c298-e117-4a8b-8d80-8c5ff04d3068",
   "metadata": {},
   "outputs": [],
   "source": [
    "new_support.to_csv('new_support.csv', index=False)"
   ]
  },
  {
   "cell_type": "code",
   "execution_count": null,
   "id": "838f02ac-6fda-4b1b-b2b9-0560f36a7f24",
   "metadata": {},
   "outputs": [],
   "source": []
  },
  {
   "cell_type": "code",
   "execution_count": null,
   "id": "d68f7896-3dc0-4e8d-aa76-9ffbb86ce24c",
   "metadata": {},
   "outputs": [],
   "source": []
  }
 ],
 "metadata": {
  "kernelspec": {
   "display_name": "Python 3 (ipykernel)",
   "language": "python",
   "name": "python3"
  },
  "language_info": {
   "codemirror_mode": {
    "name": "ipython",
    "version": 3
   },
   "file_extension": ".py",
   "mimetype": "text/x-python",
   "name": "python",
   "nbconvert_exporter": "python",
   "pygments_lexer": "ipython3",
   "version": "3.11.8"
  }
 },
 "nbformat": 4,
 "nbformat_minor": 5
}
