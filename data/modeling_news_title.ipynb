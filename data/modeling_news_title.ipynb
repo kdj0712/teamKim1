{
 "cells": [
  {
   "cell_type": "markdown",
   "id": "0087e67d-5d23-4753-afc3-505191f07d20",
   "metadata": {},
   "source": [
    "# 사용자 맞춤 뉴스 추천 모델링"
   ]
  },
  {
   "cell_type": "code",
   "execution_count": 1,
   "id": "29806873-300b-4c8b-83b7-85ffc9936571",
   "metadata": {},
   "outputs": [],
   "source": [
    "import pandas as pd\n",
    "import numpy as np"
   ]
  },
  {
   "cell_type": "code",
   "execution_count": 2,
   "id": "da4e1ebb-d306-4585-82b0-db32cf4a1385",
   "metadata": {},
   "outputs": [],
   "source": [
    "df_bosa = pd.read_csv(\"./csv/bosa_news.csv\")"
   ]
  },
  {
   "cell_type": "code",
   "execution_count": 3,
   "id": "0d475e71-e01f-46bd-a315-30f771d7f67c",
   "metadata": {},
   "outputs": [
    {
     "data": {
      "text/html": [
       "<div>\n",
       "<style scoped>\n",
       "    .dataframe tbody tr th:only-of-type {\n",
       "        vertical-align: middle;\n",
       "    }\n",
       "\n",
       "    .dataframe tbody tr th {\n",
       "        vertical-align: top;\n",
       "    }\n",
       "\n",
       "    .dataframe thead th {\n",
       "        text-align: right;\n",
       "    }\n",
       "</style>\n",
       "<table border=\"1\" class=\"dataframe\">\n",
       "  <thead>\n",
       "    <tr style=\"text-align: right;\">\n",
       "      <th></th>\n",
       "      <th>news_title</th>\n",
       "      <th>news_url</th>\n",
       "      <th>news_when</th>\n",
       "      <th>news_topic</th>\n",
       "    </tr>\n",
       "  </thead>\n",
       "  <tbody>\n",
       "    <tr>\n",
       "      <th>0</th>\n",
       "      <td>한국쿄와기린, 세계 희귀질환의 날 행사 참여</td>\n",
       "      <td>http://www.bosa.co.kr/news/articleView.html?id...</td>\n",
       "      <td>02.29 11:57</td>\n",
       "      <td>다국적제약/의료기기</td>\n",
       "    </tr>\n",
       "    <tr>\n",
       "      <th>1</th>\n",
       "      <td>광동제약, ‘세계 희귀질환의 날’ 기념 환아 작품 전시회 개최</td>\n",
       "      <td>http://www.bosa.co.kr/news/articleView.html?id...</td>\n",
       "      <td>02.29 10:52</td>\n",
       "      <td>제약산업</td>\n",
       "    </tr>\n",
       "    <tr>\n",
       "      <th>2</th>\n",
       "      <td>순천향대 부천병원 신영림 교수, ‘질병관리청장 표창’ 수상</td>\n",
       "      <td>http://www.bosa.co.kr/news/articleView.html?id...</td>\n",
       "      <td>02.29 10:29</td>\n",
       "      <td>동정</td>\n",
       "    </tr>\n",
       "    <tr>\n",
       "      <th>3</th>\n",
       "      <td>창립 70주년 한독, ‘THANKS CAMPAIGN’ 실시</td>\n",
       "      <td>http://www.bosa.co.kr/news/articleView.html?id...</td>\n",
       "      <td>02.29 10:07</td>\n",
       "      <td>제약산업</td>\n",
       "    </tr>\n",
       "    <tr>\n",
       "      <th>4</th>\n",
       "      <td>[세계 희귀질환의 날] 국가‧사회‧이웃‧의료진‧가족 함께 가야 한다</td>\n",
       "      <td>http://www.bosa.co.kr/news/articleView.html?id...</td>\n",
       "      <td>02.29 05:50</td>\n",
       "      <td>학회/학술</td>\n",
       "    </tr>\n",
       "  </tbody>\n",
       "</table>\n",
       "</div>"
      ],
      "text/plain": [
       "                              news_title  \\\n",
       "0               한국쿄와기린, 세계 희귀질환의 날 행사 참여   \n",
       "1     광동제약, ‘세계 희귀질환의 날’ 기념 환아 작품 전시회 개최   \n",
       "2       순천향대 부천병원 신영림 교수, ‘질병관리청장 표창’ 수상   \n",
       "3       창립 70주년 한독, ‘THANKS CAMPAIGN’ 실시   \n",
       "4  [세계 희귀질환의 날] 국가‧사회‧이웃‧의료진‧가족 함께 가야 한다   \n",
       "\n",
       "                                            news_url    news_when  news_topic  \n",
       "0  http://www.bosa.co.kr/news/articleView.html?id...  02.29 11:57  다국적제약/의료기기  \n",
       "1  http://www.bosa.co.kr/news/articleView.html?id...  02.29 10:52        제약산업  \n",
       "2  http://www.bosa.co.kr/news/articleView.html?id...  02.29 10:29          동정  \n",
       "3  http://www.bosa.co.kr/news/articleView.html?id...  02.29 10:07        제약산업  \n",
       "4  http://www.bosa.co.kr/news/articleView.html?id...  02.29 05:50       학회/학술  "
      ]
     },
     "execution_count": 3,
     "metadata": {},
     "output_type": "execute_result"
    }
   ],
   "source": [
    "df_bosa.drop(columns=['_id'], inplace=True)\n",
    "df_bosa.dropna(subset=['news_title'], inplace=True)\n",
    "df_bosa.head()"
   ]
  },
  {
   "cell_type": "code",
   "execution_count": 4,
   "id": "755070ac-7301-40d9-88c7-5d9abaffcb0a",
   "metadata": {},
   "outputs": [
    {
     "data": {
      "text/plain": [
       "news_topic\n",
       "제약산업          472\n",
       "제약            360\n",
       "기타기관          251\n",
       "병원            212\n",
       "병의원           206\n",
       "복지부            95\n",
       "기획연재           91\n",
       "제약·유통          67\n",
       "다국적제약/의료기기     62\n",
       "국회             61\n",
       "학회/학술          60\n",
       "개원가            57\n",
       "식약처            54\n",
       "바이오            52\n",
       "동정             47\n",
       "의료             41\n",
       "의료기기·IT        40\n",
       "질병청            37\n",
       "심평원            33\n",
       "의약정책           19\n",
       "건보공단           19\n",
       "의료단체           16\n",
       "약사단체           12\n",
       "유통             10\n",
       "식품              8\n",
       "협회              8\n",
       "진흥원             5\n",
       "책소개             5\n",
       "포토뉴스            4\n",
       "인사              4\n",
       "단신              3\n",
       "정책·행정           3\n",
       "의료기기            3\n",
       "약사·약국           2\n",
       "너몰내알            1\n",
       "보사연             1\n",
       "치과/한의사          1\n",
       "의원·병원           1\n",
       "화장품             1\n",
       "약대/학술           1\n",
       "Name: count, dtype: int64"
      ]
     },
     "execution_count": 4,
     "metadata": {},
     "output_type": "execute_result"
    }
   ],
   "source": [
    "df_bosa['news_topic'].value_counts()  #제약/개발 #병원 #법령/정책 #의료기기 #학회/학술 #"
   ]
  },
  {
   "cell_type": "code",
   "execution_count": 5,
   "id": "9d0f5228-32c5-4142-9a08-e9eb0eea98f5",
   "metadata": {},
   "outputs": [
    {
     "data": {
      "text/plain": [
       "<bound method DataFrame.info of                                  news_title  \\\n",
       "0                  한국쿄와기린, 세계 희귀질환의 날 행사 참여   \n",
       "1        광동제약, ‘세계 희귀질환의 날’ 기념 환아 작품 전시회 개최   \n",
       "2          순천향대 부천병원 신영림 교수, ‘질병관리청장 표창’ 수상   \n",
       "3          창립 70주년 한독, ‘THANKS CAMPAIGN’ 실시   \n",
       "4     [세계 희귀질환의 날] 국가‧사회‧이웃‧의료진‧가족 함께 가야 한다   \n",
       "...                                     ...   \n",
       "2421                     26일 `희귀질환 치료' 심포지엄   \n",
       "2422                  `희귀^난치성질환자 연합회' 구성 추진   \n",
       "2423                      책임운영기관 평가 “적정성 결여   \n",
       "2424                    먹지도 굶지도 못하는 희귀질환 발견   \n",
       "2425                희귀의약품센터 공익성 기부금 대상단체 지정   \n",
       "\n",
       "                                               news_url         news_when  \\\n",
       "0     http://www.bosa.co.kr/news/articleView.html?id...       02.29 11:57   \n",
       "1     http://www.bosa.co.kr/news/articleView.html?id...       02.29 10:52   \n",
       "2     http://www.bosa.co.kr/news/articleView.html?id...       02.29 10:29   \n",
       "3     http://www.bosa.co.kr/news/articleView.html?id...       02.29 10:07   \n",
       "4     http://www.bosa.co.kr/news/articleView.html?id...       02.29 05:50   \n",
       "...                                                 ...               ...   \n",
       "2421  http://www.bosa.co.kr/news/articleView.html?id...  2001.05.22 19:35   \n",
       "2422  http://www.bosa.co.kr/news/articleView.html?id...  2001.05.10 10:20   \n",
       "2423  http://www.bosa.co.kr/news/articleView.html?id...  2001.04.16 15:27   \n",
       "2424  http://www.bosa.co.kr/news/articleView.html?id...  2001.04.11 15:07   \n",
       "2425  http://www.bosa.co.kr/news/articleView.html?id...  2001.01.16 12:38   \n",
       "\n",
       "      news_topic  \n",
       "0     다국적제약/의료기기  \n",
       "1           제약산업  \n",
       "2             동정  \n",
       "3           제약산업  \n",
       "4          학회/학술  \n",
       "...          ...  \n",
       "2421       학회/학술  \n",
       "2422        제약산업  \n",
       "2423        기타기관  \n",
       "2424       학회/학술  \n",
       "2425         개원가  \n",
       "\n",
       "[2425 rows x 4 columns]>"
      ]
     },
     "execution_count": 5,
     "metadata": {},
     "output_type": "execute_result"
    }
   ],
   "source": [
    "df_bosa.info"
   ]
  },
  {
   "cell_type": "code",
   "execution_count": 6,
   "id": "468a3497-e076-4b4d-a52f-413a14b4c378",
   "metadata": {},
   "outputs": [
    {
     "data": {
      "text/plain": [
       "news_title    0\n",
       "news_url      0\n",
       "news_when     0\n",
       "news_topic    0\n",
       "dtype: int64"
      ]
     },
     "execution_count": 6,
     "metadata": {},
     "output_type": "execute_result"
    }
   ],
   "source": [
    "df_bosa.isnull().sum()"
   ]
  },
  {
   "cell_type": "code",
   "execution_count": 7,
   "id": "462c394a-fd9c-4c67-9efe-54af5dffe994",
   "metadata": {},
   "outputs": [],
   "source": [
    "df_bosa = df_bosa.reset_index().drop(columns='index')"
   ]
  },
  {
   "cell_type": "code",
   "execution_count": 8,
   "id": "6630012b-cd79-4685-b385-902c0a34720c",
   "metadata": {},
   "outputs": [],
   "source": [
    "df_bosa_test1 = df_bosa.copy()"
   ]
  },
  {
   "cell_type": "code",
   "execution_count": 9,
   "id": "3253ffa1-1bd1-45dd-b163-dad08414213b",
   "metadata": {},
   "outputs": [
    {
     "name": "stdout",
     "output_type": "stream",
     "text": [
      "<class 'pandas.core.frame.DataFrame'>\n",
      "RangeIndex: 2425 entries, 0 to 2424\n",
      "Data columns (total 4 columns):\n",
      " #   Column      Non-Null Count  Dtype \n",
      "---  ------      --------------  ----- \n",
      " 0   news_title  2425 non-null   object\n",
      " 1   news_url    2425 non-null   object\n",
      " 2   news_when   2425 non-null   object\n",
      " 3   news_topic  2425 non-null   object\n",
      "dtypes: object(4)\n",
      "memory usage: 75.9+ KB\n"
     ]
    }
   ],
   "source": [
    "df_bosa_test1.info()"
   ]
  },
  {
   "cell_type": "markdown",
   "id": "f39d598f-45fd-420f-9a50-b4bd3276e588",
   "metadata": {},
   "source": [
    "## 1. 군집화 후 토픽 분류\n",
    "- 우선 1차적으로 군집을 만들어 어떠한 topic으로 분류되는지 확인해보자"
   ]
  },
  {
   "cell_type": "code",
   "execution_count": 10,
   "id": "9400b940-83de-4301-9d94-96908371b512",
   "metadata": {},
   "outputs": [],
   "source": [
    "df_bosa_test1 = df_bosa.dropna(subset=['news_title'])"
   ]
  },
  {
   "cell_type": "markdown",
   "id": "9306dff4-5063-41bc-b6f0-49ec1a33e30d",
   "metadata": {},
   "source": [
    "### 토큰화"
   ]
  },
  {
   "cell_type": "code",
   "execution_count": 3,
   "id": "1ff70109-fff6-4fec-b67a-a6419ea8d1c4",
   "metadata": {},
   "outputs": [],
   "source": [
    "# 불용어 리스트 생성 '녹십자'\n",
    "stopwords = ['서울대', '희귀질환', '희귀', '대다',  '케다', '소아', '생명', '한국', '한미','사노피', '하다', '급여', '국내', '샤이어',  '스케', '세포'\n",
    "            , '병원',  '질환',  '한독', '화이자제약',  '전달', '질병', '인하대병원',  '관리', '다국적', '환자', '지정', '치료'\n",
    "            , '오다', '헌터', '작년', '브리', '위해', '베다', '받다', '심평원', '코로나', '건보', '화순', '전남대', '실시', '자임','녹십자'\n",
    "            ] #추가 생성 필요\n",
    "f=open('./csv/korean_stopwords_basic.txt') #기본적으로 제공되는 한국어 불용어 리스트 파일\n",
    "lines = f.readlines()\n",
    "for line in lines:\n",
    "    line = line.strip()\n",
    "    stopwords.append(line)\n",
    "f.close()"
   ]
  },
  {
   "cell_type": "code",
   "execution_count": 4,
   "id": "9f8cd981-1667-40d1-b837-7a9216ef58f6",
   "metadata": {},
   "outputs": [],
   "source": [
    "from konlpy.tag import Okt\n",
    "okt = Okt()\n",
    "#토크나이징 함수 정의\n",
    "def tokenizer(raw, pos=['Noun', 'Verb'], stopword=stopwords):\n",
    "    return [\n",
    "        word for word, tag in okt.pos(raw, norm=True, stem=True)\n",
    "        if len(word) >1 and tag in pos and word not in stopword\n",
    "    ]"
   ]
  },
  {
   "cell_type": "code",
   "execution_count": 5,
   "id": "86c46727-f0a0-492b-be91-4b9355bbab1c",
   "metadata": {},
   "outputs": [],
   "source": [
    "from sklearn.feature_extraction.text import TfidfVectorizer\n",
    "tfidfvectorizer = TfidfVectorizer(tokenizer=tokenizer, max_df=0.95, min_df=3)"
   ]
  },
  {
   "cell_type": "code",
   "execution_count": 14,
   "id": "f2fc1ca3-01c9-4145-a6f2-5a40ebac9321",
   "metadata": {},
   "outputs": [
    {
     "data": {
      "text/plain": [
       "2425"
      ]
     },
     "execution_count": 14,
     "metadata": {},
     "output_type": "execute_result"
    }
   ],
   "source": [
    "len(df_bosa_test1['news_title'])"
   ]
  },
  {
   "cell_type": "code",
   "execution_count": 15,
   "id": "025025d4-4a72-46f3-a5b1-20dd0cd13f63",
   "metadata": {},
   "outputs": [
    {
     "name": "stderr",
     "output_type": "stream",
     "text": [
      "/usr/local/lib/python3.11/site-packages/sklearn/feature_extraction/text.py:525: UserWarning: The parameter 'token_pattern' will not be used since 'tokenizer' is not None'\n",
      "  warnings.warn(\n"
     ]
    }
   ],
   "source": [
    "features = tfidfvectorizer.fit_transform(df_bosa_test1['news_title'])\n",
    "# news_title에 있는 내용을 백터&토큰화"
   ]
  },
  {
   "cell_type": "code",
   "execution_count": 16,
   "id": "3453ddca-7e9f-44d9-85f4-488b980db463",
   "metadata": {},
   "outputs": [
    {
     "data": {
      "text/plain": [
       "(2425, 997)"
      ]
     },
     "execution_count": 16,
     "metadata": {},
     "output_type": "execute_result"
    }
   ],
   "source": [
    "features.shape"
   ]
  },
  {
   "cell_type": "code",
   "execution_count": 17,
   "id": "50feb453-40e1-47cc-bcdb-5632b07e4b69",
   "metadata": {},
   "outputs": [
    {
     "data": {
      "text/plain": [
       "<2425x997 sparse matrix of type '<class 'numpy.float64'>'\n",
       "\twith 9408 stored elements in Compressed Sparse Row format>"
      ]
     },
     "execution_count": 17,
     "metadata": {},
     "output_type": "execute_result"
    }
   ],
   "source": [
    "features"
   ]
  },
  {
   "cell_type": "markdown",
   "id": "d7fb2a1f-343c-488b-90d7-d6f37e842dde",
   "metadata": {},
   "source": [
    "### perplexity를 이용해 확인하기"
   ]
  },
  {
   "cell_type": "code",
   "execution_count": 18,
   "id": "b48b0b6a-31d6-42df-b57e-932045e694db",
   "metadata": {},
   "outputs": [],
   "source": [
    "import pyLDAvis\n",
    "import pyLDAvis.lda_model\n",
    "from sklearn.decomposition import LatentDirichletAllocation"
   ]
  },
  {
   "cell_type": "code",
   "execution_count": 19,
   "id": "ec2fdde7-644a-4f8c-be22-90a9b8bc0699",
   "metadata": {},
   "outputs": [],
   "source": [
    "from sklearn.feature_extraction.text import CountVectorizer"
   ]
  },
  {
   "cell_type": "code",
   "execution_count": 20,
   "id": "8043cc47-731e-4fc8-bde1-6875e6f03d9d",
   "metadata": {},
   "outputs": [],
   "source": [
    "def perplexity(corpus):\n",
    "    best_ppx = float('inf')\n",
    "    best_topic_num = None\n",
    "    for num_topics in range(4,21):\n",
    "        count_vectorizer = CountVectorizer(max_features=100) # 적절한 max_feature 선택\n",
    "        X_count = count_vectorizer.fit_transform(corpus)\n",
    "        # LDA 모델 초기화\n",
    "        lda_model = LatentDirichletAllocation(n_components = num_topics, random_state=55)\n",
    "        lda_model.fit(X_count)\n",
    "        ppx = lda_model.perplexity(X_count)\n",
    "        if ppx < best_ppx :\n",
    "            best_ppx = ppx\n",
    "            best_topic_num = num_topics\n",
    "    print(f\"토픽 수 : {best_topic_num}, 해당 Perplexity : {best_ppx}\")\n",
    "        "
   ]
  },
  {
   "cell_type": "code",
   "execution_count": 21,
   "id": "aa99bf9f-c7b7-4557-9c5b-735a2e3a80d9",
   "metadata": {},
   "outputs": [],
   "source": [
    "# perplexity(df_bosa_test1['news_title'])"
   ]
  },
  {
   "cell_type": "markdown",
   "id": "578b582a-3517-4507-9164-1cbb8e1cdf28",
   "metadata": {},
   "source": [
    "- 토픽 수가 적을 수록 perplexity가 적다(=좋다)고 나옴..."
   ]
  },
  {
   "cell_type": "markdown",
   "id": "886b7b94-215d-473b-b476-150efeea8c2d",
   "metadata": {},
   "source": [
    "### 군집 만들기"
   ]
  },
  {
   "cell_type": "code",
   "execution_count": 22,
   "id": "256b3a33-7a10-41f1-a5ff-2262bd961530",
   "metadata": {},
   "outputs": [
    {
     "data": {
      "text/html": [
       "<style>#sk-container-id-1 {\n",
       "  /* Definition of color scheme common for light and dark mode */\n",
       "  --sklearn-color-text: black;\n",
       "  --sklearn-color-line: gray;\n",
       "  /* Definition of color scheme for unfitted estimators */\n",
       "  --sklearn-color-unfitted-level-0: #fff5e6;\n",
       "  --sklearn-color-unfitted-level-1: #f6e4d2;\n",
       "  --sklearn-color-unfitted-level-2: #ffe0b3;\n",
       "  --sklearn-color-unfitted-level-3: chocolate;\n",
       "  /* Definition of color scheme for fitted estimators */\n",
       "  --sklearn-color-fitted-level-0: #f0f8ff;\n",
       "  --sklearn-color-fitted-level-1: #d4ebff;\n",
       "  --sklearn-color-fitted-level-2: #b3dbfd;\n",
       "  --sklearn-color-fitted-level-3: cornflowerblue;\n",
       "\n",
       "  /* Specific color for light theme */\n",
       "  --sklearn-color-text-on-default-background: var(--sg-text-color, var(--theme-code-foreground, var(--jp-content-font-color1, black)));\n",
       "  --sklearn-color-background: var(--sg-background-color, var(--theme-background, var(--jp-layout-color0, white)));\n",
       "  --sklearn-color-border-box: var(--sg-text-color, var(--theme-code-foreground, var(--jp-content-font-color1, black)));\n",
       "  --sklearn-color-icon: #696969;\n",
       "\n",
       "  @media (prefers-color-scheme: dark) {\n",
       "    /* Redefinition of color scheme for dark theme */\n",
       "    --sklearn-color-text-on-default-background: var(--sg-text-color, var(--theme-code-foreground, var(--jp-content-font-color1, white)));\n",
       "    --sklearn-color-background: var(--sg-background-color, var(--theme-background, var(--jp-layout-color0, #111)));\n",
       "    --sklearn-color-border-box: var(--sg-text-color, var(--theme-code-foreground, var(--jp-content-font-color1, white)));\n",
       "    --sklearn-color-icon: #878787;\n",
       "  }\n",
       "}\n",
       "\n",
       "#sk-container-id-1 {\n",
       "  color: var(--sklearn-color-text);\n",
       "}\n",
       "\n",
       "#sk-container-id-1 pre {\n",
       "  padding: 0;\n",
       "}\n",
       "\n",
       "#sk-container-id-1 input.sk-hidden--visually {\n",
       "  border: 0;\n",
       "  clip: rect(1px 1px 1px 1px);\n",
       "  clip: rect(1px, 1px, 1px, 1px);\n",
       "  height: 1px;\n",
       "  margin: -1px;\n",
       "  overflow: hidden;\n",
       "  padding: 0;\n",
       "  position: absolute;\n",
       "  width: 1px;\n",
       "}\n",
       "\n",
       "#sk-container-id-1 div.sk-dashed-wrapped {\n",
       "  border: 1px dashed var(--sklearn-color-line);\n",
       "  margin: 0 0.4em 0.5em 0.4em;\n",
       "  box-sizing: border-box;\n",
       "  padding-bottom: 0.4em;\n",
       "  background-color: var(--sklearn-color-background);\n",
       "}\n",
       "\n",
       "#sk-container-id-1 div.sk-container {\n",
       "  /* jupyter's `normalize.less` sets `[hidden] { display: none; }`\n",
       "     but bootstrap.min.css set `[hidden] { display: none !important; }`\n",
       "     so we also need the `!important` here to be able to override the\n",
       "     default hidden behavior on the sphinx rendered scikit-learn.org.\n",
       "     See: https://github.com/scikit-learn/scikit-learn/issues/21755 */\n",
       "  display: inline-block !important;\n",
       "  position: relative;\n",
       "}\n",
       "\n",
       "#sk-container-id-1 div.sk-text-repr-fallback {\n",
       "  display: none;\n",
       "}\n",
       "\n",
       "div.sk-parallel-item,\n",
       "div.sk-serial,\n",
       "div.sk-item {\n",
       "  /* draw centered vertical line to link estimators */\n",
       "  background-image: linear-gradient(var(--sklearn-color-text-on-default-background), var(--sklearn-color-text-on-default-background));\n",
       "  background-size: 2px 100%;\n",
       "  background-repeat: no-repeat;\n",
       "  background-position: center center;\n",
       "}\n",
       "\n",
       "/* Parallel-specific style estimator block */\n",
       "\n",
       "#sk-container-id-1 div.sk-parallel-item::after {\n",
       "  content: \"\";\n",
       "  width: 100%;\n",
       "  border-bottom: 2px solid var(--sklearn-color-text-on-default-background);\n",
       "  flex-grow: 1;\n",
       "}\n",
       "\n",
       "#sk-container-id-1 div.sk-parallel {\n",
       "  display: flex;\n",
       "  align-items: stretch;\n",
       "  justify-content: center;\n",
       "  background-color: var(--sklearn-color-background);\n",
       "  position: relative;\n",
       "}\n",
       "\n",
       "#sk-container-id-1 div.sk-parallel-item {\n",
       "  display: flex;\n",
       "  flex-direction: column;\n",
       "}\n",
       "\n",
       "#sk-container-id-1 div.sk-parallel-item:first-child::after {\n",
       "  align-self: flex-end;\n",
       "  width: 50%;\n",
       "}\n",
       "\n",
       "#sk-container-id-1 div.sk-parallel-item:last-child::after {\n",
       "  align-self: flex-start;\n",
       "  width: 50%;\n",
       "}\n",
       "\n",
       "#sk-container-id-1 div.sk-parallel-item:only-child::after {\n",
       "  width: 0;\n",
       "}\n",
       "\n",
       "/* Serial-specific style estimator block */\n",
       "\n",
       "#sk-container-id-1 div.sk-serial {\n",
       "  display: flex;\n",
       "  flex-direction: column;\n",
       "  align-items: center;\n",
       "  background-color: var(--sklearn-color-background);\n",
       "  padding-right: 1em;\n",
       "  padding-left: 1em;\n",
       "}\n",
       "\n",
       "\n",
       "/* Toggleable style: style used for estimator/Pipeline/ColumnTransformer box that is\n",
       "clickable and can be expanded/collapsed.\n",
       "- Pipeline and ColumnTransformer use this feature and define the default style\n",
       "- Estimators will overwrite some part of the style using the `sk-estimator` class\n",
       "*/\n",
       "\n",
       "/* Pipeline and ColumnTransformer style (default) */\n",
       "\n",
       "#sk-container-id-1 div.sk-toggleable {\n",
       "  /* Default theme specific background. It is overwritten whether we have a\n",
       "  specific estimator or a Pipeline/ColumnTransformer */\n",
       "  background-color: var(--sklearn-color-background);\n",
       "}\n",
       "\n",
       "/* Toggleable label */\n",
       "#sk-container-id-1 label.sk-toggleable__label {\n",
       "  cursor: pointer;\n",
       "  display: block;\n",
       "  width: 100%;\n",
       "  margin-bottom: 0;\n",
       "  padding: 0.5em;\n",
       "  box-sizing: border-box;\n",
       "  text-align: center;\n",
       "}\n",
       "\n",
       "#sk-container-id-1 label.sk-toggleable__label-arrow:before {\n",
       "  /* Arrow on the left of the label */\n",
       "  content: \"▸\";\n",
       "  float: left;\n",
       "  margin-right: 0.25em;\n",
       "  color: var(--sklearn-color-icon);\n",
       "}\n",
       "\n",
       "#sk-container-id-1 label.sk-toggleable__label-arrow:hover:before {\n",
       "  color: var(--sklearn-color-text);\n",
       "}\n",
       "\n",
       "/* Toggleable content - dropdown */\n",
       "\n",
       "#sk-container-id-1 div.sk-toggleable__content {\n",
       "  max-height: 0;\n",
       "  max-width: 0;\n",
       "  overflow: hidden;\n",
       "  text-align: left;\n",
       "  /* unfitted */\n",
       "  background-color: var(--sklearn-color-unfitted-level-0);\n",
       "}\n",
       "\n",
       "#sk-container-id-1 div.sk-toggleable__content.fitted {\n",
       "  /* fitted */\n",
       "  background-color: var(--sklearn-color-fitted-level-0);\n",
       "}\n",
       "\n",
       "#sk-container-id-1 div.sk-toggleable__content pre {\n",
       "  margin: 0.2em;\n",
       "  border-radius: 0.25em;\n",
       "  color: var(--sklearn-color-text);\n",
       "  /* unfitted */\n",
       "  background-color: var(--sklearn-color-unfitted-level-0);\n",
       "}\n",
       "\n",
       "#sk-container-id-1 div.sk-toggleable__content.fitted pre {\n",
       "  /* unfitted */\n",
       "  background-color: var(--sklearn-color-fitted-level-0);\n",
       "}\n",
       "\n",
       "#sk-container-id-1 input.sk-toggleable__control:checked~div.sk-toggleable__content {\n",
       "  /* Expand drop-down */\n",
       "  max-height: 200px;\n",
       "  max-width: 100%;\n",
       "  overflow: auto;\n",
       "}\n",
       "\n",
       "#sk-container-id-1 input.sk-toggleable__control:checked~label.sk-toggleable__label-arrow:before {\n",
       "  content: \"▾\";\n",
       "}\n",
       "\n",
       "/* Pipeline/ColumnTransformer-specific style */\n",
       "\n",
       "#sk-container-id-1 div.sk-label input.sk-toggleable__control:checked~label.sk-toggleable__label {\n",
       "  color: var(--sklearn-color-text);\n",
       "  background-color: var(--sklearn-color-unfitted-level-2);\n",
       "}\n",
       "\n",
       "#sk-container-id-1 div.sk-label.fitted input.sk-toggleable__control:checked~label.sk-toggleable__label {\n",
       "  background-color: var(--sklearn-color-fitted-level-2);\n",
       "}\n",
       "\n",
       "/* Estimator-specific style */\n",
       "\n",
       "/* Colorize estimator box */\n",
       "#sk-container-id-1 div.sk-estimator input.sk-toggleable__control:checked~label.sk-toggleable__label {\n",
       "  /* unfitted */\n",
       "  background-color: var(--sklearn-color-unfitted-level-2);\n",
       "}\n",
       "\n",
       "#sk-container-id-1 div.sk-estimator.fitted input.sk-toggleable__control:checked~label.sk-toggleable__label {\n",
       "  /* fitted */\n",
       "  background-color: var(--sklearn-color-fitted-level-2);\n",
       "}\n",
       "\n",
       "#sk-container-id-1 div.sk-label label.sk-toggleable__label,\n",
       "#sk-container-id-1 div.sk-label label {\n",
       "  /* The background is the default theme color */\n",
       "  color: var(--sklearn-color-text-on-default-background);\n",
       "}\n",
       "\n",
       "/* On hover, darken the color of the background */\n",
       "#sk-container-id-1 div.sk-label:hover label.sk-toggleable__label {\n",
       "  color: var(--sklearn-color-text);\n",
       "  background-color: var(--sklearn-color-unfitted-level-2);\n",
       "}\n",
       "\n",
       "/* Label box, darken color on hover, fitted */\n",
       "#sk-container-id-1 div.sk-label.fitted:hover label.sk-toggleable__label.fitted {\n",
       "  color: var(--sklearn-color-text);\n",
       "  background-color: var(--sklearn-color-fitted-level-2);\n",
       "}\n",
       "\n",
       "/* Estimator label */\n",
       "\n",
       "#sk-container-id-1 div.sk-label label {\n",
       "  font-family: monospace;\n",
       "  font-weight: bold;\n",
       "  display: inline-block;\n",
       "  line-height: 1.2em;\n",
       "}\n",
       "\n",
       "#sk-container-id-1 div.sk-label-container {\n",
       "  text-align: center;\n",
       "}\n",
       "\n",
       "/* Estimator-specific */\n",
       "#sk-container-id-1 div.sk-estimator {\n",
       "  font-family: monospace;\n",
       "  border: 1px dotted var(--sklearn-color-border-box);\n",
       "  border-radius: 0.25em;\n",
       "  box-sizing: border-box;\n",
       "  margin-bottom: 0.5em;\n",
       "  /* unfitted */\n",
       "  background-color: var(--sklearn-color-unfitted-level-0);\n",
       "}\n",
       "\n",
       "#sk-container-id-1 div.sk-estimator.fitted {\n",
       "  /* fitted */\n",
       "  background-color: var(--sklearn-color-fitted-level-0);\n",
       "}\n",
       "\n",
       "/* on hover */\n",
       "#sk-container-id-1 div.sk-estimator:hover {\n",
       "  /* unfitted */\n",
       "  background-color: var(--sklearn-color-unfitted-level-2);\n",
       "}\n",
       "\n",
       "#sk-container-id-1 div.sk-estimator.fitted:hover {\n",
       "  /* fitted */\n",
       "  background-color: var(--sklearn-color-fitted-level-2);\n",
       "}\n",
       "\n",
       "/* Specification for estimator info (e.g. \"i\" and \"?\") */\n",
       "\n",
       "/* Common style for \"i\" and \"?\" */\n",
       "\n",
       ".sk-estimator-doc-link,\n",
       "a:link.sk-estimator-doc-link,\n",
       "a:visited.sk-estimator-doc-link {\n",
       "  float: right;\n",
       "  font-size: smaller;\n",
       "  line-height: 1em;\n",
       "  font-family: monospace;\n",
       "  background-color: var(--sklearn-color-background);\n",
       "  border-radius: 1em;\n",
       "  height: 1em;\n",
       "  width: 1em;\n",
       "  text-decoration: none !important;\n",
       "  margin-left: 1ex;\n",
       "  /* unfitted */\n",
       "  border: var(--sklearn-color-unfitted-level-1) 1pt solid;\n",
       "  color: var(--sklearn-color-unfitted-level-1);\n",
       "}\n",
       "\n",
       ".sk-estimator-doc-link.fitted,\n",
       "a:link.sk-estimator-doc-link.fitted,\n",
       "a:visited.sk-estimator-doc-link.fitted {\n",
       "  /* fitted */\n",
       "  border: var(--sklearn-color-fitted-level-1) 1pt solid;\n",
       "  color: var(--sklearn-color-fitted-level-1);\n",
       "}\n",
       "\n",
       "/* On hover */\n",
       "div.sk-estimator:hover .sk-estimator-doc-link:hover,\n",
       ".sk-estimator-doc-link:hover,\n",
       "div.sk-label-container:hover .sk-estimator-doc-link:hover,\n",
       ".sk-estimator-doc-link:hover {\n",
       "  /* unfitted */\n",
       "  background-color: var(--sklearn-color-unfitted-level-3);\n",
       "  color: var(--sklearn-color-background);\n",
       "  text-decoration: none;\n",
       "}\n",
       "\n",
       "div.sk-estimator.fitted:hover .sk-estimator-doc-link.fitted:hover,\n",
       ".sk-estimator-doc-link.fitted:hover,\n",
       "div.sk-label-container:hover .sk-estimator-doc-link.fitted:hover,\n",
       ".sk-estimator-doc-link.fitted:hover {\n",
       "  /* fitted */\n",
       "  background-color: var(--sklearn-color-fitted-level-3);\n",
       "  color: var(--sklearn-color-background);\n",
       "  text-decoration: none;\n",
       "}\n",
       "\n",
       "/* Span, style for the box shown on hovering the info icon */\n",
       ".sk-estimator-doc-link span {\n",
       "  display: none;\n",
       "  z-index: 9999;\n",
       "  position: relative;\n",
       "  font-weight: normal;\n",
       "  right: .2ex;\n",
       "  padding: .5ex;\n",
       "  margin: .5ex;\n",
       "  width: min-content;\n",
       "  min-width: 20ex;\n",
       "  max-width: 50ex;\n",
       "  color: var(--sklearn-color-text);\n",
       "  box-shadow: 2pt 2pt 4pt #999;\n",
       "  /* unfitted */\n",
       "  background: var(--sklearn-color-unfitted-level-0);\n",
       "  border: .5pt solid var(--sklearn-color-unfitted-level-3);\n",
       "}\n",
       "\n",
       ".sk-estimator-doc-link.fitted span {\n",
       "  /* fitted */\n",
       "  background: var(--sklearn-color-fitted-level-0);\n",
       "  border: var(--sklearn-color-fitted-level-3);\n",
       "}\n",
       "\n",
       ".sk-estimator-doc-link:hover span {\n",
       "  display: block;\n",
       "}\n",
       "\n",
       "/* \"?\"-specific style due to the `<a>` HTML tag */\n",
       "\n",
       "#sk-container-id-1 a.estimator_doc_link {\n",
       "  float: right;\n",
       "  font-size: 1rem;\n",
       "  line-height: 1em;\n",
       "  font-family: monospace;\n",
       "  background-color: var(--sklearn-color-background);\n",
       "  border-radius: 1rem;\n",
       "  height: 1rem;\n",
       "  width: 1rem;\n",
       "  text-decoration: none;\n",
       "  /* unfitted */\n",
       "  color: var(--sklearn-color-unfitted-level-1);\n",
       "  border: var(--sklearn-color-unfitted-level-1) 1pt solid;\n",
       "}\n",
       "\n",
       "#sk-container-id-1 a.estimator_doc_link.fitted {\n",
       "  /* fitted */\n",
       "  border: var(--sklearn-color-fitted-level-1) 1pt solid;\n",
       "  color: var(--sklearn-color-fitted-level-1);\n",
       "}\n",
       "\n",
       "/* On hover */\n",
       "#sk-container-id-1 a.estimator_doc_link:hover {\n",
       "  /* unfitted */\n",
       "  background-color: var(--sklearn-color-unfitted-level-3);\n",
       "  color: var(--sklearn-color-background);\n",
       "  text-decoration: none;\n",
       "}\n",
       "\n",
       "#sk-container-id-1 a.estimator_doc_link.fitted:hover {\n",
       "  /* fitted */\n",
       "  background-color: var(--sklearn-color-fitted-level-3);\n",
       "}\n",
       "</style><div id=\"sk-container-id-1\" class=\"sk-top-container\"><div class=\"sk-text-repr-fallback\"><pre>LatentDirichletAllocation(n_components=3, n_jobs=-1)</pre><b>In a Jupyter environment, please rerun this cell to show the HTML representation or trust the notebook. <br />On GitHub, the HTML representation is unable to render, please try loading this page with nbviewer.org.</b></div><div class=\"sk-container\" hidden><div class=\"sk-item\"><div class=\"sk-estimator fitted sk-toggleable\"><input class=\"sk-toggleable__control sk-hidden--visually\" id=\"sk-estimator-id-1\" type=\"checkbox\" checked><label for=\"sk-estimator-id-1\" class=\"sk-toggleable__label fitted sk-toggleable__label-arrow fitted\">&nbsp;&nbsp;LatentDirichletAllocation<a class=\"sk-estimator-doc-link fitted\" rel=\"noreferrer\" target=\"_blank\" href=\"https://scikit-learn.org/1.4/modules/generated/sklearn.decomposition.LatentDirichletAllocation.html\">?<span>Documentation for LatentDirichletAllocation</span></a><span class=\"sk-estimator-doc-link fitted\">i<span>Fitted</span></span></label><div class=\"sk-toggleable__content fitted\"><pre>LatentDirichletAllocation(n_components=3, n_jobs=-1)</pre></div> </div></div></div></div>"
      ],
      "text/plain": [
       "LatentDirichletAllocation(n_components=3, n_jobs=-1)"
      ]
     },
     "execution_count": 22,
     "metadata": {},
     "output_type": "execute_result"
    }
   ],
   "source": [
    "components = LatentDirichletAllocation(n_components=3, n_jobs=-1)\n",
    "components.fit(features)"
   ]
  },
  {
   "cell_type": "code",
   "execution_count": 23,
   "id": "74ce6042-d3d4-4f27-91c5-df2fd5b0476f",
   "metadata": {},
   "outputs": [
    {
     "data": {
      "text/plain": [
       "array(['가격', '가능', '가능성', '가다', '가동', '가속', '가약', '가이드라인', '가장', '가정',\n",
       "       '가제', '가족', '가치', '가톨릭대', '간담', '간질', '갈다', '감사패', '감소', '감염병',\n",
       "       '강남', '강소', '강연', '강원', '강좌', '강직', '강화', '갖추다', '개강', '개년', '개다',\n",
       "       '개발', '개방', '개선', '개설', '개성', '개시', '개원', '개인', '개정', '개최', '개편',\n",
       "       '개혁', '거래', '거점', '건강', '건양대', '걷기', '걸다', '걸리다', '걸음', '검사', '검토',\n",
       "       '게놈', '게재', '결과', '결산', '결정', '결핍', '경감', '경북', '경영', '경쟁', '경쟁력',\n",
       "       '경제', '경제성', '경평', '경희대', '계속', '계약', '계획', '고가', '고대', '고려', '고민',\n",
       "       '고셔병', '고속', '고통', '고혈압', '골수', '공감', '공개', '공급', '공단', '공동', '공략',\n",
       "       '공모', '공식', '공유', '공익', '공학사', '공헌', '과제', '과학', '관계', '관련', '관심',\n",
       "       '관절염', '광동', '교수', '교육', '교정', '구매', '구성', '구지원', '구진', '구축', '국가',\n",
       "       '국감', '국립', '국민', '국산', '국제', '국회', '국훈', '권고', '권역별', '규명', '규모',\n",
       "       '규제', '그룹', '극복', '근무', '근육', '글로벌', '글로벌화', '글리벡', '금지', '급등',\n",
       "       '급성', '급증', '기관', '기금', '기념', '기능', '기대', '기독', '기린', '기반', '기부',\n",
       "       '기술', '기업', '기전', '기존', '기준', '기증', '기탁', '기형', '기회', '기획', '긴급',\n",
       "       '길병원', '김선민', '김옥', '김현주', '꼽히다', '꿈꾸다', '나가다', '나눔', '나서다', '나오다',\n",
       "       '난치', '난치병', '난치성질환', '낮추다', '내과', '내년', '내다', '내분비', '내시경', '넓히다',\n",
       "       '넘다', '노력', '노바티스', '노보', '논문', '논의', '높이', '높이다', '놓다', '뇨증',\n",
       "       '눈길', '늘다', '닛폰', '다발', '다켈', '닥터', '단계', '단백질', '단장', '단체', '단행',\n",
       "       '달라지다', '달러', '달리다', '달성', '당뇨', '대거', '대구', '대사', '대상', '대세',\n",
       "       '대안', '대웅제약', '대응', '대책', '대체', '대통령', '대폭', '대표', '대형', '대회',\n",
       "       '데이터', '도약', '도입', '도전', '독점', '돌연변이', '돌입', '돕기', '돕다', '동부',\n",
       "       '동산병원', '동아', '동행', '돼다', '되다', '드림', '들다', '등록', '등장', '등재',\n",
       "       '디지털', '뛰다', '라라', '라벨', '라이선스', '랩스', '런칭', '레드', '레졸', '레프',\n",
       "       '로병', '로슈', '롤론', '루게릭', '루게릭병', '루고', '루트', '류마티스', '리더', '리브',\n",
       "       '리스', '린지', '릴레이', '릴리', '림프', '림프종', '마련', '마리', '마진', '마크로',\n",
       "       '만나다', '만들다', '만성', '말단비대증', '망막', '맞다', '맞춤', '매각', '매년', '매출',\n",
       "       '메다', '면역', '면제', '명의', '모건', '모델', '모든', '모색', '모야', '모집', '목소리',\n",
       "       '목표', '무료', '무상', '문재인', '문화', '물질', '뮤코다당증', '미국', '미나', '미래',\n",
       "       '미술', '미토콘드리아', '민간', '밀러', '바이러스', '바이엘', '바이오', '박차', '반대', '반영',\n",
       "       '발간', '발견', '발굴', '발매', '발병', '발생', '발성', '발작', '발전', '발표', '밝히다',\n",
       "       '방문', '방안', '방향', '배경', '배송', '백병원', '백신', '백혈병', '뱅크', '범위', '법령',\n",
       "       '법안', '법인', '변경', '변성', '변화', '별도', '별로', '병약', '보건', '보건복지부',\n",
       "       '보고', '보고서', '보다', '보사', '보상', '보장', '보험', '복지', '복지부', '복합', '본격',\n",
       "       '본부', '본부장', '본인', '봉사', '부광', '부금', '부담', '부문', '부산', '부서', '부족',\n",
       "       '부종', '부회장', '북부', '분담', '분당', '분당차여성병원', '분석', '분야', '불다', '불명',\n",
       "       '불우', '블록버스터', '비결', '비교', '비급', '비다', '비대', '비만', '비용', '비프',\n",
       "       '빅데이터', '사각', '사내', '사랑', '사례', '사실', '사업', '사용', '사장', '사전', '사항',\n",
       "       '사회', '삭감', '산업', '산전', '산정', '산책', '살펴보다', '삼성', '삼진', '상급', '상담',\n",
       "       '상무', '상반기', '상한', '새해', '생동', '생략', '생명공학', '생명과학', '생물', '생물학',\n",
       "       '생산', '생존', '서다', '서비스', '서울', '선도', '선물', '선수', '선임', '선정', '선천성',\n",
       "       '선출', '선택', '설립', '설명', '섬유', '성경', '성골', '성공', '성과', '성금', '성기',\n",
       "       '성모', '성분', '성장', '성장동력', '성장호르몬', '세계', '세다', '세레델', '세미나',\n",
       "       '세브란스', '세브란스병원', '세종', '센터', '센티', '소득', '소마', '소외', '소요', '소장',\n",
       "       '솔루션', '솔리', '수가', '수급', '수립', '수상', '수술', '수입', '수준', '수집', '수출',\n",
       "       '순위', '스마', '스타트업', '스템', '스핀', '승부', '승인', '시급', '시대', '시범', '시술',\n",
       "       '시스템', '시약', '시온', '시작', '시장', '시책', '시판', '시행', '식도', '식약처',\n",
       "       '식약청', '신경', '신경과학', '신경섬유', '신규', '신년', '신생아', '신설', '신속', '신야',\n",
       "       '신약', '신임', '신장', '신청', '실적', '실천', '심부전', '심사', '심의', '심층',\n",
       "       '심포지엄', '아동', '아스', '아시아', '아주대', '아주대병원', '안과', '안전', '안전성', '알다',\n",
       "       '알렉', '암치료', '앞장', '애브비', '야간', '약국', '약물', '약사', '약제', '약품', '양산',\n",
       "       '어린이', '어린이날', '어린이병원', '억제제', '얼룩말', '업계', '업무', '업체', '엑스', '여건',\n",
       "       '여성', '역할', '연관', '연구', '연구개발', '연구소', '연구원', '연구자', '연말', '연속',\n",
       "       '연장', '연합', '열다', '열리다', '염기서열', '염증', '영역', '영진', '영향', '예고',\n",
       "       '예방', '예산', '예산안', '예술', '예측', '오노', '오프', '오픈', '온라인', '온스',\n",
       "       '올리다', '올해', '옵션', '완료', '완치', '완화', '요구', '요법', '요양', '용인', '용제',\n",
       "       '우대', '우려', '우수', '우회', '운영', '울산', '워크숍', '원광대', '원금', '원인', '원장',\n",
       "       '원주', '원칙', '위기', '위반', '위상', '위원회', '위축', '위탁', '위험', '윌리', '유럽',\n",
       "       '유력', '유망', '유방암', '유전', '유전병', '유전상담', '유전자', '유전체', '유지', '유치',\n",
       "       '유통', '유한', '유한양행', '육성', '은행', '은희', '응원', '의견', '의대', '의료',\n",
       "       '의료기기', '의료인', '의무', '의사', '의심', '의약', '의약품', '의연', '의원', '의지',\n",
       "       '의학', '의협', '이노베이션', '이다', '이드', '이벤트', '이사장', '이수앱지스', '이식', '이완',\n",
       "       '이용', '이웃', '이유', '이익', '이제', '이프', '이형성', '이후', '인공', '인력', '인사',\n",
       "       '인상', '인수', '인식', '인정', '인증', '인천', '인체', '인터뷰', '인하', '일간', '일루',\n",
       "       '일반', '일본', '일부', '임상시험', '입성', '입원', '입증', '입찰', '입학', '잇다',\n",
       "       '잇따르다', '자가', '자다', '자료', '자원', '자회사', '잔치', '잡다', '장관', '장기',\n",
       "       '장애', '재다', '재단', '재료', '재발', '재생', '재정', '재편', '재활', '저분자', '저하',\n",
       "       '적극', '적용', '적응', '적정', '전개', '전국', '전기', '전담', '전략', '전망', '전무',\n",
       "       '전문', '전문가', '전북', '전북대', '전시회', '전지원', '전체', '전환', '절감', '절반',\n",
       "       '절실', '절차', '접근성', '접수', '정리', '정립', '정밀', '정보', '정부', '정진', '정책',\n",
       "       '제공', '제넥신', '제도', '제로', '제비', '제시', '제안', '제약', '제약기업', '제약업',\n",
       "       '제외', '제정', '제제', '제조', '제출', '제품', '제한', '제휴', '조건', '조기', '조명',\n",
       "       '조사', '조성', '조정', '조직', '존중', '졸겐', '졸업', '종근당', '종병', '종양', '종증',\n",
       "       '종합', '주관', '주년', '주도', '주력', '주목', '주요', '주자', '줄기세포', '줄이다',\n",
       "       '중개', '중국', '중단', '중소', '중심', '중앙', '중외', '중점', '중증', '증가', '증후군',\n",
       "       '지견', '지난해', '지놈', '지능', '지대', '지르다', '지속', '지역', '지원', '지출', '지침',\n",
       "       '직원', '진단', '진료', '진입', '진찰', '진출', '진행', '진흥', '집중', '찌산쿄', '차별',\n",
       "       '차병원', '차세대', '차지', '차질', '착수', '참가', '참여', '창간', '창립', '채다', '책임',\n",
       "       '책임자', '책임지다', '처방', '처방약', '처벌', '척수', '척추', '첨단', '청소년', '청장',\n",
       "       '체결', '체계', '체제', '체트', '초고', '초과', '초기', '초록', '초음파', '초청', '촉구',\n",
       "       '촉진', '총괄', '최고', '최대', '최신', '최우수', '최초', '추가', '추다', '추세', '추진',\n",
       "       '축소', '축하', '출범', '출산', '출시', '충남대', '취임', '치료법', '칠곡', '카바', '캐슬',\n",
       "       '캠페인', '커버', '컨퍼런스', '케미칼', '케어', '코리아', '코셀', '콘서트', '크다', '크론병',\n",
       "       '클리', '키트', '타깃', '탄력', '탐방', '태아', '텐션', '텔라스', '토끼', '토론회',\n",
       "       '토미리스', '통과', '통제', '통증', '통한', '통합', '통해', '투약', '투여', '투입', '투자',\n",
       "       '트랙', '트루', '트리', '특례', '특수', '특집', '특허', '티닙', '티스', '파다', '파마',\n",
       "       '파이프라인', '파킨슨병', '파트너', '판권', '판매', '패러다임', '펀드', '편집', '평가', '평균',\n",
       "       '평위', '폐동맥', '포괄', '포럼', '포함', '폼페병', '표준', '표창', '표피', '풀다', '품목',\n",
       "       '품질', '프레', '프로그램', '프로젝트', '플랫폼', '피스', '픽스', '필수', '필요', '하반기',\n",
       "       '학술', '학술지', '학회', '한국인', '합의', '합작', '항목', '항암제', '항체', '해법',\n",
       "       '해소', '해외', '핵산', '햇반', '행보', '행사', '향상', '향후', '허가', '허다', '허브',\n",
       "       '헌혈', '헬스', '헴리브', '혁신', '현황', '혈관', '혈소판', '혈액', '혈우병', '협력',\n",
       "       '협상', '협약', '협업', '협의', '협진', '협회', '호킹', '홀딩스', '홈페이지', '홍보',\n",
       "       '화두', '화이자', '화제', '화증', '화학', '확대', '확보', '확산', '확인', '확장', '확정',\n",
       "       '환경', '환급', '환영', '활기', '활동', '활발', '활성화', '활용', '회서', '회의', '회장',\n",
       "       '획기', '획득', '효과', '효능', '효소', '후보', '후원', '휴먼', '희귀난치성질환', '희망',\n",
       "       '희소'], dtype=object)"
      ]
     },
     "execution_count": 23,
     "metadata": {},
     "output_type": "execute_result"
    }
   ],
   "source": [
    "dictionary_list = tfidfvectorizer.get_feature_names_out(features)\n",
    "dictionary_list"
   ]
  },
  {
   "cell_type": "code",
   "execution_count": 24,
   "id": "b7d623d4-a84b-46b3-8be9-1f59c7fb232c",
   "metadata": {},
   "outputs": [
    {
     "data": {
      "text/plain": [
       "array([[ 2.6027295 ,  7.29129653,  2.57646185, ...,  0.34272708,\n",
       "         0.40898109,  0.34648577],\n",
       "       [ 1.70640719,  0.65106284,  3.52660625, ...,  0.34733251,\n",
       "         0.3761778 ,  0.35891845],\n",
       "       [ 0.39659451,  0.3427796 ,  0.3533424 , ...,  9.52356643,\n",
       "        11.25274411,  3.53407788]])"
      ]
     },
     "execution_count": 24,
     "metadata": {},
     "output_type": "execute_result"
    }
   ],
   "source": [
    "components.components_ # 토픽별로 단어의 확률 분포를 나타냄"
   ]
  },
  {
   "cell_type": "code",
   "execution_count": 25,
   "id": "2be7b763-63c2-4f3e-88cd-8523a2273193",
   "metadata": {},
   "outputs": [],
   "source": [
    "topics_output = components.transform(features)\n",
    "df_topics_score = pd.DataFrame(data=topics_output)"
   ]
  },
  {
   "cell_type": "code",
   "execution_count": 26,
   "id": "345beb4e-8ffd-45a2-b06a-1a2c5363e74f",
   "metadata": {},
   "outputs": [
    {
     "data": {
      "text/html": [
       "<div>\n",
       "<style scoped>\n",
       "    .dataframe tbody tr th:only-of-type {\n",
       "        vertical-align: middle;\n",
       "    }\n",
       "\n",
       "    .dataframe tbody tr th {\n",
       "        vertical-align: top;\n",
       "    }\n",
       "\n",
       "    .dataframe thead th {\n",
       "        text-align: right;\n",
       "    }\n",
       "</style>\n",
       "<table border=\"1\" class=\"dataframe\">\n",
       "  <thead>\n",
       "    <tr style=\"text-align: right;\">\n",
       "      <th></th>\n",
       "      <th>0</th>\n",
       "      <th>1</th>\n",
       "      <th>2</th>\n",
       "    </tr>\n",
       "  </thead>\n",
       "  <tbody>\n",
       "    <tr>\n",
       "      <th>0</th>\n",
       "      <td>0.111691</td>\n",
       "      <td>0.114208</td>\n",
       "      <td>0.774100</td>\n",
       "    </tr>\n",
       "    <tr>\n",
       "      <th>1</th>\n",
       "      <td>0.102592</td>\n",
       "      <td>0.139538</td>\n",
       "      <td>0.757870</td>\n",
       "    </tr>\n",
       "    <tr>\n",
       "      <th>2</th>\n",
       "      <td>0.776718</td>\n",
       "      <td>0.111637</td>\n",
       "      <td>0.111645</td>\n",
       "    </tr>\n",
       "    <tr>\n",
       "      <th>3</th>\n",
       "      <td>0.138299</td>\n",
       "      <td>0.138277</td>\n",
       "      <td>0.723424</td>\n",
       "    </tr>\n",
       "    <tr>\n",
       "      <th>4</th>\n",
       "      <td>0.256926</td>\n",
       "      <td>0.218099</td>\n",
       "      <td>0.524975</td>\n",
       "    </tr>\n",
       "    <tr>\n",
       "      <th>...</th>\n",
       "      <td>...</td>\n",
       "      <td>...</td>\n",
       "      <td>...</td>\n",
       "    </tr>\n",
       "    <tr>\n",
       "      <th>2420</th>\n",
       "      <td>0.167985</td>\n",
       "      <td>0.166728</td>\n",
       "      <td>0.665288</td>\n",
       "    </tr>\n",
       "    <tr>\n",
       "      <th>2421</th>\n",
       "      <td>0.133943</td>\n",
       "      <td>0.225845</td>\n",
       "      <td>0.640212</td>\n",
       "    </tr>\n",
       "    <tr>\n",
       "      <th>2422</th>\n",
       "      <td>0.267193</td>\n",
       "      <td>0.307501</td>\n",
       "      <td>0.425306</td>\n",
       "    </tr>\n",
       "    <tr>\n",
       "      <th>2423</th>\n",
       "      <td>0.653142</td>\n",
       "      <td>0.178459</td>\n",
       "      <td>0.168398</td>\n",
       "    </tr>\n",
       "    <tr>\n",
       "      <th>2424</th>\n",
       "      <td>0.781471</td>\n",
       "      <td>0.117723</td>\n",
       "      <td>0.100806</td>\n",
       "    </tr>\n",
       "  </tbody>\n",
       "</table>\n",
       "<p>2425 rows × 3 columns</p>\n",
       "</div>"
      ],
      "text/plain": [
       "             0         1         2\n",
       "0     0.111691  0.114208  0.774100\n",
       "1     0.102592  0.139538  0.757870\n",
       "2     0.776718  0.111637  0.111645\n",
       "3     0.138299  0.138277  0.723424\n",
       "4     0.256926  0.218099  0.524975\n",
       "...        ...       ...       ...\n",
       "2420  0.167985  0.166728  0.665288\n",
       "2421  0.133943  0.225845  0.640212\n",
       "2422  0.267193  0.307501  0.425306\n",
       "2423  0.653142  0.178459  0.168398\n",
       "2424  0.781471  0.117723  0.100806\n",
       "\n",
       "[2425 rows x 3 columns]"
      ]
     },
     "execution_count": 26,
     "metadata": {},
     "output_type": "execute_result"
    }
   ],
   "source": [
    "df_topics_score"
   ]
  },
  {
   "cell_type": "code",
   "execution_count": 27,
   "id": "f487381a-fe59-4080-9222-cdd59681086b",
   "metadata": {},
   "outputs": [],
   "source": [
    "import numpy as np\n",
    "df_topics_score['topic_num'] = np.argmax(topics_output, axis=1)"
   ]
  },
  {
   "cell_type": "code",
   "execution_count": 28,
   "id": "fac2c0ea-4c26-45ee-92f5-6f30a1eeb767",
   "metadata": {},
   "outputs": [
    {
     "data": {
      "text/plain": [
       "0       2\n",
       "1       2\n",
       "2       0\n",
       "3       2\n",
       "4       2\n",
       "       ..\n",
       "2420    2\n",
       "2421    2\n",
       "2422    2\n",
       "2423    0\n",
       "2424    0\n",
       "Name: topic_num, Length: 2425, dtype: int64"
      ]
     },
     "execution_count": 28,
     "metadata": {},
     "output_type": "execute_result"
    }
   ],
   "source": [
    "df_topics_score['topic_num']"
   ]
  },
  {
   "cell_type": "code",
   "execution_count": 29,
   "id": "a0333456-29a8-4cae-9732-75b9fb5c57f7",
   "metadata": {},
   "outputs": [
    {
     "data": {
      "text/html": [
       "<div>\n",
       "<style scoped>\n",
       "    .dataframe tbody tr th:only-of-type {\n",
       "        vertical-align: middle;\n",
       "    }\n",
       "\n",
       "    .dataframe tbody tr th {\n",
       "        vertical-align: top;\n",
       "    }\n",
       "\n",
       "    .dataframe thead th {\n",
       "        text-align: right;\n",
       "    }\n",
       "</style>\n",
       "<table border=\"1\" class=\"dataframe\">\n",
       "  <thead>\n",
       "    <tr style=\"text-align: right;\">\n",
       "      <th></th>\n",
       "      <th>news_title</th>\n",
       "      <th>news_url</th>\n",
       "      <th>news_when</th>\n",
       "      <th>news_topic</th>\n",
       "    </tr>\n",
       "  </thead>\n",
       "  <tbody>\n",
       "    <tr>\n",
       "      <th>0</th>\n",
       "      <td>한국쿄와기린, 세계 희귀질환의 날 행사 참여</td>\n",
       "      <td>http://www.bosa.co.kr/news/articleView.html?id...</td>\n",
       "      <td>02.29 11:57</td>\n",
       "      <td>다국적제약/의료기기</td>\n",
       "    </tr>\n",
       "    <tr>\n",
       "      <th>1</th>\n",
       "      <td>광동제약, ‘세계 희귀질환의 날’ 기념 환아 작품 전시회 개최</td>\n",
       "      <td>http://www.bosa.co.kr/news/articleView.html?id...</td>\n",
       "      <td>02.29 10:52</td>\n",
       "      <td>제약산업</td>\n",
       "    </tr>\n",
       "    <tr>\n",
       "      <th>2</th>\n",
       "      <td>순천향대 부천병원 신영림 교수, ‘질병관리청장 표창’ 수상</td>\n",
       "      <td>http://www.bosa.co.kr/news/articleView.html?id...</td>\n",
       "      <td>02.29 10:29</td>\n",
       "      <td>동정</td>\n",
       "    </tr>\n",
       "    <tr>\n",
       "      <th>3</th>\n",
       "      <td>창립 70주년 한독, ‘THANKS CAMPAIGN’ 실시</td>\n",
       "      <td>http://www.bosa.co.kr/news/articleView.html?id...</td>\n",
       "      <td>02.29 10:07</td>\n",
       "      <td>제약산업</td>\n",
       "    </tr>\n",
       "    <tr>\n",
       "      <th>4</th>\n",
       "      <td>[세계 희귀질환의 날] 국가‧사회‧이웃‧의료진‧가족 함께 가야 한다</td>\n",
       "      <td>http://www.bosa.co.kr/news/articleView.html?id...</td>\n",
       "      <td>02.29 05:50</td>\n",
       "      <td>학회/학술</td>\n",
       "    </tr>\n",
       "    <tr>\n",
       "      <th>...</th>\n",
       "      <td>...</td>\n",
       "      <td>...</td>\n",
       "      <td>...</td>\n",
       "      <td>...</td>\n",
       "    </tr>\n",
       "    <tr>\n",
       "      <th>2420</th>\n",
       "      <td>26일 `희귀질환 치료' 심포지엄</td>\n",
       "      <td>http://www.bosa.co.kr/news/articleView.html?id...</td>\n",
       "      <td>2001.05.22 19:35</td>\n",
       "      <td>학회/학술</td>\n",
       "    </tr>\n",
       "    <tr>\n",
       "      <th>2421</th>\n",
       "      <td>`희귀^난치성질환자 연합회' 구성 추진</td>\n",
       "      <td>http://www.bosa.co.kr/news/articleView.html?id...</td>\n",
       "      <td>2001.05.10 10:20</td>\n",
       "      <td>제약산업</td>\n",
       "    </tr>\n",
       "    <tr>\n",
       "      <th>2422</th>\n",
       "      <td>책임운영기관 평가 “적정성 결여</td>\n",
       "      <td>http://www.bosa.co.kr/news/articleView.html?id...</td>\n",
       "      <td>2001.04.16 15:27</td>\n",
       "      <td>기타기관</td>\n",
       "    </tr>\n",
       "    <tr>\n",
       "      <th>2423</th>\n",
       "      <td>먹지도 굶지도 못하는 희귀질환 발견</td>\n",
       "      <td>http://www.bosa.co.kr/news/articleView.html?id...</td>\n",
       "      <td>2001.04.11 15:07</td>\n",
       "      <td>학회/학술</td>\n",
       "    </tr>\n",
       "    <tr>\n",
       "      <th>2424</th>\n",
       "      <td>희귀의약품센터 공익성 기부금 대상단체 지정</td>\n",
       "      <td>http://www.bosa.co.kr/news/articleView.html?id...</td>\n",
       "      <td>2001.01.16 12:38</td>\n",
       "      <td>개원가</td>\n",
       "    </tr>\n",
       "  </tbody>\n",
       "</table>\n",
       "<p>2425 rows × 4 columns</p>\n",
       "</div>"
      ],
      "text/plain": [
       "                                 news_title  \\\n",
       "0                  한국쿄와기린, 세계 희귀질환의 날 행사 참여   \n",
       "1        광동제약, ‘세계 희귀질환의 날’ 기념 환아 작품 전시회 개최   \n",
       "2          순천향대 부천병원 신영림 교수, ‘질병관리청장 표창’ 수상   \n",
       "3          창립 70주년 한독, ‘THANKS CAMPAIGN’ 실시   \n",
       "4     [세계 희귀질환의 날] 국가‧사회‧이웃‧의료진‧가족 함께 가야 한다   \n",
       "...                                     ...   \n",
       "2420                     26일 `희귀질환 치료' 심포지엄   \n",
       "2421                  `희귀^난치성질환자 연합회' 구성 추진   \n",
       "2422                      책임운영기관 평가 “적정성 결여   \n",
       "2423                    먹지도 굶지도 못하는 희귀질환 발견   \n",
       "2424                희귀의약품센터 공익성 기부금 대상단체 지정   \n",
       "\n",
       "                                               news_url         news_when  \\\n",
       "0     http://www.bosa.co.kr/news/articleView.html?id...       02.29 11:57   \n",
       "1     http://www.bosa.co.kr/news/articleView.html?id...       02.29 10:52   \n",
       "2     http://www.bosa.co.kr/news/articleView.html?id...       02.29 10:29   \n",
       "3     http://www.bosa.co.kr/news/articleView.html?id...       02.29 10:07   \n",
       "4     http://www.bosa.co.kr/news/articleView.html?id...       02.29 05:50   \n",
       "...                                                 ...               ...   \n",
       "2420  http://www.bosa.co.kr/news/articleView.html?id...  2001.05.22 19:35   \n",
       "2421  http://www.bosa.co.kr/news/articleView.html?id...  2001.05.10 10:20   \n",
       "2422  http://www.bosa.co.kr/news/articleView.html?id...  2001.04.16 15:27   \n",
       "2423  http://www.bosa.co.kr/news/articleView.html?id...  2001.04.11 15:07   \n",
       "2424  http://www.bosa.co.kr/news/articleView.html?id...  2001.01.16 12:38   \n",
       "\n",
       "      news_topic  \n",
       "0     다국적제약/의료기기  \n",
       "1           제약산업  \n",
       "2             동정  \n",
       "3           제약산업  \n",
       "4          학회/학술  \n",
       "...          ...  \n",
       "2420       학회/학술  \n",
       "2421        제약산업  \n",
       "2422        기타기관  \n",
       "2423       학회/학술  \n",
       "2424         개원가  \n",
       "\n",
       "[2425 rows x 4 columns]"
      ]
     },
     "execution_count": 29,
     "metadata": {},
     "output_type": "execute_result"
    }
   ],
   "source": [
    "df_bosa_test1"
   ]
  },
  {
   "cell_type": "code",
   "execution_count": 30,
   "id": "c6d4c54f-1527-4dd5-beb1-8850f58508a7",
   "metadata": {
    "scrolled": true
   },
   "outputs": [],
   "source": [
    "df_bosa_test1['topic_num'] = df_topics_score['topic_num']"
   ]
  },
  {
   "cell_type": "code",
   "execution_count": 31,
   "id": "eb0e6f7c-7551-4b7f-98fc-6234cccd5211",
   "metadata": {},
   "outputs": [
    {
     "name": "stdout",
     "output_type": "stream",
     "text": [
      "의료 제약 지원 교수 보건\n",
      "개발 신약 의약품 제휴 인수\n",
      "개최 승인 심포지엄 세계 시장\n"
     ]
    },
    {
     "data": {
      "text/plain": [
       "[['의료 제약 지원 교수 보건', '개발 신약 의약품 제휴 인수', '개최 승인 심포지엄 세계 시장'],\n",
       " ['Topic1', 'Topic2', 'Topic3']]"
      ]
     },
     "execution_count": 31,
     "metadata": {},
     "output_type": "execute_result"
    }
   ],
   "source": [
    "# 그럼 이제 각각의 news가 어떤 topic으로 분류되는지는 알았는데\n",
    "# 각 토픽이 어떤 단어를 가지고 있는지 알기 위해서는 상위 단어 추출이 필요함\n",
    "\n",
    "# 상위 단어 추출\n",
    "\n",
    "topics_list = []\n",
    "for topic in components.components_ : # 토픽별로 단어의 확률 분포 나타낸 것\n",
    "    df_datas = [topic, dictionary_list] # dictionary_list는 단어 나열\n",
    "    df_topics = pd.DataFrame(data=df_datas).T\n",
    "    df_topics = df_topics.sort_values(0, ascending=False)\n",
    "    topics_text = ' '.join(df_topics[1].values[:5]) # 상위 4개를 시리즈 형식으로 출력하기\n",
    "    print(topics_text) \n",
    "    topics_list.append(topics_text)\n",
    "\n",
    "topics_list_table = [topics_list, ['Topic1', 'Topic2', 'Topic3']]\n",
    "topics_list_table"
   ]
  },
  {
   "cell_type": "code",
   "execution_count": 32,
   "id": "07532327-2a0b-422e-bd25-731574d56816",
   "metadata": {},
   "outputs": [
    {
     "data": {
      "text/html": [
       "<div>\n",
       "<style scoped>\n",
       "    .dataframe tbody tr th:only-of-type {\n",
       "        vertical-align: middle;\n",
       "    }\n",
       "\n",
       "    .dataframe tbody tr th {\n",
       "        vertical-align: top;\n",
       "    }\n",
       "\n",
       "    .dataframe thead th {\n",
       "        text-align: right;\n",
       "    }\n",
       "</style>\n",
       "<table border=\"1\" class=\"dataframe\">\n",
       "  <thead>\n",
       "    <tr style=\"text-align: right;\">\n",
       "      <th></th>\n",
       "      <th>0</th>\n",
       "      <th>1</th>\n",
       "      <th>2</th>\n",
       "    </tr>\n",
       "  </thead>\n",
       "  <tbody>\n",
       "    <tr>\n",
       "      <th>0</th>\n",
       "      <td>의료 제약 지원 교수 보건</td>\n",
       "      <td>개발 신약 의약품 제휴 인수</td>\n",
       "      <td>개최 승인 심포지엄 세계 시장</td>\n",
       "    </tr>\n",
       "    <tr>\n",
       "      <th>1</th>\n",
       "      <td>Topic1</td>\n",
       "      <td>Topic2</td>\n",
       "      <td>Topic3</td>\n",
       "    </tr>\n",
       "  </tbody>\n",
       "</table>\n",
       "</div>"
      ],
      "text/plain": [
       "                0                1                 2\n",
       "0  의료 제약 지원 교수 보건  개발 신약 의약품 제휴 인수  개최 승인 심포지엄 세계 시장\n",
       "1          Topic1           Topic2            Topic3"
      ]
     },
     "execution_count": 32,
     "metadata": {},
     "output_type": "execute_result"
    }
   ],
   "source": [
    "topics_list_table = pd.DataFrame(topics_list_table)\n",
    "topics_list_table"
   ]
  },
  {
   "cell_type": "code",
   "execution_count": 33,
   "id": "ba75bcd8-fce8-4974-ac1b-525bf9d6f038",
   "metadata": {},
   "outputs": [
    {
     "data": {
      "text/html": [
       "<div>\n",
       "<style scoped>\n",
       "    .dataframe tbody tr th:only-of-type {\n",
       "        vertical-align: middle;\n",
       "    }\n",
       "\n",
       "    .dataframe tbody tr th {\n",
       "        vertical-align: top;\n",
       "    }\n",
       "\n",
       "    .dataframe thead th {\n",
       "        text-align: right;\n",
       "    }\n",
       "</style>\n",
       "<table border=\"1\" class=\"dataframe\">\n",
       "  <thead>\n",
       "    <tr style=\"text-align: right;\">\n",
       "      <th></th>\n",
       "      <th>news_title</th>\n",
       "    </tr>\n",
       "    <tr>\n",
       "      <th>topic_num</th>\n",
       "      <th></th>\n",
       "    </tr>\n",
       "  </thead>\n",
       "  <tbody>\n",
       "    <tr>\n",
       "      <th>0</th>\n",
       "      <td>808</td>\n",
       "    </tr>\n",
       "    <tr>\n",
       "      <th>1</th>\n",
       "      <td>875</td>\n",
       "    </tr>\n",
       "    <tr>\n",
       "      <th>2</th>\n",
       "      <td>742</td>\n",
       "    </tr>\n",
       "  </tbody>\n",
       "</table>\n",
       "</div>"
      ],
      "text/plain": [
       "           news_title\n",
       "topic_num            \n",
       "0                 808\n",
       "1                 875\n",
       "2                 742"
      ]
     },
     "execution_count": 33,
     "metadata": {},
     "output_type": "execute_result"
    }
   ],
   "source": [
    "pivot_table_title = pd.pivot_table(data=df_bosa_test1,\n",
    "                                   values='news_title'\n",
    "                                   ,index='topic_num'\n",
    "                                   , aggfunc='count')\n",
    "pivot_table_title"
   ]
  },
  {
   "cell_type": "markdown",
   "id": "8493a508-d6e0-4b51-b0b8-592be429304e",
   "metadata": {},
   "source": [
    "### 시각화"
   ]
  },
  {
   "cell_type": "code",
   "execution_count": 34,
   "id": "62da735d-cfa3-4747-b8b4-e0342528ae58",
   "metadata": {},
   "outputs": [],
   "source": [
    "vis = pyLDAvis.lda_model.prepare(components, features, tfidfvectorizer)\n",
    "# 토픽모델, 교육이 끝난 값(행렬형태), 교육모델"
   ]
  },
  {
   "cell_type": "code",
   "execution_count": 35,
   "id": "73dedab4-5d0d-4801-9dee-53d838607202",
   "metadata": {},
   "outputs": [
    {
     "data": {
      "text/html": [
       "\n",
       "<link rel=\"stylesheet\" type=\"text/css\" href=\"https://cdn.jsdelivr.net/gh/bmabey/pyLDAvis@3.4.0/pyLDAvis/js/ldavis.v1.0.0.css\">\n",
       "\n",
       "\n",
       "<div id=\"ldavis_el211398696617886723713134601\" style=\"background-color:white;\"></div>\n",
       "<script type=\"text/javascript\">\n",
       "\n",
       "var ldavis_el211398696617886723713134601_data = {\"mdsDat\": {\"x\": [-0.1903183729656764, 0.13620555059972253, 0.05411282236595393], \"y\": [-0.04553370212711368, -0.13557665189432175, 0.18111035402143547], \"topics\": [1, 2, 3], \"cluster\": [1, 1, 1], \"Freq\": [34.97763693541624, 32.64823407044645, 32.37412899413732]}, \"tinfo\": {\"Term\": [\"\\uac1c\\ubc1c\", \"\\uc2b9\\uc778\", \"\\uc2e0\\uc57d\", \"\\uac1c\\ucd5c\", \"\\uc81c\\ud734\", \"\\uc778\\uc218\", \"\\uad50\\uc218\", \"\\uc138\\uacc4\", \"\\uc2dc\\uc7a5\", \"\\uc2ec\\ud3ec\\uc9c0\\uc5c4\", \"\\ubcf4\\uac74\", \"\\uc758\\uc57d\\ud488\", \"\\uae30\\uc220\", \"\\uc9c4\\ub8cc\", \"\\uac80\\uc0ac\", \"\\uc2e0\\uccad\", \"\\uc57d\\ud488\", \"\\uc218\\uc0c1\", \"\\ubcf4\\ud5d8\", \"\\uc57d\\uc0ac\", \"\\uc9c4\\ub2e8\", \"\\uc758\\ub8cc\", \"\\uc13c\\ud130\", \"\\ub09c\\uce58\", \"\\uc7ac\\ub2e8\", \"\\ubcf5\\uc9c0\\ubd80\", \"\\ucf54\\ub9ac\\uc544\", \"\\uad6d\\uac00\", \"\\ubc14\\uc774\\uc624\", \"\\uac15\\ud654\", \"\\uac1c\\ubc1c\", \"\\uc81c\\ud734\", \"\\uc778\\uc218\", \"\\uae30\\uc220\", \"\\uc57d\\ud488\", \"\\uc2e0\\uccad\", \"\\uac70\\uc810\", \"\\uacf5\\ub3d9\", \"\\uad6d\\uac00\", \"\\ucd94\\uac00\", \"\\uacc4\\uc57d\", \"\\ud2b9\\uc9d1\", \"\\uc124\\ub9bd\", \"\\uc804\\ub9dd\", \"\\ud0c0\\uae43\", \"\\uc81c\\ud55c\", \"\\uad6c\\ucd95\", \"\\ucc3d\\uac04\", \"\\uc608\\uc0b0\", \"\\ud655\\uc778\", \"\\uc12c\\uc720\", \"\\uba74\\uc5ed\", \"\\ub300\\uc6c5\\uc81c\\uc57d\", \"\\ud68d\\ub4dd\", \"\\ucd5c\\uace0\", \"\\ube45\\ub370\\uc774\\ud130\", \"\\ubc31\\ud608\\ubcd1\", \"\\ubc1c\\uad74\", \"\\uc9c4\\ucd9c\", \"\\uc81c\\ud488\", \"\\ub3c4\\uc785\", \"\\uc2e0\\uc57d\", \"\\uc57d\\uc0ac\", \"\\ubbf8\\uad6d\", \"\\uc131\\uc7a5\", \"\\uc758\\uc57d\\ud488\", \"\\uc13c\\ud130\", \"\\ud22c\\uc790\", \"\\ud5c8\\uac00\", \"\\ud601\\uc2e0\", \"\\ubc14\\uc774\\uc624\", \"\\uc8fc\\ubaa9\", \"\\uc720\\ub9dd\", \"\\uccb4\\uacb0\", \"\\uc5f0\\uad6c\", \"\\uc720\\uc804\\uc790\", \"\\uc815\\ubd80\", \"\\ud3c9\\uac00\", \"\\uc758\\ub8cc\", \"\\uad50\\uc218\", \"\\ubcf4\\uac74\", \"\\uc218\\uc0c1\", \"\\uc7ac\\ub2e8\", \"\\ud608\\uc6b0\\ubcd1\", \"\\uc815\\ucc45\", \"\\ubd80\\uc0b0\", \"\\uac74\\uac15\", \"\\uc0b0\\uc5c5\", \"\\uc2e0\\uaddc\", \"\\ubcf4\\ud5d8\", \"\\ub0b4\\ub144\", \"\\ubcf5\\uc9c0\\ubd80\", \"\\uc758\\ud559\", \"\\ud608\\uad00\", \"\\ub9e4\\ucd9c\", \"\\uc7a5\\uad00\", \"\\uc0ac\\ud68c\", \"\\uc644\\uce58\", \"\\uae30\\ub300\", \"\\uc5f0\\uad6c\\uc6d0\", \"\\uc704\\ud5d8\", \"\\ubcf5\\uc9c0\", \"\\ud45c\\ucc3d\", \"\\uc815\\ubcf4\", \"\\ub9de\\ucda4\", \"\\uc11c\\uc6b8\", \"\\uc758\\ub300\", \"\\ubaa8\\uc57c\", \"\\ub300\\uad6c\", \"\\ubc31\\uc2e0\", \"\\uc758\\ub8cc\", \"\\uc801\\uc6a9\", \"\\uc9c0\\uc6d0\", \"\\uc0ac\\uc5c5\", \"\\uc81c\\uc57d\", \"\\ud559\\ud68c\", \"\\ucea0\\ud398\\uc778\", \"\\ucd94\\uc9c4\", \"\\ud655\\ub300\", \"\\uc758\\uc57d\\ud488\", \"\\ub300\\uc0c1\", \"\\ucd9c\\uc2dc\", \"\\uc5f0\\uad6c\", \"\\uc720\\uc804\", \"\\uc2b9\\uc778\", \"\\uc9c4\\ub8cc\", \"\\uac80\\uc0ac\", \"\\uc138\\uacc4\", \"\\ub09c\\uce58\", \"\\ucf54\\ub9ac\\uc544\", \"\\ud544\\uc694\", \"\\uc720\\uc804\\uc0c1\\ub2f4\", \"\\uc2dc\\uc7a5\", \"\\uace0\\uc154\\ubcd1\", \"\\ud76c\\ub9dd\", \"\\uc0c1\\ubc18\\uae30\", \"\\uc138\\ubbf8\\ub098\", \"\\ud76c\\uadc0\\ub09c\\uce58\\uc131\\uc9c8\\ud658\", \"\\uc5f0\\uad6c\\uc18c\", \"\\ub2e4\\ubc1c\", \"\\ud2b9\\ub840\", \"\\uae30\\ub150\", \"\\uc131\\uacf5\", \"\\uc2dd\\uc57d\\ucc98\", \"\\ud611\\ub825\", \"\\uc0b0\\uc815\", \"\\ubcf4\\uc7a5\", \"\\ube44\\ub300\", \"\\uc904\\uae30\\uc138\\ud3ec\", \"\\ud589\\uc0ac\", \"\\uc2ec\\ud3ec\\uc9c0\\uc5c4\", \"\\uc57d\\uc81c\", \"\\ucd5c\\ucd08\", \"\\ubd80\\ub2f4\", \"\\uac1c\\ucd5c\", \"\\uac15\\ud654\", \"\\uc9c4\\ub2e8\", \"\\uc120\\uc815\", \"\\ud6a8\\uacfc\", \"\\uae30\\uad00\", \"\\uc81c\\uc57d\", \"\\uc720\\uc804\\uc790\", \"\\ud655\\ub300\", \"\\ubc14\\uc774\\uc624\", \"\\uae00\\ub85c\\ubc8c\"], \"Freq\": [44.0, 24.0, 46.0, 28.0, 23.0, 19.0, 17.0, 18.0, 18.0, 19.0, 16.0, 46.0, 17.0, 15.0, 14.0, 15.0, 14.0, 12.0, 13.0, 19.0, 18.0, 44.0, 22.0, 11.0, 11.0, 11.0, 10.0, 12.0, 26.0, 12.0, 43.83576158414167, 22.96296096216007, 18.99600299337023, 16.392037051221546, 14.175483902103313, 14.660017239980386, 9.583748433946585, 9.398915741555314, 11.478335451249023, 9.267948736216598, 7.945997030082124, 7.029372515118311, 7.3503882238023825, 6.669454691189643, 6.291643972640612, 6.171682914620051, 9.557341189708765, 5.613025317772906, 5.78314144595782, 5.590040471450917, 5.323954975051196, 6.832354414371608, 5.204221736458982, 5.83383001689716, 5.4186964373824384, 5.511083112874368, 5.6277365470581575, 5.1023529249076285, 5.990275858411008, 5.36560195299498, 10.579511075130654, 37.97509666033686, 16.17308935725343, 6.287066510750932, 10.329633908187544, 33.69206386308951, 17.20790452433528, 14.685445979585603, 14.055933514085037, 13.398532792294674, 17.54029041591338, 8.362307104902527, 8.463521820290886, 8.601895703868939, 10.997516037879969, 11.088925866445397, 8.923516245934197, 8.365922708005314, 10.126686541651006, 17.053572837249696, 15.854686856468673, 11.630208482750863, 10.728126514954859, 9.677783908281137, 9.598703142968152, 8.83057559571892, 9.220320278341399, 8.249098785845037, 8.538656175871381, 12.156762591317095, 7.89336193940377, 11.076448632992975, 7.162569569360305, 6.794315360892371, 7.202533814932682, 6.642370427145343, 9.779656268517456, 6.045187475961518, 6.403825298182269, 5.906801074914475, 6.343850355009592, 5.73247314173504, 5.547797379710335, 5.814613984989328, 5.606483027244999, 5.60778504876219, 6.3953159707224065, 5.266266677656378, 5.606841316122085, 6.178601905694168, 29.0458103010749, 9.66082033933618, 19.250445891023542, 14.640862440875159, 22.802685255417487, 7.1841970316970105, 7.703156493693953, 8.291351647386392, 10.011228461533387, 10.580723642515492, 7.328339689741614, 7.092375998151492, 7.925765721330277, 7.553678141734152, 24.112023293499693, 14.742543224374453, 13.667795592893311, 17.24209520918392, 10.652725526967538, 10.121288403804792, 9.402575081508488, 9.0770070994561, 17.188054181735424, 8.144843975996968, 9.265690386059182, 8.217987525582123, 7.819770402043069, 7.841857686133424, 7.88165466470733, 7.879572783741712, 7.531512899129948, 7.4039045188144925, 7.970637174075987, 7.573262939219083, 8.707591462964816, 7.042138234921306, 7.258178467663987, 7.0000498642448425, 7.611839201321047, 6.581311978749083, 17.68532375479368, 6.391169082768739, 6.597758906019155, 6.206973862961677, 26.092413247036767, 11.32813366687193, 15.005249874148971, 10.74531588834102, 8.110260142483572, 9.239635224994112, 14.244876875611132, 9.387575768454273, 9.584594128642996, 8.712341957034463, 7.937969147107744], \"Total\": [44.0, 24.0, 46.0, 28.0, 23.0, 19.0, 17.0, 18.0, 18.0, 19.0, 16.0, 46.0, 17.0, 15.0, 14.0, 15.0, 14.0, 12.0, 13.0, 19.0, 18.0, 44.0, 22.0, 11.0, 11.0, 11.0, 10.0, 12.0, 26.0, 12.0, 44.53642812055824, 23.533213113946914, 19.556809482254334, 17.010738004656726, 14.753232374559486, 15.265754858470464, 10.177057060769148, 9.999554891627586, 12.268557188024808, 9.916592416571502, 8.523876188515427, 7.604259541114348, 7.952783580399645, 7.239270202202205, 6.855703121532844, 6.758178028849338, 10.513557716529176, 6.188038002228131, 6.383588586710061, 6.173064255245475, 5.886182888022638, 7.572160331718115, 5.7746519294353105, 6.4770171534673695, 6.022193828307374, 6.125166371522683, 6.257359640011415, 5.675163373844162, 6.663669940729179, 5.970520748454204, 11.890706891816652, 46.12570134007861, 19.03337435969134, 7.059823042338055, 12.219863799350787, 46.97382376521847, 22.587990700735173, 18.987565190002687, 18.538874901339458, 18.114250050019955, 26.852122127949748, 10.497772007429711, 11.306690372746438, 12.241034096567002, 20.148109929628713, 20.780126999873136, 13.709763036655213, 14.198904404723184, 44.75358267429128, 17.621882821497763, 16.420236954532598, 12.179987770030431, 11.329700516798056, 10.253289539659693, 10.181709329381597, 9.387178543190666, 9.812055894479522, 8.823552280971711, 9.139642541092616, 13.020704104303016, 8.468958684681725, 11.929063460938119, 7.73704307480768, 7.352451600396483, 7.816279534721437, 7.212774286243577, 10.626107034176703, 6.5978286116173, 7.008266116094143, 6.479439706851757, 6.959959749984487, 6.2917186349564025, 6.097956438575302, 6.396254248357514, 6.1717893008737015, 6.184277671281388, 7.053231923837988, 5.815018017538556, 6.194648412439852, 6.831544593792922, 44.75358267429128, 12.120206773994076, 29.933033688597984, 22.294429316050078, 41.210860727487564, 8.856331848886, 11.917186869629115, 14.92864287713622, 26.043184928614693, 46.97382376521847, 12.375091664226993, 11.290516631961841, 20.148109929628713, 15.733233361987281, 24.70960908419257, 15.320136709372264, 14.23687749136391, 18.102380368413392, 11.225060148230455, 10.7148138303903, 9.988285098322972, 9.646007461482156, 18.316314063884377, 8.699415209647546, 9.909833715150064, 8.797308347419335, 8.378173444499001, 8.40769441365665, 8.452255017015538, 8.46028418402582, 8.089723944580461, 7.969371888475924, 8.586292345832572, 8.167277294756971, 9.39607916946448, 7.60154065164739, 7.845077479169987, 7.573180121557196, 8.240276855641584, 7.144831159425338, 19.259866833272863, 6.964561131199886, 7.1959933343169, 6.783203861869784, 28.819293037799337, 12.987853730996626, 18.166499242493625, 16.038246343065456, 10.164952852517434, 13.22138098856404, 41.210860727487564, 20.780126999873136, 26.043184928614693, 26.852122127949748, 14.13793353096499], \"Category\": [\"Default\", \"Default\", \"Default\", \"Default\", \"Default\", \"Default\", \"Default\", \"Default\", \"Default\", \"Default\", \"Default\", \"Default\", \"Default\", \"Default\", \"Default\", \"Default\", \"Default\", \"Default\", \"Default\", \"Default\", \"Default\", \"Default\", \"Default\", \"Default\", \"Default\", \"Default\", \"Default\", \"Default\", \"Default\", \"Default\", \"Topic1\", \"Topic1\", \"Topic1\", \"Topic1\", \"Topic1\", \"Topic1\", \"Topic1\", \"Topic1\", \"Topic1\", \"Topic1\", \"Topic1\", \"Topic1\", \"Topic1\", \"Topic1\", \"Topic1\", \"Topic1\", \"Topic1\", \"Topic1\", \"Topic1\", \"Topic1\", \"Topic1\", \"Topic1\", \"Topic1\", \"Topic1\", \"Topic1\", \"Topic1\", \"Topic1\", \"Topic1\", \"Topic1\", \"Topic1\", \"Topic1\", \"Topic1\", \"Topic1\", \"Topic1\", \"Topic1\", \"Topic1\", \"Topic1\", \"Topic1\", \"Topic1\", \"Topic1\", \"Topic1\", \"Topic1\", \"Topic1\", \"Topic1\", \"Topic1\", \"Topic1\", \"Topic1\", \"Topic1\", \"Topic1\", \"Topic2\", \"Topic2\", \"Topic2\", \"Topic2\", \"Topic2\", \"Topic2\", \"Topic2\", \"Topic2\", \"Topic2\", \"Topic2\", \"Topic2\", \"Topic2\", \"Topic2\", \"Topic2\", \"Topic2\", \"Topic2\", \"Topic2\", \"Topic2\", \"Topic2\", \"Topic2\", \"Topic2\", \"Topic2\", \"Topic2\", \"Topic2\", \"Topic2\", \"Topic2\", \"Topic2\", \"Topic2\", \"Topic2\", \"Topic2\", \"Topic2\", \"Topic2\", \"Topic2\", \"Topic2\", \"Topic2\", \"Topic2\", \"Topic2\", \"Topic2\", \"Topic2\", \"Topic2\", \"Topic2\", \"Topic2\", \"Topic2\", \"Topic2\", \"Topic2\", \"Topic3\", \"Topic3\", \"Topic3\", \"Topic3\", \"Topic3\", \"Topic3\", \"Topic3\", \"Topic3\", \"Topic3\", \"Topic3\", \"Topic3\", \"Topic3\", \"Topic3\", \"Topic3\", \"Topic3\", \"Topic3\", \"Topic3\", \"Topic3\", \"Topic3\", \"Topic3\", \"Topic3\", \"Topic3\", \"Topic3\", \"Topic3\", \"Topic3\", \"Topic3\", \"Topic3\", \"Topic3\", \"Topic3\", \"Topic3\", \"Topic3\", \"Topic3\", \"Topic3\", \"Topic3\", \"Topic3\", \"Topic3\", \"Topic3\", \"Topic3\", \"Topic3\", \"Topic3\", \"Topic3\"], \"logprob\": [30.0, 29.0, 28.0, 27.0, 26.0, 25.0, 24.0, 23.0, 22.0, 21.0, 20.0, 19.0, 18.0, 17.0, 16.0, 15.0, 14.0, 13.0, 12.0, 11.0, 10.0, 9.0, 8.0, 7.0, 6.0, 5.0, 4.0, 3.0, 2.0, 1.0, -3.5961, -4.2426, -4.4323, -4.5797, -4.725, -4.6914, -5.1165, -5.1359, -4.9361, -5.15, -5.3039, -5.4264, -5.3818, -5.479, -5.5373, -5.5566, -5.1192, -5.6514, -5.6216, -5.6555, -5.7043, -5.4549, -5.7271, -5.6129, -5.6867, -5.6698, -5.6488, -5.7468, -5.5864, -5.6965, -5.0176, -3.7396, -4.5932, -5.538, -5.0415, -3.8593, -4.5312, -4.6897, -4.7335, -4.7814, -4.512, -5.2528, -5.2408, -5.2245, -4.9789, -4.9706, -5.1878, -5.2524, -5.0614, -4.4713, -4.5441, -4.854, -4.9347, -5.0378, -5.046, -5.1294, -5.0862, -5.1975, -5.163, -4.8097, -5.2416, -4.9028, -5.3387, -5.3915, -5.3332, -5.4141, -5.0273, -5.5083, -5.4507, -5.5315, -5.4601, -5.5615, -5.5942, -5.5472, -5.5837, -5.5835, -5.452, -5.6463, -5.5836, -5.4865, -3.9387, -5.0395, -4.3501, -4.6238, -4.1807, -5.3357, -5.266, -5.1924, -5.0039, -4.9486, -5.3159, -5.3486, -5.2375, -5.2856, -4.1165, -4.6084, -4.6841, -4.4518, -4.9334, -4.9845, -5.0582, -5.0934, -4.455, -5.2018, -5.0729, -5.1929, -5.2425, -5.2397, -5.2346, -5.2349, -5.2801, -5.2972, -5.2234, -5.2746, -5.135, -5.3473, -5.3171, -5.3533, -5.2695, -5.4149, -4.4264, -5.4443, -5.4125, -5.4735, -4.0375, -4.8719, -4.5908, -4.9247, -5.2061, -5.0757, -4.6428, -5.0598, -5.039, -5.1344, -5.2275], \"loglift\": [30.0, 29.0, 28.0, 27.0, 26.0, 25.0, 24.0, 23.0, 22.0, 21.0, 20.0, 19.0, 18.0, 17.0, 16.0, 15.0, 14.0, 13.0, 12.0, 11.0, 10.0, 9.0, 8.0, 7.0, 6.0, 5.0, 4.0, 3.0, 2.0, 1.0, 1.0346, 1.0259, 1.0214, 1.0134, 1.0105, 1.01, 0.9904, 0.9885, 0.9839, 0.9828, 0.9803, 0.9719, 0.9717, 0.9685, 0.9646, 0.9597, 0.9551, 0.9529, 0.9517, 0.9513, 0.9501, 0.9477, 0.9465, 0.9459, 0.9449, 0.9448, 0.9444, 0.9441, 0.9439, 0.9436, 0.9336, 0.856, 0.8876, 0.9345, 0.8824, 0.7181, 0.7784, 0.7935, 0.7736, 0.7489, 0.6246, 0.823, 0.7608, 0.6977, 0.445, 0.4224, 0.621, 0.5215, -0.4355, 1.0866, 1.0843, 1.0732, 1.0648, 1.0616, 1.0604, 1.0583, 1.0572, 1.0521, 1.0514, 1.0507, 1.049, 1.0452, 1.0422, 1.0404, 1.0376, 1.037, 1.0364, 1.0319, 1.0292, 1.0268, 1.0267, 1.0263, 1.0248, 1.024, 1.0233, 1.0215, 1.0215, 1.0203, 1.0197, 1.0189, 0.6871, 0.8926, 0.678, 0.6989, 0.5276, 0.9101, 0.683, 0.5313, 0.1633, -0.3712, 0.5954, 0.6544, 0.1864, 0.3856, 1.1033, 1.0894, 1.087, 1.0791, 1.0755, 1.0708, 1.0674, 1.067, 1.0642, 1.0619, 1.0606, 1.0597, 1.0588, 1.0581, 1.0579, 1.0567, 1.0563, 1.0542, 1.0534, 1.0523, 1.0517, 1.0514, 1.0501, 1.0491, 1.0485, 1.0457, 1.0425, 1.0419, 1.041, 1.039, 1.0284, 0.9911, 0.9366, 0.7273, 0.902, 0.7695, 0.0655, 0.3332, 0.1282, 0.0022, 0.5506]}, \"token.table\": {\"Topic\": [1, 3, 1, 2, 3, 1, 2, 3, 1, 3, 1, 2, 1, 3, 1, 1, 3, 2, 3, 3, 2, 1, 3, 2, 3, 2, 2, 3, 1, 1, 2, 2, 2, 1, 2, 1, 1, 2, 3, 1, 2, 1, 2, 3, 1, 2, 2, 2, 3, 3, 2, 3, 1, 1, 2, 3, 2, 3, 2, 3, 3, 2, 1, 2, 3, 1, 1, 3, 1, 2, 1, 3, 3, 1, 2, 2, 3, 2, 3, 3, 2, 1, 2, 3, 1, 2, 3, 1, 2, 3, 1, 1, 2, 3, 3, 2, 1, 2, 2, 1, 2, 3, 1, 2, 3, 3, 1, 3, 2, 1, 2, 3, 1, 2, 3, 2, 1, 2, 2, 1, 2, 3, 1, 2, 1, 2, 3, 2, 1, 2, 3, 1, 1, 1, 1, 3, 3, 1, 2, 3, 1, 2, 3, 3, 1, 1, 1, 2, 3, 1, 3, 1, 1, 2, 3, 2, 3, 1, 2, 3, 1, 1, 3, 3, 1, 1, 3, 2, 3, 1, 2, 3, 1, 3, 1, 3, 2, 2, 3, 1, 2, 3, 1, 1, 1, 3, 3, 3], \"Freq\": [0.07699501555160067, 0.8469451710676074, 0.9879552954020885, 0.06939795495249669, 0.902173414382457, 0.9826023319205242, 0.9172389656956191, 0.9833616963054154, 0.938540145711963, 0.919602043034812, 0.9000400615366898, 0.9647096267863557, 0.9511528133124935, 0.09511528133124934, 0.8966009475618673, 0.4243901689634318, 0.5658535586179091, 0.3025402568354878, 0.6807155778798475, 0.8783628243177257, 0.8561318735059577, 0.940582354252941, 0.9799502055883474, 0.9446261692680168, 0.9455947136037227, 0.9685779725530562, 0.5656523757504832, 0.4040374112503452, 0.8658530524607633, 0.9250921833394405, 0.0840992893944946, 0.9721653976668675, 0.8955667423234591, 0.924438957093729, 0.8598425636721336, 0.849879659025127, 0.6703380803286388, 0.03724100446270216, 0.3351690401643194, 0.8810319052741508, 0.8782786846552307, 0.9588708888704781, 0.9744073757463898, 0.8922792692087731, 0.07680076223140077, 0.9216091467768092, 0.9536345072178479, 0.9221176529087677, 0.0838288775371607, 0.8845377674298743, 0.958754535091748, 0.9243144739254744, 0.979565229100615, 0.31397977946717837, 0.6728138131439537, 0.04485425420959691, 0.9410784182614613, 0.09410784182614614, 0.9066643167346864, 0.9208659560983831, 0.9093690574511665, 0.9702022320024313, 0.1247019129909269, 0.2494038259818538, 0.6858605214500979, 0.8801949568013059, 0.8494469327777996, 0.93171763524717, 0.8183397265468112, 0.16366794530936224, 0.05524135387989565, 0.9391030159582261, 0.954862065460425, 0.752612316218401, 0.22135656359364733, 0.985222664141478, 0.9712820594702759, 0.05459613743857852, 0.9281343364558348, 0.9795185973587115, 0.9847212250955362, 0.8238357118915353, 0.021679887155040403, 0.15175921008528281, 0.9825914367855183, 0.051921438951614406, 0.9345859011290593, 0.8406286608792088, 0.15761787391485166, 0.861504391586307, 0.9489445868243517, 0.5459569179649948, 0.39705957670181435, 0.049632447087726794, 0.9464929754124684, 0.9260059930267168, 0.9399101960441733, 0.9093900968320612, 0.8620739509324566, 0.7075456863383418, 0.17688642158458545, 0.08844321079229273, 0.0635597258994504, 0.5084778071956032, 0.44491808129615273, 0.9330285131893424, 0.5293519139737286, 0.43310611143305067, 0.8506738562958134, 0.2234457981337102, 0.6479928145877596, 0.13406747888022613, 0.7238073734413575, 0.2341729737604392, 0.06386535648011978, 0.9047384035888929, 0.9715286134602079, 0.9705003542604422, 0.9708994499625808, 0.16501368642417336, 0.8250684321208668, 0.08250684321208668, 0.966948297892042, 0.9380490154125334, 0.6564664885846007, 0.29176288381537807, 0.07294072095384452, 0.9821533572111282, 0.09706179219236757, 0.5581053051061136, 0.3397162726732865, 0.8374478894985037, 0.88781325001904, 0.9773421032068542, 0.7620664646115448, 0.1905166161528862, 0.9708411671293444, 0.10022372042907073, 0.6347502293841146, 0.2338553476678317, 0.165139136602755, 0.055046378867585, 0.825695683013775, 0.9791035344236572, 0.9004047399357604, 0.9696126620165513, 0.7352320015613755, 0.1633848892358612, 0.1633848892358612, 0.8302622171504106, 0.9727635469890961, 0.9075698205524919, 0.2679413013574162, 0.5358826027148323, 0.20095597601806212, 0.6199893439937016, 0.3542796251392581, 0.3356496834159728, 0.6712993668319456, 0.9332873308201696, 0.8751837548441683, 0.7899907044373327, 0.2106641878499554, 0.9889088990928337, 0.9205367021144838, 0.5634237524226761, 0.4225678143170071, 0.9839361859071941, 0.9010555777498878, 0.11291356478763673, 0.7903949535134571, 0.9797292397547731, 0.7551698835288263, 0.21576282386537896, 0.7176670281188748, 0.22082062403657687, 0.9520633906141623, 0.9752967534292316, 0.9578463354425892, 0.23038656817306394, 0.38397761362177324, 0.38397761362177324, 0.9719646114005025, 0.926352340565903, 0.19675447874848565, 0.7870179149939426, 0.951509368252677, 0.9081888010129656], \"Term\": [\"\\uac15\\ud654\", \"\\uac15\\ud654\", \"\\uac1c\\ubc1c\", \"\\uac1c\\ucd5c\", \"\\uac1c\\ucd5c\", \"\\uac70\\uc810\", \"\\uac74\\uac15\", \"\\uac80\\uc0ac\", \"\\uacc4\\uc57d\", \"\\uace0\\uc154\\ubcd1\", \"\\uacf5\\ub3d9\", \"\\uad50\\uc218\", \"\\uad6c\\ucd95\", \"\\uad6c\\ucd95\", \"\\uad6d\\uac00\", \"\\uae00\\ub85c\\ubc8c\", \"\\uae00\\ub85c\\ubc8c\", \"\\uae30\\uad00\", \"\\uae30\\uad00\", \"\\uae30\\ub150\", \"\\uae30\\ub300\", \"\\uae30\\uc220\", \"\\ub09c\\uce58\", \"\\ub0b4\\ub144\", \"\\ub2e4\\ubc1c\", \"\\ub300\\uad6c\", \"\\ub300\\uc0c1\", \"\\ub300\\uc0c1\", \"\\ub300\\uc6c5\\uc81c\\uc57d\", \"\\ub3c4\\uc785\", \"\\ub3c4\\uc785\", \"\\ub9de\\ucda4\", \"\\ub9e4\\ucd9c\", \"\\uba74\\uc5ed\", \"\\ubaa8\\uc57c\", \"\\ubbf8\\uad6d\", \"\\ubc14\\uc774\\uc624\", \"\\ubc14\\uc774\\uc624\", \"\\ubc14\\uc774\\uc624\", \"\\ubc1c\\uad74\", \"\\ubc31\\uc2e0\", \"\\ubc31\\ud608\\ubcd1\", \"\\ubcf4\\uac74\", \"\\ubcf4\\uc7a5\", \"\\ubcf4\\ud5d8\", \"\\ubcf4\\ud5d8\", \"\\ubcf5\\uc9c0\", \"\\ubcf5\\uc9c0\\ubd80\", \"\\ubcf5\\uc9c0\\ubd80\", \"\\ubd80\\ub2f4\", \"\\ubd80\\uc0b0\", \"\\ube44\\ub300\", \"\\ube45\\ub370\\uc774\\ud130\", \"\\uc0ac\\uc5c5\", \"\\uc0ac\\uc5c5\", \"\\uc0ac\\uc5c5\", \"\\uc0ac\\ud68c\", \"\\uc0ac\\ud68c\", \"\\uc0b0\\uc5c5\", \"\\uc0b0\\uc815\", \"\\uc0c1\\ubc18\\uae30\", \"\\uc11c\\uc6b8\", \"\\uc120\\uc815\", \"\\uc120\\uc815\", \"\\uc120\\uc815\", \"\\uc124\\ub9bd\", \"\\uc12c\\uc720\", \"\\uc131\\uacf5\", \"\\uc131\\uc7a5\", \"\\uc131\\uc7a5\", \"\\uc138\\uacc4\", \"\\uc138\\uacc4\", \"\\uc138\\ubbf8\\ub098\", \"\\uc13c\\ud130\", \"\\uc13c\\ud130\", \"\\uc218\\uc0c1\", \"\\uc2b9\\uc778\", \"\\uc2dc\\uc7a5\", \"\\uc2dc\\uc7a5\", \"\\uc2dd\\uc57d\\ucc98\", \"\\uc2e0\\uaddc\", \"\\uc2e0\\uc57d\", \"\\uc2e0\\uc57d\", \"\\uc2e0\\uc57d\", \"\\uc2e0\\uccad\", \"\\uc2ec\\ud3ec\\uc9c0\\uc5c4\", \"\\uc2ec\\ud3ec\\uc9c0\\uc5c4\", \"\\uc57d\\uc0ac\", \"\\uc57d\\uc0ac\", \"\\uc57d\\uc81c\", \"\\uc57d\\ud488\", \"\\uc5f0\\uad6c\", \"\\uc5f0\\uad6c\", \"\\uc5f0\\uad6c\", \"\\uc5f0\\uad6c\\uc18c\", \"\\uc5f0\\uad6c\\uc6d0\", \"\\uc608\\uc0b0\", \"\\uc644\\uce58\", \"\\uc704\\ud5d8\", \"\\uc720\\ub9dd\", \"\\uc720\\ub9dd\", \"\\uc720\\ub9dd\", \"\\uc720\\uc804\", \"\\uc720\\uc804\", \"\\uc720\\uc804\", \"\\uc720\\uc804\\uc0c1\\ub2f4\", \"\\uc720\\uc804\\uc790\", \"\\uc720\\uc804\\uc790\", \"\\uc758\\ub300\", \"\\uc758\\ub8cc\", \"\\uc758\\ub8cc\", \"\\uc758\\ub8cc\", \"\\uc758\\uc57d\\ud488\", \"\\uc758\\uc57d\\ud488\", \"\\uc758\\uc57d\\ud488\", \"\\uc758\\ud559\", \"\\uc778\\uc218\", \"\\uc7a5\\uad00\", \"\\uc7ac\\ub2e8\", \"\\uc801\\uc6a9\", \"\\uc801\\uc6a9\", \"\\uc801\\uc6a9\", \"\\uc804\\ub9dd\", \"\\uc815\\ubcf4\", \"\\uc815\\ubd80\", \"\\uc815\\ubd80\", \"\\uc815\\ubd80\", \"\\uc815\\ucc45\", \"\\uc81c\\uc57d\", \"\\uc81c\\uc57d\", \"\\uc81c\\uc57d\", \"\\uc81c\\ud488\", \"\\uc81c\\ud55c\", \"\\uc81c\\ud734\", \"\\uc8fc\\ubaa9\", \"\\uc8fc\\ubaa9\", \"\\uc904\\uae30\\uc138\\ud3ec\", \"\\uc9c0\\uc6d0\", \"\\uc9c0\\uc6d0\", \"\\uc9c0\\uc6d0\", \"\\uc9c4\\ub2e8\", \"\\uc9c4\\ub2e8\", \"\\uc9c4\\ub2e8\", \"\\uc9c4\\ub8cc\", \"\\uc9c4\\ucd9c\", \"\\ucc3d\\uac04\", \"\\uccb4\\uacb0\", \"\\uccb4\\uacb0\", \"\\uccb4\\uacb0\", \"\\ucd5c\\uace0\", \"\\ucd5c\\ucd08\", \"\\ucd94\\uac00\", \"\\ucd94\\uc9c4\", \"\\ucd94\\uc9c4\", \"\\ucd94\\uc9c4\", \"\\ucd9c\\uc2dc\", \"\\ucd9c\\uc2dc\", \"\\ucea0\\ud398\\uc778\", \"\\ucea0\\ud398\\uc778\", \"\\ucf54\\ub9ac\\uc544\", \"\\ud0c0\\uae43\", \"\\ud22c\\uc790\", \"\\ud22c\\uc790\", \"\\ud2b9\\ub840\", \"\\ud2b9\\uc9d1\", \"\\ud3c9\\uac00\", \"\\ud3c9\\uac00\", \"\\ud45c\\ucc3d\", \"\\ud544\\uc694\", \"\\ud559\\ud68c\", \"\\ud559\\ud68c\", \"\\ud589\\uc0ac\", \"\\ud5c8\\uac00\", \"\\ud5c8\\uac00\", \"\\ud601\\uc2e0\", \"\\ud601\\uc2e0\", \"\\ud608\\uad00\", \"\\ud608\\uc6b0\\ubcd1\", \"\\ud611\\ub825\", \"\\ud655\\ub300\", \"\\ud655\\ub300\", \"\\ud655\\ub300\", \"\\ud655\\uc778\", \"\\ud68d\\ub4dd\", \"\\ud6a8\\uacfc\", \"\\ud6a8\\uacfc\", \"\\ud76c\\uadc0\\ub09c\\uce58\\uc131\\uc9c8\\ud658\", \"\\ud76c\\ub9dd\"]}, \"R\": 30, \"lambda.step\": 0.01, \"plot.opts\": {\"xlab\": \"PC1\", \"ylab\": \"PC2\"}, \"topic.order\": [2, 1, 3]};\n",
       "\n",
       "function LDAvis_load_lib(url, callback){\n",
       "  var s = document.createElement('script');\n",
       "  s.src = url;\n",
       "  s.async = true;\n",
       "  s.onreadystatechange = s.onload = callback;\n",
       "  s.onerror = function(){console.warn(\"failed to load library \" + url);};\n",
       "  document.getElementsByTagName(\"head\")[0].appendChild(s);\n",
       "}\n",
       "\n",
       "if(typeof(LDAvis) !== \"undefined\"){\n",
       "   // already loaded: just create the visualization\n",
       "   !function(LDAvis){\n",
       "       new LDAvis(\"#\" + \"ldavis_el211398696617886723713134601\", ldavis_el211398696617886723713134601_data);\n",
       "   }(LDAvis);\n",
       "}else if(typeof define === \"function\" && define.amd){\n",
       "   // require.js is available: use it to load d3/LDAvis\n",
       "   require.config({paths: {d3: \"https://d3js.org/d3.v5\"}});\n",
       "   require([\"d3\"], function(d3){\n",
       "      window.d3 = d3;\n",
       "      LDAvis_load_lib(\"https://cdn.jsdelivr.net/gh/bmabey/pyLDAvis@3.4.0/pyLDAvis/js/ldavis.v3.0.0.js\", function(){\n",
       "        new LDAvis(\"#\" + \"ldavis_el211398696617886723713134601\", ldavis_el211398696617886723713134601_data);\n",
       "      });\n",
       "    });\n",
       "}else{\n",
       "    // require.js not available: dynamically load d3 & LDAvis\n",
       "    LDAvis_load_lib(\"https://d3js.org/d3.v5.js\", function(){\n",
       "         LDAvis_load_lib(\"https://cdn.jsdelivr.net/gh/bmabey/pyLDAvis@3.4.0/pyLDAvis/js/ldavis.v3.0.0.js\", function(){\n",
       "                 new LDAvis(\"#\" + \"ldavis_el211398696617886723713134601\", ldavis_el211398696617886723713134601_data);\n",
       "            })\n",
       "         });\n",
       "}\n",
       "</script>"
      ],
      "text/plain": [
       "<IPython.core.display.HTML object>"
      ]
     },
     "execution_count": 35,
     "metadata": {},
     "output_type": "execute_result"
    }
   ],
   "source": [
    "pyLDAvis.enable_notebook()\n",
    "pyLDAvis.display(vis) # PCA - 차원축소 "
   ]
  },
  {
   "cell_type": "code",
   "execution_count": 36,
   "id": "99df8889-960c-49a0-8ac7-26d114c0c7bb",
   "metadata": {},
   "outputs": [
    {
     "data": {
      "text/html": [
       "<div>\n",
       "<style scoped>\n",
       "    .dataframe tbody tr th:only-of-type {\n",
       "        vertical-align: middle;\n",
       "    }\n",
       "\n",
       "    .dataframe tbody tr th {\n",
       "        vertical-align: top;\n",
       "    }\n",
       "\n",
       "    .dataframe thead th {\n",
       "        text-align: right;\n",
       "    }\n",
       "</style>\n",
       "<table border=\"1\" class=\"dataframe\">\n",
       "  <thead>\n",
       "    <tr style=\"text-align: right;\">\n",
       "      <th></th>\n",
       "      <th>news_title</th>\n",
       "      <th>news_url</th>\n",
       "      <th>news_when</th>\n",
       "      <th>news_topic</th>\n",
       "      <th>topic_num</th>\n",
       "      <th>topic_model</th>\n",
       "    </tr>\n",
       "  </thead>\n",
       "  <tbody>\n",
       "    <tr>\n",
       "      <th>45</th>\n",
       "      <td>제1기 권역별 '희귀질환 전문기관' 지정</td>\n",
       "      <td>http://www.bosa.co.kr/news/articleView.html?id...</td>\n",
       "      <td>01.23 12:55</td>\n",
       "      <td>질병청</td>\n",
       "      <td>2</td>\n",
       "      <td>2</td>\n",
       "    </tr>\n",
       "    <tr>\n",
       "      <th>46</th>\n",
       "      <td>삼성바이오에피스, ‘에피스클리’ 국내 품목 허가</td>\n",
       "      <td>http://www.bosa.co.kr/news/articleView.html?id...</td>\n",
       "      <td>01.22 09:58</td>\n",
       "      <td>바이오</td>\n",
       "      <td>1</td>\n",
       "      <td>1</td>\n",
       "    </tr>\n",
       "    <tr>\n",
       "      <th>47</th>\n",
       "      <td>\"환자를 위해 없던 길도 만들어 나간다\"</td>\n",
       "      <td>http://www.bosa.co.kr/news/articleView.html?id...</td>\n",
       "      <td>01.22 06:00</td>\n",
       "      <td>제약산업</td>\n",
       "      <td>0</td>\n",
       "      <td>0</td>\n",
       "    </tr>\n",
       "    <tr>\n",
       "      <th>48</th>\n",
       "      <td>GC녹십자, 산필리포증후군 치료제 유럽 희귀의약품 지정</td>\n",
       "      <td>http://www.bosa.co.kr/news/articleView.html?id...</td>\n",
       "      <td>01.19 10:42</td>\n",
       "      <td>제약산업</td>\n",
       "      <td>1</td>\n",
       "      <td>1</td>\n",
       "    </tr>\n",
       "    <tr>\n",
       "      <th>49</th>\n",
       "      <td>‘급성골수성백혈병’ 새로운 치료 옵션 등장 치료 환경 개선 움직임</td>\n",
       "      <td>http://www.bosa.co.kr/news/articleView.html?id...</td>\n",
       "      <td>01.15 12:00</td>\n",
       "      <td>기획연재</td>\n",
       "      <td>1</td>\n",
       "      <td>1</td>\n",
       "    </tr>\n",
       "    <tr>\n",
       "      <th>50</th>\n",
       "      <td>[2024 다국적제약 우리 부서가 뛴다]사노피 희귀질환 사업부 마케팅팀</td>\n",
       "      <td>http://www.bosa.co.kr/news/articleView.html?id...</td>\n",
       "      <td>01.15 06:00</td>\n",
       "      <td>제약산업</td>\n",
       "      <td>0</td>\n",
       "      <td>0</td>\n",
       "    </tr>\n",
       "  </tbody>\n",
       "</table>\n",
       "</div>"
      ],
      "text/plain": [
       "                                 news_title  \\\n",
       "45                   제1기 권역별 '희귀질환 전문기관' 지정   \n",
       "46               삼성바이오에피스, ‘에피스클리’ 국내 품목 허가   \n",
       "47                   \"환자를 위해 없던 길도 만들어 나간다\"   \n",
       "48           GC녹십자, 산필리포증후군 치료제 유럽 희귀의약품 지정   \n",
       "49     ‘급성골수성백혈병’ 새로운 치료 옵션 등장 치료 환경 개선 움직임   \n",
       "50  [2024 다국적제약 우리 부서가 뛴다]사노피 희귀질환 사업부 마케팅팀   \n",
       "\n",
       "                                             news_url    news_when news_topic  \\\n",
       "45  http://www.bosa.co.kr/news/articleView.html?id...  01.23 12:55        질병청   \n",
       "46  http://www.bosa.co.kr/news/articleView.html?id...  01.22 09:58        바이오   \n",
       "47  http://www.bosa.co.kr/news/articleView.html?id...  01.22 06:00       제약산업   \n",
       "48  http://www.bosa.co.kr/news/articleView.html?id...  01.19 10:42       제약산업   \n",
       "49  http://www.bosa.co.kr/news/articleView.html?id...  01.15 12:00       기획연재   \n",
       "50  http://www.bosa.co.kr/news/articleView.html?id...  01.15 06:00       제약산업   \n",
       "\n",
       "    topic_num  topic_model  \n",
       "45          2            2  \n",
       "46          1            1  \n",
       "47          0            0  \n",
       "48          1            1  \n",
       "49          1            1  \n",
       "50          0            0  "
      ]
     },
     "execution_count": 36,
     "metadata": {},
     "output_type": "execute_result"
    }
   ],
   "source": [
    "df_bosa_test1['topic_model'] = df_topics_score['topic_num']\n",
    "df_bosa_test1[45:51]"
   ]
  },
  {
   "cell_type": "code",
   "execution_count": 37,
   "id": "f877a466-89a1-475b-b97a-eaf0a138e3b9",
   "metadata": {},
   "outputs": [
    {
     "data": {
      "text/plain": [
       "numpy.int64"
      ]
     },
     "execution_count": 37,
     "metadata": {},
     "output_type": "execute_result"
    }
   ],
   "source": [
    "type(df_bosa_test1['topic_model'][0])"
   ]
  },
  {
   "cell_type": "code",
   "execution_count": 38,
   "id": "38854c67-6e1d-47e9-8e39-6d9fee38ebe1",
   "metadata": {},
   "outputs": [],
   "source": [
    "df_bosa_test1['topic_model'] = df_bosa_test1['topic_model'].apply(int)"
   ]
  },
  {
   "cell_type": "code",
   "execution_count": 39,
   "id": "35a724cd-0f16-4edb-9804-7e0a63a2c4dc",
   "metadata": {},
   "outputs": [],
   "source": [
    "# for idx, topic in enumerate(df_bosa_test1['topic_model']) :\n",
    "#     if topic == 0 :\n",
    "#         df_bosa_test1.loc[idx, 'topic_model'] = topics_list_table.loc[0][0]\n",
    "#     elif topic == 1 :\n",
    "#         df_bosa_test1.loc[idx, 'topic_model'] = topics_list_table.loc[0][1]\n",
    "#     elif topic == 2 :\n",
    "#         df_bosa_test1.loc[idx, 'topic_model'] = topics_list_table.loc[0][2]\n",
    "# df_bosa_test1.head()"
   ]
  },
  {
   "cell_type": "code",
   "execution_count": 40,
   "id": "25910dd6-78ee-4099-9e9d-f2cd314d277b",
   "metadata": {},
   "outputs": [
    {
     "name": "stderr",
     "output_type": "stream",
     "text": [
      "/tmp/ipykernel_21/354877451.py:7: FutureWarning: Setting an item of incompatible dtype is deprecated and will raise an error in a future version of pandas. Value '의료/법안' has dtype incompatible with int64, please explicitly cast to a compatible dtype first.\n",
      "  df_bosa_test1.loc[idx, 'topic_model'] = '의료/법안'\n"
     ]
    },
    {
     "data": {
      "text/html": [
       "<div>\n",
       "<style scoped>\n",
       "    .dataframe tbody tr th:only-of-type {\n",
       "        vertical-align: middle;\n",
       "    }\n",
       "\n",
       "    .dataframe tbody tr th {\n",
       "        vertical-align: top;\n",
       "    }\n",
       "\n",
       "    .dataframe thead th {\n",
       "        text-align: right;\n",
       "    }\n",
       "</style>\n",
       "<table border=\"1\" class=\"dataframe\">\n",
       "  <thead>\n",
       "    <tr style=\"text-align: right;\">\n",
       "      <th></th>\n",
       "      <th>news_title</th>\n",
       "      <th>news_url</th>\n",
       "      <th>news_when</th>\n",
       "      <th>news_topic</th>\n",
       "      <th>topic_num</th>\n",
       "      <th>topic_model</th>\n",
       "    </tr>\n",
       "  </thead>\n",
       "  <tbody>\n",
       "    <tr>\n",
       "      <th>0</th>\n",
       "      <td>한국쿄와기린, 세계 희귀질환의 날 행사 참여</td>\n",
       "      <td>http://www.bosa.co.kr/news/articleView.html?id...</td>\n",
       "      <td>02.29 11:57</td>\n",
       "      <td>다국적제약/의료기기</td>\n",
       "      <td>2</td>\n",
       "      <td>의료/법안</td>\n",
       "    </tr>\n",
       "    <tr>\n",
       "      <th>1</th>\n",
       "      <td>광동제약, ‘세계 희귀질환의 날’ 기념 환아 작품 전시회 개최</td>\n",
       "      <td>http://www.bosa.co.kr/news/articleView.html?id...</td>\n",
       "      <td>02.29 10:52</td>\n",
       "      <td>제약산업</td>\n",
       "      <td>2</td>\n",
       "      <td>의료/법안</td>\n",
       "    </tr>\n",
       "    <tr>\n",
       "      <th>2</th>\n",
       "      <td>순천향대 부천병원 신영림 교수, ‘질병관리청장 표창’ 수상</td>\n",
       "      <td>http://www.bosa.co.kr/news/articleView.html?id...</td>\n",
       "      <td>02.29 10:29</td>\n",
       "      <td>동정</td>\n",
       "      <td>0</td>\n",
       "      <td>심포지엄/행사</td>\n",
       "    </tr>\n",
       "    <tr>\n",
       "      <th>3</th>\n",
       "      <td>창립 70주년 한독, ‘THANKS CAMPAIGN’ 실시</td>\n",
       "      <td>http://www.bosa.co.kr/news/articleView.html?id...</td>\n",
       "      <td>02.29 10:07</td>\n",
       "      <td>제약산업</td>\n",
       "      <td>2</td>\n",
       "      <td>의료/법안</td>\n",
       "    </tr>\n",
       "    <tr>\n",
       "      <th>4</th>\n",
       "      <td>[세계 희귀질환의 날] 국가‧사회‧이웃‧의료진‧가족 함께 가야 한다</td>\n",
       "      <td>http://www.bosa.co.kr/news/articleView.html?id...</td>\n",
       "      <td>02.29 05:50</td>\n",
       "      <td>학회/학술</td>\n",
       "      <td>2</td>\n",
       "      <td>의료/법안</td>\n",
       "    </tr>\n",
       "  </tbody>\n",
       "</table>\n",
       "</div>"
      ],
      "text/plain": [
       "                              news_title  \\\n",
       "0               한국쿄와기린, 세계 희귀질환의 날 행사 참여   \n",
       "1     광동제약, ‘세계 희귀질환의 날’ 기념 환아 작품 전시회 개최   \n",
       "2       순천향대 부천병원 신영림 교수, ‘질병관리청장 표창’ 수상   \n",
       "3       창립 70주년 한독, ‘THANKS CAMPAIGN’ 실시   \n",
       "4  [세계 희귀질환의 날] 국가‧사회‧이웃‧의료진‧가족 함께 가야 한다   \n",
       "\n",
       "                                            news_url    news_when  news_topic  \\\n",
       "0  http://www.bosa.co.kr/news/articleView.html?id...  02.29 11:57  다국적제약/의료기기   \n",
       "1  http://www.bosa.co.kr/news/articleView.html?id...  02.29 10:52        제약산업   \n",
       "2  http://www.bosa.co.kr/news/articleView.html?id...  02.29 10:29          동정   \n",
       "3  http://www.bosa.co.kr/news/articleView.html?id...  02.29 10:07        제약산업   \n",
       "4  http://www.bosa.co.kr/news/articleView.html?id...  02.29 05:50       학회/학술   \n",
       "\n",
       "   topic_num topic_model  \n",
       "0          2       의료/법안  \n",
       "1          2       의료/법안  \n",
       "2          0     심포지엄/행사  \n",
       "3          2       의료/법안  \n",
       "4          2       의료/법안  "
      ]
     },
     "execution_count": 40,
     "metadata": {},
     "output_type": "execute_result"
    }
   ],
   "source": [
    "for idx, topic in enumerate(df_bosa_test1['topic_model']) :\n",
    "    if topic == 0 :\n",
    "        df_bosa_test1.loc[idx, 'topic_model'] = '심포지엄/행사'\n",
    "    elif topic == 1 :\n",
    "        df_bosa_test1.loc[idx, 'topic_model'] = '신약/개발'\n",
    "    elif topic == 2 :\n",
    "        df_bosa_test1.loc[idx, 'topic_model'] = '의료/법안'\n",
    "df_bosa_test1.head()"
   ]
  },
  {
   "cell_type": "markdown",
   "id": "27d5a47d-fa82-4aa3-b6fa-edbdec357913",
   "metadata": {},
   "source": [
    "## 2. 머신러닝 학습"
   ]
  },
  {
   "cell_type": "markdown",
   "id": "eb245de2-0305-48bf-81fd-0bdaa019e74f",
   "metadata": {},
   "source": [
    "### 학습"
   ]
  },
  {
   "cell_type": "code",
   "execution_count": 41,
   "id": "5cb12fb4-3c49-47ce-808b-9098587cfb02",
   "metadata": {},
   "outputs": [],
   "source": [
    "features = features\n",
    "target = df_bosa_test1['topic_model']"
   ]
  },
  {
   "cell_type": "code",
   "execution_count": 42,
   "id": "17456795-b779-4935-af89-4a61a579da4c",
   "metadata": {},
   "outputs": [
    {
     "data": {
      "text/plain": [
       "array(['의료/법안', '심포지엄/행사', '신약/개발'], dtype=object)"
      ]
     },
     "execution_count": 42,
     "metadata": {},
     "output_type": "execute_result"
    }
   ],
   "source": [
    "target.unique()"
   ]
  },
  {
   "cell_type": "code",
   "execution_count": 43,
   "id": "baf7551e-1e3a-4c32-956b-4af640de9847",
   "metadata": {},
   "outputs": [
    {
     "data": {
      "text/plain": [
       "2425"
      ]
     },
     "execution_count": 43,
     "metadata": {},
     "output_type": "execute_result"
    }
   ],
   "source": [
    "len(target)"
   ]
  },
  {
   "cell_type": "code",
   "execution_count": 44,
   "id": "5de4b953-eb25-42ff-a374-ec9c2f93c81d",
   "metadata": {},
   "outputs": [
    {
     "data": {
      "text/plain": [
       "((2425, 997), (2425,))"
      ]
     },
     "execution_count": 44,
     "metadata": {},
     "output_type": "execute_result"
    }
   ],
   "source": [
    "features.shape, target.shape"
   ]
  },
  {
   "cell_type": "code",
   "execution_count": 45,
   "id": "ca4c52a1-0baa-4daf-87f1-eae0eaa7b5f2",
   "metadata": {},
   "outputs": [],
   "source": [
    "from sklearn.ensemble import RandomForestClassifier\n",
    "model = RandomForestClassifier(n_jobs=-1)"
   ]
  },
  {
   "cell_type": "code",
   "execution_count": 46,
   "id": "87163bec-45d3-4635-8d80-5a4611323194",
   "metadata": {},
   "outputs": [
    {
     "data": {
      "text/plain": [
       "((1697, 997), (728, 997), (1697,), (728,))"
      ]
     },
     "execution_count": 46,
     "metadata": {},
     "output_type": "execute_result"
    }
   ],
   "source": [
    "from sklearn.model_selection import train_test_split\n",
    "features_train, features_test, target_train, target_test = train_test_split(features, target, test_size=0.3, random_state=55)\n",
    "features_train.shape, features_test.shape, target_train.shape, target_test.shape"
   ]
  },
  {
   "cell_type": "code",
   "execution_count": 47,
   "id": "c23900df-1cdb-45ae-a4fb-6b456cf92c40",
   "metadata": {},
   "outputs": [
    {
     "data": {
      "text/html": [
       "<style>#sk-container-id-2 {\n",
       "  /* Definition of color scheme common for light and dark mode */\n",
       "  --sklearn-color-text: black;\n",
       "  --sklearn-color-line: gray;\n",
       "  /* Definition of color scheme for unfitted estimators */\n",
       "  --sklearn-color-unfitted-level-0: #fff5e6;\n",
       "  --sklearn-color-unfitted-level-1: #f6e4d2;\n",
       "  --sklearn-color-unfitted-level-2: #ffe0b3;\n",
       "  --sklearn-color-unfitted-level-3: chocolate;\n",
       "  /* Definition of color scheme for fitted estimators */\n",
       "  --sklearn-color-fitted-level-0: #f0f8ff;\n",
       "  --sklearn-color-fitted-level-1: #d4ebff;\n",
       "  --sklearn-color-fitted-level-2: #b3dbfd;\n",
       "  --sklearn-color-fitted-level-3: cornflowerblue;\n",
       "\n",
       "  /* Specific color for light theme */\n",
       "  --sklearn-color-text-on-default-background: var(--sg-text-color, var(--theme-code-foreground, var(--jp-content-font-color1, black)));\n",
       "  --sklearn-color-background: var(--sg-background-color, var(--theme-background, var(--jp-layout-color0, white)));\n",
       "  --sklearn-color-border-box: var(--sg-text-color, var(--theme-code-foreground, var(--jp-content-font-color1, black)));\n",
       "  --sklearn-color-icon: #696969;\n",
       "\n",
       "  @media (prefers-color-scheme: dark) {\n",
       "    /* Redefinition of color scheme for dark theme */\n",
       "    --sklearn-color-text-on-default-background: var(--sg-text-color, var(--theme-code-foreground, var(--jp-content-font-color1, white)));\n",
       "    --sklearn-color-background: var(--sg-background-color, var(--theme-background, var(--jp-layout-color0, #111)));\n",
       "    --sklearn-color-border-box: var(--sg-text-color, var(--theme-code-foreground, var(--jp-content-font-color1, white)));\n",
       "    --sklearn-color-icon: #878787;\n",
       "  }\n",
       "}\n",
       "\n",
       "#sk-container-id-2 {\n",
       "  color: var(--sklearn-color-text);\n",
       "}\n",
       "\n",
       "#sk-container-id-2 pre {\n",
       "  padding: 0;\n",
       "}\n",
       "\n",
       "#sk-container-id-2 input.sk-hidden--visually {\n",
       "  border: 0;\n",
       "  clip: rect(1px 1px 1px 1px);\n",
       "  clip: rect(1px, 1px, 1px, 1px);\n",
       "  height: 1px;\n",
       "  margin: -1px;\n",
       "  overflow: hidden;\n",
       "  padding: 0;\n",
       "  position: absolute;\n",
       "  width: 1px;\n",
       "}\n",
       "\n",
       "#sk-container-id-2 div.sk-dashed-wrapped {\n",
       "  border: 1px dashed var(--sklearn-color-line);\n",
       "  margin: 0 0.4em 0.5em 0.4em;\n",
       "  box-sizing: border-box;\n",
       "  padding-bottom: 0.4em;\n",
       "  background-color: var(--sklearn-color-background);\n",
       "}\n",
       "\n",
       "#sk-container-id-2 div.sk-container {\n",
       "  /* jupyter's `normalize.less` sets `[hidden] { display: none; }`\n",
       "     but bootstrap.min.css set `[hidden] { display: none !important; }`\n",
       "     so we also need the `!important` here to be able to override the\n",
       "     default hidden behavior on the sphinx rendered scikit-learn.org.\n",
       "     See: https://github.com/scikit-learn/scikit-learn/issues/21755 */\n",
       "  display: inline-block !important;\n",
       "  position: relative;\n",
       "}\n",
       "\n",
       "#sk-container-id-2 div.sk-text-repr-fallback {\n",
       "  display: none;\n",
       "}\n",
       "\n",
       "div.sk-parallel-item,\n",
       "div.sk-serial,\n",
       "div.sk-item {\n",
       "  /* draw centered vertical line to link estimators */\n",
       "  background-image: linear-gradient(var(--sklearn-color-text-on-default-background), var(--sklearn-color-text-on-default-background));\n",
       "  background-size: 2px 100%;\n",
       "  background-repeat: no-repeat;\n",
       "  background-position: center center;\n",
       "}\n",
       "\n",
       "/* Parallel-specific style estimator block */\n",
       "\n",
       "#sk-container-id-2 div.sk-parallel-item::after {\n",
       "  content: \"\";\n",
       "  width: 100%;\n",
       "  border-bottom: 2px solid var(--sklearn-color-text-on-default-background);\n",
       "  flex-grow: 1;\n",
       "}\n",
       "\n",
       "#sk-container-id-2 div.sk-parallel {\n",
       "  display: flex;\n",
       "  align-items: stretch;\n",
       "  justify-content: center;\n",
       "  background-color: var(--sklearn-color-background);\n",
       "  position: relative;\n",
       "}\n",
       "\n",
       "#sk-container-id-2 div.sk-parallel-item {\n",
       "  display: flex;\n",
       "  flex-direction: column;\n",
       "}\n",
       "\n",
       "#sk-container-id-2 div.sk-parallel-item:first-child::after {\n",
       "  align-self: flex-end;\n",
       "  width: 50%;\n",
       "}\n",
       "\n",
       "#sk-container-id-2 div.sk-parallel-item:last-child::after {\n",
       "  align-self: flex-start;\n",
       "  width: 50%;\n",
       "}\n",
       "\n",
       "#sk-container-id-2 div.sk-parallel-item:only-child::after {\n",
       "  width: 0;\n",
       "}\n",
       "\n",
       "/* Serial-specific style estimator block */\n",
       "\n",
       "#sk-container-id-2 div.sk-serial {\n",
       "  display: flex;\n",
       "  flex-direction: column;\n",
       "  align-items: center;\n",
       "  background-color: var(--sklearn-color-background);\n",
       "  padding-right: 1em;\n",
       "  padding-left: 1em;\n",
       "}\n",
       "\n",
       "\n",
       "/* Toggleable style: style used for estimator/Pipeline/ColumnTransformer box that is\n",
       "clickable and can be expanded/collapsed.\n",
       "- Pipeline and ColumnTransformer use this feature and define the default style\n",
       "- Estimators will overwrite some part of the style using the `sk-estimator` class\n",
       "*/\n",
       "\n",
       "/* Pipeline and ColumnTransformer style (default) */\n",
       "\n",
       "#sk-container-id-2 div.sk-toggleable {\n",
       "  /* Default theme specific background. It is overwritten whether we have a\n",
       "  specific estimator or a Pipeline/ColumnTransformer */\n",
       "  background-color: var(--sklearn-color-background);\n",
       "}\n",
       "\n",
       "/* Toggleable label */\n",
       "#sk-container-id-2 label.sk-toggleable__label {\n",
       "  cursor: pointer;\n",
       "  display: block;\n",
       "  width: 100%;\n",
       "  margin-bottom: 0;\n",
       "  padding: 0.5em;\n",
       "  box-sizing: border-box;\n",
       "  text-align: center;\n",
       "}\n",
       "\n",
       "#sk-container-id-2 label.sk-toggleable__label-arrow:before {\n",
       "  /* Arrow on the left of the label */\n",
       "  content: \"▸\";\n",
       "  float: left;\n",
       "  margin-right: 0.25em;\n",
       "  color: var(--sklearn-color-icon);\n",
       "}\n",
       "\n",
       "#sk-container-id-2 label.sk-toggleable__label-arrow:hover:before {\n",
       "  color: var(--sklearn-color-text);\n",
       "}\n",
       "\n",
       "/* Toggleable content - dropdown */\n",
       "\n",
       "#sk-container-id-2 div.sk-toggleable__content {\n",
       "  max-height: 0;\n",
       "  max-width: 0;\n",
       "  overflow: hidden;\n",
       "  text-align: left;\n",
       "  /* unfitted */\n",
       "  background-color: var(--sklearn-color-unfitted-level-0);\n",
       "}\n",
       "\n",
       "#sk-container-id-2 div.sk-toggleable__content.fitted {\n",
       "  /* fitted */\n",
       "  background-color: var(--sklearn-color-fitted-level-0);\n",
       "}\n",
       "\n",
       "#sk-container-id-2 div.sk-toggleable__content pre {\n",
       "  margin: 0.2em;\n",
       "  border-radius: 0.25em;\n",
       "  color: var(--sklearn-color-text);\n",
       "  /* unfitted */\n",
       "  background-color: var(--sklearn-color-unfitted-level-0);\n",
       "}\n",
       "\n",
       "#sk-container-id-2 div.sk-toggleable__content.fitted pre {\n",
       "  /* unfitted */\n",
       "  background-color: var(--sklearn-color-fitted-level-0);\n",
       "}\n",
       "\n",
       "#sk-container-id-2 input.sk-toggleable__control:checked~div.sk-toggleable__content {\n",
       "  /* Expand drop-down */\n",
       "  max-height: 200px;\n",
       "  max-width: 100%;\n",
       "  overflow: auto;\n",
       "}\n",
       "\n",
       "#sk-container-id-2 input.sk-toggleable__control:checked~label.sk-toggleable__label-arrow:before {\n",
       "  content: \"▾\";\n",
       "}\n",
       "\n",
       "/* Pipeline/ColumnTransformer-specific style */\n",
       "\n",
       "#sk-container-id-2 div.sk-label input.sk-toggleable__control:checked~label.sk-toggleable__label {\n",
       "  color: var(--sklearn-color-text);\n",
       "  background-color: var(--sklearn-color-unfitted-level-2);\n",
       "}\n",
       "\n",
       "#sk-container-id-2 div.sk-label.fitted input.sk-toggleable__control:checked~label.sk-toggleable__label {\n",
       "  background-color: var(--sklearn-color-fitted-level-2);\n",
       "}\n",
       "\n",
       "/* Estimator-specific style */\n",
       "\n",
       "/* Colorize estimator box */\n",
       "#sk-container-id-2 div.sk-estimator input.sk-toggleable__control:checked~label.sk-toggleable__label {\n",
       "  /* unfitted */\n",
       "  background-color: var(--sklearn-color-unfitted-level-2);\n",
       "}\n",
       "\n",
       "#sk-container-id-2 div.sk-estimator.fitted input.sk-toggleable__control:checked~label.sk-toggleable__label {\n",
       "  /* fitted */\n",
       "  background-color: var(--sklearn-color-fitted-level-2);\n",
       "}\n",
       "\n",
       "#sk-container-id-2 div.sk-label label.sk-toggleable__label,\n",
       "#sk-container-id-2 div.sk-label label {\n",
       "  /* The background is the default theme color */\n",
       "  color: var(--sklearn-color-text-on-default-background);\n",
       "}\n",
       "\n",
       "/* On hover, darken the color of the background */\n",
       "#sk-container-id-2 div.sk-label:hover label.sk-toggleable__label {\n",
       "  color: var(--sklearn-color-text);\n",
       "  background-color: var(--sklearn-color-unfitted-level-2);\n",
       "}\n",
       "\n",
       "/* Label box, darken color on hover, fitted */\n",
       "#sk-container-id-2 div.sk-label.fitted:hover label.sk-toggleable__label.fitted {\n",
       "  color: var(--sklearn-color-text);\n",
       "  background-color: var(--sklearn-color-fitted-level-2);\n",
       "}\n",
       "\n",
       "/* Estimator label */\n",
       "\n",
       "#sk-container-id-2 div.sk-label label {\n",
       "  font-family: monospace;\n",
       "  font-weight: bold;\n",
       "  display: inline-block;\n",
       "  line-height: 1.2em;\n",
       "}\n",
       "\n",
       "#sk-container-id-2 div.sk-label-container {\n",
       "  text-align: center;\n",
       "}\n",
       "\n",
       "/* Estimator-specific */\n",
       "#sk-container-id-2 div.sk-estimator {\n",
       "  font-family: monospace;\n",
       "  border: 1px dotted var(--sklearn-color-border-box);\n",
       "  border-radius: 0.25em;\n",
       "  box-sizing: border-box;\n",
       "  margin-bottom: 0.5em;\n",
       "  /* unfitted */\n",
       "  background-color: var(--sklearn-color-unfitted-level-0);\n",
       "}\n",
       "\n",
       "#sk-container-id-2 div.sk-estimator.fitted {\n",
       "  /* fitted */\n",
       "  background-color: var(--sklearn-color-fitted-level-0);\n",
       "}\n",
       "\n",
       "/* on hover */\n",
       "#sk-container-id-2 div.sk-estimator:hover {\n",
       "  /* unfitted */\n",
       "  background-color: var(--sklearn-color-unfitted-level-2);\n",
       "}\n",
       "\n",
       "#sk-container-id-2 div.sk-estimator.fitted:hover {\n",
       "  /* fitted */\n",
       "  background-color: var(--sklearn-color-fitted-level-2);\n",
       "}\n",
       "\n",
       "/* Specification for estimator info (e.g. \"i\" and \"?\") */\n",
       "\n",
       "/* Common style for \"i\" and \"?\" */\n",
       "\n",
       ".sk-estimator-doc-link,\n",
       "a:link.sk-estimator-doc-link,\n",
       "a:visited.sk-estimator-doc-link {\n",
       "  float: right;\n",
       "  font-size: smaller;\n",
       "  line-height: 1em;\n",
       "  font-family: monospace;\n",
       "  background-color: var(--sklearn-color-background);\n",
       "  border-radius: 1em;\n",
       "  height: 1em;\n",
       "  width: 1em;\n",
       "  text-decoration: none !important;\n",
       "  margin-left: 1ex;\n",
       "  /* unfitted */\n",
       "  border: var(--sklearn-color-unfitted-level-1) 1pt solid;\n",
       "  color: var(--sklearn-color-unfitted-level-1);\n",
       "}\n",
       "\n",
       ".sk-estimator-doc-link.fitted,\n",
       "a:link.sk-estimator-doc-link.fitted,\n",
       "a:visited.sk-estimator-doc-link.fitted {\n",
       "  /* fitted */\n",
       "  border: var(--sklearn-color-fitted-level-1) 1pt solid;\n",
       "  color: var(--sklearn-color-fitted-level-1);\n",
       "}\n",
       "\n",
       "/* On hover */\n",
       "div.sk-estimator:hover .sk-estimator-doc-link:hover,\n",
       ".sk-estimator-doc-link:hover,\n",
       "div.sk-label-container:hover .sk-estimator-doc-link:hover,\n",
       ".sk-estimator-doc-link:hover {\n",
       "  /* unfitted */\n",
       "  background-color: var(--sklearn-color-unfitted-level-3);\n",
       "  color: var(--sklearn-color-background);\n",
       "  text-decoration: none;\n",
       "}\n",
       "\n",
       "div.sk-estimator.fitted:hover .sk-estimator-doc-link.fitted:hover,\n",
       ".sk-estimator-doc-link.fitted:hover,\n",
       "div.sk-label-container:hover .sk-estimator-doc-link.fitted:hover,\n",
       ".sk-estimator-doc-link.fitted:hover {\n",
       "  /* fitted */\n",
       "  background-color: var(--sklearn-color-fitted-level-3);\n",
       "  color: var(--sklearn-color-background);\n",
       "  text-decoration: none;\n",
       "}\n",
       "\n",
       "/* Span, style for the box shown on hovering the info icon */\n",
       ".sk-estimator-doc-link span {\n",
       "  display: none;\n",
       "  z-index: 9999;\n",
       "  position: relative;\n",
       "  font-weight: normal;\n",
       "  right: .2ex;\n",
       "  padding: .5ex;\n",
       "  margin: .5ex;\n",
       "  width: min-content;\n",
       "  min-width: 20ex;\n",
       "  max-width: 50ex;\n",
       "  color: var(--sklearn-color-text);\n",
       "  box-shadow: 2pt 2pt 4pt #999;\n",
       "  /* unfitted */\n",
       "  background: var(--sklearn-color-unfitted-level-0);\n",
       "  border: .5pt solid var(--sklearn-color-unfitted-level-3);\n",
       "}\n",
       "\n",
       ".sk-estimator-doc-link.fitted span {\n",
       "  /* fitted */\n",
       "  background: var(--sklearn-color-fitted-level-0);\n",
       "  border: var(--sklearn-color-fitted-level-3);\n",
       "}\n",
       "\n",
       ".sk-estimator-doc-link:hover span {\n",
       "  display: block;\n",
       "}\n",
       "\n",
       "/* \"?\"-specific style due to the `<a>` HTML tag */\n",
       "\n",
       "#sk-container-id-2 a.estimator_doc_link {\n",
       "  float: right;\n",
       "  font-size: 1rem;\n",
       "  line-height: 1em;\n",
       "  font-family: monospace;\n",
       "  background-color: var(--sklearn-color-background);\n",
       "  border-radius: 1rem;\n",
       "  height: 1rem;\n",
       "  width: 1rem;\n",
       "  text-decoration: none;\n",
       "  /* unfitted */\n",
       "  color: var(--sklearn-color-unfitted-level-1);\n",
       "  border: var(--sklearn-color-unfitted-level-1) 1pt solid;\n",
       "}\n",
       "\n",
       "#sk-container-id-2 a.estimator_doc_link.fitted {\n",
       "  /* fitted */\n",
       "  border: var(--sklearn-color-fitted-level-1) 1pt solid;\n",
       "  color: var(--sklearn-color-fitted-level-1);\n",
       "}\n",
       "\n",
       "/* On hover */\n",
       "#sk-container-id-2 a.estimator_doc_link:hover {\n",
       "  /* unfitted */\n",
       "  background-color: var(--sklearn-color-unfitted-level-3);\n",
       "  color: var(--sklearn-color-background);\n",
       "  text-decoration: none;\n",
       "}\n",
       "\n",
       "#sk-container-id-2 a.estimator_doc_link.fitted:hover {\n",
       "  /* fitted */\n",
       "  background-color: var(--sklearn-color-fitted-level-3);\n",
       "}\n",
       "</style><div id=\"sk-container-id-2\" class=\"sk-top-container\"><div class=\"sk-text-repr-fallback\"><pre>RandomForestClassifier(n_jobs=-1)</pre><b>In a Jupyter environment, please rerun this cell to show the HTML representation or trust the notebook. <br />On GitHub, the HTML representation is unable to render, please try loading this page with nbviewer.org.</b></div><div class=\"sk-container\" hidden><div class=\"sk-item\"><div class=\"sk-estimator fitted sk-toggleable\"><input class=\"sk-toggleable__control sk-hidden--visually\" id=\"sk-estimator-id-2\" type=\"checkbox\" checked><label for=\"sk-estimator-id-2\" class=\"sk-toggleable__label fitted sk-toggleable__label-arrow fitted\">&nbsp;&nbsp;RandomForestClassifier<a class=\"sk-estimator-doc-link fitted\" rel=\"noreferrer\" target=\"_blank\" href=\"https://scikit-learn.org/1.4/modules/generated/sklearn.ensemble.RandomForestClassifier.html\">?<span>Documentation for RandomForestClassifier</span></a><span class=\"sk-estimator-doc-link fitted\">i<span>Fitted</span></span></label><div class=\"sk-toggleable__content fitted\"><pre>RandomForestClassifier(n_jobs=-1)</pre></div> </div></div></div></div>"
      ],
      "text/plain": [
       "RandomForestClassifier(n_jobs=-1)"
      ]
     },
     "execution_count": 47,
     "metadata": {},
     "output_type": "execute_result"
    }
   ],
   "source": [
    "model.fit(features_train, target_train)"
   ]
  },
  {
   "cell_type": "code",
   "execution_count": 48,
   "id": "961ca351-1fe7-42a2-9748-3ead5333da1c",
   "metadata": {},
   "outputs": [
    {
     "data": {
      "text/plain": [
       "array(['심포지엄/행사', '심포지엄/행사', '의료/법안', '심포지엄/행사', '신약/개발', '신약/개발',\n",
       "       '신약/개발', '신약/개발', '신약/개발', '신약/개발', '심포지엄/행사', '심포지엄/행사',\n",
       "       '심포지엄/행사', '신약/개발', '의료/법안', '심포지엄/행사', '심포지엄/행사', '심포지엄/행사',\n",
       "       '의료/법안', '심포지엄/행사', '심포지엄/행사', '의료/법안', '신약/개발', '의료/법안', '의료/법안',\n",
       "       '의료/법안', '의료/법안', '심포지엄/행사', '신약/개발', '의료/법안', '심포지엄/행사',\n",
       "       '심포지엄/행사', '심포지엄/행사', '신약/개발', '신약/개발', '신약/개발', '신약/개발', '신약/개발',\n",
       "       '의료/법안', '의료/법안', '심포지엄/행사', '신약/개발', '심포지엄/행사', '신약/개발', '의료/법안',\n",
       "       '심포지엄/행사', '심포지엄/행사', '의료/법안', '신약/개발', '심포지엄/행사', '심포지엄/행사',\n",
       "       '심포지엄/행사', '의료/법안', '심포지엄/행사', '의료/법안', '신약/개발', '의료/법안',\n",
       "       '심포지엄/행사', '신약/개발', '의료/법안', '신약/개발', '의료/법안', '의료/법안', '신약/개발',\n",
       "       '의료/법안', '신약/개발', '심포지엄/행사', '신약/개발', '의료/법안', '신약/개발', '심포지엄/행사',\n",
       "       '의료/법안', '의료/법안', '심포지엄/행사', '심포지엄/행사', '의료/법안', '심포지엄/행사',\n",
       "       '심포지엄/행사', '심포지엄/행사', '심포지엄/행사', '의료/법안', '심포지엄/행사', '신약/개발',\n",
       "       '심포지엄/행사', '신약/개발', '의료/법안', '신약/개발', '의료/법안', '심포지엄/행사',\n",
       "       '심포지엄/행사', '의료/법안', '의료/법안', '신약/개발', '신약/개발', '신약/개발', '심포지엄/행사',\n",
       "       '의료/법안', '의료/법안', '신약/개발', '신약/개발', '신약/개발', '신약/개발', '심포지엄/행사',\n",
       "       '신약/개발', '신약/개발', '신약/개발', '심포지엄/행사', '심포지엄/행사', '심포지엄/행사',\n",
       "       '신약/개발', '신약/개발', '신약/개발', '심포지엄/행사', '신약/개발', '신약/개발', '신약/개발',\n",
       "       '신약/개발', '신약/개발', '심포지엄/행사', '신약/개발', '심포지엄/행사', '심포지엄/행사',\n",
       "       '신약/개발', '신약/개발', '의료/법안', '신약/개발', '신약/개발', '신약/개발', '신약/개발',\n",
       "       '의료/법안', '신약/개발', '의료/법안', '의료/법안', '신약/개발', '심포지엄/행사', '신약/개발',\n",
       "       '신약/개발', '신약/개발', '의료/법안', '의료/법안', '의료/법안', '심포지엄/행사', '심포지엄/행사',\n",
       "       '심포지엄/행사', '심포지엄/행사', '심포지엄/행사', '신약/개발', '신약/개발', '신약/개발',\n",
       "       '심포지엄/행사', '심포지엄/행사', '의료/법안', '심포지엄/행사', '신약/개발', '신약/개발',\n",
       "       '심포지엄/행사', '신약/개발', '의료/법안', '심포지엄/행사', '심포지엄/행사', '신약/개발',\n",
       "       '신약/개발', '신약/개발', '의료/법안', '신약/개발', '신약/개발', '심포지엄/행사', '의료/법안',\n",
       "       '심포지엄/행사', '심포지엄/행사', '심포지엄/행사', '심포지엄/행사', '신약/개발', '심포지엄/행사',\n",
       "       '심포지엄/행사', '심포지엄/행사', '심포지엄/행사', '심포지엄/행사', '신약/개발', '심포지엄/행사',\n",
       "       '의료/법안', '심포지엄/행사', '의료/법안', '심포지엄/행사', '심포지엄/행사', '의료/법안',\n",
       "       '심포지엄/행사', '심포지엄/행사', '신약/개발', '심포지엄/행사', '신약/개발', '심포지엄/행사',\n",
       "       '심포지엄/행사', '의료/법안', '신약/개발', '심포지엄/행사', '의료/법안', '신약/개발',\n",
       "       '심포지엄/행사', '심포지엄/행사', '의료/법안', '의료/법안', '의료/법안', '의료/법안',\n",
       "       '심포지엄/행사', '신약/개발', '의료/법안', '신약/개발', '심포지엄/행사', '의료/법안', '신약/개발',\n",
       "       '신약/개발', '신약/개발', '의료/법안', '심포지엄/행사', '심포지엄/행사', '심포지엄/행사',\n",
       "       '신약/개발', '의료/법안', '의료/법안', '심포지엄/행사', '의료/법안', '심포지엄/행사', '신약/개발',\n",
       "       '심포지엄/행사', '심포지엄/행사', '의료/법안', '신약/개발', '심포지엄/행사', '심포지엄/행사',\n",
       "       '신약/개발', '심포지엄/행사', '심포지엄/행사', '심포지엄/행사', '의료/법안', '신약/개발',\n",
       "       '의료/법안', '심포지엄/행사', '의료/법안', '의료/법안', '의료/법안', '의료/법안', '심포지엄/행사',\n",
       "       '의료/법안', '신약/개발', '의료/법안', '신약/개발', '의료/법안', '의료/법안', '신약/개발',\n",
       "       '신약/개발', '신약/개발', '신약/개발', '심포지엄/행사', '신약/개발', '심포지엄/행사', '의료/법안',\n",
       "       '의료/법안', '심포지엄/행사', '심포지엄/행사', '심포지엄/행사', '신약/개발', '신약/개발',\n",
       "       '심포지엄/행사', '심포지엄/행사', '의료/법안', '의료/법안', '신약/개발', '의료/법안', '의료/법안',\n",
       "       '신약/개발', '심포지엄/행사', '심포지엄/행사', '심포지엄/행사', '신약/개발', '신약/개발',\n",
       "       '신약/개발', '신약/개발', '심포지엄/행사', '신약/개발', '의료/법안', '심포지엄/행사',\n",
       "       '심포지엄/행사', '의료/법안', '심포지엄/행사', '심포지엄/행사', '의료/법안', '신약/개발',\n",
       "       '신약/개발', '심포지엄/행사', '의료/법안', '심포지엄/행사', '신약/개발', '신약/개발', '신약/개발',\n",
       "       '의료/법안', '신약/개발', '심포지엄/행사', '의료/법안', '심포지엄/행사', '의료/법안', '신약/개발',\n",
       "       '심포지엄/행사', '심포지엄/행사', '심포지엄/행사', '의료/법안', '신약/개발', '의료/법안',\n",
       "       '의료/법안', '신약/개발', '심포지엄/행사', '심포지엄/행사', '심포지엄/행사', '신약/개발',\n",
       "       '신약/개발', '심포지엄/행사', '신약/개발', '신약/개발', '신약/개발', '신약/개발', '심포지엄/행사',\n",
       "       '심포지엄/행사', '심포지엄/행사', '심포지엄/행사', '신약/개발', '심포지엄/행사', '심포지엄/행사',\n",
       "       '심포지엄/행사', '의료/법안', '심포지엄/행사', '신약/개발', '심포지엄/행사', '의료/법안',\n",
       "       '심포지엄/행사', '심포지엄/행사', '신약/개발', '의료/법안', '신약/개발', '신약/개발',\n",
       "       '심포지엄/행사', '심포지엄/행사', '신약/개발', '신약/개발', '심포지엄/행사', '심포지엄/행사',\n",
       "       '신약/개발', '신약/개발', '의료/법안', '심포지엄/행사', '신약/개발', '신약/개발', '심포지엄/행사',\n",
       "       '의료/법안', '심포지엄/행사', '의료/법안', '심포지엄/행사', '신약/개발', '신약/개발', '의료/법안',\n",
       "       '심포지엄/행사', '신약/개발', '신약/개발', '신약/개발', '심포지엄/행사', '심포지엄/행사',\n",
       "       '의료/법안', '심포지엄/행사', '심포지엄/행사', '심포지엄/행사', '신약/개발', '의료/법안',\n",
       "       '심포지엄/행사', '심포지엄/행사', '신약/개발', '의료/법안', '신약/개발', '신약/개발', '의료/법안',\n",
       "       '의료/법안', '신약/개발', '신약/개발', '신약/개발', '심포지엄/행사', '신약/개발', '심포지엄/행사',\n",
       "       '신약/개발', '심포지엄/행사', '신약/개발', '신약/개발', '의료/법안', '신약/개발', '의료/법안',\n",
       "       '의료/법안', '의료/법안', '의료/법안', '심포지엄/행사', '의료/법안', '심포지엄/행사', '신약/개발',\n",
       "       '의료/법안', '신약/개발', '의료/법안', '의료/법안', '심포지엄/행사', '의료/법안', '심포지엄/행사',\n",
       "       '신약/개발', '심포지엄/행사', '신약/개발', '의료/법안', '심포지엄/행사', '의료/법안',\n",
       "       '심포지엄/행사', '신약/개발', '신약/개발', '신약/개발', '심포지엄/행사', '신약/개발',\n",
       "       '심포지엄/행사', '신약/개발', '심포지엄/행사', '심포지엄/행사', '신약/개발', '의료/법안',\n",
       "       '심포지엄/행사', '심포지엄/행사', '신약/개발', '심포지엄/행사', '의료/법안', '심포지엄/행사',\n",
       "       '심포지엄/행사', '심포지엄/행사', '심포지엄/행사', '심포지엄/행사', '심포지엄/행사', '심포지엄/행사',\n",
       "       '심포지엄/행사', '의료/법안', '신약/개발', '심포지엄/행사', '의료/법안', '신약/개발', '의료/법안',\n",
       "       '신약/개발', '심포지엄/행사', '의료/법안', '의료/법안', '신약/개발', '의료/법안', '신약/개발',\n",
       "       '신약/개발', '의료/법안', '심포지엄/행사', '심포지엄/행사', '심포지엄/행사', '신약/개발',\n",
       "       '심포지엄/행사', '심포지엄/행사', '신약/개발', '심포지엄/행사', '의료/법안', '의료/법안',\n",
       "       '신약/개발', '심포지엄/행사', '심포지엄/행사', '신약/개발', '심포지엄/행사', '의료/법안',\n",
       "       '신약/개발', '의료/법안', '심포지엄/행사', '심포지엄/행사', '신약/개발', '심포지엄/행사',\n",
       "       '의료/법안', '의료/법안', '의료/법안', '심포지엄/행사', '신약/개발', '심포지엄/행사', '신약/개발',\n",
       "       '신약/개발', '심포지엄/행사', '심포지엄/행사', '신약/개발', '심포지엄/행사', '신약/개발',\n",
       "       '심포지엄/행사', '심포지엄/행사', '심포지엄/행사', '신약/개발', '신약/개발', '심포지엄/행사',\n",
       "       '심포지엄/행사', '심포지엄/행사', '심포지엄/행사', '심포지엄/행사', '심포지엄/행사', '심포지엄/행사',\n",
       "       '신약/개발', '신약/개발', '심포지엄/행사', '심포지엄/행사', '의료/법안', '신약/개발',\n",
       "       '심포지엄/행사', '의료/법안', '심포지엄/행사', '신약/개발', '신약/개발', '심포지엄/행사',\n",
       "       '신약/개발', '신약/개발', '신약/개발', '신약/개발', '신약/개발', '심포지엄/행사', '신약/개발',\n",
       "       '의료/법안', '신약/개발', '심포지엄/행사', '심포지엄/행사', '심포지엄/행사', '심포지엄/행사',\n",
       "       '신약/개발', '신약/개발', '심포지엄/행사', '심포지엄/행사', '심포지엄/행사', '의료/법안',\n",
       "       '심포지엄/행사', '심포지엄/행사', '심포지엄/행사', '심포지엄/행사', '의료/법안', '의료/법안',\n",
       "       '심포지엄/행사', '심포지엄/행사', '신약/개발', '심포지엄/행사', '심포지엄/행사', '심포지엄/행사',\n",
       "       '신약/개발', '의료/법안', '신약/개발', '신약/개발', '신약/개발', '신약/개발', '심포지엄/행사',\n",
       "       '심포지엄/행사', '신약/개발', '신약/개발', '신약/개발', '심포지엄/행사', '심포지엄/행사',\n",
       "       '의료/법안', '심포지엄/행사', '의료/법안', '심포지엄/행사', '신약/개발', '신약/개발',\n",
       "       '심포지엄/행사', '의료/법안', '신약/개발', '심포지엄/행사', '신약/개발', '의료/법안',\n",
       "       '심포지엄/행사', '심포지엄/행사', '의료/법안', '심포지엄/행사', '의료/법안', '신약/개발',\n",
       "       '심포지엄/행사', '심포지엄/행사', '의료/법안', '신약/개발', '신약/개발', '신약/개발',\n",
       "       '심포지엄/행사', '신약/개발', '심포지엄/행사', '의료/법안', '심포지엄/행사', '신약/개발',\n",
       "       '심포지엄/행사', '신약/개발', '심포지엄/행사', '심포지엄/행사', '신약/개발', '신약/개발',\n",
       "       '신약/개발', '심포지엄/행사', '신약/개발', '심포지엄/행사', '신약/개발', '의료/법안',\n",
       "       '심포지엄/행사', '의료/법안', '신약/개발', '신약/개발', '심포지엄/행사', '신약/개발',\n",
       "       '심포지엄/행사', '신약/개발', '심포지엄/행사', '의료/법안', '심포지엄/행사', '신약/개발',\n",
       "       '심포지엄/행사', '의료/법안', '의료/법안', '의료/법안', '의료/법안', '의료/법안', '신약/개발',\n",
       "       '심포지엄/행사', '신약/개발', '심포지엄/행사', '신약/개발', '신약/개발', '심포지엄/행사',\n",
       "       '심포지엄/행사', '신약/개발', '심포지엄/행사', '심포지엄/행사', '신약/개발', '심포지엄/행사',\n",
       "       '의료/법안', '심포지엄/행사', '심포지엄/행사', '심포지엄/행사', '심포지엄/행사', '신약/개발',\n",
       "       '의료/법안', '신약/개발', '신약/개발', '심포지엄/행사', '심포지엄/행사', '심포지엄/행사',\n",
       "       '심포지엄/행사', '심포지엄/행사', '의료/법안', '신약/개발', '심포지엄/행사', '의료/법안',\n",
       "       '심포지엄/행사', '심포지엄/행사', '의료/법안', '신약/개발', '의료/법안', '의료/법안', '신약/개발',\n",
       "       '의료/법안', '신약/개발', '의료/법안', '의료/법안', '의료/법안', '신약/개발', '심포지엄/행사',\n",
       "       '신약/개발', '의료/법안', '신약/개발', '신약/개발', '의료/법안', '심포지엄/행사', '신약/개발',\n",
       "       '심포지엄/행사', '의료/법안', '신약/개발', '신약/개발', '심포지엄/행사', '심포지엄/행사',\n",
       "       '심포지엄/행사', '신약/개발', '의료/법안', '심포지엄/행사', '심포지엄/행사', '신약/개발',\n",
       "       '심포지엄/행사', '신약/개발', '심포지엄/행사', '의료/법안', '신약/개발', '심포지엄/행사',\n",
       "       '신약/개발', '신약/개발', '심포지엄/행사', '의료/법안', '심포지엄/행사', '심포지엄/행사',\n",
       "       '심포지엄/행사', '심포지엄/행사', '심포지엄/행사', '의료/법안', '의료/법안', '신약/개발',\n",
       "       '신약/개발', '심포지엄/행사', '신약/개발', '심포지엄/행사', '의료/법안', '심포지엄/행사',\n",
       "       '신약/개발', '심포지엄/행사', '의료/법안', '신약/개발', '신약/개발', '신약/개발', '신약/개발',\n",
       "       '신약/개발', '심포지엄/행사', '신약/개발', '의료/법안', '의료/법안', '심포지엄/행사',\n",
       "       '심포지엄/행사', '의료/법안', '신약/개발', '심포지엄/행사', '신약/개발', '신약/개발',\n",
       "       '심포지엄/행사', '의료/법안', '의료/법안', '신약/개발', '신약/개발', '의료/법안'],\n",
       "      dtype=object)"
      ]
     },
     "execution_count": 48,
     "metadata": {},
     "output_type": "execute_result"
    }
   ],
   "source": [
    "model.predict(features_test)"
   ]
  },
  {
   "cell_type": "code",
   "execution_count": 49,
   "id": "fc62b894-5d4f-4a2a-9db6-32e2c22a9e9b",
   "metadata": {},
   "outputs": [],
   "source": [
    "from sklearn.metrics import classification_report"
   ]
  },
  {
   "cell_type": "code",
   "execution_count": 50,
   "id": "239f78aa-fd7b-4b90-a9e4-61ee46141c54",
   "metadata": {},
   "outputs": [
    {
     "name": "stdout",
     "output_type": "stream",
     "text": [
      "              precision    recall  f1-score   support\n",
      "\n",
      "       신약/개발       0.71      0.72      0.72       254\n",
      "     심포지엄/행사       0.70      0.82      0.75       255\n",
      "       의료/법안       0.80      0.64      0.71       219\n",
      "\n",
      "    accuracy                           0.73       728\n",
      "   macro avg       0.74      0.73      0.73       728\n",
      "weighted avg       0.74      0.73      0.73       728\n",
      "\n"
     ]
    }
   ],
   "source": [
    "target_predict = model.predict(features_test)\n",
    "print(classification_report(target_test, target_predict))"
   ]
  },
  {
   "cell_type": "markdown",
   "id": "57978db2-57af-4e15-ba1d-523ddaff2d3d",
   "metadata": {},
   "source": [
    "### test"
   ]
  },
  {
   "cell_type": "code",
   "execution_count": 51,
   "id": "ff60da2c-4362-45b8-b2fa-dff0761f1d38",
   "metadata": {},
   "outputs": [],
   "source": [
    "def testing(feature) :\n",
    "    token_feature = tfidfvectorizer.transform(feature)\n",
    "    return model.predict(token_feature)"
   ]
  },
  {
   "cell_type": "code",
   "execution_count": 67,
   "id": "90f686e3-a201-4d5d-ba36-266b3b6cfa3e",
   "metadata": {},
   "outputs": [
    {
     "data": {
      "text/plain": [
       "array(['의료/법안'], dtype=object)"
      ]
     },
     "execution_count": 67,
     "metadata": {},
     "output_type": "execute_result"
    }
   ],
   "source": [
    "testing([\"사지에 힘이 빠지고 저리다면, ‘길랑-바레 증후군’ 의심\"])"
   ]
  },
  {
   "cell_type": "markdown",
   "id": "ebe52a03-4358-4578-9ef7-7f12f5a16d68",
   "metadata": {},
   "source": [
    "- f1-scroe : 0.73으로 준수한 성능을 보임"
   ]
  },
  {
   "cell_type": "markdown",
   "id": "65efc767-5b54-4c3f-b821-bfa2857f9031",
   "metadata": {},
   "source": [
    "### Save"
   ]
  },
  {
   "cell_type": "code",
   "execution_count": 53,
   "id": "bd6efd1f-a691-41b2-9cdd-26313158adf7",
   "metadata": {},
   "outputs": [],
   "source": [
    "import pickle"
   ]
  },
  {
   "cell_type": "code",
   "execution_count": 54,
   "id": "5a032fc2-8732-4ee6-9464-af3224cff573",
   "metadata": {},
   "outputs": [],
   "source": [
    "data = {'news_recommend_model' : model, 'news_recommend_vectorizer' : tfidfvectorizer}"
   ]
  },
  {
   "cell_type": "code",
   "execution_count": 55,
   "id": "b331f6bc-5d79-4cb8-8196-933864400091",
   "metadata": {},
   "outputs": [],
   "source": [
    "with open('news_recommend_model_vectorizer.pkl', 'wb') as file:\n",
    "    pickle.dump(data, file)"
   ]
  },
  {
   "cell_type": "markdown",
   "id": "f0586cd5-129c-4870-8738-6551eedf8d0c",
   "metadata": {},
   "source": [
    "## 3. 워드 클라우드"
   ]
  },
  {
   "cell_type": "markdown",
   "id": "be5a8505-678f-4347-ace5-996fbac0da0a",
   "metadata": {},
   "source": [
    "### 단어 사전 제작"
   ]
  },
  {
   "cell_type": "code",
   "execution_count": 56,
   "id": "c5edfde7-ebb6-4cd8-8d69-31e53862ec2f",
   "metadata": {},
   "outputs": [],
   "source": [
    "tfidfvectorizer_word = TfidfVectorizer(tokenizer=tokenizer, max_df=0.3, min_df=2)"
   ]
  },
  {
   "cell_type": "code",
   "execution_count": 57,
   "id": "d7bcb3b3-1002-48f0-a5c6-9eaf5edd4b48",
   "metadata": {},
   "outputs": [
    {
     "name": "stderr",
     "output_type": "stream",
     "text": [
      "/usr/local/lib/python3.11/site-packages/sklearn/feature_extraction/text.py:525: UserWarning: The parameter 'token_pattern' will not be used since 'tokenizer' is not None'\n",
      "  warnings.warn(\n"
     ]
    }
   ],
   "source": [
    "featuress = tfidfvectorizer_word.fit_transform(df_bosa_test1['news_title'])"
   ]
  },
  {
   "cell_type": "code",
   "execution_count": 58,
   "id": "0d97ff84-e9c4-4630-94b1-af74bd4d4f93",
   "metadata": {},
   "outputs": [],
   "source": [
    "word_dictionary = tfidfvectorizer_word.get_feature_names_out(featuress)"
   ]
  },
  {
   "cell_type": "code",
   "execution_count": 59,
   "id": "09f94c57-9e99-4da2-8484-f99663074e27",
   "metadata": {},
   "outputs": [
    {
     "data": {
      "text/plain": [
       "array(['가격', '가능', '가능성', ..., '희망', '희소', '희소식'], dtype=object)"
      ]
     },
     "execution_count": 59,
     "metadata": {},
     "output_type": "execute_result"
    }
   ],
   "source": [
    "word_dictionary"
   ]
  },
  {
   "cell_type": "markdown",
   "id": "83907f19-d617-45aa-93a7-efcd19e416a7",
   "metadata": {},
   "source": [
    "### 워드 클라우드 만들기"
   ]
  },
  {
   "cell_type": "code",
   "execution_count": 1,
   "id": "3d513394-d9c4-4b14-a1b8-b7b59cc9401c",
   "metadata": {},
   "outputs": [
    {
     "name": "stdout",
     "output_type": "stream",
     "text": [
      "Requirement already satisfied: wordcloud in /usr/local/lib/python3.11/site-packages (1.9.3)\n",
      "Requirement already satisfied: numpy>=1.6.1 in /usr/local/lib/python3.11/site-packages (from wordcloud) (1.26.4)\n",
      "Requirement already satisfied: pillow in /usr/local/lib/python3.11/site-packages (from wordcloud) (10.2.0)\n",
      "Requirement already satisfied: matplotlib in /usr/local/lib/python3.11/site-packages (from wordcloud) (3.8.3)\n",
      "Requirement already satisfied: contourpy>=1.0.1 in /usr/local/lib/python3.11/site-packages (from matplotlib->wordcloud) (1.2.0)\n",
      "Requirement already satisfied: cycler>=0.10 in /usr/local/lib/python3.11/site-packages (from matplotlib->wordcloud) (0.12.1)\n",
      "Requirement already satisfied: fonttools>=4.22.0 in /usr/local/lib/python3.11/site-packages (from matplotlib->wordcloud) (4.49.0)\n",
      "Requirement already satisfied: kiwisolver>=1.3.1 in /usr/local/lib/python3.11/site-packages (from matplotlib->wordcloud) (1.4.5)\n",
      "Requirement already satisfied: packaging>=20.0 in /usr/local/lib/python3.11/site-packages (from matplotlib->wordcloud) (23.2)\n",
      "Requirement already satisfied: pyparsing>=2.3.1 in /usr/local/lib/python3.11/site-packages (from matplotlib->wordcloud) (3.1.1)\n",
      "Requirement already satisfied: python-dateutil>=2.7 in /usr/local/lib/python3.11/site-packages (from matplotlib->wordcloud) (2.8.2)\n",
      "Requirement already satisfied: six>=1.5 in /usr/local/lib/python3.11/site-packages (from python-dateutil>=2.7->matplotlib->wordcloud) (1.16.0)\n",
      "\u001b[33mWARNING: Running pip as the 'root' user can result in broken permissions and conflicting behaviour with the system package manager. It is recommended to use a virtual environment instead: https://pip.pypa.io/warnings/venv\u001b[0m\u001b[33m\n",
      "\u001b[0m"
     ]
    }
   ],
   "source": [
    "!pip install wordcloud"
   ]
  },
  {
   "cell_type": "code",
   "execution_count": 61,
   "id": "0f159744-7a51-4306-866f-90c3debef51e",
   "metadata": {},
   "outputs": [],
   "source": [
    "word_dictionary_text = np.array(word_dictionary)\n",
    "word_dictionary = ' '.join(word_dictionary_text)"
   ]
  },
  {
   "cell_type": "code",
   "execution_count": 62,
   "id": "cf403323-540d-4457-86d8-4fdc2ad1adef",
   "metadata": {},
   "outputs": [
    {
     "data": {
      "text/plain": [
       "'가격 가능 가능성 가다 가동 가보다 가속 가시 가약 가이드라인 가인 가장 가정 가제 가족 가지 가천대 가치 가톨릭대 가협 간다 간담 간염 간질 간호사 갈다 갈라 감사패 감서 감소 감염 감염병 갑론 강남 강소 강연 강원 강좌 강직 강화 갖추다 개강 개년 개다 개막 개발 개방 개선 개설 개성 개시 개원 개월 개인 개정 개척 개최 개편 개혁 객관 거대 거래 거점 건강 건강검진 건설 건수 건양대 건의 걷기 걸다 걸리다 걸음 검사 검체 검토 게놈 게재 견인 결과 결산 결실 결정 결핍 결함 경감 경고 경구 경력 경북 경영 경쟁 경쟁력 경제 경제성 경평 경희대 계명대 계속 계약 계층 계획 고가 고객 고대 고려 고령화 고민 고사 고셔병 고속 고정용 고통 고혈압 고형 골다 골다공증 골수 공감 공개 공고 공급 공단 공동 공략 공률 공모 공무원 공백 공식 공유 공익 공제 공학사 공헌 과제 과징금 과학 과학자 관계 관련 관심 관여 관절염 광동 광명 교수 교실 교육 교정 교토대 구매 구성 구지원 구진 구축 국가 국감 국고 국내외 국립 국립대 국민 국산 국소 국정감사 국제 국회 국훈 권고 권세 권역 권역별 규명 규모 규제 그룹 그리다 그치다 극복 근거 근무 근육 글로벌 글로벌화 글리벡 금액 금지 급등 급성 급증 긍정 기관 기구 기금 기기 기념 기능 기대 기독 기록 기린 기반 기부 기술 기술이전 기업 기자 기전 기존 기준 기증 기초 기탁 기형 기회 기획 긴급 길병원 김선민 김승현 김옥 김유미 김현주 꼽히다 꿈꾸다 나가다 나눔 나서다 나오다 나타 난소암 난이도 난청 난치 난치병 난치성질환 낮추다 내과 내년 내다 내분비 내시경 넓히다 넘다 네트워크 넥스 노력 노바티스 노벨 노보 노아 노화 논문 논의 높이 높이다 놓다 뇨증 눈길 늘다 늘리다 닛폰 다발 다짐 다켈 닥터 단계 단백질 단장 단체 단축 단행 달라지다 달러 달리다 달성 당뇨 당선 당체 대거 대구 대규모 대박 대비 대사 대상 대세 대안 대웅제약 대응 대적 대주 대중 대책 대체 대체요법 대통령 대폭 대표 대표이사 대학병원 대형 대화 대회 덕철 데이터 데이터베이스 도약 도입 도전 도출 독감 독보 독점 돌보다 돌연변이 돌입 돌파 돕기 돕다 동등 동력 동맥 동반 동부 동산병원 동아 동행 돼다 되다 두다 둥지 듀피젠트 드림 듣다 들다 등록 등장 등재 디스 디스크 디지털 뛰다 라라 라벨 라운드 라이선스 랜드 랩스 러시아 런칭 레드 레블리 레졸 레프 로병 로슈 론칭 롤론 롤리스 루게릭 루게릭병 루고 루스 루트 류마티스 리더 리더십 리베이트 리브 리스 리아 리언 린지 릴레이 릴리 림프 림프종 링거 마련 마리 마진 마케팅 마크로 만나다 만들다 만성 말단비대증 망막 맞다 맞추다 맞춤 매각 매년 매출 맥스 먹다 메다 메카 면역 면제 면허 명의 모건 모델 모든 모색 모습 모야 모집 목록 목소리 목표 무료 무상 무한 문병원 문재인 문제 문턱 문화 물질 뮤코다당증 미국 미나 미드 미라 미래 미술 미스 미쓰비시 미토콘드리아 민간 민강 밀러 바뀌다 바라보다 바이 바이러스 바이엘 바이오 박사 박살 박스 박차 반대 반발 반영 반응 발간 발견 발굴 발매 발병 발생 발성 발작 발전 발표 발휘 밝혀지다 밝히다 방문 방사선 방안 방역 방향 배경 배송 백병원 백신 백일장 백혈병 뱅크 범위 법령 법안 법인 변경 변성 변화 별도 별로 병약 병용 병증 병환 보강 보건 보건복지부 보고 보고서 보급 보다 보료 보사 보상 보장 보조 보험 보호자 복지 복지부 복합 본격 본부 본부장 본인 봇물 봉사 부광 부금 부담 부문 부산 부상 부서 부정맥 부족 부종 부천 부회장 북부 분담 분당 분당차병원 분당차여성병원 분석 분야 불가 불다 불명 불우 브라질 블록 블록버스터 블루 비결 비교 비급 비다 비대 비만 비앤티 비용 비정 비타 비프 빅데이터 빌다 사각 사내 사다 사랑 사례 사망률 사설 사실 사업 사오다 사용 사이언스 사장 사전 사항 사회 사후관리 삭감 산모 산업 산전 산정 산책 산타 산학 살펴보다 삼성 삼진 상공 상급 상담 상무 상반기 상상 상세 상승 상위 상장 상적 상한 상향 새해 생동 생략 생명공학 생명과학 생물 생물학 생산 생존 생태계 서구 서다 서비스 서울 서울시 선구자 선도 선물 선봬 선수 선임 선정 선진 선천성 선출 선택 설계 설립 설명 설전 설치 섬유 성경 성골 성공 성과 성교육 성금 성기 성모 성분 성인 성장 성장동력 성장호르몬 성황리 세계 세다 세대 세레델 세미나 세브란스 세브란스병원 세액 세이 세종 센터 센티 셀트리온 소득 소마 소비 소외 소요 소장 소통 소화기 손잡다 손질 솔루션 솔리 송도 쇄도 수가 수급 수도 수립 수상 수술 수용체 수입 수준 수집 수출 수행 수혜 순위 순천향대 숨통 스마 스마일 스위스 스타트 스타트업 스템 스토 스트렌식 스파 스페셜 스핀 승부 승인 승진 시급 시대 시력 시민 시범 시상식 시선 시설 시술 시스템 시약 시온 시작 시장 시책 시판 시행 시험 식도 식약처 식약청 식이 식품 신경 신경과학 신경섬유 신경학 신규 신년 신다 신생아 신설 신속 신야 신약 신임 신입 신장 신종 신청 신탁 신한카드 신호 실명 실적 실질 실천 심부전 심사 심의 심장 심정 심층 심포지엄 심포지움 심화 아가 아기 아동 아산 아산병원 아스 아스트 아시아 아주 아주대 아주대병원 아태 아토피 악성 악용 악템 안과 안면 안산 안암 안전 안전성 않다 알다 알렉 알리 암치료 앞당기다 앞장 애브비 애인 야간 약국 약물 약사 약제 약품 양도 양산 어린이 어린이날 어린이병원 어울림 억제 억제제 얼룩말 업계 업무 업체 에스티 엑스 엔젤 엔트레 엘라 엘리 여개 여건 여명 여성 여의 역할 연간 연관 연구 연구개발 연구소 연구원 연구자 연금 연기 연내 연말 연속 연장 연주회 연합 열다 열리다 열풍 염기서열 염증 염증성장질환 영상 영업 영역 영진 영향 예고 예방 예산 예산안 예술 예측 오노 오락 오스 오진 오프 오픈 온라인 온스 올리다 올해 옵션 완료 완치 완화 왓슨 외과 요건 요구 요법 요양 요청 용량 용인 용제 우대 우려 우리나라 우수 우회 운영 울다 울산 워드 워크숍 원광대 원금 원대 원료 원인 원자력병원 원장 원주 원추각막 원칙 월드 위기 위반 위상 위원회 위축 위탁 위험 윌리 유데나필 유래 유럽 유력 유망 유방 유방암 유연성 유용성 유전 유전병 유전상담 유전자 유전체 유지 유치 유통 유한 유한양행 육박 육성 윤곽 은행 은희 음악회 응원 의견 의대 의뢰 의료 의료기기 의료인 의무 의미 의사 의심 의약 의약품 의연 의원 의존 의지 의학 의학유전학 의협 이노베이션 이다 이드 이벤트 이사 이사장 이수앱지스 이식 이어지다 이오 이완 이용 이웃 이유 이익 이제 이프 이형성 이후 인공 인력 인사 인산 인상 인생 인수 인수합병 인식 인정 인제대 인증 인천 인체 인터뷰 인하 일간 일루 일반 일본 일본인 일부 일산 일으키다 일제 일치 임박 임상시험 임신 임원 입성 입센 입원 입증 입찰 입학 잇다 잇따르다 자가 자국 자금 자다 자료 자사 자산 자원 자율 자회사 작성 잔치 잡다 장관 장기 장기간 장애 재난 재다 재단 재료 재발 재생 재정 재편 재활 저분자 저하 적극 적다 적용 적응 적정 전개 전공 전국 전기 전담 전략 전립선암 전망 전면 전무 전문 전문가 전북 전북대 전시회 전액 전지원 전체 전환 절감 절개 절반 절실 절약 절차 접근성 접수 정기 정년 정리 정립 정밀 정법 정보 정부 정원 정진 정착 정책 정체 정형외과 제공 제넥신 제도 제로 제비 제시 제안 제약 제약기업 제약업 제외 제재 제정 제제 제조 제출 제품 제한 제화 제휴 조건 조기 조명 조사 조성 조절 조정 조직 존중 졸겐 졸업 종근당 종병 종양 종양학 종증 종합 주관 주년 주도 주력 주로 주목 주문 주요 주자 주주 준공 줄기세포 줄어들다 줄이다 중개 중국 중단 중소 중심 중앙 중앙대 중외 중요 중점 중증 증가 증상 증약 증후군 지견 지경부 지급 지난해 지놈 지능 지대 지르다 지속 지식베이스 지역 지원 지자체 지질 지출 지침 지키다 지표 지혈 직원 직접 진단 진료 진심 진입 진찰 진출 진타 진행 진흥 집중 찌산쿄 차별 차병원 차세대 차지 차질 착수 참가 참가자 참여 참조 창간 창덕 창립 창원 찾기 찾다 채다 채용 책임 책임자 책임지다 책자 처방 처방약 처벌 척수 척추 천식 첨단 청소년 청장 체결 체계 체제 체트 초고 초과 초기 초록 초음파 초청 촉구 촉진 총괄 최고 최대 최소 최신 최우수 최초 추가 추다 추세 추진 축소 축적 축하 출범 출산 출시 출혈 충남 충남대 충북대 취득 취임 치과 치료법 치매 치열 칠곡 침착 카바 카보잔티닙 캐슬 캠페인 캡슐 커버 컨퍼런스 케미칼 케어 케이 코다 코리아 코셀 코젠 콘서트 콜레스테롤 크다 크론병 크리스 크리스마스 클리 클립스 키우다 키트 키프 타깃 타트 탄력 탄생 탐방 태아 테라 텐션 텔라스 토끼 토론회 토미리스 통계 통과 통제 통증 통한 통합 통해 투병 투약 투여 투입 투자 트랙 트로피 트루 트리 트릭 특례 특성 특수 특유 특집 특허 틀다 티닙 티스 파다 파마 파브 파이프라인 파킨슨병 파트너 판권 판매 판별 패널 패러다임 패스 패스트 퍼스트 펀드 펀딩 페닐케톤뇨증 편두통 편집 평가 평균 평위 폐동맥 폐렴 폐지 포괄 포도 포럼 포브스 포스트 포엠 포퓰리즘 포함 폴드 폼페병 표적 표준 표창 표피 풀다 품목 품질 프라 프래 프레 프로그램 프로젝트 프리 플랫폼 플러스 피부 피스 픽스 필드 필수 필요 필요성 하모니카 하반기 하제 학계 학교 학생 학술 학술지 학제 학회 한국인 합동 합성 합의 합작 항목 항암제 항원 항체 해결 해법 해석 해소 해외 핵산 핵심 햇반 행보 행사 행성 행정 향상 향후 허가 허다 허브 허용 헌혈 헌혈증 헬릭스 헬스 헴리브 혁신 현미 현실 현안 현장 현황 혈관 혈색 혈소판 혈액 혈액질환 혈우병 혈증 협력 협상 협약 협업 협의 협정 협진 협회 형평성 혜택 호조 호주 호킹 호흡 호흡기 홀딩스 홈페이지 홍보 화두 화이자 화제 화증 화학 확대 확보 확산 확인 확장 확정 확진 환경 환급 환영 환우 활기 활동 활발 활성화 활용 활황 회복 회서 회원 회의 회장 획기 획득 효과 효능 효소 효율 후보 후속 후원 휴먼 희귀난치성질환 희망 희소 희소식'"
      ]
     },
     "execution_count": 62,
     "metadata": {},
     "output_type": "execute_result"
    }
   ],
   "source": [
    "word_dictionary"
   ]
  },
  {
   "cell_type": "code",
   "execution_count": 63,
   "id": "5e9fb696-aedd-482c-a4b7-8e3f4c55c60f",
   "metadata": {},
   "outputs": [
    {
     "name": "stdout",
     "output_type": "stream",
     "text": [
      "/usr/share/fonts/truetype/nanum/NanumBarunGothic.ttf\n"
     ]
    }
   ],
   "source": [
    "!ls /usr/share/fonts/truetype/nanum/NanumBarunGothic.ttf"
   ]
  },
  {
   "cell_type": "code",
   "execution_count": 64,
   "id": "cbef43ec-c2bd-4442-9fef-ec3fa2eac037",
   "metadata": {},
   "outputs": [
    {
     "ename": "NameError",
     "evalue": "name 'dictionary_text' is not defined",
     "output_type": "error",
     "traceback": [
      "\u001b[0;31m---------------------------------------------------------------------------\u001b[0m",
      "\u001b[0;31mNameError\u001b[0m                                 Traceback (most recent call last)",
      "Cell \u001b[0;32mIn[64], line 5\u001b[0m\n\u001b[1;32m      2\u001b[0m \u001b[38;5;28;01mfrom\u001b[39;00m \u001b[38;5;21;01mcollections\u001b[39;00m \u001b[38;5;28;01mimport\u001b[39;00m Counter\n\u001b[1;32m      3\u001b[0m wordCloud \u001b[38;5;241m=\u001b[39m WordCloud(background_color\u001b[38;5;241m=\u001b[39m\u001b[38;5;124m'\u001b[39m\u001b[38;5;124mwhite\u001b[39m\u001b[38;5;124m'\u001b[39m\n\u001b[1;32m      4\u001b[0m                       , font_path\u001b[38;5;241m=\u001b[39m\u001b[38;5;124m'\u001b[39m\u001b[38;5;124m/usr/share/fonts/truetype/nanum/NanumBarunGothic.ttf\u001b[39m\u001b[38;5;124m'\u001b[39m)\n\u001b[0;32m----> 5\u001b[0m wordCloud\u001b[38;5;241m.\u001b[39mgenerate_from_text(\u001b[43mdictionary_text\u001b[49m)\n",
      "\u001b[0;31mNameError\u001b[0m: name 'dictionary_text' is not defined"
     ]
    }
   ],
   "source": [
    "from wordcloud import WordCloud\n",
    "from collections import Counter\n",
    "wordCloud = WordCloud(background_color='white'\n",
    "                      , font_path='/usr/share/fonts/truetype/nanum/NanumBarunGothic.ttf')\n",
    "wordCloud.generate_from_text(dictionary_text)"
   ]
  },
  {
   "cell_type": "code",
   "execution_count": 68,
   "id": "baa25230-c09b-4d84-bbea-ca7c2729d271",
   "metadata": {},
   "outputs": [],
   "source": [
    "### 앵그램 찾기\n",
    "def find_anagrams(text):\n",
    "    words = text.split()\n",
    "    anagrams ={}\n",
    "    for word in words :\n",
    "        sorted_word = ''.join(sorted(word.lower()))\n",
    "        if sorted_word in anagrams :\n",
    "            anagrams[sorted_word].append(word)\n",
    "        else :\n",
    "            anagrams[sorted_word] = [word]\n",
    "    return {key:value for key, value in anagrams.items() if len(value) >1 }"
   ]
  },
  {
   "cell_type": "code",
   "execution_count": 69,
   "id": "a33089fa-6ee3-4d35-ae0a-64deb8cfb191",
   "metadata": {},
   "outputs": [],
   "source": [
    "anagrams = find_anagrams(word_dictionary)"
   ]
  },
  {
   "cell_type": "code",
   "execution_count": 70,
   "id": "7b4e7c62-1d09-4ca7-90e2-fd106078e85f",
   "metadata": {},
   "outputs": [],
   "source": [
    "wordcloud_an = WordCloud(width=800, height=400, background_color='white', font_path='/usr/share/fonts/truetype/nanum/NanumBarunGothic.ttf').generate_from_frequencies(Counter(anagrams.keys()))"
   ]
  },
  {
   "cell_type": "code",
   "execution_count": 71,
   "id": "06410f0d-7831-4957-89e2-fa2b5cf68f95",
   "metadata": {},
   "outputs": [
    {
     "data": {
      "image/png": "[encoded data removed]",
      "text/plain": [
       "<Figure size 640x480 with 1 Axes>"
      ]
     },
     "metadata": {},
     "output_type": "display_data"
    }
   ],
   "source": [
    "import matplotlib.pyplot as plt\n",
    "plt.imshow(wordcloud_an)\n",
    "plt.axis('off')\n",
    "plt.show()"
   ]
  }
 ],
 "metadata": {
  "kernelspec": {
   "display_name": "Python 3 (ipykernel)",
   "language": "python",
   "name": "python3"
  },
  "language_info": {
   "codemirror_mode": {
    "name": "ipython",
    "version": 3
   },
   "file_extension": ".py",
   "mimetype": "text/x-python",
   "name": "python",
   "nbconvert_exporter": "python",
   "pygments_lexer": "ipython3",
   "version": "3.11.8"
  }
 },
 "nbformat": 4,
 "nbformat_minor": 5
}
