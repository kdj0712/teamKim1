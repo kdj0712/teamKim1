{
 "cells": [
  {
   "cell_type": "markdown",
   "id": "0087e67d-5d23-4753-afc3-505191f07d20",
   "metadata": {},
   "source": [
    "# 사용자 맞춤 뉴스 추천 모델링"
   ]
  },
  {
   "cell_type": "code",
   "execution_count": 1,
   "id": "29806873-300b-4c8b-83b7-85ffc9936571",
   "metadata": {},
   "outputs": [],
   "source": [
    "import pandas as pd\n",
    "import numpy as np"
   ]
  },
  {
   "cell_type": "code",
   "execution_count": 2,
   "id": "da4e1ebb-d306-4585-82b0-db32cf4a1385",
   "metadata": {},
   "outputs": [
    {
     "data": {
      "text/html": [
       "<div>\n",
       "<style scoped>\n",
       "    .dataframe tbody tr th:only-of-type {\n",
       "        vertical-align: middle;\n",
       "    }\n",
       "\n",
       "    .dataframe tbody tr th {\n",
       "        vertical-align: top;\n",
       "    }\n",
       "\n",
       "    .dataframe thead th {\n",
       "        text-align: right;\n",
       "    }\n",
       "</style>\n",
       "<table border=\"1\" class=\"dataframe\">\n",
       "  <thead>\n",
       "    <tr style=\"text-align: right;\">\n",
       "      <th></th>\n",
       "      <th>news_title</th>\n",
       "      <th>news_url</th>\n",
       "      <th>news_when</th>\n",
       "      <th>news_topic</th>\n",
       "      <th>news_paper</th>\n",
       "      <th>news_contents</th>\n",
       "    </tr>\n",
       "  </thead>\n",
       "  <tbody>\n",
       "    <tr>\n",
       "      <th>0</th>\n",
       "      <td>한국쿄와기린, 세계 희귀질환의 날 행사 참여</td>\n",
       "      <td>http://www.bosa.co.kr/news/articleView.html?id...</td>\n",
       "      <td>2024-02-29</td>\n",
       "      <td>의료/법안</td>\n",
       "      <td>의학신문</td>\n",
       "      <td>[의학신문·일간보사=김영주 기자]‘세계 희귀질환의 날’을 맞아 한국쿄와기린은 그룹에...</td>\n",
       "    </tr>\n",
       "    <tr>\n",
       "      <th>1</th>\n",
       "      <td>광동제약, ‘세계 희귀질환의 날’ 기념 환아 작품 전시회 개최</td>\n",
       "      <td>http://www.bosa.co.kr/news/articleView.html?id...</td>\n",
       "      <td>2024-02-29</td>\n",
       "      <td>신약/개발</td>\n",
       "      <td>의학신문</td>\n",
       "      <td>[의학신문·일간보사=김영주 기자]광동제약(대표 최성원)은 ‘세계 희귀질환의 날’을 ...</td>\n",
       "    </tr>\n",
       "    <tr>\n",
       "      <th>2</th>\n",
       "      <td>순천향대 부천병원 신영림 교수, ‘질병관리청장 표창’ 수상</td>\n",
       "      <td>http://www.bosa.co.kr/news/articleView.html?id...</td>\n",
       "      <td>2024-02-29</td>\n",
       "      <td>심포지엄/행사</td>\n",
       "      <td>의학신문</td>\n",
       "      <td>[의학신문·일간보사=이상만 기자]순천향대 부천병원 소아청소년과 신영림 교수(사진)가...</td>\n",
       "    </tr>\n",
       "    <tr>\n",
       "      <th>3</th>\n",
       "      <td>창립 70주년 한독, ‘THANKS CAMPAIGN’ 실시</td>\n",
       "      <td>http://www.bosa.co.kr/news/articleView.html?id...</td>\n",
       "      <td>2024-02-29</td>\n",
       "      <td>의료/법안</td>\n",
       "      <td>의학신문</td>\n",
       "      <td>[의학신문·일간보사=김정일 기자] 한독(대표이사 김영진, 백진기)이 창립 70주년을...</td>\n",
       "    </tr>\n",
       "    <tr>\n",
       "      <th>4</th>\n",
       "      <td>[세계 희귀질환의 날] 국가‧사회‧이웃‧의료진‧가족 함께 가야 한다</td>\n",
       "      <td>http://www.bosa.co.kr/news/articleView.html?id...</td>\n",
       "      <td>2024-02-29</td>\n",
       "      <td>신약/개발</td>\n",
       "      <td>의학신문</td>\n",
       "      <td>[의학신문·일간보사=오인규 기자] “이건 신이 실수를 하신 거다. 그러니 너무 자책...</td>\n",
       "    </tr>\n",
       "  </tbody>\n",
       "</table>\n",
       "</div>"
      ],
      "text/plain": [
       "                              news_title  \\\n",
       "0               한국쿄와기린, 세계 희귀질환의 날 행사 참여   \n",
       "1     광동제약, ‘세계 희귀질환의 날’ 기념 환아 작품 전시회 개최   \n",
       "2       순천향대 부천병원 신영림 교수, ‘질병관리청장 표창’ 수상   \n",
       "3       창립 70주년 한독, ‘THANKS CAMPAIGN’ 실시   \n",
       "4  [세계 희귀질환의 날] 국가‧사회‧이웃‧의료진‧가족 함께 가야 한다   \n",
       "\n",
       "                                            news_url   news_when news_topic  \\\n",
       "0  http://www.bosa.co.kr/news/articleView.html?id...  2024-02-29      의료/법안   \n",
       "1  http://www.bosa.co.kr/news/articleView.html?id...  2024-02-29      신약/개발   \n",
       "2  http://www.bosa.co.kr/news/articleView.html?id...  2024-02-29    심포지엄/행사   \n",
       "3  http://www.bosa.co.kr/news/articleView.html?id...  2024-02-29      의료/법안   \n",
       "4  http://www.bosa.co.kr/news/articleView.html?id...  2024-02-29      신약/개발   \n",
       "\n",
       "  news_paper                                      news_contents  \n",
       "0       의학신문  [의학신문·일간보사=김영주 기자]‘세계 희귀질환의 날’을 맞아 한국쿄와기린은 그룹에...  \n",
       "1       의학신문  [의학신문·일간보사=김영주 기자]광동제약(대표 최성원)은 ‘세계 희귀질환의 날’을 ...  \n",
       "2       의학신문  [의학신문·일간보사=이상만 기자]순천향대 부천병원 소아청소년과 신영림 교수(사진)가...  \n",
       "3       의학신문  [의학신문·일간보사=김정일 기자] 한독(대표이사 김영진, 백진기)이 창립 70주년을...  \n",
       "4       의학신문  [의학신문·일간보사=오인규 기자] “이건 신이 실수를 하신 거다. 그러니 너무 자책...  "
      ]
     },
     "execution_count": 2,
     "metadata": {},
     "output_type": "execute_result"
    }
   ],
   "source": [
    "df_bosa = pd.read_csv(\"./bosa_news_all.csv\")\n",
    "df_bosa.head()"
   ]
  },
  {
   "cell_type": "code",
   "execution_count": 3,
   "id": "d4f73e91-60df-4660-9f42-b72a2a00cfeb",
   "metadata": {},
   "outputs": [],
   "source": [
    "df_bosa['news_when'] = pd.to_datetime(df_bosa['news_when'])"
   ]
  },
  {
   "cell_type": "code",
   "execution_count": 4,
   "id": "a149102c-e7b5-4eee-9927-145c408fc926",
   "metadata": {},
   "outputs": [
    {
     "data": {
      "text/html": [
       "<div>\n",
       "<style scoped>\n",
       "    .dataframe tbody tr th:only-of-type {\n",
       "        vertical-align: middle;\n",
       "    }\n",
       "\n",
       "    .dataframe tbody tr th {\n",
       "        vertical-align: top;\n",
       "    }\n",
       "\n",
       "    .dataframe thead th {\n",
       "        text-align: right;\n",
       "    }\n",
       "</style>\n",
       "<table border=\"1\" class=\"dataframe\">\n",
       "  <thead>\n",
       "    <tr style=\"text-align: right;\">\n",
       "      <th></th>\n",
       "      <th>news_title</th>\n",
       "      <th>news_url</th>\n",
       "      <th>news_when</th>\n",
       "      <th>news_topic</th>\n",
       "      <th>news_paper</th>\n",
       "      <th>news_contents</th>\n",
       "    </tr>\n",
       "  </thead>\n",
       "  <tbody>\n",
       "    <tr>\n",
       "      <th>0</th>\n",
       "      <td>한국쿄와기린, 세계 희귀질환의 날 행사 참여</td>\n",
       "      <td>http://www.bosa.co.kr/news/articleView.html?id...</td>\n",
       "      <td>2024-02-29</td>\n",
       "      <td>의료/법안</td>\n",
       "      <td>의학신문</td>\n",
       "      <td>[의학신문·일간보사=김영주 기자]‘세계 희귀질환의 날’을 맞아 한국쿄와기린은 그룹에...</td>\n",
       "    </tr>\n",
       "    <tr>\n",
       "      <th>1</th>\n",
       "      <td>광동제약, ‘세계 희귀질환의 날’ 기념 환아 작품 전시회 개최</td>\n",
       "      <td>http://www.bosa.co.kr/news/articleView.html?id...</td>\n",
       "      <td>2024-02-29</td>\n",
       "      <td>신약/개발</td>\n",
       "      <td>의학신문</td>\n",
       "      <td>[의학신문·일간보사=김영주 기자]광동제약(대표 최성원)은 ‘세계 희귀질환의 날’을 ...</td>\n",
       "    </tr>\n",
       "    <tr>\n",
       "      <th>2</th>\n",
       "      <td>순천향대 부천병원 신영림 교수, ‘질병관리청장 표창’ 수상</td>\n",
       "      <td>http://www.bosa.co.kr/news/articleView.html?id...</td>\n",
       "      <td>2024-02-29</td>\n",
       "      <td>심포지엄/행사</td>\n",
       "      <td>의학신문</td>\n",
       "      <td>[의학신문·일간보사=이상만 기자]순천향대 부천병원 소아청소년과 신영림 교수(사진)가...</td>\n",
       "    </tr>\n",
       "    <tr>\n",
       "      <th>3</th>\n",
       "      <td>창립 70주년 한독, ‘THANKS CAMPAIGN’ 실시</td>\n",
       "      <td>http://www.bosa.co.kr/news/articleView.html?id...</td>\n",
       "      <td>2024-02-29</td>\n",
       "      <td>의료/법안</td>\n",
       "      <td>의학신문</td>\n",
       "      <td>[의학신문·일간보사=김정일 기자] 한독(대표이사 김영진, 백진기)이 창립 70주년을...</td>\n",
       "    </tr>\n",
       "    <tr>\n",
       "      <th>4</th>\n",
       "      <td>[세계 희귀질환의 날] 국가‧사회‧이웃‧의료진‧가족 함께 가야 한다</td>\n",
       "      <td>http://www.bosa.co.kr/news/articleView.html?id...</td>\n",
       "      <td>2024-02-29</td>\n",
       "      <td>신약/개발</td>\n",
       "      <td>의학신문</td>\n",
       "      <td>[의학신문·일간보사=오인규 기자] “이건 신이 실수를 하신 거다. 그러니 너무 자책...</td>\n",
       "    </tr>\n",
       "  </tbody>\n",
       "</table>\n",
       "</div>"
      ],
      "text/plain": [
       "                              news_title  \\\n",
       "0               한국쿄와기린, 세계 희귀질환의 날 행사 참여   \n",
       "1     광동제약, ‘세계 희귀질환의 날’ 기념 환아 작품 전시회 개최   \n",
       "2       순천향대 부천병원 신영림 교수, ‘질병관리청장 표창’ 수상   \n",
       "3       창립 70주년 한독, ‘THANKS CAMPAIGN’ 실시   \n",
       "4  [세계 희귀질환의 날] 국가‧사회‧이웃‧의료진‧가족 함께 가야 한다   \n",
       "\n",
       "                                            news_url  news_when news_topic  \\\n",
       "0  http://www.bosa.co.kr/news/articleView.html?id... 2024-02-29      의료/법안   \n",
       "1  http://www.bosa.co.kr/news/articleView.html?id... 2024-02-29      신약/개발   \n",
       "2  http://www.bosa.co.kr/news/articleView.html?id... 2024-02-29    심포지엄/행사   \n",
       "3  http://www.bosa.co.kr/news/articleView.html?id... 2024-02-29      의료/법안   \n",
       "4  http://www.bosa.co.kr/news/articleView.html?id... 2024-02-29      신약/개발   \n",
       "\n",
       "  news_paper                                      news_contents  \n",
       "0       의학신문  [의학신문·일간보사=김영주 기자]‘세계 희귀질환의 날’을 맞아 한국쿄와기린은 그룹에...  \n",
       "1       의학신문  [의학신문·일간보사=김영주 기자]광동제약(대표 최성원)은 ‘세계 희귀질환의 날’을 ...  \n",
       "2       의학신문  [의학신문·일간보사=이상만 기자]순천향대 부천병원 소아청소년과 신영림 교수(사진)가...  \n",
       "3       의학신문  [의학신문·일간보사=김정일 기자] 한독(대표이사 김영진, 백진기)이 창립 70주년을...  \n",
       "4       의학신문  [의학신문·일간보사=오인규 기자] “이건 신이 실수를 하신 거다. 그러니 너무 자책...  "
      ]
     },
     "execution_count": 4,
     "metadata": {},
     "output_type": "execute_result"
    }
   ],
   "source": [
    "df_bosa.head()"
   ]
  },
  {
   "cell_type": "code",
   "execution_count": 5,
   "id": "0d475e71-e01f-46bd-a315-30f771d7f67c",
   "metadata": {},
   "outputs": [],
   "source": [
    "df_bosa.dropna(subset=['news_title'], inplace=True)"
   ]
  },
  {
   "cell_type": "code",
   "execution_count": 6,
   "id": "44c8757a-f8f8-4d3f-94a0-66e5e5497ff2",
   "metadata": {},
   "outputs": [],
   "source": [
    "df_bosa.to_csv('bosa_news_all.csv', index=False)"
   ]
  },
  {
   "cell_type": "code",
   "execution_count": 7,
   "id": "755070ac-7301-40d9-88c7-5d9abaffcb0a",
   "metadata": {},
   "outputs": [
    {
     "data": {
      "text/plain": [
       "news_topic\n",
       "의료/법안      874\n",
       "신약/개발      824\n",
       "심포지엄/행사    727\n",
       "Name: count, dtype: int64"
      ]
     },
     "execution_count": 7,
     "metadata": {},
     "output_type": "execute_result"
    }
   ],
   "source": [
    "df_bosa['news_topic'].value_counts()  #제약/개발 #병원 #법령/정책 #의료기기 #학회/학술 #"
   ]
  },
  {
   "cell_type": "code",
   "execution_count": 8,
   "id": "9d0f5228-32c5-4142-9a08-e9eb0eea98f5",
   "metadata": {},
   "outputs": [
    {
     "data": {
      "text/plain": [
       "<bound method DataFrame.info of                                  news_title  \\\n",
       "0                  한국쿄와기린, 세계 희귀질환의 날 행사 참여   \n",
       "1        광동제약, ‘세계 희귀질환의 날’ 기념 환아 작품 전시회 개최   \n",
       "2          순천향대 부천병원 신영림 교수, ‘질병관리청장 표창’ 수상   \n",
       "3          창립 70주년 한독, ‘THANKS CAMPAIGN’ 실시   \n",
       "4     [세계 희귀질환의 날] 국가‧사회‧이웃‧의료진‧가족 함께 가야 한다   \n",
       "...                                     ...   \n",
       "2420                     26일 `희귀질환 치료' 심포지엄   \n",
       "2421                  `희귀^난치성질환자 연합회' 구성 추진   \n",
       "2422                      책임운영기관 평가 “적정성 결여   \n",
       "2423                    먹지도 굶지도 못하는 희귀질환 발견   \n",
       "2424                희귀의약품센터 공익성 기부금 대상단체 지정   \n",
       "\n",
       "                                               news_url  news_when news_topic  \\\n",
       "0     http://www.bosa.co.kr/news/articleView.html?id... 2024-02-29      의료/법안   \n",
       "1     http://www.bosa.co.kr/news/articleView.html?id... 2024-02-29      신약/개발   \n",
       "2     http://www.bosa.co.kr/news/articleView.html?id... 2024-02-29    심포지엄/행사   \n",
       "3     http://www.bosa.co.kr/news/articleView.html?id... 2024-02-29      의료/법안   \n",
       "4     http://www.bosa.co.kr/news/articleView.html?id... 2024-02-29      신약/개발   \n",
       "...                                                 ...        ...        ...   \n",
       "2420  http://www.bosa.co.kr/news/articleView.html?id... 2001-05-22      의료/법안   \n",
       "2421  http://www.bosa.co.kr/news/articleView.html?id... 2001-05-10      신약/개발   \n",
       "2422  http://www.bosa.co.kr/news/articleView.html?id... 2001-04-16      의료/법안   \n",
       "2423  http://www.bosa.co.kr/news/articleView.html?id... 2001-04-11    심포지엄/행사   \n",
       "2424  http://www.bosa.co.kr/news/articleView.html?id... 2001-01-16    심포지엄/행사   \n",
       "\n",
       "     news_paper                                      news_contents  \n",
       "0          의학신문  [의학신문·일간보사=김영주 기자]‘세계 희귀질환의 날’을 맞아 한국쿄와기린은 그룹에...  \n",
       "1          의학신문  [의학신문·일간보사=김영주 기자]광동제약(대표 최성원)은 ‘세계 희귀질환의 날’을 ...  \n",
       "2          의학신문  [의학신문·일간보사=이상만 기자]순천향대 부천병원 소아청소년과 신영림 교수(사진)가...  \n",
       "3          의학신문  [의학신문·일간보사=김정일 기자] 한독(대표이사 김영진, 백진기)이 창립 70주년을...  \n",
       "4          의학신문  [의학신문·일간보사=오인규 기자] “이건 신이 실수를 하신 거다. 그러니 너무 자책...  \n",
       "...         ...                                                ...  \n",
       "2420       의학신문                                                NaN  \n",
       "2421       의학신문                                                NaN  \n",
       "2422       의학신문                                                NaN  \n",
       "2423       의학신문                                                NaN  \n",
       "2424       의학신문                                                NaN  \n",
       "\n",
       "[2425 rows x 6 columns]>"
      ]
     },
     "execution_count": 8,
     "metadata": {},
     "output_type": "execute_result"
    }
   ],
   "source": [
    "df_bosa.info"
   ]
  },
  {
   "cell_type": "code",
   "execution_count": 9,
   "id": "468a3497-e076-4b4d-a52f-413a14b4c378",
   "metadata": {},
   "outputs": [
    {
     "data": {
      "text/plain": [
       "news_title         0\n",
       "news_url           0\n",
       "news_when          0\n",
       "news_topic         0\n",
       "news_paper         0\n",
       "news_contents    283\n",
       "dtype: int64"
      ]
     },
     "execution_count": 9,
     "metadata": {},
     "output_type": "execute_result"
    }
   ],
   "source": [
    "df_bosa.isnull().sum()"
   ]
  },
  {
   "cell_type": "code",
   "execution_count": 10,
   "id": "462c394a-fd9c-4c67-9efe-54af5dffe994",
   "metadata": {},
   "outputs": [],
   "source": [
    "df_bosa = df_bosa.reset_index().drop(columns='index')"
   ]
  },
  {
   "cell_type": "code",
   "execution_count": 11,
   "id": "6630012b-cd79-4685-b385-902c0a34720c",
   "metadata": {},
   "outputs": [],
   "source": [
    "df_bosa_test1 = df_bosa.copy()"
   ]
  },
  {
   "cell_type": "code",
   "execution_count": 12,
   "id": "3253ffa1-1bd1-45dd-b163-dad08414213b",
   "metadata": {},
   "outputs": [
    {
     "name": "stdout",
     "output_type": "stream",
     "text": [
      "<class 'pandas.core.frame.DataFrame'>\n",
      "RangeIndex: 2425 entries, 0 to 2424\n",
      "Data columns (total 6 columns):\n",
      " #   Column         Non-Null Count  Dtype         \n",
      "---  ------         --------------  -----         \n",
      " 0   news_title     2425 non-null   object        \n",
      " 1   news_url       2425 non-null   object        \n",
      " 2   news_when      2425 non-null   datetime64[ns]\n",
      " 3   news_topic     2425 non-null   object        \n",
      " 4   news_paper     2425 non-null   object        \n",
      " 5   news_contents  2142 non-null   object        \n",
      "dtypes: datetime64[ns](1), object(5)\n",
      "memory usage: 113.8+ KB\n"
     ]
    }
   ],
   "source": [
    "df_bosa_test1.info()"
   ]
  },
  {
   "cell_type": "markdown",
   "id": "f39d598f-45fd-420f-9a50-b4bd3276e588",
   "metadata": {},
   "source": [
    "## 1. 군집화 후 토픽 분류\n",
    "- 우선 1차적으로 군집을 만들어 어떠한 topic으로 분류되는지 확인해보자"
   ]
  },
  {
   "cell_type": "code",
   "execution_count": 13,
   "id": "9400b940-83de-4301-9d94-96908371b512",
   "metadata": {},
   "outputs": [],
   "source": [
    "df_bosa_test1 = df_bosa.dropna(subset=['news_title'])"
   ]
  },
  {
   "cell_type": "markdown",
   "id": "9306dff4-5063-41bc-b6f0-49ec1a33e30d",
   "metadata": {},
   "source": [
    "### 토큰화"
   ]
  },
  {
   "cell_type": "code",
   "execution_count": 14,
   "id": "1ff70109-fff6-4fec-b67a-a6419ea8d1c4",
   "metadata": {},
   "outputs": [],
   "source": [
    "# 불용어 리스트 생성 '녹십자'\n",
    "stopwords = ['서울대', '희귀질환', '희귀', '대다',  '케다', '소아', '생명', '한국', '한미','사노피', '하다', '급여', '국내', '샤이어',  '스케', '세포'\n",
    "            , '병원',  '질환',  '한독', '화이자제약',  '전달', '질병', '인하대병원',  '관리', '다국적', '환자', '지정', '치료'\n",
    "            , '오다', '헌터', '작년', '브리', '위해', '베다', '받다', '심평원', '코로나', '건보', '화순', '전남대', '실시', '자임','녹십자'\n",
    "            ] #추가 생성 필요\n",
    "f=open('./korean_stopwords_basic.txt') #기본적으로 제공되는 한국어 불용어 리스트 파일\n",
    "lines = f.readlines()\n",
    "for line in lines:\n",
    "    line = line.strip()\n",
    "    stopwords.append(line)\n",
    "f.close()"
   ]
  },
  {
   "cell_type": "code",
   "execution_count": 15,
   "id": "9f8cd981-1667-40d1-b837-7a9216ef58f6",
   "metadata": {},
   "outputs": [],
   "source": [
    "from konlpy.tag import Okt\n",
    "okt = Okt()\n",
    "#토크나이징 함수 정의\n",
    "def tokenizer(raw, pos=['Noun', 'Verb'], stopword=stopwords):\n",
    "    return [\n",
    "        word for word, tag in okt.pos(raw, norm=True, stem=True)\n",
    "        if len(word) >1 and tag in pos and word not in stopword\n",
    "    ]"
   ]
  },
  {
   "cell_type": "code",
   "execution_count": 16,
   "id": "86c46727-f0a0-492b-be91-4b9355bbab1c",
   "metadata": {},
   "outputs": [],
   "source": [
    "from sklearn.feature_extraction.text import TfidfVectorizer\n",
    "tfidfvectorizer = TfidfVectorizer(tokenizer=tokenizer, max_df=0.95, min_df=3)"
   ]
  },
  {
   "cell_type": "code",
   "execution_count": 17,
   "id": "f2fc1ca3-01c9-4145-a6f2-5a40ebac9321",
   "metadata": {},
   "outputs": [
    {
     "data": {
      "text/plain": [
       "2425"
      ]
     },
     "execution_count": 17,
     "metadata": {},
     "output_type": "execute_result"
    }
   ],
   "source": [
    "len(df_bosa_test1['news_title'])"
   ]
  },
  {
   "cell_type": "code",
   "execution_count": 18,
   "id": "025025d4-4a72-46f3-a5b1-20dd0cd13f63",
   "metadata": {},
   "outputs": [
    {
     "name": "stderr",
     "output_type": "stream",
     "text": [
      "/usr/local/lib/python3.11/site-packages/sklearn/feature_extraction/text.py:525: UserWarning: The parameter 'token_pattern' will not be used since 'tokenizer' is not None'\n",
      "  warnings.warn(\n"
     ]
    }
   ],
   "source": [
    "features = tfidfvectorizer.fit_transform(df_bosa_test1['news_title'])\n",
    "# news_title에 있는 내용을 백터&토큰화"
   ]
  },
  {
   "cell_type": "code",
   "execution_count": 19,
   "id": "3453ddca-7e9f-44d9-85f4-488b980db463",
   "metadata": {},
   "outputs": [
    {
     "data": {
      "text/plain": [
       "(2425, 997)"
      ]
     },
     "execution_count": 19,
     "metadata": {},
     "output_type": "execute_result"
    }
   ],
   "source": [
    "features.shape"
   ]
  },
  {
   "cell_type": "code",
   "execution_count": 20,
   "id": "50feb453-40e1-47cc-bcdb-5632b07e4b69",
   "metadata": {},
   "outputs": [
    {
     "data": {
      "text/plain": [
       "<2425x997 sparse matrix of type '<class 'numpy.float64'>'\n",
       "\twith 9408 stored elements in Compressed Sparse Row format>"
      ]
     },
     "execution_count": 20,
     "metadata": {},
     "output_type": "execute_result"
    }
   ],
   "source": [
    "features"
   ]
  },
  {
   "cell_type": "markdown",
   "id": "d7fb2a1f-343c-488b-90d7-d6f37e842dde",
   "metadata": {
    "jp-MarkdownHeadingCollapsed": true
   },
   "source": [
    "### perplexity를 이용해 확인하기"
   ]
  },
  {
   "cell_type": "code",
   "execution_count": 21,
   "id": "b48b0b6a-31d6-42df-b57e-932045e694db",
   "metadata": {},
   "outputs": [],
   "source": [
    "import pyLDAvis\n",
    "import pyLDAvis.lda_model\n",
    "from sklearn.decomposition import LatentDirichletAllocation"
   ]
  },
  {
   "cell_type": "code",
   "execution_count": 22,
   "id": "ec2fdde7-644a-4f8c-be22-90a9b8bc0699",
   "metadata": {},
   "outputs": [],
   "source": [
    "from sklearn.feature_extraction.text import CountVectorizer"
   ]
  },
  {
   "cell_type": "code",
   "execution_count": 23,
   "id": "8043cc47-731e-4fc8-bde1-6875e6f03d9d",
   "metadata": {},
   "outputs": [],
   "source": [
    "def perplexity(corpus):\n",
    "    best_ppx = float('inf')\n",
    "    best_topic_num = None\n",
    "    for num_topics in range(4,21):\n",
    "        count_vectorizer = CountVectorizer(max_features=100) # 적절한 max_feature 선택\n",
    "        X_count = count_vectorizer.fit_transform(corpus)\n",
    "        # LDA 모델 초기화\n",
    "        lda_model = LatentDirichletAllocation(n_components = num_topics, random_state=55)\n",
    "        lda_model.fit(X_count)\n",
    "        ppx = lda_model.perplexity(X_count)\n",
    "        if ppx < best_ppx :\n",
    "            best_ppx = ppx\n",
    "            best_topic_num = num_topics\n",
    "    print(f\"토픽 수 : {best_topic_num}, 해당 Perplexity : {best_ppx}\")\n",
    "        "
   ]
  },
  {
   "cell_type": "code",
   "execution_count": 24,
   "id": "aa99bf9f-c7b7-4557-9c5b-735a2e3a80d9",
   "metadata": {},
   "outputs": [],
   "source": [
    "# perplexity(df_bosa_test1['news_title'])"
   ]
  },
  {
   "cell_type": "markdown",
   "id": "578b582a-3517-4507-9164-1cbb8e1cdf28",
   "metadata": {},
   "source": [
    "- 토픽 수가 적을 수록 perplexity가 적다(=좋다)고 나옴..."
   ]
  },
  {
   "cell_type": "markdown",
   "id": "886b7b94-215d-473b-b476-150efeea8c2d",
   "metadata": {},
   "source": [
    "### 군집 만들기"
   ]
  },
  {
   "cell_type": "code",
   "execution_count": 25,
   "id": "256b3a33-7a10-41f1-a5ff-2262bd961530",
   "metadata": {},
   "outputs": [
    {
     "data": {
      "text/html": [
       "<style>#sk-container-id-1 {\n",
       "  /* Definition of color scheme common for light and dark mode */\n",
       "  --sklearn-color-text: black;\n",
       "  --sklearn-color-line: gray;\n",
       "  /* Definition of color scheme for unfitted estimators */\n",
       "  --sklearn-color-unfitted-level-0: #fff5e6;\n",
       "  --sklearn-color-unfitted-level-1: #f6e4d2;\n",
       "  --sklearn-color-unfitted-level-2: #ffe0b3;\n",
       "  --sklearn-color-unfitted-level-3: chocolate;\n",
       "  /* Definition of color scheme for fitted estimators */\n",
       "  --sklearn-color-fitted-level-0: #f0f8ff;\n",
       "  --sklearn-color-fitted-level-1: #d4ebff;\n",
       "  --sklearn-color-fitted-level-2: #b3dbfd;\n",
       "  --sklearn-color-fitted-level-3: cornflowerblue;\n",
       "\n",
       "  /* Specific color for light theme */\n",
       "  --sklearn-color-text-on-default-background: var(--sg-text-color, var(--theme-code-foreground, var(--jp-content-font-color1, black)));\n",
       "  --sklearn-color-background: var(--sg-background-color, var(--theme-background, var(--jp-layout-color0, white)));\n",
       "  --sklearn-color-border-box: var(--sg-text-color, var(--theme-code-foreground, var(--jp-content-font-color1, black)));\n",
       "  --sklearn-color-icon: #696969;\n",
       "\n",
       "  @media (prefers-color-scheme: dark) {\n",
       "    /* Redefinition of color scheme for dark theme */\n",
       "    --sklearn-color-text-on-default-background: var(--sg-text-color, var(--theme-code-foreground, var(--jp-content-font-color1, white)));\n",
       "    --sklearn-color-background: var(--sg-background-color, var(--theme-background, var(--jp-layout-color0, #111)));\n",
       "    --sklearn-color-border-box: var(--sg-text-color, var(--theme-code-foreground, var(--jp-content-font-color1, white)));\n",
       "    --sklearn-color-icon: #878787;\n",
       "  }\n",
       "}\n",
       "\n",
       "#sk-container-id-1 {\n",
       "  color: var(--sklearn-color-text);\n",
       "}\n",
       "\n",
       "#sk-container-id-1 pre {\n",
       "  padding: 0;\n",
       "}\n",
       "\n",
       "#sk-container-id-1 input.sk-hidden--visually {\n",
       "  border: 0;\n",
       "  clip: rect(1px 1px 1px 1px);\n",
       "  clip: rect(1px, 1px, 1px, 1px);\n",
       "  height: 1px;\n",
       "  margin: -1px;\n",
       "  overflow: hidden;\n",
       "  padding: 0;\n",
       "  position: absolute;\n",
       "  width: 1px;\n",
       "}\n",
       "\n",
       "#sk-container-id-1 div.sk-dashed-wrapped {\n",
       "  border: 1px dashed var(--sklearn-color-line);\n",
       "  margin: 0 0.4em 0.5em 0.4em;\n",
       "  box-sizing: border-box;\n",
       "  padding-bottom: 0.4em;\n",
       "  background-color: var(--sklearn-color-background);\n",
       "}\n",
       "\n",
       "#sk-container-id-1 div.sk-container {\n",
       "  /* jupyter's `normalize.less` sets `[hidden] { display: none; }`\n",
       "     but bootstrap.min.css set `[hidden] { display: none !important; }`\n",
       "     so we also need the `!important` here to be able to override the\n",
       "     default hidden behavior on the sphinx rendered scikit-learn.org.\n",
       "     See: https://github.com/scikit-learn/scikit-learn/issues/21755 */\n",
       "  display: inline-block !important;\n",
       "  position: relative;\n",
       "}\n",
       "\n",
       "#sk-container-id-1 div.sk-text-repr-fallback {\n",
       "  display: none;\n",
       "}\n",
       "\n",
       "div.sk-parallel-item,\n",
       "div.sk-serial,\n",
       "div.sk-item {\n",
       "  /* draw centered vertical line to link estimators */\n",
       "  background-image: linear-gradient(var(--sklearn-color-text-on-default-background), var(--sklearn-color-text-on-default-background));\n",
       "  background-size: 2px 100%;\n",
       "  background-repeat: no-repeat;\n",
       "  background-position: center center;\n",
       "}\n",
       "\n",
       "/* Parallel-specific style estimator block */\n",
       "\n",
       "#sk-container-id-1 div.sk-parallel-item::after {\n",
       "  content: \"\";\n",
       "  width: 100%;\n",
       "  border-bottom: 2px solid var(--sklearn-color-text-on-default-background);\n",
       "  flex-grow: 1;\n",
       "}\n",
       "\n",
       "#sk-container-id-1 div.sk-parallel {\n",
       "  display: flex;\n",
       "  align-items: stretch;\n",
       "  justify-content: center;\n",
       "  background-color: var(--sklearn-color-background);\n",
       "  position: relative;\n",
       "}\n",
       "\n",
       "#sk-container-id-1 div.sk-parallel-item {\n",
       "  display: flex;\n",
       "  flex-direction: column;\n",
       "}\n",
       "\n",
       "#sk-container-id-1 div.sk-parallel-item:first-child::after {\n",
       "  align-self: flex-end;\n",
       "  width: 50%;\n",
       "}\n",
       "\n",
       "#sk-container-id-1 div.sk-parallel-item:last-child::after {\n",
       "  align-self: flex-start;\n",
       "  width: 50%;\n",
       "}\n",
       "\n",
       "#sk-container-id-1 div.sk-parallel-item:only-child::after {\n",
       "  width: 0;\n",
       "}\n",
       "\n",
       "/* Serial-specific style estimator block */\n",
       "\n",
       "#sk-container-id-1 div.sk-serial {\n",
       "  display: flex;\n",
       "  flex-direction: column;\n",
       "  align-items: center;\n",
       "  background-color: var(--sklearn-color-background);\n",
       "  padding-right: 1em;\n",
       "  padding-left: 1em;\n",
       "}\n",
       "\n",
       "\n",
       "/* Toggleable style: style used for estimator/Pipeline/ColumnTransformer box that is\n",
       "clickable and can be expanded/collapsed.\n",
       "- Pipeline and ColumnTransformer use this feature and define the default style\n",
       "- Estimators will overwrite some part of the style using the `sk-estimator` class\n",
       "*/\n",
       "\n",
       "/* Pipeline and ColumnTransformer style (default) */\n",
       "\n",
       "#sk-container-id-1 div.sk-toggleable {\n",
       "  /* Default theme specific background. It is overwritten whether we have a\n",
       "  specific estimator or a Pipeline/ColumnTransformer */\n",
       "  background-color: var(--sklearn-color-background);\n",
       "}\n",
       "\n",
       "/* Toggleable label */\n",
       "#sk-container-id-1 label.sk-toggleable__label {\n",
       "  cursor: pointer;\n",
       "  display: block;\n",
       "  width: 100%;\n",
       "  margin-bottom: 0;\n",
       "  padding: 0.5em;\n",
       "  box-sizing: border-box;\n",
       "  text-align: center;\n",
       "}\n",
       "\n",
       "#sk-container-id-1 label.sk-toggleable__label-arrow:before {\n",
       "  /* Arrow on the left of the label */\n",
       "  content: \"▸\";\n",
       "  float: left;\n",
       "  margin-right: 0.25em;\n",
       "  color: var(--sklearn-color-icon);\n",
       "}\n",
       "\n",
       "#sk-container-id-1 label.sk-toggleable__label-arrow:hover:before {\n",
       "  color: var(--sklearn-color-text);\n",
       "}\n",
       "\n",
       "/* Toggleable content - dropdown */\n",
       "\n",
       "#sk-container-id-1 div.sk-toggleable__content {\n",
       "  max-height: 0;\n",
       "  max-width: 0;\n",
       "  overflow: hidden;\n",
       "  text-align: left;\n",
       "  /* unfitted */\n",
       "  background-color: var(--sklearn-color-unfitted-level-0);\n",
       "}\n",
       "\n",
       "#sk-container-id-1 div.sk-toggleable__content.fitted {\n",
       "  /* fitted */\n",
       "  background-color: var(--sklearn-color-fitted-level-0);\n",
       "}\n",
       "\n",
       "#sk-container-id-1 div.sk-toggleable__content pre {\n",
       "  margin: 0.2em;\n",
       "  border-radius: 0.25em;\n",
       "  color: var(--sklearn-color-text);\n",
       "  /* unfitted */\n",
       "  background-color: var(--sklearn-color-unfitted-level-0);\n",
       "}\n",
       "\n",
       "#sk-container-id-1 div.sk-toggleable__content.fitted pre {\n",
       "  /* unfitted */\n",
       "  background-color: var(--sklearn-color-fitted-level-0);\n",
       "}\n",
       "\n",
       "#sk-container-id-1 input.sk-toggleable__control:checked~div.sk-toggleable__content {\n",
       "  /* Expand drop-down */\n",
       "  max-height: 200px;\n",
       "  max-width: 100%;\n",
       "  overflow: auto;\n",
       "}\n",
       "\n",
       "#sk-container-id-1 input.sk-toggleable__control:checked~label.sk-toggleable__label-arrow:before {\n",
       "  content: \"▾\";\n",
       "}\n",
       "\n",
       "/* Pipeline/ColumnTransformer-specific style */\n",
       "\n",
       "#sk-container-id-1 div.sk-label input.sk-toggleable__control:checked~label.sk-toggleable__label {\n",
       "  color: var(--sklearn-color-text);\n",
       "  background-color: var(--sklearn-color-unfitted-level-2);\n",
       "}\n",
       "\n",
       "#sk-container-id-1 div.sk-label.fitted input.sk-toggleable__control:checked~label.sk-toggleable__label {\n",
       "  background-color: var(--sklearn-color-fitted-level-2);\n",
       "}\n",
       "\n",
       "/* Estimator-specific style */\n",
       "\n",
       "/* Colorize estimator box */\n",
       "#sk-container-id-1 div.sk-estimator input.sk-toggleable__control:checked~label.sk-toggleable__label {\n",
       "  /* unfitted */\n",
       "  background-color: var(--sklearn-color-unfitted-level-2);\n",
       "}\n",
       "\n",
       "#sk-container-id-1 div.sk-estimator.fitted input.sk-toggleable__control:checked~label.sk-toggleable__label {\n",
       "  /* fitted */\n",
       "  background-color: var(--sklearn-color-fitted-level-2);\n",
       "}\n",
       "\n",
       "#sk-container-id-1 div.sk-label label.sk-toggleable__label,\n",
       "#sk-container-id-1 div.sk-label label {\n",
       "  /* The background is the default theme color */\n",
       "  color: var(--sklearn-color-text-on-default-background);\n",
       "}\n",
       "\n",
       "/* On hover, darken the color of the background */\n",
       "#sk-container-id-1 div.sk-label:hover label.sk-toggleable__label {\n",
       "  color: var(--sklearn-color-text);\n",
       "  background-color: var(--sklearn-color-unfitted-level-2);\n",
       "}\n",
       "\n",
       "/* Label box, darken color on hover, fitted */\n",
       "#sk-container-id-1 div.sk-label.fitted:hover label.sk-toggleable__label.fitted {\n",
       "  color: var(--sklearn-color-text);\n",
       "  background-color: var(--sklearn-color-fitted-level-2);\n",
       "}\n",
       "\n",
       "/* Estimator label */\n",
       "\n",
       "#sk-container-id-1 div.sk-label label {\n",
       "  font-family: monospace;\n",
       "  font-weight: bold;\n",
       "  display: inline-block;\n",
       "  line-height: 1.2em;\n",
       "}\n",
       "\n",
       "#sk-container-id-1 div.sk-label-container {\n",
       "  text-align: center;\n",
       "}\n",
       "\n",
       "/* Estimator-specific */\n",
       "#sk-container-id-1 div.sk-estimator {\n",
       "  font-family: monospace;\n",
       "  border: 1px dotted var(--sklearn-color-border-box);\n",
       "  border-radius: 0.25em;\n",
       "  box-sizing: border-box;\n",
       "  margin-bottom: 0.5em;\n",
       "  /* unfitted */\n",
       "  background-color: var(--sklearn-color-unfitted-level-0);\n",
       "}\n",
       "\n",
       "#sk-container-id-1 div.sk-estimator.fitted {\n",
       "  /* fitted */\n",
       "  background-color: var(--sklearn-color-fitted-level-0);\n",
       "}\n",
       "\n",
       "/* on hover */\n",
       "#sk-container-id-1 div.sk-estimator:hover {\n",
       "  /* unfitted */\n",
       "  background-color: var(--sklearn-color-unfitted-level-2);\n",
       "}\n",
       "\n",
       "#sk-container-id-1 div.sk-estimator.fitted:hover {\n",
       "  /* fitted */\n",
       "  background-color: var(--sklearn-color-fitted-level-2);\n",
       "}\n",
       "\n",
       "/* Specification for estimator info (e.g. \"i\" and \"?\") */\n",
       "\n",
       "/* Common style for \"i\" and \"?\" */\n",
       "\n",
       ".sk-estimator-doc-link,\n",
       "a:link.sk-estimator-doc-link,\n",
       "a:visited.sk-estimator-doc-link {\n",
       "  float: right;\n",
       "  font-size: smaller;\n",
       "  line-height: 1em;\n",
       "  font-family: monospace;\n",
       "  background-color: var(--sklearn-color-background);\n",
       "  border-radius: 1em;\n",
       "  height: 1em;\n",
       "  width: 1em;\n",
       "  text-decoration: none !important;\n",
       "  margin-left: 1ex;\n",
       "  /* unfitted */\n",
       "  border: var(--sklearn-color-unfitted-level-1) 1pt solid;\n",
       "  color: var(--sklearn-color-unfitted-level-1);\n",
       "}\n",
       "\n",
       ".sk-estimator-doc-link.fitted,\n",
       "a:link.sk-estimator-doc-link.fitted,\n",
       "a:visited.sk-estimator-doc-link.fitted {\n",
       "  /* fitted */\n",
       "  border: var(--sklearn-color-fitted-level-1) 1pt solid;\n",
       "  color: var(--sklearn-color-fitted-level-1);\n",
       "}\n",
       "\n",
       "/* On hover */\n",
       "div.sk-estimator:hover .sk-estimator-doc-link:hover,\n",
       ".sk-estimator-doc-link:hover,\n",
       "div.sk-label-container:hover .sk-estimator-doc-link:hover,\n",
       ".sk-estimator-doc-link:hover {\n",
       "  /* unfitted */\n",
       "  background-color: var(--sklearn-color-unfitted-level-3);\n",
       "  color: var(--sklearn-color-background);\n",
       "  text-decoration: none;\n",
       "}\n",
       "\n",
       "div.sk-estimator.fitted:hover .sk-estimator-doc-link.fitted:hover,\n",
       ".sk-estimator-doc-link.fitted:hover,\n",
       "div.sk-label-container:hover .sk-estimator-doc-link.fitted:hover,\n",
       ".sk-estimator-doc-link.fitted:hover {\n",
       "  /* fitted */\n",
       "  background-color: var(--sklearn-color-fitted-level-3);\n",
       "  color: var(--sklearn-color-background);\n",
       "  text-decoration: none;\n",
       "}\n",
       "\n",
       "/* Span, style for the box shown on hovering the info icon */\n",
       ".sk-estimator-doc-link span {\n",
       "  display: none;\n",
       "  z-index: 9999;\n",
       "  position: relative;\n",
       "  font-weight: normal;\n",
       "  right: .2ex;\n",
       "  padding: .5ex;\n",
       "  margin: .5ex;\n",
       "  width: min-content;\n",
       "  min-width: 20ex;\n",
       "  max-width: 50ex;\n",
       "  color: var(--sklearn-color-text);\n",
       "  box-shadow: 2pt 2pt 4pt #999;\n",
       "  /* unfitted */\n",
       "  background: var(--sklearn-color-unfitted-level-0);\n",
       "  border: .5pt solid var(--sklearn-color-unfitted-level-3);\n",
       "}\n",
       "\n",
       ".sk-estimator-doc-link.fitted span {\n",
       "  /* fitted */\n",
       "  background: var(--sklearn-color-fitted-level-0);\n",
       "  border: var(--sklearn-color-fitted-level-3);\n",
       "}\n",
       "\n",
       ".sk-estimator-doc-link:hover span {\n",
       "  display: block;\n",
       "}\n",
       "\n",
       "/* \"?\"-specific style due to the `<a>` HTML tag */\n",
       "\n",
       "#sk-container-id-1 a.estimator_doc_link {\n",
       "  float: right;\n",
       "  font-size: 1rem;\n",
       "  line-height: 1em;\n",
       "  font-family: monospace;\n",
       "  background-color: var(--sklearn-color-background);\n",
       "  border-radius: 1rem;\n",
       "  height: 1rem;\n",
       "  width: 1rem;\n",
       "  text-decoration: none;\n",
       "  /* unfitted */\n",
       "  color: var(--sklearn-color-unfitted-level-1);\n",
       "  border: var(--sklearn-color-unfitted-level-1) 1pt solid;\n",
       "}\n",
       "\n",
       "#sk-container-id-1 a.estimator_doc_link.fitted {\n",
       "  /* fitted */\n",
       "  border: var(--sklearn-color-fitted-level-1) 1pt solid;\n",
       "  color: var(--sklearn-color-fitted-level-1);\n",
       "}\n",
       "\n",
       "/* On hover */\n",
       "#sk-container-id-1 a.estimator_doc_link:hover {\n",
       "  /* unfitted */\n",
       "  background-color: var(--sklearn-color-unfitted-level-3);\n",
       "  color: var(--sklearn-color-background);\n",
       "  text-decoration: none;\n",
       "}\n",
       "\n",
       "#sk-container-id-1 a.estimator_doc_link.fitted:hover {\n",
       "  /* fitted */\n",
       "  background-color: var(--sklearn-color-fitted-level-3);\n",
       "}\n",
       "</style><div id=\"sk-container-id-1\" class=\"sk-top-container\"><div class=\"sk-text-repr-fallback\"><pre>LatentDirichletAllocation(n_components=3, n_jobs=-1)</pre><b>In a Jupyter environment, please rerun this cell to show the HTML representation or trust the notebook. <br />On GitHub, the HTML representation is unable to render, please try loading this page with nbviewer.org.</b></div><div class=\"sk-container\" hidden><div class=\"sk-item\"><div class=\"sk-estimator fitted sk-toggleable\"><input class=\"sk-toggleable__control sk-hidden--visually\" id=\"sk-estimator-id-1\" type=\"checkbox\" checked><label for=\"sk-estimator-id-1\" class=\"sk-toggleable__label fitted sk-toggleable__label-arrow fitted\">&nbsp;&nbsp;LatentDirichletAllocation<a class=\"sk-estimator-doc-link fitted\" rel=\"noreferrer\" target=\"_blank\" href=\"https://scikit-learn.org/1.4/modules/generated/sklearn.decomposition.LatentDirichletAllocation.html\">?<span>Documentation for LatentDirichletAllocation</span></a><span class=\"sk-estimator-doc-link fitted\">i<span>Fitted</span></span></label><div class=\"sk-toggleable__content fitted\"><pre>LatentDirichletAllocation(n_components=3, n_jobs=-1)</pre></div> </div></div></div></div>"
      ],
      "text/plain": [
       "LatentDirichletAllocation(n_components=3, n_jobs=-1)"
      ]
     },
     "execution_count": 25,
     "metadata": {},
     "output_type": "execute_result"
    }
   ],
   "source": [
    "components = LatentDirichletAllocation(n_components=3, n_jobs=-1)\n",
    "components.fit(features)"
   ]
  },
  {
   "cell_type": "code",
   "execution_count": 26,
   "id": "74ce6042-d3d4-4f27-91c5-df2fd5b0476f",
   "metadata": {},
   "outputs": [
    {
     "data": {
      "text/plain": [
       "array(['가격', '가능', '가능성', '가다', '가동', '가속', '가약', '가이드라인', '가장', '가정',\n",
       "       '가제', '가족', '가치', '가톨릭대', '간담', '간질', '갈다', '감사패', '감소', '감염병',\n",
       "       '강남', '강소', '강연', '강원', '강좌', '강직', '강화', '갖추다', '개강', '개년', '개다',\n",
       "       '개발', '개방', '개선', '개설', '개성', '개시', '개원', '개인', '개정', '개최', '개편',\n",
       "       '개혁', '거래', '거점', '건강', '건양대', '걷기', '걸다', '걸리다', '걸음', '검사', '검토',\n",
       "       '게놈', '게재', '결과', '결산', '결정', '결핍', '경감', '경북', '경영', '경쟁', '경쟁력',\n",
       "       '경제', '경제성', '경평', '경희대', '계속', '계약', '계획', '고가', '고대', '고려', '고민',\n",
       "       '고셔병', '고속', '고통', '고혈압', '골수', '공감', '공개', '공급', '공단', '공동', '공략',\n",
       "       '공모', '공식', '공유', '공익', '공학사', '공헌', '과제', '과학', '관계', '관련', '관심',\n",
       "       '관절염', '광동', '교수', '교육', '교정', '구매', '구성', '구지원', '구진', '구축', '국가',\n",
       "       '국감', '국립', '국민', '국산', '국제', '국회', '국훈', '권고', '권역별', '규명', '규모',\n",
       "       '규제', '그룹', '극복', '근무', '근육', '글로벌', '글로벌화', '글리벡', '금지', '급등',\n",
       "       '급성', '급증', '기관', '기금', '기념', '기능', '기대', '기독', '기린', '기반', '기부',\n",
       "       '기술', '기업', '기전', '기존', '기준', '기증', '기탁', '기형', '기회', '기획', '긴급',\n",
       "       '길병원', '김선민', '김옥', '김현주', '꼽히다', '꿈꾸다', '나가다', '나눔', '나서다', '나오다',\n",
       "       '난치', '난치병', '난치성질환', '낮추다', '내과', '내년', '내다', '내분비', '내시경', '넓히다',\n",
       "       '넘다', '노력', '노바티스', '노보', '논문', '논의', '높이', '높이다', '놓다', '뇨증',\n",
       "       '눈길', '늘다', '닛폰', '다발', '다켈', '닥터', '단계', '단백질', '단장', '단체', '단행',\n",
       "       '달라지다', '달러', '달리다', '달성', '당뇨', '대거', '대구', '대사', '대상', '대세',\n",
       "       '대안', '대웅제약', '대응', '대책', '대체', '대통령', '대폭', '대표', '대형', '대회',\n",
       "       '데이터', '도약', '도입', '도전', '독점', '돌연변이', '돌입', '돕기', '돕다', '동부',\n",
       "       '동산병원', '동아', '동행', '돼다', '되다', '드림', '들다', '등록', '등장', '등재',\n",
       "       '디지털', '뛰다', '라라', '라벨', '라이선스', '랩스', '런칭', '레드', '레졸', '레프',\n",
       "       '로병', '로슈', '롤론', '루게릭', '루게릭병', '루고', '루트', '류마티스', '리더', '리브',\n",
       "       '리스', '린지', '릴레이', '릴리', '림프', '림프종', '마련', '마리', '마진', '마크로',\n",
       "       '만나다', '만들다', '만성', '말단비대증', '망막', '맞다', '맞춤', '매각', '매년', '매출',\n",
       "       '메다', '면역', '면제', '명의', '모건', '모델', '모든', '모색', '모야', '모집', '목소리',\n",
       "       '목표', '무료', '무상', '문재인', '문화', '물질', '뮤코다당증', '미국', '미나', '미래',\n",
       "       '미술', '미토콘드리아', '민간', '밀러', '바이러스', '바이엘', '바이오', '박차', '반대', '반영',\n",
       "       '발간', '발견', '발굴', '발매', '발병', '발생', '발성', '발작', '발전', '발표', '밝히다',\n",
       "       '방문', '방안', '방향', '배경', '배송', '백병원', '백신', '백혈병', '뱅크', '범위', '법령',\n",
       "       '법안', '법인', '변경', '변성', '변화', '별도', '별로', '병약', '보건', '보건복지부',\n",
       "       '보고', '보고서', '보다', '보사', '보상', '보장', '보험', '복지', '복지부', '복합', '본격',\n",
       "       '본부', '본부장', '본인', '봉사', '부광', '부금', '부담', '부문', '부산', '부서', '부족',\n",
       "       '부종', '부회장', '북부', '분담', '분당', '분당차여성병원', '분석', '분야', '불다', '불명',\n",
       "       '불우', '블록버스터', '비결', '비교', '비급', '비다', '비대', '비만', '비용', '비프',\n",
       "       '빅데이터', '사각', '사내', '사랑', '사례', '사실', '사업', '사용', '사장', '사전', '사항',\n",
       "       '사회', '삭감', '산업', '산전', '산정', '산책', '살펴보다', '삼성', '삼진', '상급', '상담',\n",
       "       '상무', '상반기', '상한', '새해', '생동', '생략', '생명공학', '생명과학', '생물', '생물학',\n",
       "       '생산', '생존', '서다', '서비스', '서울', '선도', '선물', '선수', '선임', '선정', '선천성',\n",
       "       '선출', '선택', '설립', '설명', '섬유', '성경', '성골', '성공', '성과', '성금', '성기',\n",
       "       '성모', '성분', '성장', '성장동력', '성장호르몬', '세계', '세다', '세레델', '세미나',\n",
       "       '세브란스', '세브란스병원', '세종', '센터', '센티', '소득', '소마', '소외', '소요', '소장',\n",
       "       '솔루션', '솔리', '수가', '수급', '수립', '수상', '수술', '수입', '수준', '수집', '수출',\n",
       "       '순위', '스마', '스타트업', '스템', '스핀', '승부', '승인', '시급', '시대', '시범', '시술',\n",
       "       '시스템', '시약', '시온', '시작', '시장', '시책', '시판', '시행', '식도', '식약처',\n",
       "       '식약청', '신경', '신경과학', '신경섬유', '신규', '신년', '신생아', '신설', '신속', '신야',\n",
       "       '신약', '신임', '신장', '신청', '실적', '실천', '심부전', '심사', '심의', '심층',\n",
       "       '심포지엄', '아동', '아스', '아시아', '아주대', '아주대병원', '안과', '안전', '안전성', '알다',\n",
       "       '알렉', '암치료', '앞장', '애브비', '야간', '약국', '약물', '약사', '약제', '약품', '양산',\n",
       "       '어린이', '어린이날', '어린이병원', '억제제', '얼룩말', '업계', '업무', '업체', '엑스', '여건',\n",
       "       '여성', '역할', '연관', '연구', '연구개발', '연구소', '연구원', '연구자', '연말', '연속',\n",
       "       '연장', '연합', '열다', '열리다', '염기서열', '염증', '영역', '영진', '영향', '예고',\n",
       "       '예방', '예산', '예산안', '예술', '예측', '오노', '오프', '오픈', '온라인', '온스',\n",
       "       '올리다', '올해', '옵션', '완료', '완치', '완화', '요구', '요법', '요양', '용인', '용제',\n",
       "       '우대', '우려', '우수', '우회', '운영', '울산', '워크숍', '원광대', '원금', '원인', '원장',\n",
       "       '원주', '원칙', '위기', '위반', '위상', '위원회', '위축', '위탁', '위험', '윌리', '유럽',\n",
       "       '유력', '유망', '유방암', '유전', '유전병', '유전상담', '유전자', '유전체', '유지', '유치',\n",
       "       '유통', '유한', '유한양행', '육성', '은행', '은희', '응원', '의견', '의대', '의료',\n",
       "       '의료기기', '의료인', '의무', '의사', '의심', '의약', '의약품', '의연', '의원', '의지',\n",
       "       '의학', '의협', '이노베이션', '이다', '이드', '이벤트', '이사장', '이수앱지스', '이식', '이완',\n",
       "       '이용', '이웃', '이유', '이익', '이제', '이프', '이형성', '이후', '인공', '인력', '인사',\n",
       "       '인상', '인수', '인식', '인정', '인증', '인천', '인체', '인터뷰', '인하', '일간', '일루',\n",
       "       '일반', '일본', '일부', '임상시험', '입성', '입원', '입증', '입찰', '입학', '잇다',\n",
       "       '잇따르다', '자가', '자다', '자료', '자원', '자회사', '잔치', '잡다', '장관', '장기',\n",
       "       '장애', '재다', '재단', '재료', '재발', '재생', '재정', '재편', '재활', '저분자', '저하',\n",
       "       '적극', '적용', '적응', '적정', '전개', '전국', '전기', '전담', '전략', '전망', '전무',\n",
       "       '전문', '전문가', '전북', '전북대', '전시회', '전지원', '전체', '전환', '절감', '절반',\n",
       "       '절실', '절차', '접근성', '접수', '정리', '정립', '정밀', '정보', '정부', '정진', '정책',\n",
       "       '제공', '제넥신', '제도', '제로', '제비', '제시', '제안', '제약', '제약기업', '제약업',\n",
       "       '제외', '제정', '제제', '제조', '제출', '제품', '제한', '제휴', '조건', '조기', '조명',\n",
       "       '조사', '조성', '조정', '조직', '존중', '졸겐', '졸업', '종근당', '종병', '종양', '종증',\n",
       "       '종합', '주관', '주년', '주도', '주력', '주목', '주요', '주자', '줄기세포', '줄이다',\n",
       "       '중개', '중국', '중단', '중소', '중심', '중앙', '중외', '중점', '중증', '증가', '증후군',\n",
       "       '지견', '지난해', '지놈', '지능', '지대', '지르다', '지속', '지역', '지원', '지출', '지침',\n",
       "       '직원', '진단', '진료', '진입', '진찰', '진출', '진행', '진흥', '집중', '찌산쿄', '차별',\n",
       "       '차병원', '차세대', '차지', '차질', '착수', '참가', '참여', '창간', '창립', '채다', '책임',\n",
       "       '책임자', '책임지다', '처방', '처방약', '처벌', '척수', '척추', '첨단', '청소년', '청장',\n",
       "       '체결', '체계', '체제', '체트', '초고', '초과', '초기', '초록', '초음파', '초청', '촉구',\n",
       "       '촉진', '총괄', '최고', '최대', '최신', '최우수', '최초', '추가', '추다', '추세', '추진',\n",
       "       '축소', '축하', '출범', '출산', '출시', '충남대', '취임', '치료법', '칠곡', '카바', '캐슬',\n",
       "       '캠페인', '커버', '컨퍼런스', '케미칼', '케어', '코리아', '코셀', '콘서트', '크다', '크론병',\n",
       "       '클리', '키트', '타깃', '탄력', '탐방', '태아', '텐션', '텔라스', '토끼', '토론회',\n",
       "       '토미리스', '통과', '통제', '통증', '통한', '통합', '통해', '투약', '투여', '투입', '투자',\n",
       "       '트랙', '트루', '트리', '특례', '특수', '특집', '특허', '티닙', '티스', '파다', '파마',\n",
       "       '파이프라인', '파킨슨병', '파트너', '판권', '판매', '패러다임', '펀드', '편집', '평가', '평균',\n",
       "       '평위', '폐동맥', '포괄', '포럼', '포함', '폼페병', '표준', '표창', '표피', '풀다', '품목',\n",
       "       '품질', '프레', '프로그램', '프로젝트', '플랫폼', '피스', '픽스', '필수', '필요', '하반기',\n",
       "       '학술', '학술지', '학회', '한국인', '합의', '합작', '항목', '항암제', '항체', '해법',\n",
       "       '해소', '해외', '핵산', '햇반', '행보', '행사', '향상', '향후', '허가', '허다', '허브',\n",
       "       '헌혈', '헬스', '헴리브', '혁신', '현황', '혈관', '혈소판', '혈액', '혈우병', '협력',\n",
       "       '협상', '협약', '협업', '협의', '협진', '협회', '호킹', '홀딩스', '홈페이지', '홍보',\n",
       "       '화두', '화이자', '화제', '화증', '화학', '확대', '확보', '확산', '확인', '확장', '확정',\n",
       "       '환경', '환급', '환영', '활기', '활동', '활발', '활성화', '활용', '회서', '회의', '회장',\n",
       "       '획기', '획득', '효과', '효능', '효소', '후보', '후원', '휴먼', '희귀난치성질환', '희망',\n",
       "       '희소'], dtype=object)"
      ]
     },
     "execution_count": 26,
     "metadata": {},
     "output_type": "execute_result"
    }
   ],
   "source": [
    "dictionary_list = tfidfvectorizer.get_feature_names_out(features)\n",
    "dictionary_list"
   ]
  },
  {
   "cell_type": "code",
   "execution_count": 27,
   "id": "b7d623d4-a84b-46b3-8be9-1f59c7fb232c",
   "metadata": {},
   "outputs": [
    {
     "data": {
      "text/plain": [
       "array([[ 0.35225331,  0.41830351,  0.37843133, ...,  0.34729767,\n",
       "        11.33292682,  0.3381787 ],\n",
       "       [ 0.35161928,  0.346886  ,  5.73079164, ...,  6.62907686,\n",
       "         0.34656086,  0.33539878],\n",
       "       [ 4.00185862,  7.51994947,  0.34718753, ...,  3.23725149,\n",
       "         0.35841533,  3.56590463]])"
      ]
     },
     "execution_count": 27,
     "metadata": {},
     "output_type": "execute_result"
    }
   ],
   "source": [
    "components.components_ # 토픽별로 단어의 확률 분포를 나타냄"
   ]
  },
  {
   "cell_type": "code",
   "execution_count": 28,
   "id": "2be7b763-63c2-4f3e-88cd-8523a2273193",
   "metadata": {},
   "outputs": [],
   "source": [
    "topics_output = components.transform(features)\n",
    "df_topics_score = pd.DataFrame(data=topics_output)"
   ]
  },
  {
   "cell_type": "code",
   "execution_count": 29,
   "id": "345beb4e-8ffd-45a2-b06a-1a2c5363e74f",
   "metadata": {},
   "outputs": [
    {
     "data": {
      "text/html": [
       "<div>\n",
       "<style scoped>\n",
       "    .dataframe tbody tr th:only-of-type {\n",
       "        vertical-align: middle;\n",
       "    }\n",
       "\n",
       "    .dataframe tbody tr th {\n",
       "        vertical-align: top;\n",
       "    }\n",
       "\n",
       "    .dataframe thead th {\n",
       "        text-align: right;\n",
       "    }\n",
       "</style>\n",
       "<table border=\"1\" class=\"dataframe\">\n",
       "  <thead>\n",
       "    <tr style=\"text-align: right;\">\n",
       "      <th></th>\n",
       "      <th>0</th>\n",
       "      <th>1</th>\n",
       "      <th>2</th>\n",
       "    </tr>\n",
       "  </thead>\n",
       "  <tbody>\n",
       "    <tr>\n",
       "      <th>0</th>\n",
       "      <td>0.598165</td>\n",
       "      <td>0.290143</td>\n",
       "      <td>0.111691</td>\n",
       "    </tr>\n",
       "    <tr>\n",
       "      <th>1</th>\n",
       "      <td>0.794756</td>\n",
       "      <td>0.105732</td>\n",
       "      <td>0.099511</td>\n",
       "    </tr>\n",
       "    <tr>\n",
       "      <th>2</th>\n",
       "      <td>0.776719</td>\n",
       "      <td>0.111640</td>\n",
       "      <td>0.111641</td>\n",
       "    </tr>\n",
       "    <tr>\n",
       "      <th>3</th>\n",
       "      <td>0.723439</td>\n",
       "      <td>0.138265</td>\n",
       "      <td>0.138296</td>\n",
       "    </tr>\n",
       "    <tr>\n",
       "      <th>4</th>\n",
       "      <td>0.430216</td>\n",
       "      <td>0.468570</td>\n",
       "      <td>0.101214</td>\n",
       "    </tr>\n",
       "    <tr>\n",
       "      <th>...</th>\n",
       "      <td>...</td>\n",
       "      <td>...</td>\n",
       "      <td>...</td>\n",
       "    </tr>\n",
       "    <tr>\n",
       "      <th>2420</th>\n",
       "      <td>0.645364</td>\n",
       "      <td>0.174467</td>\n",
       "      <td>0.180169</td>\n",
       "    </tr>\n",
       "    <tr>\n",
       "      <th>2421</th>\n",
       "      <td>0.120712</td>\n",
       "      <td>0.111903</td>\n",
       "      <td>0.767385</td>\n",
       "    </tr>\n",
       "    <tr>\n",
       "      <th>2422</th>\n",
       "      <td>0.671773</td>\n",
       "      <td>0.214339</td>\n",
       "      <td>0.113888</td>\n",
       "    </tr>\n",
       "    <tr>\n",
       "      <th>2423</th>\n",
       "      <td>0.666343</td>\n",
       "      <td>0.166817</td>\n",
       "      <td>0.166840</td>\n",
       "    </tr>\n",
       "    <tr>\n",
       "      <th>2424</th>\n",
       "      <td>0.135807</td>\n",
       "      <td>0.755310</td>\n",
       "      <td>0.108884</td>\n",
       "    </tr>\n",
       "  </tbody>\n",
       "</table>\n",
       "<p>2425 rows × 3 columns</p>\n",
       "</div>"
      ],
      "text/plain": [
       "             0         1         2\n",
       "0     0.598165  0.290143  0.111691\n",
       "1     0.794756  0.105732  0.099511\n",
       "2     0.776719  0.111640  0.111641\n",
       "3     0.723439  0.138265  0.138296\n",
       "4     0.430216  0.468570  0.101214\n",
       "...        ...       ...       ...\n",
       "2420  0.645364  0.174467  0.180169\n",
       "2421  0.120712  0.111903  0.767385\n",
       "2422  0.671773  0.214339  0.113888\n",
       "2423  0.666343  0.166817  0.166840\n",
       "2424  0.135807  0.755310  0.108884\n",
       "\n",
       "[2425 rows x 3 columns]"
      ]
     },
     "execution_count": 29,
     "metadata": {},
     "output_type": "execute_result"
    }
   ],
   "source": [
    "df_topics_score"
   ]
  },
  {
   "cell_type": "code",
   "execution_count": 30,
   "id": "f487381a-fe59-4080-9222-cdd59681086b",
   "metadata": {},
   "outputs": [],
   "source": [
    "import numpy as np\n",
    "df_topics_score['topic_num'] = np.argmax(topics_output, axis=1)"
   ]
  },
  {
   "cell_type": "code",
   "execution_count": 31,
   "id": "fac2c0ea-4c26-45ee-92f5-6f30a1eeb767",
   "metadata": {},
   "outputs": [
    {
     "data": {
      "text/plain": [
       "0       0\n",
       "1       0\n",
       "2       0\n",
       "3       0\n",
       "4       1\n",
       "       ..\n",
       "2420    0\n",
       "2421    2\n",
       "2422    0\n",
       "2423    0\n",
       "2424    1\n",
       "Name: topic_num, Length: 2425, dtype: int64"
      ]
     },
     "execution_count": 31,
     "metadata": {},
     "output_type": "execute_result"
    }
   ],
   "source": [
    "df_topics_score['topic_num']"
   ]
  },
  {
   "cell_type": "code",
   "execution_count": 32,
   "id": "a0333456-29a8-4cae-9732-75b9fb5c57f7",
   "metadata": {},
   "outputs": [
    {
     "data": {
      "text/html": [
       "<div>\n",
       "<style scoped>\n",
       "    .dataframe tbody tr th:only-of-type {\n",
       "        vertical-align: middle;\n",
       "    }\n",
       "\n",
       "    .dataframe tbody tr th {\n",
       "        vertical-align: top;\n",
       "    }\n",
       "\n",
       "    .dataframe thead th {\n",
       "        text-align: right;\n",
       "    }\n",
       "</style>\n",
       "<table border=\"1\" class=\"dataframe\">\n",
       "  <thead>\n",
       "    <tr style=\"text-align: right;\">\n",
       "      <th></th>\n",
       "      <th>news_title</th>\n",
       "      <th>news_url</th>\n",
       "      <th>news_when</th>\n",
       "      <th>news_topic</th>\n",
       "      <th>news_paper</th>\n",
       "      <th>news_contents</th>\n",
       "    </tr>\n",
       "  </thead>\n",
       "  <tbody>\n",
       "    <tr>\n",
       "      <th>0</th>\n",
       "      <td>한국쿄와기린, 세계 희귀질환의 날 행사 참여</td>\n",
       "      <td>http://www.bosa.co.kr/news/articleView.html?id...</td>\n",
       "      <td>2024-02-29</td>\n",
       "      <td>의료/법안</td>\n",
       "      <td>의학신문</td>\n",
       "      <td>[의학신문·일간보사=김영주 기자]‘세계 희귀질환의 날’을 맞아 한국쿄와기린은 그룹에...</td>\n",
       "    </tr>\n",
       "    <tr>\n",
       "      <th>1</th>\n",
       "      <td>광동제약, ‘세계 희귀질환의 날’ 기념 환아 작품 전시회 개최</td>\n",
       "      <td>http://www.bosa.co.kr/news/articleView.html?id...</td>\n",
       "      <td>2024-02-29</td>\n",
       "      <td>신약/개발</td>\n",
       "      <td>의학신문</td>\n",
       "      <td>[의학신문·일간보사=김영주 기자]광동제약(대표 최성원)은 ‘세계 희귀질환의 날’을 ...</td>\n",
       "    </tr>\n",
       "    <tr>\n",
       "      <th>2</th>\n",
       "      <td>순천향대 부천병원 신영림 교수, ‘질병관리청장 표창’ 수상</td>\n",
       "      <td>http://www.bosa.co.kr/news/articleView.html?id...</td>\n",
       "      <td>2024-02-29</td>\n",
       "      <td>심포지엄/행사</td>\n",
       "      <td>의학신문</td>\n",
       "      <td>[의학신문·일간보사=이상만 기자]순천향대 부천병원 소아청소년과 신영림 교수(사진)가...</td>\n",
       "    </tr>\n",
       "    <tr>\n",
       "      <th>3</th>\n",
       "      <td>창립 70주년 한독, ‘THANKS CAMPAIGN’ 실시</td>\n",
       "      <td>http://www.bosa.co.kr/news/articleView.html?id...</td>\n",
       "      <td>2024-02-29</td>\n",
       "      <td>의료/법안</td>\n",
       "      <td>의학신문</td>\n",
       "      <td>[의학신문·일간보사=김정일 기자] 한독(대표이사 김영진, 백진기)이 창립 70주년을...</td>\n",
       "    </tr>\n",
       "    <tr>\n",
       "      <th>4</th>\n",
       "      <td>[세계 희귀질환의 날] 국가‧사회‧이웃‧의료진‧가족 함께 가야 한다</td>\n",
       "      <td>http://www.bosa.co.kr/news/articleView.html?id...</td>\n",
       "      <td>2024-02-29</td>\n",
       "      <td>신약/개발</td>\n",
       "      <td>의학신문</td>\n",
       "      <td>[의학신문·일간보사=오인규 기자] “이건 신이 실수를 하신 거다. 그러니 너무 자책...</td>\n",
       "    </tr>\n",
       "    <tr>\n",
       "      <th>...</th>\n",
       "      <td>...</td>\n",
       "      <td>...</td>\n",
       "      <td>...</td>\n",
       "      <td>...</td>\n",
       "      <td>...</td>\n",
       "      <td>...</td>\n",
       "    </tr>\n",
       "    <tr>\n",
       "      <th>2420</th>\n",
       "      <td>26일 `희귀질환 치료' 심포지엄</td>\n",
       "      <td>http://www.bosa.co.kr/news/articleView.html?id...</td>\n",
       "      <td>2001-05-22</td>\n",
       "      <td>의료/법안</td>\n",
       "      <td>의학신문</td>\n",
       "      <td>NaN</td>\n",
       "    </tr>\n",
       "    <tr>\n",
       "      <th>2421</th>\n",
       "      <td>`희귀^난치성질환자 연합회' 구성 추진</td>\n",
       "      <td>http://www.bosa.co.kr/news/articleView.html?id...</td>\n",
       "      <td>2001-05-10</td>\n",
       "      <td>신약/개발</td>\n",
       "      <td>의학신문</td>\n",
       "      <td>NaN</td>\n",
       "    </tr>\n",
       "    <tr>\n",
       "      <th>2422</th>\n",
       "      <td>책임운영기관 평가 “적정성 결여</td>\n",
       "      <td>http://www.bosa.co.kr/news/articleView.html?id...</td>\n",
       "      <td>2001-04-16</td>\n",
       "      <td>의료/법안</td>\n",
       "      <td>의학신문</td>\n",
       "      <td>NaN</td>\n",
       "    </tr>\n",
       "    <tr>\n",
       "      <th>2423</th>\n",
       "      <td>먹지도 굶지도 못하는 희귀질환 발견</td>\n",
       "      <td>http://www.bosa.co.kr/news/articleView.html?id...</td>\n",
       "      <td>2001-04-11</td>\n",
       "      <td>심포지엄/행사</td>\n",
       "      <td>의학신문</td>\n",
       "      <td>NaN</td>\n",
       "    </tr>\n",
       "    <tr>\n",
       "      <th>2424</th>\n",
       "      <td>희귀의약품센터 공익성 기부금 대상단체 지정</td>\n",
       "      <td>http://www.bosa.co.kr/news/articleView.html?id...</td>\n",
       "      <td>2001-01-16</td>\n",
       "      <td>심포지엄/행사</td>\n",
       "      <td>의학신문</td>\n",
       "      <td>NaN</td>\n",
       "    </tr>\n",
       "  </tbody>\n",
       "</table>\n",
       "<p>2425 rows × 6 columns</p>\n",
       "</div>"
      ],
      "text/plain": [
       "                                 news_title  \\\n",
       "0                  한국쿄와기린, 세계 희귀질환의 날 행사 참여   \n",
       "1        광동제약, ‘세계 희귀질환의 날’ 기념 환아 작품 전시회 개최   \n",
       "2          순천향대 부천병원 신영림 교수, ‘질병관리청장 표창’ 수상   \n",
       "3          창립 70주년 한독, ‘THANKS CAMPAIGN’ 실시   \n",
       "4     [세계 희귀질환의 날] 국가‧사회‧이웃‧의료진‧가족 함께 가야 한다   \n",
       "...                                     ...   \n",
       "2420                     26일 `희귀질환 치료' 심포지엄   \n",
       "2421                  `희귀^난치성질환자 연합회' 구성 추진   \n",
       "2422                      책임운영기관 평가 “적정성 결여   \n",
       "2423                    먹지도 굶지도 못하는 희귀질환 발견   \n",
       "2424                희귀의약품센터 공익성 기부금 대상단체 지정   \n",
       "\n",
       "                                               news_url  news_when news_topic  \\\n",
       "0     http://www.bosa.co.kr/news/articleView.html?id... 2024-02-29      의료/법안   \n",
       "1     http://www.bosa.co.kr/news/articleView.html?id... 2024-02-29      신약/개발   \n",
       "2     http://www.bosa.co.kr/news/articleView.html?id... 2024-02-29    심포지엄/행사   \n",
       "3     http://www.bosa.co.kr/news/articleView.html?id... 2024-02-29      의료/법안   \n",
       "4     http://www.bosa.co.kr/news/articleView.html?id... 2024-02-29      신약/개발   \n",
       "...                                                 ...        ...        ...   \n",
       "2420  http://www.bosa.co.kr/news/articleView.html?id... 2001-05-22      의료/법안   \n",
       "2421  http://www.bosa.co.kr/news/articleView.html?id... 2001-05-10      신약/개발   \n",
       "2422  http://www.bosa.co.kr/news/articleView.html?id... 2001-04-16      의료/법안   \n",
       "2423  http://www.bosa.co.kr/news/articleView.html?id... 2001-04-11    심포지엄/행사   \n",
       "2424  http://www.bosa.co.kr/news/articleView.html?id... 2001-01-16    심포지엄/행사   \n",
       "\n",
       "     news_paper                                      news_contents  \n",
       "0          의학신문  [의학신문·일간보사=김영주 기자]‘세계 희귀질환의 날’을 맞아 한국쿄와기린은 그룹에...  \n",
       "1          의학신문  [의학신문·일간보사=김영주 기자]광동제약(대표 최성원)은 ‘세계 희귀질환의 날’을 ...  \n",
       "2          의학신문  [의학신문·일간보사=이상만 기자]순천향대 부천병원 소아청소년과 신영림 교수(사진)가...  \n",
       "3          의학신문  [의학신문·일간보사=김정일 기자] 한독(대표이사 김영진, 백진기)이 창립 70주년을...  \n",
       "4          의학신문  [의학신문·일간보사=오인규 기자] “이건 신이 실수를 하신 거다. 그러니 너무 자책...  \n",
       "...         ...                                                ...  \n",
       "2420       의학신문                                                NaN  \n",
       "2421       의학신문                                                NaN  \n",
       "2422       의학신문                                                NaN  \n",
       "2423       의학신문                                                NaN  \n",
       "2424       의학신문                                                NaN  \n",
       "\n",
       "[2425 rows x 6 columns]"
      ]
     },
     "execution_count": 32,
     "metadata": {},
     "output_type": "execute_result"
    }
   ],
   "source": [
    "df_bosa_test1"
   ]
  },
  {
   "cell_type": "code",
   "execution_count": 33,
   "id": "c6d4c54f-1527-4dd5-beb1-8850f58508a7",
   "metadata": {
    "scrolled": true
   },
   "outputs": [],
   "source": [
    "df_bosa_test1['topic_num'] = df_topics_score['topic_num']"
   ]
  },
  {
   "cell_type": "code",
   "execution_count": 34,
   "id": "eb0e6f7c-7551-4b7f-98fc-6234cccd5211",
   "metadata": {},
   "outputs": [
    {
     "name": "stdout",
     "output_type": "stream",
     "text": [
      "개최 제약 의료 교수 세계\n",
      "개발 신약 지원 의약품 제휴\n",
      "승인 의약품 센터 신청 진료\n"
     ]
    },
    {
     "data": {
      "text/plain": [
       "[['개최 제약 의료 교수 세계', '개발 신약 지원 의약품 제휴', '승인 의약품 센터 신청 진료'],\n",
       " ['Topic1', 'Topic2', 'Topic3']]"
      ]
     },
     "execution_count": 34,
     "metadata": {},
     "output_type": "execute_result"
    }
   ],
   "source": [
    "# 그럼 이제 각각의 news가 어떤 topic으로 분류되는지는 알았는데\n",
    "# 각 토픽이 어떤 단어를 가지고 있는지 알기 위해서는 상위 단어 추출이 필요함\n",
    "\n",
    "# 상위 단어 추출\n",
    "\n",
    "topics_list = []\n",
    "for topic in components.components_ : # 토픽별로 단어의 확률 분포 나타낸 것\n",
    "    df_datas = [topic, dictionary_list] # dictionary_list는 단어 나열\n",
    "    df_topics = pd.DataFrame(data=df_datas).T\n",
    "    df_topics = df_topics.sort_values(0, ascending=False)\n",
    "    topics_text = ' '.join(df_topics[1].values[:5]) # 상위 4개를 시리즈 형식으로 출력하기\n",
    "    print(topics_text) \n",
    "    topics_list.append(topics_text)\n",
    "\n",
    "topics_list_table = [topics_list, ['Topic1', 'Topic2', 'Topic3']]\n",
    "topics_list_table"
   ]
  },
  {
   "cell_type": "code",
   "execution_count": 35,
   "id": "07532327-2a0b-422e-bd25-731574d56816",
   "metadata": {},
   "outputs": [
    {
     "data": {
      "text/html": [
       "<div>\n",
       "<style scoped>\n",
       "    .dataframe tbody tr th:only-of-type {\n",
       "        vertical-align: middle;\n",
       "    }\n",
       "\n",
       "    .dataframe tbody tr th {\n",
       "        vertical-align: top;\n",
       "    }\n",
       "\n",
       "    .dataframe thead th {\n",
       "        text-align: right;\n",
       "    }\n",
       "</style>\n",
       "<table border=\"1\" class=\"dataframe\">\n",
       "  <thead>\n",
       "    <tr style=\"text-align: right;\">\n",
       "      <th></th>\n",
       "      <th>0</th>\n",
       "      <th>1</th>\n",
       "      <th>2</th>\n",
       "    </tr>\n",
       "  </thead>\n",
       "  <tbody>\n",
       "    <tr>\n",
       "      <th>0</th>\n",
       "      <td>개최 제약 의료 교수 세계</td>\n",
       "      <td>개발 신약 지원 의약품 제휴</td>\n",
       "      <td>승인 의약품 센터 신청 진료</td>\n",
       "    </tr>\n",
       "    <tr>\n",
       "      <th>1</th>\n",
       "      <td>Topic1</td>\n",
       "      <td>Topic2</td>\n",
       "      <td>Topic3</td>\n",
       "    </tr>\n",
       "  </tbody>\n",
       "</table>\n",
       "</div>"
      ],
      "text/plain": [
       "                0                1                2\n",
       "0  개최 제약 의료 교수 세계  개발 신약 지원 의약품 제휴  승인 의약품 센터 신청 진료\n",
       "1          Topic1           Topic2           Topic3"
      ]
     },
     "execution_count": 35,
     "metadata": {},
     "output_type": "execute_result"
    }
   ],
   "source": [
    "topics_list_table = pd.DataFrame(topics_list_table)\n",
    "topics_list_table"
   ]
  },
  {
   "cell_type": "code",
   "execution_count": 36,
   "id": "ba75bcd8-fce8-4974-ac1b-525bf9d6f038",
   "metadata": {},
   "outputs": [
    {
     "data": {
      "text/html": [
       "<div>\n",
       "<style scoped>\n",
       "    .dataframe tbody tr th:only-of-type {\n",
       "        vertical-align: middle;\n",
       "    }\n",
       "\n",
       "    .dataframe tbody tr th {\n",
       "        vertical-align: top;\n",
       "    }\n",
       "\n",
       "    .dataframe thead th {\n",
       "        text-align: right;\n",
       "    }\n",
       "</style>\n",
       "<table border=\"1\" class=\"dataframe\">\n",
       "  <thead>\n",
       "    <tr style=\"text-align: right;\">\n",
       "      <th></th>\n",
       "      <th>news_title</th>\n",
       "    </tr>\n",
       "    <tr>\n",
       "      <th>topic_num</th>\n",
       "      <th></th>\n",
       "    </tr>\n",
       "  </thead>\n",
       "  <tbody>\n",
       "    <tr>\n",
       "      <th>0</th>\n",
       "      <td>738</td>\n",
       "    </tr>\n",
       "    <tr>\n",
       "      <th>1</th>\n",
       "      <td>915</td>\n",
       "    </tr>\n",
       "    <tr>\n",
       "      <th>2</th>\n",
       "      <td>772</td>\n",
       "    </tr>\n",
       "  </tbody>\n",
       "</table>\n",
       "</div>"
      ],
      "text/plain": [
       "           news_title\n",
       "topic_num            \n",
       "0                 738\n",
       "1                 915\n",
       "2                 772"
      ]
     },
     "execution_count": 36,
     "metadata": {},
     "output_type": "execute_result"
    }
   ],
   "source": [
    "pivot_table_title = pd.pivot_table(data=df_bosa_test1,\n",
    "                                   values='news_title'\n",
    "                                   ,index='topic_num'\n",
    "                                   , aggfunc='count')\n",
    "pivot_table_title"
   ]
  },
  {
   "cell_type": "markdown",
   "id": "8493a508-d6e0-4b51-b0b8-592be429304e",
   "metadata": {
    "jp-MarkdownHeadingCollapsed": true
   },
   "source": [
    "### 시각화"
   ]
  },
  {
   "cell_type": "code",
   "execution_count": 37,
   "id": "62da735d-cfa3-4747-b8b4-e0342528ae58",
   "metadata": {},
   "outputs": [],
   "source": [
    "vis = pyLDAvis.lda_model.prepare(components, features, tfidfvectorizer)\n",
    "# 토픽모델, 교육이 끝난 값(행렬형태), 교육모델"
   ]
  },
  {
   "cell_type": "code",
   "execution_count": 38,
   "id": "73dedab4-5d0d-4801-9dee-53d838607202",
   "metadata": {},
   "outputs": [
    {
     "data": {
      "text/html": [
       "\n",
       "<link rel=\"stylesheet\" type=\"text/css\" href=\"https://cdn.jsdelivr.net/gh/bmabey/pyLDAvis@3.4.0/pyLDAvis/js/ldavis.v1.0.0.css\">\n",
       "\n",
       "\n",
       "<div id=\"ldavis_el481751400055428361761739311979\" style=\"background-color:white;\"></div>\n",
       "<script type=\"text/javascript\">\n",
       "\n",
       "var ldavis_el481751400055428361761739311979_data = {\"mdsDat\": {\"x\": [0.16637303978912077, -0.17056342789932905, 0.0041903881102083405], \"y\": [-0.09361531472160407, -0.08688096389538674, 0.18049627861699086], \"topics\": [1, 2, 3], \"cluster\": [1, 1, 1], \"Freq\": [36.34557426969694, 32.48354951508418, 31.17087621521887]}, \"tinfo\": {\"Term\": [\"\\uac1c\\ubc1c\", \"\\uc2b9\\uc778\", \"\\uc81c\\ud734\", \"\\uac1c\\ucd5c\", \"\\uad50\\uc218\", \"\\uc9c0\\uc6d0\", \"\\uc778\\uc218\", \"\\uc57d\\uc0ac\", \"\\ud22c\\uc790\", \"\\uc2e0\\uccad\", \"\\uc9c4\\ub8cc\", \"\\ucd94\\uc9c4\", \"\\uc720\\uc804\\uc790\", \"\\uc81c\\uc57d\", \"\\ubcf4\\ud5d8\", \"\\uc218\\uc0c1\", \"\\uc57d\\ud488\", \"\\uc138\\uacc4\", \"\\uc131\\uc7a5\", \"\\ub3c4\\uc785\", \"\\uc13c\\ud130\", \"\\uad6c\\ucd95\", \"\\ud6a8\\uacfc\", \"\\ud654\\uc774\\uc790\", \"\\uccb4\\uacb0\", \"\\ud76c\\ub9dd\", \"\\uc2e0\\uc57d\", \"\\uac1c\\uc120\", \"\\uc815\\ucc45\", \"\\ucd94\\uac00\", \"\\uac1c\\ubc1c\", \"\\uc81c\\ud734\", \"\\uc778\\uc218\", \"\\uc57d\\uc0ac\", \"\\ud22c\\uc790\", \"\\uc57d\\ud488\", \"\\uccb4\\uacb0\", \"\\uc720\\ub9dd\", \"\\ucf54\\ub9ac\\uc544\", \"\\uc0ac\\ud68c\", \"\\uacf5\\ub3d9\", \"\\ubd80\\uc0b0\", \"\\uacc4\\uc57d\", \"\\uad50\\uc721\", \"\\uc0ac\\ub791\", \"\\uba74\\uc5ed\", \"\\ub9e4\\ucd9c\", \"\\uace0\\uc154\\ubcd1\", \"\\ud0c0\\uae43\", \"\\uc720\\uc804\\uc0c1\\ub2f4\", \"\\ubbf8\\uad6d\", \"\\uc804\\ubb38\", \"\\uc624\\ud508\", \"\\uae30\\ub9b0\", \"\\uc608\\uc0b0\", \"\\ubd80\\ub2f4\", \"\\uc720\\uc804\\uc790\", \"\\ub9de\\ucda4\", \"\\uae30\\uad00\", \"\\uc99d\\uac00\", \"\\uc9c0\\uc6d0\", \"\\uc120\\uc815\", \"\\uc9c4\\ub2e8\", \"\\ud611\\ub825\", \"\\uc2e0\\uc57d\", \"\\ud601\\uc2e0\", \"\\uc758\\uc57d\\ud488\", \"\\uc81c\\uc57d\", \"\\uc5f0\\uad6c\", \"\\ub300\\uc0c1\", \"\\uc2dc\\uc7a5\", \"\\uc758\\ub8cc\", \"\\ubc14\\uc774\\uc624\", \"\\uc720\\uc804\", \"\\uc0ac\\uc5c5\", \"\\ud5c8\\uac00\", \"\\uc2b9\\uc778\", \"\\uc9c4\\ub8cc\", \"\\uc2e0\\uccad\", \"\\ucd94\\uc9c4\", \"\\ubcf4\\ud5d8\", \"\\uc131\\uc7a5\", \"\\ub3c4\\uc785\", \"\\uc815\\ucc45\", \"\\ucd94\\uac00\", \"\\ud654\\uc774\\uc790\", \"\\uc720\\ub7fd\", \"\\uc81c\\ub3c4\", \"\\uc131\\uacf5\", \"\\uac70\\uc810\", \"\\uc2dd\\uc57d\\ucc98\", \"\\ub0b4\\ub144\", \"\\ube44\\ub300\", \"\\ud544\\uc218\", \"\\ub098\\uc11c\\ub2e4\", \"\\uac74\\uac15\", \"\\uc784\\uc0c1\\uc2dc\\ud5d8\", \"\\uc758\\ub8cc\\uae30\\uae30\", \"\\uc704\\ud5d8\", \"\\uc62c\\ud574\", \"\\uad6d\\uc81c\", \"\\uc811\\uadfc\\uc131\", \"\\uac00\\ub2a5\", \"\\ubcf5\\uc9c0\", \"\\uc11c\\ub2e4\", \"\\ubaa8\\uc57c\", \"\\uc81c\\ud488\", \"\\uac1c\\uc120\", \"\\uac15\\ud654\", \"\\uc904\\uae30\\uc138\\ud3ec\", \"\\uc801\\uc6a9\", \"\\uc13c\\ud130\", \"\\uc99d\\ud6c4\\uad70\", \"\\uc758\\uc57d\\ud488\", \"\\uc911\\uc99d\", \"\\ud5c8\\uac00\", \"\\uc758\\ub8cc\", \"\\uc2e0\\uc57d\", \"\\ud655\\ub300\", \"\\ub418\\ub2e4\", \"\\ubc14\\uc774\\uc624\", \"\\uad50\\uc218\", \"\\uc218\\uc0c1\", \"\\uad6c\\ucd95\", \"\\ud6a8\\uacfc\", \"\\ud76c\\ub9dd\", \"\\uc2e0\\uaddc\", \"\\uc0b0\\uc5c5\", \"\\uc0c1\\ubc18\\uae30\", \"\\uc5f0\\uad6c\\uc18c\", \"\\uadf9\\ubcf5\", \"\\uae30\\ub150\", \"\\ud2b9\\uc9d1\", \"\\uc7a5\\uad00\", \"\\uc758\\ub300\", \"\\ucc29\\uc218\", \"\\uc644\\uce58\", \"\\uc5f0\\uad6c\\uc6d0\", \"\\ubc1c\\uacac\", \"\\ub9cc\\uc131\", \"\\uc9c0\\uc18d\", \"\\uc81c\\ud55c\", \"\\ube45\\ub370\\uc774\\ud130\", \"\\ucc3d\\uac04\", \"\\ud45c\\ucc3d\", \"\\uac78\\uc74c\", \"\\uc8fc\\ub144\", \"\\uc12c\\uc720\", \"\\ub2e4\\ucf08\", \"\\uad6d\\ub9bd\", \"\\ud589\\uc0ac\", \"\\uac00\\uc871\", \"\\ub300\\uc6c5\\uc81c\\uc57d\", \"\\uac1c\\ucd5c\", \"\\ub09c\\uce58\", \"\\uc138\\uacc4\", \"\\ucd9c\\uc2dc\", \"\\ubc1c\\ud45c\", \"\\ubcf4\\uac74\", \"\\uae30\\uc220\", \"\\uc81c\\uc57d\", \"\\uc758\\ub8cc\", \"\\uc2ec\\ud3ec\\uc9c0\\uc5c4\", \"\\ud3c9\\uac00\", \"\\uc0ac\\uc5c5\", \"\\ucea0\\ud398\\uc778\", \"\\uc9c4\\ud589\", \"\\ud655\\ub300\", \"\\ubc14\\uc774\\uc624\", \"\\uac80\\uc0ac\", \"\\uc5f0\\uad6c\"], \"Freq\": [44.0, 24.0, 23.0, 29.0, 17.0, 29.0, 19.0, 18.0, 18.0, 15.0, 15.0, 14.0, 20.0, 40.0, 13.0, 12.0, 14.0, 18.0, 12.0, 12.0, 22.0, 10.0, 10.0, 11.0, 12.0, 10.0, 46.0, 12.0, 10.0, 10.0, 43.534241457515684, 22.78957766864527, 18.826957088016133, 18.260234128629957, 18.204121103651755, 14.030884038500835, 11.525268445543691, 10.605281243222365, 9.911306428395429, 9.749935365783548, 9.322556984483892, 8.570630319064236, 7.87061527358756, 7.758353947358079, 7.260552795975141, 6.9422906077303566, 7.030091433485628, 7.8607031990740275, 6.245184680782143, 8.664970840105433, 6.419747086567109, 5.974664503145193, 6.177761855574075, 6.069348401844796, 5.760248032764899, 6.040331432741116, 18.583230701860508, 5.437082252590623, 11.67989727083631, 5.092635057465833, 26.08438925239003, 13.416375303564386, 15.014372922378515, 8.006033041239508, 30.92786908854891, 13.247767012371936, 25.01037956597139, 22.122779221906587, 12.87682425490095, 8.656720772331335, 10.323257628594037, 15.16518579443678, 10.366191840640441, 8.62605855005779, 8.370254561583293, 8.071674339772722, 24.244896131461203, 14.811420991606512, 14.963080596909826, 14.38377602370307, 12.438387522097997, 11.824604850332188, 11.505392002714492, 9.583700418929809, 9.499972922141561, 10.338748882558079, 8.820310072926768, 8.518346687382719, 8.030351406596989, 9.635292640079285, 7.631648408133179, 7.855650283616852, 7.0409169665885445, 7.568946141718306, 7.288884133540303, 9.040158021841833, 7.440628760987357, 6.6124005349152855, 6.393543285415164, 6.537666435105255, 6.871192663220604, 5.830992808953482, 6.218814680193862, 5.69903397292788, 5.5929332498011295, 5.244501128697423, 5.479055854366702, 11.07667850735697, 11.311786846392343, 7.1826903924079755, 9.816629311490797, 16.30888628508371, 10.735098870692676, 19.09731316835484, 8.642103220063523, 10.136888863375356, 12.191136224239665, 11.092565186220899, 9.251085314887346, 7.89739669902952, 7.924501591160799, 17.151468528481423, 11.677761774936066, 10.180616925066039, 9.73666254874832, 9.446762949077385, 8.604364093271723, 8.29863134672026, 8.313907614374207, 7.980455418498388, 7.766377815581973, 7.502374593995082, 7.191266388033301, 6.692720794945564, 6.534605356603904, 6.794698350256668, 6.074456013890626, 5.95813659133986, 5.9189328019616685, 5.873375419539638, 6.356741206007652, 6.304689506655911, 5.704298979400704, 5.75885798541652, 5.573102379681304, 5.458860090590339, 5.480042227877983, 5.453913808151074, 5.258808103345558, 5.278335630415091, 6.527394432449262, 5.477114370134766, 5.341034036108108, 23.13039341350629, 9.652449849889079, 14.628222490182168, 9.120568904941834, 6.420828784344888, 10.943922259112151, 11.20944367573765, 17.888335210455242, 17.280490815094073, 10.784413838200521, 9.177373725229087, 10.759640797422735, 7.747250051648289, 7.2471259263600825, 9.651103257799225, 8.719979446358002, 6.82587792729458, 6.854209032597165], \"Total\": [44.0, 24.0, 23.0, 29.0, 17.0, 29.0, 19.0, 18.0, 18.0, 15.0, 15.0, 14.0, 20.0, 40.0, 13.0, 12.0, 14.0, 18.0, 12.0, 12.0, 22.0, 10.0, 10.0, 11.0, 12.0, 10.0, 46.0, 12.0, 10.0, 10.0, 44.19163318427392, 23.35438584719294, 19.41005903264784, 18.84380186240552, 18.791524756051007, 14.645192604928889, 12.097289841537656, 11.180107853954565, 10.495450268724646, 10.35126834805366, 9.928450254898678, 9.144688257742892, 8.464378167444375, 8.355904024692597, 7.832339039623873, 7.516394374496343, 7.620126900965396, 8.52739151054875, 6.808790413244277, 9.457353902017683, 7.008902678322475, 6.536533462037935, 6.7615986049951875, 6.679017934141623, 6.340038838072227, 6.6528685544223345, 20.539025420388164, 6.021401210629147, 12.943627194747796, 5.651217151371479, 29.298435929705754, 15.758120532466565, 17.874305159991593, 9.222885103306904, 46.07244710536275, 18.03041908133081, 46.94992808406187, 40.845095470134545, 20.051279342582113, 12.176015259773916, 18.129017122593883, 44.63681283377052, 27.01067287815924, 15.581251318024846, 22.251720003655954, 18.60860735656134, 24.813584115581875, 15.383207138425272, 15.54199232514064, 14.99440607815214, 13.00293928748686, 12.410279897720912, 12.087488908067913, 10.163883698298596, 10.089001315047529, 11.000919983456082, 9.39580939643874, 9.091289261635014, 8.620574739893863, 10.351633338692862, 8.199803089473898, 8.45430888359177, 7.602847193978984, 8.174254915750911, 7.879471461102166, 9.79096781311398, 8.06180723563361, 7.1820796609106745, 6.949186871820084, 7.122570620188299, 7.492970868084078, 6.3993586006418, 6.8467546313566405, 6.281639424134753, 6.175606596201617, 5.805702926810273, 6.068500865160494, 12.542407566411331, 13.031925320205161, 8.273709246742452, 12.114667893026493, 22.74515462372478, 15.106560308787772, 46.94992808406187, 11.754900015343834, 18.60860735656134, 44.63681283377052, 46.07244710536275, 26.068993479604003, 13.615816354155847, 27.01067287815924, 17.722444475088327, 12.247703222585034, 10.77083220897031, 10.30216546258492, 10.02215754003157, 9.189950193986599, 8.87188607813485, 8.895764373367143, 8.546712141799947, 8.324383213412695, 8.057940346995945, 7.78774977610744, 7.251707387249125, 7.091579647961366, 7.380850947780867, 6.632705890014874, 6.5139920447177655, 6.479215287041055, 6.432545454560528, 6.964479590560783, 6.9194301881559905, 6.268906869332816, 6.333684432823918, 6.1297512398891225, 6.010977736110891, 6.044435149159841, 6.024220498245814, 5.813611980352487, 5.835910261429782, 7.21826593009702, 6.0581354888620655, 5.909410589576549, 29.109582181321148, 11.344441571162502, 18.213629747367353, 11.36324812716368, 7.411527189293405, 16.474018988176596, 17.2581967184817, 40.845095470134545, 44.63681283377052, 19.325619040075303, 14.447376917347718, 22.251720003655954, 11.934996531421522, 10.225696539221037, 26.068993479604003, 27.01067287815924, 14.162791976460529, 20.051279342582113], \"Category\": [\"Default\", \"Default\", \"Default\", \"Default\", \"Default\", \"Default\", \"Default\", \"Default\", \"Default\", \"Default\", \"Default\", \"Default\", \"Default\", \"Default\", \"Default\", \"Default\", \"Default\", \"Default\", \"Default\", \"Default\", \"Default\", \"Default\", \"Default\", \"Default\", \"Default\", \"Default\", \"Default\", \"Default\", \"Default\", \"Default\", \"Topic1\", \"Topic1\", \"Topic1\", \"Topic1\", \"Topic1\", \"Topic1\", \"Topic1\", \"Topic1\", \"Topic1\", \"Topic1\", \"Topic1\", \"Topic1\", \"Topic1\", \"Topic1\", \"Topic1\", \"Topic1\", \"Topic1\", \"Topic1\", \"Topic1\", \"Topic1\", \"Topic1\", \"Topic1\", \"Topic1\", \"Topic1\", \"Topic1\", \"Topic1\", \"Topic1\", \"Topic1\", \"Topic1\", \"Topic1\", \"Topic1\", \"Topic1\", \"Topic1\", \"Topic1\", \"Topic1\", \"Topic1\", \"Topic1\", \"Topic1\", \"Topic1\", \"Topic1\", \"Topic1\", \"Topic1\", \"Topic1\", \"Topic1\", \"Topic1\", \"Topic1\", \"Topic2\", \"Topic2\", \"Topic2\", \"Topic2\", \"Topic2\", \"Topic2\", \"Topic2\", \"Topic2\", \"Topic2\", \"Topic2\", \"Topic2\", \"Topic2\", \"Topic2\", \"Topic2\", \"Topic2\", \"Topic2\", \"Topic2\", \"Topic2\", \"Topic2\", \"Topic2\", \"Topic2\", \"Topic2\", \"Topic2\", \"Topic2\", \"Topic2\", \"Topic2\", \"Topic2\", \"Topic2\", \"Topic2\", \"Topic2\", \"Topic2\", \"Topic2\", \"Topic2\", \"Topic2\", \"Topic2\", \"Topic2\", \"Topic2\", \"Topic2\", \"Topic2\", \"Topic2\", \"Topic2\", \"Topic2\", \"Topic2\", \"Topic2\", \"Topic2\", \"Topic3\", \"Topic3\", \"Topic3\", \"Topic3\", \"Topic3\", \"Topic3\", \"Topic3\", \"Topic3\", \"Topic3\", \"Topic3\", \"Topic3\", \"Topic3\", \"Topic3\", \"Topic3\", \"Topic3\", \"Topic3\", \"Topic3\", \"Topic3\", \"Topic3\", \"Topic3\", \"Topic3\", \"Topic3\", \"Topic3\", \"Topic3\", \"Topic3\", \"Topic3\", \"Topic3\", \"Topic3\", \"Topic3\", \"Topic3\", \"Topic3\", \"Topic3\", \"Topic3\", \"Topic3\", \"Topic3\", \"Topic3\", \"Topic3\", \"Topic3\", \"Topic3\", \"Topic3\", \"Topic3\", \"Topic3\", \"Topic3\", \"Topic3\", \"Topic3\", \"Topic3\", \"Topic3\", \"Topic3\", \"Topic3\", \"Topic3\"], \"logprob\": [30.0, 29.0, 28.0, 27.0, 26.0, 25.0, 24.0, 23.0, 22.0, 21.0, 20.0, 19.0, 18.0, 17.0, 16.0, 15.0, 14.0, 13.0, 12.0, 11.0, 10.0, 9.0, 8.0, 7.0, 6.0, 5.0, 4.0, 3.0, 2.0, 1.0, -3.6413, -4.2886, -4.4796, -4.5102, -4.5132, -4.7736, -4.9704, -5.0535, -5.1212, -5.1376, -5.1825, -5.2666, -5.3518, -5.3661, -5.4324, -5.4773, -5.4647, -5.353, -5.5831, -5.2556, -5.5555, -5.6274, -5.5939, -5.6116, -5.6639, -5.6164, -4.4926, -5.7217, -4.957, -5.7871, -4.1536, -4.8184, -4.7059, -5.3347, -3.9832, -4.8311, -4.1956, -4.3183, -4.8595, -5.2566, -5.0805, -4.6959, -5.0763, -5.2601, -5.2902, -5.3265, -4.1143, -4.6072, -4.597, -4.6365, -4.7818, -4.8324, -4.8597, -5.0425, -5.0513, -4.9667, -5.1255, -5.1603, -5.2193, -5.0371, -5.2703, -5.2413, -5.3508, -5.2785, -5.3162, -5.1009, -5.2956, -5.4136, -5.4473, -5.425, -5.3752, -5.5394, -5.475, -5.5623, -5.5811, -5.6454, -5.6016, -4.8977, -4.8767, -5.3309, -5.0185, -4.5108, -4.929, -4.353, -5.1459, -4.9864, -4.8018, -4.8963, -5.0778, -5.236, -5.2326, -4.4192, -4.8036, -4.9408, -4.9854, -5.0156, -5.109, -5.1452, -5.1434, -5.1843, -5.2115, -5.2461, -5.2884, -5.3603, -5.3842, -5.3452, -5.4572, -5.4765, -5.4831, -5.4909, -5.4118, -5.42, -5.5201, -5.5106, -5.5434, -5.5641, -5.5602, -5.565, -5.6014, -5.5977, -5.3853, -5.5607, -5.5859, -4.1202, -4.9941, -4.5784, -5.0508, -5.4018, -4.8685, -4.8445, -4.3772, -4.4117, -4.8832, -5.0446, -4.8855, -5.214, -5.2807, -4.9942, -5.0957, -5.3406, -5.3364], \"loglift\": [30.0, 29.0, 28.0, 27.0, 26.0, 25.0, 24.0, 23.0, 22.0, 21.0, 20.0, 19.0, 18.0, 17.0, 16.0, 15.0, 14.0, 13.0, 12.0, 11.0, 10.0, 9.0, 8.0, 7.0, 6.0, 5.0, 4.0, 3.0, 2.0, 1.0, 0.9971, 0.9876, 0.9816, 0.9806, 0.9803, 0.9692, 0.9637, 0.9593, 0.9548, 0.9522, 0.9491, 0.9473, 0.9394, 0.9379, 0.9363, 0.9326, 0.9315, 0.9307, 0.9257, 0.9246, 0.9243, 0.9222, 0.9218, 0.9164, 0.9162, 0.9155, 0.912, 0.91, 0.9094, 0.908, 0.8959, 0.8512, 0.8377, 0.8706, 0.6135, 0.7039, 0.3823, 0.3989, 0.5692, 0.671, 0.449, -0.0675, 0.0544, 0.4208, 0.0344, 0.1768, 1.1013, 1.0866, 1.0865, 1.0829, 1.08, 1.0761, 1.0751, 1.0657, 1.0643, 1.0624, 1.0612, 1.0593, 1.0535, 1.0527, 1.0526, 1.051, 1.0477, 1.0475, 1.0465, 1.0447, 1.0443, 1.0418, 1.0411, 1.0387, 1.0378, 1.0314, 1.0282, 1.0271, 1.0253, 1.0228, 1.0223, 1.0002, 0.9829, 0.983, 0.9141, 0.7918, 0.7828, 0.2249, 0.8168, 0.517, -0.1734, -0.2995, 0.0884, 0.5797, -0.1018, 1.1329, 1.118, 1.1093, 1.1092, 1.1066, 1.0998, 1.0989, 1.098, 1.0971, 1.0963, 1.0942, 1.086, 1.0855, 1.0839, 1.0829, 1.0778, 1.0765, 1.0752, 1.0747, 1.0744, 1.0726, 1.0713, 1.0705, 1.0705, 1.0693, 1.0677, 1.0662, 1.0654, 1.0653, 1.0651, 1.0649, 1.0646, 0.9358, 1.0042, 0.9465, 0.9458, 1.0222, 0.7567, 0.7342, 0.34, 0.2167, 0.5824, 0.7119, 0.4391, 0.7335, 0.8214, 0.172, 0.0351, 0.4358, 0.0923]}, \"token.table\": {\"Topic\": [2, 3, 1, 2, 1, 1, 2, 2, 3, 2, 2, 3, 1, 3, 1, 1, 1, 3, 1, 3, 3, 2, 3, 1, 2, 3, 1, 1, 3, 2, 2, 3, 2, 3, 1, 3, 3, 2, 1, 2, 3, 3, 1, 1, 1, 2, 1, 1, 2, 3, 3, 1, 3, 2, 3, 2, 2, 1, 1, 2, 3, 1, 1, 2, 3, 1, 3, 3, 2, 1, 3, 3, 2, 2, 1, 3, 1, 2, 3, 2, 1, 2, 3, 2, 3, 1, 2, 3, 2, 1, 2, 3, 1, 1, 1, 3, 3, 3, 1, 1, 2, 3, 2, 2, 1, 1, 2, 3, 1, 1, 3, 3, 1, 2, 3, 2, 1, 2, 3, 1, 2, 3, 1, 2, 3, 1, 2, 2, 2, 1, 2, 3, 2, 3, 1, 3, 2, 3, 2, 3, 1, 2, 3, 3, 1, 2, 3, 1, 2, 2, 1, 3, 3, 3, 1, 2, 2, 2, 3, 1, 3, 1, 1, 1, 3, 2, 3, 3, 2, 3, 1, 2, 1, 2, 1, 2, 2, 1, 2, 3, 3, 3], \"Freq\": [0.8763275921297531, 0.825336443728032, 0.07673463248362576, 0.8440809573198833, 0.9956635867365474, 0.0797295092433456, 0.8770246016768016, 0.2061176956311672, 0.7901178332528075, 0.9660311250227045, 0.919214542605833, 0.8318114322670916, 0.49425282893616246, 0.49425282893616246, 0.9451373558390311, 0.9381532430056315, 0.9064858833894461, 0.9592356192113433, 0.9574068797773572, 0.928433365777592, 0.8567643736823009, 0.9342088903369608, 0.9610321623720985, 0.9270971590459051, 0.07725809658715876, 0.9928095338882044, 0.8983356623927243, 0.34766088820708807, 0.6373782950463281, 0.8883844601197214, 0.08814889597933084, 0.8814889597933084, 0.9462630370090336, 0.8600505188337051, 0.7391580749519455, 0.24638602498398182, 0.8461080718979599, 0.9927620278510024, 0.07344399880178892, 0.5875519904143114, 0.3672199940089446, 0.9327567200860022, 0.8303715074115737, 0.9186198722114678, 0.9312975944625117, 0.8612221574256579, 0.8560541179373392, 0.3702240238556209, 0.29617921908449674, 0.33320162147005883, 0.9260380669863643, 0.13492495871088309, 0.8095497522652985, 0.3035082091133014, 0.667718060049263, 0.9228682634508629, 0.9551646624203447, 0.9018666085040331, 0.9841778906328071, 0.9207077061266726, 0.9571046635501486, 0.8937304634780157, 0.3595227694167283, 0.1348210385312731, 0.49434380794800137, 0.9660651877390747, 0.9017248338790496, 0.8993043952412955, 0.9715644781664645, 0.8249714788775736, 0.12691868905808826, 0.8299829001039959, 0.9280123705648072, 0.9669403187436363, 0.16471181426281206, 0.8235590713140603, 0.26379244719407546, 0.7034465258508679, 0.9797755368428372, 0.9672121483219758, 0.55160188400601, 0.330961130403606, 0.110320376801202, 0.9756331844443453, 0.9793306612139322, 0.6728533418054901, 0.2387544116083997, 0.08681978603941806, 0.9651272299070747, 0.20697913954038152, 0.25872392442547687, 0.5691926337360492, 0.9552212516048073, 0.9559450925410331, 0.6483376834909687, 0.349104906495137, 0.9360324610529344, 0.9210941552907538, 0.9463664424214127, 0.8873641206041792, 0.982791238342954, 0.9046081794509578, 0.8634103688203913, 0.9578738371822696, 0.983890329475591, 0.5776172796589538, 0.06417969773988376, 0.38507818643930253, 0.9516403946858636, 0.9250682352795355, 0.09737560371363532, 0.9870861426497984, 0.3360454980480051, 0.26883639843840407, 0.38085156445440577, 0.9746480588482379, 0.5324821787849932, 0.40468645587659474, 0.06389786145419918, 0.9788738904936807, 0.8682916615842207, 0.9652899139736789, 0.08254456571406511, 0.8254456571406511, 0.08254456571406511, 0.9179177364953538, 0.9375939644010968, 0.9838758782407133, 0.9899586011391969, 0.538620359354678, 0.02448274360703082, 0.44068938492655474, 0.8239267178332625, 0.8671234244505014, 0.984825726117926, 0.8272071544509805, 0.8460534194812392, 0.1208647742116056, 0.7656381584064667, 0.25521271946882224, 0.8847651516605699, 0.7281604663902935, 0.2647856241419249, 0.8615144781430649, 0.8874193851979155, 0.034131514815304444, 0.10239454444591334, 0.8391934604302713, 0.11189246139070284, 0.975089255772415, 0.2933785477100156, 0.6845499446567029, 0.9484001302186743, 0.9473159049265828, 0.9919577159171967, 0.8920605438495377, 0.9336815294337628, 0.17600601321192919, 0.7920270594536813, 0.3351488196472545, 0.670297639294509, 0.9527938053119039, 0.8812137892112174, 0.9578786305887109, 0.8988475748766055, 0.3460835851798287, 0.6229504533236917, 0.978832543962833, 0.9786824710573755, 0.9697619993207862, 0.4299085819111135, 0.5373857273888919, 0.7210037626613215, 0.2218473115880989, 0.8674075314167762, 0.10842594142709702, 0.9090148837586918, 0.2685182304977251, 0.3452377249256465, 0.38359747213960727, 0.9706697136944349, 0.8980102302374754], \"Term\": [\"\\uac00\\ub2a5\", \"\\uac00\\uc871\", \"\\uac15\\ud654\", \"\\uac15\\ud654\", \"\\uac1c\\ubc1c\", \"\\uac1c\\uc120\", \"\\uac1c\\uc120\", \"\\uac1c\\ucd5c\", \"\\uac1c\\ucd5c\", \"\\uac70\\uc810\", \"\\uac74\\uac15\", \"\\uac78\\uc74c\", \"\\uac80\\uc0ac\", \"\\uac80\\uc0ac\", \"\\uacc4\\uc57d\", \"\\uace0\\uc154\\ubcd1\", \"\\uacf5\\ub3d9\", \"\\uad50\\uc218\", \"\\uad50\\uc721\", \"\\uad6c\\ucd95\", \"\\uad6d\\ub9bd\", \"\\uad6d\\uc81c\", \"\\uadf9\\ubcf5\", \"\\uae30\\uad00\", \"\\uae30\\uad00\", \"\\uae30\\ub150\", \"\\uae30\\ub9b0\", \"\\uae30\\uc220\", \"\\uae30\\uc220\", \"\\ub098\\uc11c\\ub2e4\", \"\\ub09c\\uce58\", \"\\ub09c\\uce58\", \"\\ub0b4\\ub144\", \"\\ub2e4\\ucf08\", \"\\ub300\\uc0c1\", \"\\ub300\\uc0c1\", \"\\ub300\\uc6c5\\uc81c\\uc57d\", \"\\ub3c4\\uc785\", \"\\ub418\\ub2e4\", \"\\ub418\\ub2e4\", \"\\ub418\\ub2e4\", \"\\ub9cc\\uc131\", \"\\ub9de\\ucda4\", \"\\ub9e4\\ucd9c\", \"\\uba74\\uc5ed\", \"\\ubaa8\\uc57c\", \"\\ubbf8\\uad6d\", \"\\ubc14\\uc774\\uc624\", \"\\ubc14\\uc774\\uc624\", \"\\ubc14\\uc774\\uc624\", \"\\ubc1c\\uacac\", \"\\ubc1c\\ud45c\", \"\\ubc1c\\ud45c\", \"\\ubcf4\\uac74\", \"\\ubcf4\\uac74\", \"\\ubcf4\\ud5d8\", \"\\ubcf5\\uc9c0\", \"\\ubd80\\ub2f4\", \"\\ubd80\\uc0b0\", \"\\ube44\\ub300\", \"\\ube45\\ub370\\uc774\\ud130\", \"\\uc0ac\\ub791\", \"\\uc0ac\\uc5c5\", \"\\uc0ac\\uc5c5\", \"\\uc0ac\\uc5c5\", \"\\uc0ac\\ud68c\", \"\\uc0b0\\uc5c5\", \"\\uc0c1\\ubc18\\uae30\", \"\\uc11c\\ub2e4\", \"\\uc120\\uc815\", \"\\uc120\\uc815\", \"\\uc12c\\uc720\", \"\\uc131\\uacf5\", \"\\uc131\\uc7a5\", \"\\uc138\\uacc4\", \"\\uc138\\uacc4\", \"\\uc13c\\ud130\", \"\\uc13c\\ud130\", \"\\uc218\\uc0c1\", \"\\uc2b9\\uc778\", \"\\uc2dc\\uc7a5\", \"\\uc2dc\\uc7a5\", \"\\uc2dc\\uc7a5\", \"\\uc2dd\\uc57d\\ucc98\", \"\\uc2e0\\uaddc\", \"\\uc2e0\\uc57d\", \"\\uc2e0\\uc57d\", \"\\uc2e0\\uc57d\", \"\\uc2e0\\uccad\", \"\\uc2ec\\ud3ec\\uc9c0\\uc5c4\", \"\\uc2ec\\ud3ec\\uc9c0\\uc5c4\", \"\\uc2ec\\ud3ec\\uc9c0\\uc5c4\", \"\\uc57d\\uc0ac\", \"\\uc57d\\ud488\", \"\\uc5f0\\uad6c\", \"\\uc5f0\\uad6c\", \"\\uc5f0\\uad6c\\uc18c\", \"\\uc5f0\\uad6c\\uc6d0\", \"\\uc608\\uc0b0\", \"\\uc624\\ud508\", \"\\uc62c\\ud574\", \"\\uc644\\uce58\", \"\\uc704\\ud5d8\", \"\\uc720\\ub7fd\", \"\\uc720\\ub9dd\", \"\\uc720\\uc804\", \"\\uc720\\uc804\", \"\\uc720\\uc804\", \"\\uc720\\uc804\\uc0c1\\ub2f4\", \"\\uc720\\uc804\\uc790\", \"\\uc720\\uc804\\uc790\", \"\\uc758\\ub300\", \"\\uc758\\ub8cc\", \"\\uc758\\ub8cc\", \"\\uc758\\ub8cc\", \"\\uc758\\ub8cc\\uae30\\uae30\", \"\\uc758\\uc57d\\ud488\", \"\\uc758\\uc57d\\ud488\", \"\\uc758\\uc57d\\ud488\", \"\\uc778\\uc218\", \"\\uc784\\uc0c1\\uc2dc\\ud5d8\", \"\\uc7a5\\uad00\", \"\\uc801\\uc6a9\", \"\\uc801\\uc6a9\", \"\\uc801\\uc6a9\", \"\\uc804\\ubb38\", \"\\uc811\\uadfc\\uc131\", \"\\uc815\\ucc45\", \"\\uc81c\\ub3c4\", \"\\uc81c\\uc57d\", \"\\uc81c\\uc57d\", \"\\uc81c\\uc57d\", \"\\uc81c\\ud488\", \"\\uc81c\\ud55c\", \"\\uc81c\\ud734\", \"\\uc8fc\\ub144\", \"\\uc904\\uae30\\uc138\\ud3ec\", \"\\uc904\\uae30\\uc138\\ud3ec\", \"\\uc911\\uc99d\", \"\\uc911\\uc99d\", \"\\uc99d\\uac00\", \"\\uc99d\\ud6c4\\uad70\", \"\\uc99d\\ud6c4\\uad70\", \"\\uc9c0\\uc18d\", \"\\uc9c0\\uc6d0\", \"\\uc9c0\\uc6d0\", \"\\uc9c0\\uc6d0\", \"\\uc9c4\\ub2e8\", \"\\uc9c4\\ub2e8\", \"\\uc9c4\\ub8cc\", \"\\uc9c4\\ud589\", \"\\uc9c4\\ud589\", \"\\ucc29\\uc218\", \"\\ucc3d\\uac04\", \"\\uccb4\\uacb0\", \"\\ucd94\\uac00\", \"\\ucd94\\uc9c4\", \"\\ucd9c\\uc2dc\", \"\\ucd9c\\uc2dc\", \"\\ucea0\\ud398\\uc778\", \"\\ucea0\\ud398\\uc778\", \"\\ucf54\\ub9ac\\uc544\", \"\\ud0c0\\uae43\", \"\\ud22c\\uc790\", \"\\ud2b9\\uc9d1\", \"\\ud3c9\\uac00\", \"\\ud3c9\\uac00\", \"\\ud45c\\ucc3d\", \"\\ud544\\uc218\", \"\\ud589\\uc0ac\", \"\\ud5c8\\uac00\", \"\\ud5c8\\uac00\", \"\\ud601\\uc2e0\", \"\\ud601\\uc2e0\", \"\\ud611\\ub825\", \"\\ud611\\ub825\", \"\\ud654\\uc774\\uc790\", \"\\ud655\\ub300\", \"\\ud655\\ub300\", \"\\ud655\\ub300\", \"\\ud6a8\\uacfc\", \"\\ud76c\\ub9dd\"]}, \"R\": 30, \"lambda.step\": 0.01, \"plot.opts\": {\"xlab\": \"PC1\", \"ylab\": \"PC2\"}, \"topic.order\": [2, 3, 1]};\n",
       "\n",
       "function LDAvis_load_lib(url, callback){\n",
       "  var s = document.createElement('script');\n",
       "  s.src = url;\n",
       "  s.async = true;\n",
       "  s.onreadystatechange = s.onload = callback;\n",
       "  s.onerror = function(){console.warn(\"failed to load library \" + url);};\n",
       "  document.getElementsByTagName(\"head\")[0].appendChild(s);\n",
       "}\n",
       "\n",
       "if(typeof(LDAvis) !== \"undefined\"){\n",
       "   // already loaded: just create the visualization\n",
       "   !function(LDAvis){\n",
       "       new LDAvis(\"#\" + \"ldavis_el481751400055428361761739311979\", ldavis_el481751400055428361761739311979_data);\n",
       "   }(LDAvis);\n",
       "}else if(typeof define === \"function\" && define.amd){\n",
       "   // require.js is available: use it to load d3/LDAvis\n",
       "   require.config({paths: {d3: \"https://d3js.org/d3.v5\"}});\n",
       "   require([\"d3\"], function(d3){\n",
       "      window.d3 = d3;\n",
       "      LDAvis_load_lib(\"https://cdn.jsdelivr.net/gh/bmabey/pyLDAvis@3.4.0/pyLDAvis/js/ldavis.v3.0.0.js\", function(){\n",
       "        new LDAvis(\"#\" + \"ldavis_el481751400055428361761739311979\", ldavis_el481751400055428361761739311979_data);\n",
       "      });\n",
       "    });\n",
       "}else{\n",
       "    // require.js not available: dynamically load d3 & LDAvis\n",
       "    LDAvis_load_lib(\"https://d3js.org/d3.v5.js\", function(){\n",
       "         LDAvis_load_lib(\"https://cdn.jsdelivr.net/gh/bmabey/pyLDAvis@3.4.0/pyLDAvis/js/ldavis.v3.0.0.js\", function(){\n",
       "                 new LDAvis(\"#\" + \"ldavis_el481751400055428361761739311979\", ldavis_el481751400055428361761739311979_data);\n",
       "            })\n",
       "         });\n",
       "}\n",
       "</script>"
      ],
      "text/plain": [
       "<IPython.core.display.HTML object>"
      ]
     },
     "execution_count": 38,
     "metadata": {},
     "output_type": "execute_result"
    }
   ],
   "source": [
    "pyLDAvis.enable_notebook()\n",
    "pyLDAvis.display(vis) # PCA - 차원축소 "
   ]
  },
  {
   "cell_type": "code",
   "execution_count": 39,
   "id": "99df8889-960c-49a0-8ac7-26d114c0c7bb",
   "metadata": {},
   "outputs": [
    {
     "data": {
      "text/html": [
       "<div>\n",
       "<style scoped>\n",
       "    .dataframe tbody tr th:only-of-type {\n",
       "        vertical-align: middle;\n",
       "    }\n",
       "\n",
       "    .dataframe tbody tr th {\n",
       "        vertical-align: top;\n",
       "    }\n",
       "\n",
       "    .dataframe thead th {\n",
       "        text-align: right;\n",
       "    }\n",
       "</style>\n",
       "<table border=\"1\" class=\"dataframe\">\n",
       "  <thead>\n",
       "    <tr style=\"text-align: right;\">\n",
       "      <th></th>\n",
       "      <th>news_title</th>\n",
       "      <th>news_url</th>\n",
       "      <th>news_when</th>\n",
       "      <th>news_topic</th>\n",
       "      <th>news_paper</th>\n",
       "      <th>news_contents</th>\n",
       "      <th>topic_num</th>\n",
       "      <th>topic_model</th>\n",
       "    </tr>\n",
       "  </thead>\n",
       "  <tbody>\n",
       "    <tr>\n",
       "      <th>45</th>\n",
       "      <td>제1기 권역별 '희귀질환 전문기관' 지정</td>\n",
       "      <td>http://www.bosa.co.kr/news/articleView.html?id...</td>\n",
       "      <td>2024-01-23</td>\n",
       "      <td>심포지엄/행사</td>\n",
       "      <td>의학신문</td>\n",
       "      <td>[의학신문·일간보사=김상일 기자]\"한국로슈 신경과학사업부는 신경과 영역에서 새로운 ...</td>\n",
       "      <td>1</td>\n",
       "      <td>1</td>\n",
       "    </tr>\n",
       "    <tr>\n",
       "      <th>46</th>\n",
       "      <td>삼성바이오에피스, ‘에피스클리’ 국내 품목 허가</td>\n",
       "      <td>http://www.bosa.co.kr/news/articleView.html?id...</td>\n",
       "      <td>2024-01-22</td>\n",
       "      <td>의료/법안</td>\n",
       "      <td>의학신문</td>\n",
       "      <td>[의학신문·일간보사=이승덕 기자]질병청이 올해부터 의료비 지원대상을 1272개(이전...</td>\n",
       "      <td>2</td>\n",
       "      <td>2</td>\n",
       "    </tr>\n",
       "    <tr>\n",
       "      <th>47</th>\n",
       "      <td>\"환자를 위해 없던 길도 만들어 나간다\"</td>\n",
       "      <td>http://www.bosa.co.kr/news/articleView.html?id...</td>\n",
       "      <td>2024-01-22</td>\n",
       "      <td>신약/개발</td>\n",
       "      <td>의학신문</td>\n",
       "      <td>[의학신문·일간보사=김정일 기자] “희귀질환, 당뇨, 고혈압 등 전 비즈니스 영역을...</td>\n",
       "      <td>1</td>\n",
       "      <td>1</td>\n",
       "    </tr>\n",
       "    <tr>\n",
       "      <th>48</th>\n",
       "      <td>GC녹십자, 산필리포증후군 치료제 유럽 희귀의약품 지정</td>\n",
       "      <td>http://www.bosa.co.kr/news/articleView.html?id...</td>\n",
       "      <td>2024-01-19</td>\n",
       "      <td>심포지엄/행사</td>\n",
       "      <td>의학신문</td>\n",
       "      <td>[의학신문·일간보사=김영주 기자]제약기업이 살 길은 역시 신약개발임이 여실히 드러났...</td>\n",
       "      <td>2</td>\n",
       "      <td>2</td>\n",
       "    </tr>\n",
       "    <tr>\n",
       "      <th>49</th>\n",
       "      <td>‘급성골수성백혈병’ 새로운 치료 옵션 등장 치료 환경 개선 움직임</td>\n",
       "      <td>http://www.bosa.co.kr/news/articleView.html?id...</td>\n",
       "      <td>2024-01-15</td>\n",
       "      <td>신약/개발</td>\n",
       "      <td>의학신문</td>\n",
       "      <td>[의학신문·일간보사=김정일 기자] 닥터노아바이오텍(대표 이지현)이 미국 뉴로덱스와 ...</td>\n",
       "      <td>2</td>\n",
       "      <td>2</td>\n",
       "    </tr>\n",
       "    <tr>\n",
       "      <th>50</th>\n",
       "      <td>[2024 다국적제약 우리 부서가 뛴다]사노피 희귀질환 사업부 마케팅팀</td>\n",
       "      <td>http://www.bosa.co.kr/news/articleView.html?id...</td>\n",
       "      <td>2024-01-15</td>\n",
       "      <td>신약/개발</td>\n",
       "      <td>의학신문</td>\n",
       "      <td>[의학신문·일간보사=유은제 기자]“국내 허가 되지 않은 약이었지만 저는 엄마이고 아...</td>\n",
       "      <td>1</td>\n",
       "      <td>1</td>\n",
       "    </tr>\n",
       "  </tbody>\n",
       "</table>\n",
       "</div>"
      ],
      "text/plain": [
       "                                 news_title  \\\n",
       "45                   제1기 권역별 '희귀질환 전문기관' 지정   \n",
       "46               삼성바이오에피스, ‘에피스클리’ 국내 품목 허가   \n",
       "47                   \"환자를 위해 없던 길도 만들어 나간다\"   \n",
       "48           GC녹십자, 산필리포증후군 치료제 유럽 희귀의약품 지정   \n",
       "49     ‘급성골수성백혈병’ 새로운 치료 옵션 등장 치료 환경 개선 움직임   \n",
       "50  [2024 다국적제약 우리 부서가 뛴다]사노피 희귀질환 사업부 마케팅팀   \n",
       "\n",
       "                                             news_url  news_when news_topic  \\\n",
       "45  http://www.bosa.co.kr/news/articleView.html?id... 2024-01-23    심포지엄/행사   \n",
       "46  http://www.bosa.co.kr/news/articleView.html?id... 2024-01-22      의료/법안   \n",
       "47  http://www.bosa.co.kr/news/articleView.html?id... 2024-01-22      신약/개발   \n",
       "48  http://www.bosa.co.kr/news/articleView.html?id... 2024-01-19    심포지엄/행사   \n",
       "49  http://www.bosa.co.kr/news/articleView.html?id... 2024-01-15      신약/개발   \n",
       "50  http://www.bosa.co.kr/news/articleView.html?id... 2024-01-15      신약/개발   \n",
       "\n",
       "   news_paper                                      news_contents  topic_num  \\\n",
       "45       의학신문  [의학신문·일간보사=김상일 기자]\"한국로슈 신경과학사업부는 신경과 영역에서 새로운 ...          1   \n",
       "46       의학신문  [의학신문·일간보사=이승덕 기자]질병청이 올해부터 의료비 지원대상을 1272개(이전...          2   \n",
       "47       의학신문  [의학신문·일간보사=김정일 기자] “희귀질환, 당뇨, 고혈압 등 전 비즈니스 영역을...          1   \n",
       "48       의학신문  [의학신문·일간보사=김영주 기자]제약기업이 살 길은 역시 신약개발임이 여실히 드러났...          2   \n",
       "49       의학신문  [의학신문·일간보사=김정일 기자] 닥터노아바이오텍(대표 이지현)이 미국 뉴로덱스와 ...          2   \n",
       "50       의학신문  [의학신문·일간보사=유은제 기자]“국내 허가 되지 않은 약이었지만 저는 엄마이고 아...          1   \n",
       "\n",
       "    topic_model  \n",
       "45            1  \n",
       "46            2  \n",
       "47            1  \n",
       "48            2  \n",
       "49            2  \n",
       "50            1  "
      ]
     },
     "execution_count": 39,
     "metadata": {},
     "output_type": "execute_result"
    }
   ],
   "source": [
    "df_bosa_test1['topic_model'] = df_topics_score['topic_num']\n",
    "df_bosa_test1[45:51]"
   ]
  },
  {
   "cell_type": "code",
   "execution_count": 40,
   "id": "f877a466-89a1-475b-b97a-eaf0a138e3b9",
   "metadata": {},
   "outputs": [
    {
     "data": {
      "text/plain": [
       "numpy.int64"
      ]
     },
     "execution_count": 40,
     "metadata": {},
     "output_type": "execute_result"
    }
   ],
   "source": [
    "type(df_bosa_test1['topic_model'][0])"
   ]
  },
  {
   "cell_type": "code",
   "execution_count": 41,
   "id": "38854c67-6e1d-47e9-8e39-6d9fee38ebe1",
   "metadata": {},
   "outputs": [],
   "source": [
    "df_bosa_test1['topic_model'] = df_bosa_test1['topic_model'].apply(int)"
   ]
  },
  {
   "cell_type": "code",
   "execution_count": 42,
   "id": "35a724cd-0f16-4edb-9804-7e0a63a2c4dc",
   "metadata": {},
   "outputs": [],
   "source": [
    "# for idx, topic in enumerate(df_bosa_test1['topic_model']) :\n",
    "#     if topic == 0 :\n",
    "#         df_bosa_test1.loc[idx, 'topic_model'] = topics_list_table.loc[0][0]\n",
    "#     elif topic == 1 :\n",
    "#         df_bosa_test1.loc[idx, 'topic_model'] = topics_list_table.loc[0][1]\n",
    "#     elif topic == 2 :\n",
    "#         df_bosa_test1.loc[idx, 'topic_model'] = topics_list_table.loc[0][2]\n",
    "# df_bosa_test1.head()"
   ]
  },
  {
   "cell_type": "code",
   "execution_count": 43,
   "id": "25910dd6-78ee-4099-9e9d-f2cd314d277b",
   "metadata": {},
   "outputs": [
    {
     "name": "stderr",
     "output_type": "stream",
     "text": [
      "/tmp/ipykernel_48175/354877451.py:3: FutureWarning: Setting an item of incompatible dtype is deprecated and will raise an error in a future version of pandas. Value '심포지엄/행사' has dtype incompatible with int64, please explicitly cast to a compatible dtype first.\n",
      "  df_bosa_test1.loc[idx, 'topic_model'] = '심포지엄/행사'\n"
     ]
    },
    {
     "data": {
      "text/html": [
       "<div>\n",
       "<style scoped>\n",
       "    .dataframe tbody tr th:only-of-type {\n",
       "        vertical-align: middle;\n",
       "    }\n",
       "\n",
       "    .dataframe tbody tr th {\n",
       "        vertical-align: top;\n",
       "    }\n",
       "\n",
       "    .dataframe thead th {\n",
       "        text-align: right;\n",
       "    }\n",
       "</style>\n",
       "<table border=\"1\" class=\"dataframe\">\n",
       "  <thead>\n",
       "    <tr style=\"text-align: right;\">\n",
       "      <th></th>\n",
       "      <th>news_title</th>\n",
       "      <th>news_url</th>\n",
       "      <th>news_when</th>\n",
       "      <th>news_topic</th>\n",
       "      <th>news_paper</th>\n",
       "      <th>news_contents</th>\n",
       "      <th>topic_num</th>\n",
       "      <th>topic_model</th>\n",
       "    </tr>\n",
       "  </thead>\n",
       "  <tbody>\n",
       "    <tr>\n",
       "      <th>0</th>\n",
       "      <td>한국쿄와기린, 세계 희귀질환의 날 행사 참여</td>\n",
       "      <td>http://www.bosa.co.kr/news/articleView.html?id...</td>\n",
       "      <td>2024-02-29</td>\n",
       "      <td>의료/법안</td>\n",
       "      <td>의학신문</td>\n",
       "      <td>[의학신문·일간보사=김영주 기자]‘세계 희귀질환의 날’을 맞아 한국쿄와기린은 그룹에...</td>\n",
       "      <td>0</td>\n",
       "      <td>심포지엄/행사</td>\n",
       "    </tr>\n",
       "    <tr>\n",
       "      <th>1</th>\n",
       "      <td>광동제약, ‘세계 희귀질환의 날’ 기념 환아 작품 전시회 개최</td>\n",
       "      <td>http://www.bosa.co.kr/news/articleView.html?id...</td>\n",
       "      <td>2024-02-29</td>\n",
       "      <td>신약/개발</td>\n",
       "      <td>의학신문</td>\n",
       "      <td>[의학신문·일간보사=김영주 기자]광동제약(대표 최성원)은 ‘세계 희귀질환의 날’을 ...</td>\n",
       "      <td>0</td>\n",
       "      <td>심포지엄/행사</td>\n",
       "    </tr>\n",
       "    <tr>\n",
       "      <th>2</th>\n",
       "      <td>순천향대 부천병원 신영림 교수, ‘질병관리청장 표창’ 수상</td>\n",
       "      <td>http://www.bosa.co.kr/news/articleView.html?id...</td>\n",
       "      <td>2024-02-29</td>\n",
       "      <td>심포지엄/행사</td>\n",
       "      <td>의학신문</td>\n",
       "      <td>[의학신문·일간보사=이상만 기자]순천향대 부천병원 소아청소년과 신영림 교수(사진)가...</td>\n",
       "      <td>0</td>\n",
       "      <td>심포지엄/행사</td>\n",
       "    </tr>\n",
       "    <tr>\n",
       "      <th>3</th>\n",
       "      <td>창립 70주년 한독, ‘THANKS CAMPAIGN’ 실시</td>\n",
       "      <td>http://www.bosa.co.kr/news/articleView.html?id...</td>\n",
       "      <td>2024-02-29</td>\n",
       "      <td>의료/법안</td>\n",
       "      <td>의학신문</td>\n",
       "      <td>[의학신문·일간보사=김정일 기자] 한독(대표이사 김영진, 백진기)이 창립 70주년을...</td>\n",
       "      <td>0</td>\n",
       "      <td>심포지엄/행사</td>\n",
       "    </tr>\n",
       "    <tr>\n",
       "      <th>4</th>\n",
       "      <td>[세계 희귀질환의 날] 국가‧사회‧이웃‧의료진‧가족 함께 가야 한다</td>\n",
       "      <td>http://www.bosa.co.kr/news/articleView.html?id...</td>\n",
       "      <td>2024-02-29</td>\n",
       "      <td>신약/개발</td>\n",
       "      <td>의학신문</td>\n",
       "      <td>[의학신문·일간보사=오인규 기자] “이건 신이 실수를 하신 거다. 그러니 너무 자책...</td>\n",
       "      <td>1</td>\n",
       "      <td>신약/개발</td>\n",
       "    </tr>\n",
       "  </tbody>\n",
       "</table>\n",
       "</div>"
      ],
      "text/plain": [
       "                              news_title  \\\n",
       "0               한국쿄와기린, 세계 희귀질환의 날 행사 참여   \n",
       "1     광동제약, ‘세계 희귀질환의 날’ 기념 환아 작품 전시회 개최   \n",
       "2       순천향대 부천병원 신영림 교수, ‘질병관리청장 표창’ 수상   \n",
       "3       창립 70주년 한독, ‘THANKS CAMPAIGN’ 실시   \n",
       "4  [세계 희귀질환의 날] 국가‧사회‧이웃‧의료진‧가족 함께 가야 한다   \n",
       "\n",
       "                                            news_url  news_when news_topic  \\\n",
       "0  http://www.bosa.co.kr/news/articleView.html?id... 2024-02-29      의료/법안   \n",
       "1  http://www.bosa.co.kr/news/articleView.html?id... 2024-02-29      신약/개발   \n",
       "2  http://www.bosa.co.kr/news/articleView.html?id... 2024-02-29    심포지엄/행사   \n",
       "3  http://www.bosa.co.kr/news/articleView.html?id... 2024-02-29      의료/법안   \n",
       "4  http://www.bosa.co.kr/news/articleView.html?id... 2024-02-29      신약/개발   \n",
       "\n",
       "  news_paper                                      news_contents  topic_num  \\\n",
       "0       의학신문  [의학신문·일간보사=김영주 기자]‘세계 희귀질환의 날’을 맞아 한국쿄와기린은 그룹에...          0   \n",
       "1       의학신문  [의학신문·일간보사=김영주 기자]광동제약(대표 최성원)은 ‘세계 희귀질환의 날’을 ...          0   \n",
       "2       의학신문  [의학신문·일간보사=이상만 기자]순천향대 부천병원 소아청소년과 신영림 교수(사진)가...          0   \n",
       "3       의학신문  [의학신문·일간보사=김정일 기자] 한독(대표이사 김영진, 백진기)이 창립 70주년을...          0   \n",
       "4       의학신문  [의학신문·일간보사=오인규 기자] “이건 신이 실수를 하신 거다. 그러니 너무 자책...          1   \n",
       "\n",
       "  topic_model  \n",
       "0     심포지엄/행사  \n",
       "1     심포지엄/행사  \n",
       "2     심포지엄/행사  \n",
       "3     심포지엄/행사  \n",
       "4       신약/개발  "
      ]
     },
     "execution_count": 43,
     "metadata": {},
     "output_type": "execute_result"
    }
   ],
   "source": [
    "for idx, topic in enumerate(df_bosa_test1['topic_model']) :\n",
    "    if topic == 0 :\n",
    "        df_bosa_test1.loc[idx, 'topic_model'] = '심포지엄/행사'\n",
    "    elif topic == 1 :\n",
    "        df_bosa_test1.loc[idx, 'topic_model'] = '신약/개발'\n",
    "    elif topic == 2 :\n",
    "        df_bosa_test1.loc[idx, 'topic_model'] = '의료/법안'\n",
    "df_bosa_test1.head()"
   ]
  },
  {
   "cell_type": "markdown",
   "id": "27d5a47d-fa82-4aa3-b6fa-edbdec357913",
   "metadata": {},
   "source": [
    "## 2. 머신러닝 학습"
   ]
  },
  {
   "cell_type": "markdown",
   "id": "eb245de2-0305-48bf-81fd-0bdaa019e74f",
   "metadata": {},
   "source": [
    "### 학습"
   ]
  },
  {
   "cell_type": "code",
   "execution_count": 44,
   "id": "5cb12fb4-3c49-47ce-808b-9098587cfb02",
   "metadata": {},
   "outputs": [],
   "source": [
    "features = features\n",
    "target = df_bosa_test1['topic_model']"
   ]
  },
  {
   "cell_type": "code",
   "execution_count": 45,
   "id": "17456795-b779-4935-af89-4a61a579da4c",
   "metadata": {},
   "outputs": [
    {
     "data": {
      "text/plain": [
       "array(['심포지엄/행사', '신약/개발', '의료/법안'], dtype=object)"
      ]
     },
     "execution_count": 45,
     "metadata": {},
     "output_type": "execute_result"
    }
   ],
   "source": [
    "target.unique()"
   ]
  },
  {
   "cell_type": "code",
   "execution_count": 46,
   "id": "baf7551e-1e3a-4c32-956b-4af640de9847",
   "metadata": {},
   "outputs": [
    {
     "data": {
      "text/plain": [
       "2425"
      ]
     },
     "execution_count": 46,
     "metadata": {},
     "output_type": "execute_result"
    }
   ],
   "source": [
    "len(target)"
   ]
  },
  {
   "cell_type": "code",
   "execution_count": 47,
   "id": "5de4b953-eb25-42ff-a374-ec9c2f93c81d",
   "metadata": {},
   "outputs": [
    {
     "data": {
      "text/plain": [
       "((2425, 997), (2425,))"
      ]
     },
     "execution_count": 47,
     "metadata": {},
     "output_type": "execute_result"
    }
   ],
   "source": [
    "features.shape, target.shape"
   ]
  },
  {
   "cell_type": "code",
   "execution_count": 48,
   "id": "ca4c52a1-0baa-4daf-87f1-eae0eaa7b5f2",
   "metadata": {},
   "outputs": [],
   "source": [
    "from sklearn.ensemble import RandomForestClassifier\n",
    "model = RandomForestClassifier(n_jobs=-1)"
   ]
  },
  {
   "cell_type": "code",
   "execution_count": 49,
   "id": "87163bec-45d3-4635-8d80-5a4611323194",
   "metadata": {},
   "outputs": [
    {
     "data": {
      "text/plain": [
       "((1697, 997), (728, 997), (1697,), (728,))"
      ]
     },
     "execution_count": 49,
     "metadata": {},
     "output_type": "execute_result"
    }
   ],
   "source": [
    "from sklearn.model_selection import train_test_split\n",
    "features_train, features_test, target_train, target_test = train_test_split(features, target, test_size=0.3, random_state=55)\n",
    "features_train.shape, features_test.shape, target_train.shape, target_test.shape"
   ]
  },
  {
   "cell_type": "code",
   "execution_count": 50,
   "id": "c23900df-1cdb-45ae-a4fb-6b456cf92c40",
   "metadata": {},
   "outputs": [
    {
     "data": {
      "text/html": [
       "<style>#sk-container-id-2 {\n",
       "  /* Definition of color scheme common for light and dark mode */\n",
       "  --sklearn-color-text: black;\n",
       "  --sklearn-color-line: gray;\n",
       "  /* Definition of color scheme for unfitted estimators */\n",
       "  --sklearn-color-unfitted-level-0: #fff5e6;\n",
       "  --sklearn-color-unfitted-level-1: #f6e4d2;\n",
       "  --sklearn-color-unfitted-level-2: #ffe0b3;\n",
       "  --sklearn-color-unfitted-level-3: chocolate;\n",
       "  /* Definition of color scheme for fitted estimators */\n",
       "  --sklearn-color-fitted-level-0: #f0f8ff;\n",
       "  --sklearn-color-fitted-level-1: #d4ebff;\n",
       "  --sklearn-color-fitted-level-2: #b3dbfd;\n",
       "  --sklearn-color-fitted-level-3: cornflowerblue;\n",
       "\n",
       "  /* Specific color for light theme */\n",
       "  --sklearn-color-text-on-default-background: var(--sg-text-color, var(--theme-code-foreground, var(--jp-content-font-color1, black)));\n",
       "  --sklearn-color-background: var(--sg-background-color, var(--theme-background, var(--jp-layout-color0, white)));\n",
       "  --sklearn-color-border-box: var(--sg-text-color, var(--theme-code-foreground, var(--jp-content-font-color1, black)));\n",
       "  --sklearn-color-icon: #696969;\n",
       "\n",
       "  @media (prefers-color-scheme: dark) {\n",
       "    /* Redefinition of color scheme for dark theme */\n",
       "    --sklearn-color-text-on-default-background: var(--sg-text-color, var(--theme-code-foreground, var(--jp-content-font-color1, white)));\n",
       "    --sklearn-color-background: var(--sg-background-color, var(--theme-background, var(--jp-layout-color0, #111)));\n",
       "    --sklearn-color-border-box: var(--sg-text-color, var(--theme-code-foreground, var(--jp-content-font-color1, white)));\n",
       "    --sklearn-color-icon: #878787;\n",
       "  }\n",
       "}\n",
       "\n",
       "#sk-container-id-2 {\n",
       "  color: var(--sklearn-color-text);\n",
       "}\n",
       "\n",
       "#sk-container-id-2 pre {\n",
       "  padding: 0;\n",
       "}\n",
       "\n",
       "#sk-container-id-2 input.sk-hidden--visually {\n",
       "  border: 0;\n",
       "  clip: rect(1px 1px 1px 1px);\n",
       "  clip: rect(1px, 1px, 1px, 1px);\n",
       "  height: 1px;\n",
       "  margin: -1px;\n",
       "  overflow: hidden;\n",
       "  padding: 0;\n",
       "  position: absolute;\n",
       "  width: 1px;\n",
       "}\n",
       "\n",
       "#sk-container-id-2 div.sk-dashed-wrapped {\n",
       "  border: 1px dashed var(--sklearn-color-line);\n",
       "  margin: 0 0.4em 0.5em 0.4em;\n",
       "  box-sizing: border-box;\n",
       "  padding-bottom: 0.4em;\n",
       "  background-color: var(--sklearn-color-background);\n",
       "}\n",
       "\n",
       "#sk-container-id-2 div.sk-container {\n",
       "  /* jupyter's `normalize.less` sets `[hidden] { display: none; }`\n",
       "     but bootstrap.min.css set `[hidden] { display: none !important; }`\n",
       "     so we also need the `!important` here to be able to override the\n",
       "     default hidden behavior on the sphinx rendered scikit-learn.org.\n",
       "     See: https://github.com/scikit-learn/scikit-learn/issues/21755 */\n",
       "  display: inline-block !important;\n",
       "  position: relative;\n",
       "}\n",
       "\n",
       "#sk-container-id-2 div.sk-text-repr-fallback {\n",
       "  display: none;\n",
       "}\n",
       "\n",
       "div.sk-parallel-item,\n",
       "div.sk-serial,\n",
       "div.sk-item {\n",
       "  /* draw centered vertical line to link estimators */\n",
       "  background-image: linear-gradient(var(--sklearn-color-text-on-default-background), var(--sklearn-color-text-on-default-background));\n",
       "  background-size: 2px 100%;\n",
       "  background-repeat: no-repeat;\n",
       "  background-position: center center;\n",
       "}\n",
       "\n",
       "/* Parallel-specific style estimator block */\n",
       "\n",
       "#sk-container-id-2 div.sk-parallel-item::after {\n",
       "  content: \"\";\n",
       "  width: 100%;\n",
       "  border-bottom: 2px solid var(--sklearn-color-text-on-default-background);\n",
       "  flex-grow: 1;\n",
       "}\n",
       "\n",
       "#sk-container-id-2 div.sk-parallel {\n",
       "  display: flex;\n",
       "  align-items: stretch;\n",
       "  justify-content: center;\n",
       "  background-color: var(--sklearn-color-background);\n",
       "  position: relative;\n",
       "}\n",
       "\n",
       "#sk-container-id-2 div.sk-parallel-item {\n",
       "  display: flex;\n",
       "  flex-direction: column;\n",
       "}\n",
       "\n",
       "#sk-container-id-2 div.sk-parallel-item:first-child::after {\n",
       "  align-self: flex-end;\n",
       "  width: 50%;\n",
       "}\n",
       "\n",
       "#sk-container-id-2 div.sk-parallel-item:last-child::after {\n",
       "  align-self: flex-start;\n",
       "  width: 50%;\n",
       "}\n",
       "\n",
       "#sk-container-id-2 div.sk-parallel-item:only-child::after {\n",
       "  width: 0;\n",
       "}\n",
       "\n",
       "/* Serial-specific style estimator block */\n",
       "\n",
       "#sk-container-id-2 div.sk-serial {\n",
       "  display: flex;\n",
       "  flex-direction: column;\n",
       "  align-items: center;\n",
       "  background-color: var(--sklearn-color-background);\n",
       "  padding-right: 1em;\n",
       "  padding-left: 1em;\n",
       "}\n",
       "\n",
       "\n",
       "/* Toggleable style: style used for estimator/Pipeline/ColumnTransformer box that is\n",
       "clickable and can be expanded/collapsed.\n",
       "- Pipeline and ColumnTransformer use this feature and define the default style\n",
       "- Estimators will overwrite some part of the style using the `sk-estimator` class\n",
       "*/\n",
       "\n",
       "/* Pipeline and ColumnTransformer style (default) */\n",
       "\n",
       "#sk-container-id-2 div.sk-toggleable {\n",
       "  /* Default theme specific background. It is overwritten whether we have a\n",
       "  specific estimator or a Pipeline/ColumnTransformer */\n",
       "  background-color: var(--sklearn-color-background);\n",
       "}\n",
       "\n",
       "/* Toggleable label */\n",
       "#sk-container-id-2 label.sk-toggleable__label {\n",
       "  cursor: pointer;\n",
       "  display: block;\n",
       "  width: 100%;\n",
       "  margin-bottom: 0;\n",
       "  padding: 0.5em;\n",
       "  box-sizing: border-box;\n",
       "  text-align: center;\n",
       "}\n",
       "\n",
       "#sk-container-id-2 label.sk-toggleable__label-arrow:before {\n",
       "  /* Arrow on the left of the label */\n",
       "  content: \"▸\";\n",
       "  float: left;\n",
       "  margin-right: 0.25em;\n",
       "  color: var(--sklearn-color-icon);\n",
       "}\n",
       "\n",
       "#sk-container-id-2 label.sk-toggleable__label-arrow:hover:before {\n",
       "  color: var(--sklearn-color-text);\n",
       "}\n",
       "\n",
       "/* Toggleable content - dropdown */\n",
       "\n",
       "#sk-container-id-2 div.sk-toggleable__content {\n",
       "  max-height: 0;\n",
       "  max-width: 0;\n",
       "  overflow: hidden;\n",
       "  text-align: left;\n",
       "  /* unfitted */\n",
       "  background-color: var(--sklearn-color-unfitted-level-0);\n",
       "}\n",
       "\n",
       "#sk-container-id-2 div.sk-toggleable__content.fitted {\n",
       "  /* fitted */\n",
       "  background-color: var(--sklearn-color-fitted-level-0);\n",
       "}\n",
       "\n",
       "#sk-container-id-2 div.sk-toggleable__content pre {\n",
       "  margin: 0.2em;\n",
       "  border-radius: 0.25em;\n",
       "  color: var(--sklearn-color-text);\n",
       "  /* unfitted */\n",
       "  background-color: var(--sklearn-color-unfitted-level-0);\n",
       "}\n",
       "\n",
       "#sk-container-id-2 div.sk-toggleable__content.fitted pre {\n",
       "  /* unfitted */\n",
       "  background-color: var(--sklearn-color-fitted-level-0);\n",
       "}\n",
       "\n",
       "#sk-container-id-2 input.sk-toggleable__control:checked~div.sk-toggleable__content {\n",
       "  /* Expand drop-down */\n",
       "  max-height: 200px;\n",
       "  max-width: 100%;\n",
       "  overflow: auto;\n",
       "}\n",
       "\n",
       "#sk-container-id-2 input.sk-toggleable__control:checked~label.sk-toggleable__label-arrow:before {\n",
       "  content: \"▾\";\n",
       "}\n",
       "\n",
       "/* Pipeline/ColumnTransformer-specific style */\n",
       "\n",
       "#sk-container-id-2 div.sk-label input.sk-toggleable__control:checked~label.sk-toggleable__label {\n",
       "  color: var(--sklearn-color-text);\n",
       "  background-color: var(--sklearn-color-unfitted-level-2);\n",
       "}\n",
       "\n",
       "#sk-container-id-2 div.sk-label.fitted input.sk-toggleable__control:checked~label.sk-toggleable__label {\n",
       "  background-color: var(--sklearn-color-fitted-level-2);\n",
       "}\n",
       "\n",
       "/* Estimator-specific style */\n",
       "\n",
       "/* Colorize estimator box */\n",
       "#sk-container-id-2 div.sk-estimator input.sk-toggleable__control:checked~label.sk-toggleable__label {\n",
       "  /* unfitted */\n",
       "  background-color: var(--sklearn-color-unfitted-level-2);\n",
       "}\n",
       "\n",
       "#sk-container-id-2 div.sk-estimator.fitted input.sk-toggleable__control:checked~label.sk-toggleable__label {\n",
       "  /* fitted */\n",
       "  background-color: var(--sklearn-color-fitted-level-2);\n",
       "}\n",
       "\n",
       "#sk-container-id-2 div.sk-label label.sk-toggleable__label,\n",
       "#sk-container-id-2 div.sk-label label {\n",
       "  /* The background is the default theme color */\n",
       "  color: var(--sklearn-color-text-on-default-background);\n",
       "}\n",
       "\n",
       "/* On hover, darken the color of the background */\n",
       "#sk-container-id-2 div.sk-label:hover label.sk-toggleable__label {\n",
       "  color: var(--sklearn-color-text);\n",
       "  background-color: var(--sklearn-color-unfitted-level-2);\n",
       "}\n",
       "\n",
       "/* Label box, darken color on hover, fitted */\n",
       "#sk-container-id-2 div.sk-label.fitted:hover label.sk-toggleable__label.fitted {\n",
       "  color: var(--sklearn-color-text);\n",
       "  background-color: var(--sklearn-color-fitted-level-2);\n",
       "}\n",
       "\n",
       "/* Estimator label */\n",
       "\n",
       "#sk-container-id-2 div.sk-label label {\n",
       "  font-family: monospace;\n",
       "  font-weight: bold;\n",
       "  display: inline-block;\n",
       "  line-height: 1.2em;\n",
       "}\n",
       "\n",
       "#sk-container-id-2 div.sk-label-container {\n",
       "  text-align: center;\n",
       "}\n",
       "\n",
       "/* Estimator-specific */\n",
       "#sk-container-id-2 div.sk-estimator {\n",
       "  font-family: monospace;\n",
       "  border: 1px dotted var(--sklearn-color-border-box);\n",
       "  border-radius: 0.25em;\n",
       "  box-sizing: border-box;\n",
       "  margin-bottom: 0.5em;\n",
       "  /* unfitted */\n",
       "  background-color: var(--sklearn-color-unfitted-level-0);\n",
       "}\n",
       "\n",
       "#sk-container-id-2 div.sk-estimator.fitted {\n",
       "  /* fitted */\n",
       "  background-color: var(--sklearn-color-fitted-level-0);\n",
       "}\n",
       "\n",
       "/* on hover */\n",
       "#sk-container-id-2 div.sk-estimator:hover {\n",
       "  /* unfitted */\n",
       "  background-color: var(--sklearn-color-unfitted-level-2);\n",
       "}\n",
       "\n",
       "#sk-container-id-2 div.sk-estimator.fitted:hover {\n",
       "  /* fitted */\n",
       "  background-color: var(--sklearn-color-fitted-level-2);\n",
       "}\n",
       "\n",
       "/* Specification for estimator info (e.g. \"i\" and \"?\") */\n",
       "\n",
       "/* Common style for \"i\" and \"?\" */\n",
       "\n",
       ".sk-estimator-doc-link,\n",
       "a:link.sk-estimator-doc-link,\n",
       "a:visited.sk-estimator-doc-link {\n",
       "  float: right;\n",
       "  font-size: smaller;\n",
       "  line-height: 1em;\n",
       "  font-family: monospace;\n",
       "  background-color: var(--sklearn-color-background);\n",
       "  border-radius: 1em;\n",
       "  height: 1em;\n",
       "  width: 1em;\n",
       "  text-decoration: none !important;\n",
       "  margin-left: 1ex;\n",
       "  /* unfitted */\n",
       "  border: var(--sklearn-color-unfitted-level-1) 1pt solid;\n",
       "  color: var(--sklearn-color-unfitted-level-1);\n",
       "}\n",
       "\n",
       ".sk-estimator-doc-link.fitted,\n",
       "a:link.sk-estimator-doc-link.fitted,\n",
       "a:visited.sk-estimator-doc-link.fitted {\n",
       "  /* fitted */\n",
       "  border: var(--sklearn-color-fitted-level-1) 1pt solid;\n",
       "  color: var(--sklearn-color-fitted-level-1);\n",
       "}\n",
       "\n",
       "/* On hover */\n",
       "div.sk-estimator:hover .sk-estimator-doc-link:hover,\n",
       ".sk-estimator-doc-link:hover,\n",
       "div.sk-label-container:hover .sk-estimator-doc-link:hover,\n",
       ".sk-estimator-doc-link:hover {\n",
       "  /* unfitted */\n",
       "  background-color: var(--sklearn-color-unfitted-level-3);\n",
       "  color: var(--sklearn-color-background);\n",
       "  text-decoration: none;\n",
       "}\n",
       "\n",
       "div.sk-estimator.fitted:hover .sk-estimator-doc-link.fitted:hover,\n",
       ".sk-estimator-doc-link.fitted:hover,\n",
       "div.sk-label-container:hover .sk-estimator-doc-link.fitted:hover,\n",
       ".sk-estimator-doc-link.fitted:hover {\n",
       "  /* fitted */\n",
       "  background-color: var(--sklearn-color-fitted-level-3);\n",
       "  color: var(--sklearn-color-background);\n",
       "  text-decoration: none;\n",
       "}\n",
       "\n",
       "/* Span, style for the box shown on hovering the info icon */\n",
       ".sk-estimator-doc-link span {\n",
       "  display: none;\n",
       "  z-index: 9999;\n",
       "  position: relative;\n",
       "  font-weight: normal;\n",
       "  right: .2ex;\n",
       "  padding: .5ex;\n",
       "  margin: .5ex;\n",
       "  width: min-content;\n",
       "  min-width: 20ex;\n",
       "  max-width: 50ex;\n",
       "  color: var(--sklearn-color-text);\n",
       "  box-shadow: 2pt 2pt 4pt #999;\n",
       "  /* unfitted */\n",
       "  background: var(--sklearn-color-unfitted-level-0);\n",
       "  border: .5pt solid var(--sklearn-color-unfitted-level-3);\n",
       "}\n",
       "\n",
       ".sk-estimator-doc-link.fitted span {\n",
       "  /* fitted */\n",
       "  background: var(--sklearn-color-fitted-level-0);\n",
       "  border: var(--sklearn-color-fitted-level-3);\n",
       "}\n",
       "\n",
       ".sk-estimator-doc-link:hover span {\n",
       "  display: block;\n",
       "}\n",
       "\n",
       "/* \"?\"-specific style due to the `<a>` HTML tag */\n",
       "\n",
       "#sk-container-id-2 a.estimator_doc_link {\n",
       "  float: right;\n",
       "  font-size: 1rem;\n",
       "  line-height: 1em;\n",
       "  font-family: monospace;\n",
       "  background-color: var(--sklearn-color-background);\n",
       "  border-radius: 1rem;\n",
       "  height: 1rem;\n",
       "  width: 1rem;\n",
       "  text-decoration: none;\n",
       "  /* unfitted */\n",
       "  color: var(--sklearn-color-unfitted-level-1);\n",
       "  border: var(--sklearn-color-unfitted-level-1) 1pt solid;\n",
       "}\n",
       "\n",
       "#sk-container-id-2 a.estimator_doc_link.fitted {\n",
       "  /* fitted */\n",
       "  border: var(--sklearn-color-fitted-level-1) 1pt solid;\n",
       "  color: var(--sklearn-color-fitted-level-1);\n",
       "}\n",
       "\n",
       "/* On hover */\n",
       "#sk-container-id-2 a.estimator_doc_link:hover {\n",
       "  /* unfitted */\n",
       "  background-color: var(--sklearn-color-unfitted-level-3);\n",
       "  color: var(--sklearn-color-background);\n",
       "  text-decoration: none;\n",
       "}\n",
       "\n",
       "#sk-container-id-2 a.estimator_doc_link.fitted:hover {\n",
       "  /* fitted */\n",
       "  background-color: var(--sklearn-color-fitted-level-3);\n",
       "}\n",
       "</style><div id=\"sk-container-id-2\" class=\"sk-top-container\"><div class=\"sk-text-repr-fallback\"><pre>RandomForestClassifier(n_jobs=-1)</pre><b>In a Jupyter environment, please rerun this cell to show the HTML representation or trust the notebook. <br />On GitHub, the HTML representation is unable to render, please try loading this page with nbviewer.org.</b></div><div class=\"sk-container\" hidden><div class=\"sk-item\"><div class=\"sk-estimator fitted sk-toggleable\"><input class=\"sk-toggleable__control sk-hidden--visually\" id=\"sk-estimator-id-2\" type=\"checkbox\" checked><label for=\"sk-estimator-id-2\" class=\"sk-toggleable__label fitted sk-toggleable__label-arrow fitted\">&nbsp;&nbsp;RandomForestClassifier<a class=\"sk-estimator-doc-link fitted\" rel=\"noreferrer\" target=\"_blank\" href=\"https://scikit-learn.org/1.4/modules/generated/sklearn.ensemble.RandomForestClassifier.html\">?<span>Documentation for RandomForestClassifier</span></a><span class=\"sk-estimator-doc-link fitted\">i<span>Fitted</span></span></label><div class=\"sk-toggleable__content fitted\"><pre>RandomForestClassifier(n_jobs=-1)</pre></div> </div></div></div></div>"
      ],
      "text/plain": [
       "RandomForestClassifier(n_jobs=-1)"
      ]
     },
     "execution_count": 50,
     "metadata": {},
     "output_type": "execute_result"
    }
   ],
   "source": [
    "model.fit(features_train, target_train)"
   ]
  },
  {
   "cell_type": "code",
   "execution_count": 51,
   "id": "961ca351-1fe7-42a2-9748-3ead5333da1c",
   "metadata": {},
   "outputs": [
    {
     "data": {
      "text/plain": [
       "array(['심포지엄/행사', '신약/개발', '신약/개발', '신약/개발', '신약/개발', '의료/법안', '신약/개발',\n",
       "       '신약/개발', '신약/개발', '신약/개발', '신약/개발', '신약/개발', '심포지엄/행사', '신약/개발',\n",
       "       '신약/개발', '심포지엄/행사', '의료/법안', '심포지엄/행사', '심포지엄/행사', '심포지엄/행사',\n",
       "       '심포지엄/행사', '신약/개발', '심포지엄/행사', '신약/개발', '의료/법안', '신약/개발',\n",
       "       '심포지엄/행사', '신약/개발', '심포지엄/행사', '신약/개발', '심포지엄/행사', '의료/법안',\n",
       "       '심포지엄/행사', '의료/법안', '신약/개발', '심포지엄/행사', '심포지엄/행사', '의료/법안',\n",
       "       '심포지엄/행사', '심포지엄/행사', '신약/개발', '신약/개발', '심포지엄/행사', '신약/개발',\n",
       "       '심포지엄/행사', '심포지엄/행사', '심포지엄/행사', '의료/법안', '심포지엄/행사', '의료/법안',\n",
       "       '신약/개발', '의료/법안', '신약/개발', '의료/법안', '심포지엄/행사', '신약/개발', '의료/법안',\n",
       "       '신약/개발', '심포지엄/행사', '신약/개발', '신약/개발', '의료/법안', '의료/법안', '의료/법안',\n",
       "       '의료/법안', '의료/법안', '의료/법안', '심포지엄/행사', '의료/법안', '신약/개발', '심포지엄/행사',\n",
       "       '신약/개발', '의료/법안', '심포지엄/행사', '신약/개발', '신약/개발', '의료/법안', '신약/개발',\n",
       "       '심포지엄/행사', '심포지엄/행사', '심포지엄/행사', '신약/개발', '의료/법안', '심포지엄/행사',\n",
       "       '신약/개발', '신약/개발', '신약/개발', '의료/법안', '의료/법안', '신약/개발', '심포지엄/행사',\n",
       "       '심포지엄/행사', '의료/법안', '신약/개발', '신약/개발', '심포지엄/행사', '의료/법안', '신약/개발',\n",
       "       '심포지엄/행사', '신약/개발', '신약/개발', '심포지엄/행사', '심포지엄/행사', '의료/법안',\n",
       "       '신약/개발', '심포지엄/행사', '의료/법안', '의료/법안', '심포지엄/행사', '의료/법안', '의료/법안',\n",
       "       '신약/개발', '심포지엄/행사', '신약/개발', '심포지엄/행사', '의료/법안', '심포지엄/행사',\n",
       "       '신약/개발', '의료/법안', '신약/개발', '의료/법안', '심포지엄/행사', '의료/법안', '신약/개발',\n",
       "       '의료/법안', '신약/개발', '신약/개발', '의료/법안', '의료/법안', '심포지엄/행사', '신약/개발',\n",
       "       '심포지엄/행사', '심포지엄/행사', '의료/법안', '심포지엄/행사', '신약/개발', '신약/개발',\n",
       "       '신약/개발', '신약/개발', '신약/개발', '심포지엄/행사', '심포지엄/행사', '신약/개발',\n",
       "       '심포지엄/행사', '의료/법안', '심포지엄/행사', '의료/법안', '의료/법안', '신약/개발',\n",
       "       '심포지엄/행사', '의료/법안', '신약/개발', '신약/개발', '신약/개발', '신약/개발', '신약/개발',\n",
       "       '신약/개발', '심포지엄/행사', '의료/법안', '의료/법안', '신약/개발', '신약/개발', '신약/개발',\n",
       "       '신약/개발', '신약/개발', '심포지엄/행사', '심포지엄/행사', '신약/개발', '의료/법안', '의료/법안',\n",
       "       '신약/개발', '심포지엄/행사', '신약/개발', '심포지엄/행사', '의료/법안', '신약/개발', '신약/개발',\n",
       "       '의료/법안', '심포지엄/행사', '신약/개발', '신약/개발', '심포지엄/행사', '심포지엄/행사',\n",
       "       '심포지엄/행사', '심포지엄/행사', '의료/법안', '심포지엄/행사', '의료/법안', '심포지엄/행사',\n",
       "       '신약/개발', '심포지엄/행사', '신약/개발', '심포지엄/행사', '의료/법안', '의료/법안',\n",
       "       '심포지엄/행사', '심포지엄/행사', '신약/개발', '심포지엄/행사', '심포지엄/행사', '의료/법안',\n",
       "       '심포지엄/행사', '심포지엄/행사', '심포지엄/행사', '심포지엄/행사', '신약/개발', '심포지엄/행사',\n",
       "       '신약/개발', '심포지엄/행사', '심포지엄/행사', '심포지엄/행사', '의료/법안', '신약/개발',\n",
       "       '심포지엄/행사', '심포지엄/행사', '심포지엄/행사', '심포지엄/행사', '심포지엄/행사', '심포지엄/행사',\n",
       "       '의료/법안', '심포지엄/행사', '신약/개발', '심포지엄/행사', '신약/개발', '심포지엄/행사',\n",
       "       '신약/개발', '의료/법안', '신약/개발', '심포지엄/행사', '신약/개발', '신약/개발', '의료/법안',\n",
       "       '신약/개발', '심포지엄/행사', '심포지엄/행사', '심포지엄/행사', '신약/개발', '심포지엄/행사',\n",
       "       '의료/법안', '의료/법안', '심포지엄/행사', '의료/법안', '심포지엄/행사', '의료/법안', '의료/법안',\n",
       "       '심포지엄/행사', '신약/개발', '의료/법안', '의료/법안', '심포지엄/행사', '심포지엄/행사',\n",
       "       '의료/법안', '신약/개발', '심포지엄/행사', '심포지엄/행사', '의료/법안', '심포지엄/행사',\n",
       "       '의료/법안', '심포지엄/행사', '심포지엄/행사', '심포지엄/행사', '신약/개발', '신약/개발',\n",
       "       '신약/개발', '신약/개발', '의료/법안', '의료/법안', '의료/법안', '신약/개발', '의료/법안',\n",
       "       '신약/개발', '심포지엄/행사', '신약/개발', '신약/개발', '심포지엄/행사', '신약/개발',\n",
       "       '심포지엄/행사', '신약/개발', '심포지엄/행사', '심포지엄/행사', '의료/법안', '의료/법안',\n",
       "       '심포지엄/행사', '신약/개발', '신약/개발', '신약/개발', '의료/법안', '신약/개발', '심포지엄/행사',\n",
       "       '신약/개발', '신약/개발', '신약/개발', '신약/개발', '신약/개발', '심포지엄/행사', '신약/개발',\n",
       "       '심포지엄/행사', '의료/법안', '신약/개발', '심포지엄/행사', '의료/법안', '의료/법안', '의료/법안',\n",
       "       '신약/개발', '심포지엄/행사', '신약/개발', '신약/개발', '심포지엄/행사', '심포지엄/행사',\n",
       "       '신약/개발', '심포지엄/행사', '의료/법안', '신약/개발', '심포지엄/행사', '심포지엄/행사',\n",
       "       '심포지엄/행사', '심포지엄/행사', '신약/개발', '신약/개발', '신약/개발', '의료/법안', '신약/개발',\n",
       "       '심포지엄/행사', '의료/법안', '의료/법안', '심포지엄/행사', '심포지엄/행사', '의료/법안',\n",
       "       '의료/법안', '의료/법안', '의료/법안', '심포지엄/행사', '심포지엄/행사', '신약/개발', '의료/법안',\n",
       "       '신약/개발', '심포지엄/행사', '의료/법안', '심포지엄/행사', '심포지엄/행사', '심포지엄/행사',\n",
       "       '신약/개발', '신약/개발', '심포지엄/행사', '심포지엄/행사', '심포지엄/행사', '신약/개발',\n",
       "       '심포지엄/행사', '심포지엄/행사', '신약/개발', '신약/개발', '의료/법안', '의료/법안', '의료/법안',\n",
       "       '신약/개발', '신약/개발', '신약/개발', '신약/개발', '심포지엄/행사', '신약/개발', '심포지엄/행사',\n",
       "       '의료/법안', '신약/개발', '의료/법안', '심포지엄/행사', '신약/개발', '의료/법안', '심포지엄/행사',\n",
       "       '심포지엄/행사', '신약/개발', '신약/개발', '심포지엄/행사', '심포지엄/행사', '의료/법안',\n",
       "       '심포지엄/행사', '의료/법안', '심포지엄/행사', '신약/개발', '신약/개발', '신약/개발', '신약/개발',\n",
       "       '신약/개발', '심포지엄/행사', '심포지엄/행사', '심포지엄/행사', '신약/개발', '의료/법안',\n",
       "       '심포지엄/행사', '신약/개발', '의료/법안', '신약/개발', '신약/개발', '심포지엄/행사',\n",
       "       '심포지엄/행사', '의료/법안', '의료/법안', '의료/법안', '심포지엄/행사', '의료/법안', '신약/개발',\n",
       "       '의료/법안', '심포지엄/행사', '심포지엄/행사', '심포지엄/행사', '심포지엄/행사', '신약/개발',\n",
       "       '의료/법안', '심포지엄/행사', '의료/법안', '의료/법안', '신약/개발', '심포지엄/행사', '의료/법안',\n",
       "       '신약/개발', '신약/개발', '신약/개발', '심포지엄/행사', '신약/개발', '심포지엄/행사',\n",
       "       '심포지엄/행사', '심포지엄/행사', '심포지엄/행사', '심포지엄/행사', '심포지엄/행사', '의료/법안',\n",
       "       '심포지엄/행사', '신약/개발', '의료/법안', '의료/법안', '심포지엄/행사', '심포지엄/행사',\n",
       "       '심포지엄/행사', '신약/개발', '심포지엄/행사', '의료/법안', '심포지엄/행사', '신약/개발',\n",
       "       '의료/법안', '의료/법안', '심포지엄/행사', '신약/개발', '심포지엄/행사', '심포지엄/행사',\n",
       "       '의료/법안', '심포지엄/행사', '신약/개발', '의료/법안', '심포지엄/행사', '심포지엄/행사',\n",
       "       '의료/법안', '신약/개발', '의료/법안', '심포지엄/행사', '심포지엄/행사', '심포지엄/행사',\n",
       "       '심포지엄/행사', '의료/법안', '심포지엄/행사', '의료/법안', '심포지엄/행사', '심포지엄/행사',\n",
       "       '심포지엄/행사', '의료/법안', '의료/법안', '심포지엄/행사', '신약/개발', '심포지엄/행사',\n",
       "       '의료/법안', '신약/개발', '심포지엄/행사', '의료/법안', '심포지엄/행사', '의료/법안',\n",
       "       '심포지엄/행사', '심포지엄/행사', '신약/개발', '신약/개발', '의료/법안', '신약/개발', '의료/법안',\n",
       "       '의료/법안', '심포지엄/행사', '심포지엄/행사', '의료/법안', '신약/개발', '의료/법안', '신약/개발',\n",
       "       '심포지엄/행사', '심포지엄/행사', '신약/개발', '신약/개발', '신약/개발', '신약/개발', '의료/법안',\n",
       "       '신약/개발', '심포지엄/행사', '의료/법안', '신약/개발', '심포지엄/행사', '의료/법안', '신약/개발',\n",
       "       '신약/개발', '신약/개발', '심포지엄/행사', '신약/개발', '심포지엄/행사', '신약/개발', '의료/법안',\n",
       "       '심포지엄/행사', '의료/법안', '심포지엄/행사', '신약/개발', '신약/개발', '신약/개발', '의료/법안',\n",
       "       '신약/개발', '의료/법안', '의료/법안', '심포지엄/행사', '의료/법안', '의료/법안', '심포지엄/행사',\n",
       "       '신약/개발', '심포지엄/행사', '신약/개발', '신약/개발', '의료/법안', '의료/법안', '의료/법안',\n",
       "       '의료/법안', '심포지엄/행사', '신약/개발', '심포지엄/행사', '신약/개발', '의료/법안', '신약/개발',\n",
       "       '신약/개발', '신약/개발', '의료/법안', '심포지엄/행사', '심포지엄/행사', '신약/개발', '신약/개발',\n",
       "       '심포지엄/행사', '신약/개발', '의료/법안', '신약/개발', '의료/법안', '심포지엄/행사',\n",
       "       '심포지엄/행사', '신약/개발', '의료/법안', '심포지엄/행사', '심포지엄/행사', '심포지엄/행사',\n",
       "       '신약/개발', '심포지엄/행사', '신약/개발', '심포지엄/행사', '신약/개발', '심포지엄/행사',\n",
       "       '의료/법안', '신약/개발', '신약/개발', '신약/개발', '의료/법안', '신약/개발', '심포지엄/행사',\n",
       "       '신약/개발', '신약/개발', '의료/법안', '의료/법안', '의료/법안', '심포지엄/행사', '심포지엄/행사',\n",
       "       '심포지엄/행사', '신약/개발', '의료/법안', '신약/개발', '신약/개발', '신약/개발', '심포지엄/행사',\n",
       "       '심포지엄/행사', '심포지엄/행사', '의료/법안', '심포지엄/행사', '의료/법안', '의료/법안',\n",
       "       '심포지엄/행사', '의료/법안', '의료/법안', '신약/개발', '심포지엄/행사', '의료/법안', '신약/개발',\n",
       "       '신약/개발', '신약/개발', '신약/개발', '심포지엄/행사', '신약/개발', '신약/개발', '신약/개발',\n",
       "       '심포지엄/행사', '심포지엄/행사', '의료/법안', '심포지엄/행사', '심포지엄/행사', '심포지엄/행사',\n",
       "       '신약/개발', '신약/개발', '심포지엄/행사', '신약/개발', '심포지엄/행사', '의료/법안', '신약/개발',\n",
       "       '신약/개발', '신약/개발', '신약/개발', '의료/법안', '의료/법안', '신약/개발', '심포지엄/행사',\n",
       "       '신약/개발', '심포지엄/행사', '의료/법안', '신약/개발', '의료/법안', '의료/법안', '의료/법안',\n",
       "       '심포지엄/행사', '심포지엄/행사', '심포지엄/행사', '심포지엄/행사', '의료/법안', '심포지엄/행사',\n",
       "       '의료/법안', '심포지엄/행사', '심포지엄/행사', '심포지엄/행사', '심포지엄/행사', '의료/법안',\n",
       "       '의료/법안', '의료/법안', '신약/개발', '심포지엄/행사', '의료/법안', '의료/법안', '심포지엄/행사',\n",
       "       '심포지엄/행사', '심포지엄/행사', '심포지엄/행사', '의료/법안', '의료/법안', '신약/개발',\n",
       "       '의료/법안', '의료/법안', '심포지엄/행사', '신약/개발', '심포지엄/행사', '심포지엄/행사',\n",
       "       '심포지엄/행사', '심포지엄/행사', '신약/개발', '의료/법안', '심포지엄/행사', '신약/개발',\n",
       "       '신약/개발', '심포지엄/행사', '신약/개발', '신약/개발', '신약/개발', '의료/법안', '신약/개발',\n",
       "       '심포지엄/행사', '의료/법안', '심포지엄/행사', '신약/개발', '의료/법안', '신약/개발', '의료/법안',\n",
       "       '심포지엄/행사', '심포지엄/행사', '심포지엄/행사', '심포지엄/행사', '의료/법안', '신약/개발',\n",
       "       '신약/개발', '심포지엄/행사', '신약/개발', '의료/법안', '심포지엄/행사', '심포지엄/행사',\n",
       "       '심포지엄/행사', '의료/법안', '의료/법안', '신약/개발', '신약/개발', '심포지엄/행사', '신약/개발',\n",
       "       '신약/개발', '신약/개발', '신약/개발', '심포지엄/행사', '신약/개발', '심포지엄/행사', '의료/법안',\n",
       "       '심포지엄/행사', '심포지엄/행사', '신약/개발', '의료/법안', '신약/개발', '신약/개발', '신약/개발',\n",
       "       '신약/개발', '심포지엄/행사', '의료/법안', '신약/개발', '심포지엄/행사', '신약/개발',\n",
       "       '심포지엄/행사', '신약/개발', '신약/개발', '의료/법안', '신약/개발', '의료/법안', '심포지엄/행사',\n",
       "       '심포지엄/행사', '신약/개발'], dtype=object)"
      ]
     },
     "execution_count": 51,
     "metadata": {},
     "output_type": "execute_result"
    }
   ],
   "source": [
    "model.predict(features_test)"
   ]
  },
  {
   "cell_type": "code",
   "execution_count": 52,
   "id": "fc62b894-5d4f-4a2a-9db6-32e2c22a9e9b",
   "metadata": {},
   "outputs": [],
   "source": [
    "from sklearn.metrics import classification_report"
   ]
  },
  {
   "cell_type": "code",
   "execution_count": 53,
   "id": "239f78aa-fd7b-4b90-a9e4-61ee46141c54",
   "metadata": {},
   "outputs": [
    {
     "name": "stdout",
     "output_type": "stream",
     "text": [
      "              precision    recall  f1-score   support\n",
      "\n",
      "       신약/개발       0.75      0.71      0.73       272\n",
      "     심포지엄/행사       0.62      0.78      0.69       218\n",
      "       의료/법안       0.77      0.63      0.69       238\n",
      "\n",
      "    accuracy                           0.71       728\n",
      "   macro avg       0.71      0.71      0.70       728\n",
      "weighted avg       0.72      0.71      0.71       728\n",
      "\n"
     ]
    }
   ],
   "source": [
    "target_predict = model.predict(features_test)\n",
    "print(classification_report(target_test, target_predict))"
   ]
  },
  {
   "cell_type": "markdown",
   "id": "57978db2-57af-4e15-ba1d-523ddaff2d3d",
   "metadata": {},
   "source": [
    "### test"
   ]
  },
  {
   "cell_type": "code",
   "execution_count": 54,
   "id": "ff60da2c-4362-45b8-b2fa-dff0761f1d38",
   "metadata": {},
   "outputs": [],
   "source": [
    "def testing(feature) : # 이때 feature는 리스트 형태\n",
    "    token_feature = tfidfvectorizer.transform(feature)\n",
    "    return model.predict(token_feature)"
   ]
  },
  {
   "cell_type": "code",
   "execution_count": 55,
   "id": "ce19ed95-3eba-4f53-8be3-a57a022714b2",
   "metadata": {},
   "outputs": [
    {
     "ename": "NameError",
     "evalue": "name 'pickle' is not defined",
     "output_type": "error",
     "traceback": [
      "\u001b[0;31m---------------------------------------------------------------------------\u001b[0m",
      "\u001b[0;31mNameError\u001b[0m                                 Traceback (most recent call last)",
      "Cell \u001b[0;32mIn[55], line 2\u001b[0m\n\u001b[1;32m      1\u001b[0m \u001b[38;5;28;01mwith\u001b[39;00m \u001b[38;5;28mopen\u001b[39m(\u001b[38;5;124m'\u001b[39m\u001b[38;5;124mnews_recommend.pkl\u001b[39m\u001b[38;5;124m'\u001b[39m, \u001b[38;5;124m'\u001b[39m\u001b[38;5;124mwb\u001b[39m\u001b[38;5;124m'\u001b[39m) \u001b[38;5;28;01mas\u001b[39;00m file:\n\u001b[0;32m----> 2\u001b[0m     \u001b[43mpickle\u001b[49m\u001b[38;5;241m.\u001b[39mdump(testing, file)\n",
      "\u001b[0;31mNameError\u001b[0m: name 'pickle' is not defined"
     ]
    }
   ],
   "source": [
    "# with open('news_recommend.pkl', 'wb') as file:\n",
    "#     pickle.dump(testing, file)"
   ]
  },
  {
   "cell_type": "code",
   "execution_count": 56,
   "id": "90f686e3-a201-4d5d-ba36-266b3b6cfa3e",
   "metadata": {},
   "outputs": [
    {
     "data": {
      "text/plain": [
       "array(['심포지엄/행사'], dtype=object)"
      ]
     },
     "execution_count": 56,
     "metadata": {},
     "output_type": "execute_result"
    }
   ],
   "source": [
    "testing([\"사지에 힘이 빠지고 저리다면, ‘길랑-바레 증후군’ 의심\"])"
   ]
  },
  {
   "cell_type": "markdown",
   "id": "ebe52a03-4358-4578-9ef7-7f12f5a16d68",
   "metadata": {},
   "source": [
    "- f1-scroe : 0.73으로 준수한 성능을 보임"
   ]
  },
  {
   "cell_type": "markdown",
   "id": "65efc767-5b54-4c3f-b821-bfa2857f9031",
   "metadata": {},
   "source": [
    "### Save"
   ]
  },
  {
   "cell_type": "code",
   "execution_count": 57,
   "id": "bd6efd1f-a691-41b2-9cdd-26313158adf7",
   "metadata": {},
   "outputs": [],
   "source": [
    "import pickle"
   ]
  },
  {
   "cell_type": "code",
   "execution_count": null,
   "id": "5a032fc2-8732-4ee6-9464-af3224cff573",
   "metadata": {},
   "outputs": [],
   "source": [
    "# data = {'news_recommend_model' : model, 'news_recommend_vectorizer' : tfidfvectorizer}"
   ]
  },
  {
   "cell_type": "code",
   "execution_count": null,
   "id": "b331f6bc-5d79-4cb8-8196-933864400091",
   "metadata": {},
   "outputs": [],
   "source": [
    "# with open('news_recommend_model.pkl', 'wb') as file:\n",
    "#     pickle.dump(model, file)"
   ]
  },
  {
   "cell_type": "code",
   "execution_count": 66,
   "id": "b431b547-cc78-4b74-9b00-4283f6439112",
   "metadata": {},
   "outputs": [],
   "source": [
    "with open('news_recommend_vectorizer.pkl', 'wb') as file:\n",
    "    pickle.dump(tfidfvectorizer, file)"
   ]
  },
  {
   "cell_type": "code",
   "execution_count": 69,
   "id": "63f9b7bc-93b5-4ac7-8270-d1e19912aa05",
   "metadata": {},
   "outputs": [],
   "source": [
    "with open('.././pkl/news_recommend_model.pkl', 'rb') as file:\n",
    "    model_test = pickle.load(file)"
   ]
  },
  {
   "cell_type": "code",
   "execution_count": 70,
   "id": "f13236e6-e719-4645-b673-ec9d7b756ba5",
   "metadata": {},
   "outputs": [],
   "source": [
    "with open('.././pkl/news_recommend_vectorizer.pkl', 'rb') as file:\n",
    "    tfidf_test = pickle.load(file)"
   ]
  },
  {
   "cell_type": "code",
   "execution_count": 71,
   "id": "4a6d0263-a7a6-4ace-9ab7-785033625921",
   "metadata": {},
   "outputs": [],
   "source": [
    "test_word = '사지에 힘이 빠지고 저리다면, ‘길랑-바레 증후군’ 의심'"
   ]
  },
  {
   "cell_type": "code",
   "execution_count": 72,
   "id": "5d7b1908-bd54-4a5f-8891-7cacbc8a44e7",
   "metadata": {},
   "outputs": [
    {
     "data": {
      "text/plain": [
       "<1x997 sparse matrix of type '<class 'numpy.float64'>'\n",
       "\twith 2 stored elements in Compressed Sparse Row format>"
      ]
     },
     "execution_count": 72,
     "metadata": {},
     "output_type": "execute_result"
    }
   ],
   "source": [
    "tfidf_test.transform([test_word])"
   ]
  },
  {
   "cell_type": "code",
   "execution_count": 73,
   "id": "ca55cc30-a06b-417f-a2bc-fdecc35b3b45",
   "metadata": {},
   "outputs": [
    {
     "data": {
      "text/plain": [
       "array(['신약/개발'], dtype=object)"
      ]
     },
     "execution_count": 73,
     "metadata": {},
     "output_type": "execute_result"
    }
   ],
   "source": [
    "model_test.predict(tfidf_test.transform([test_word]))"
   ]
  },
  {
   "cell_type": "code",
   "execution_count": 74,
   "id": "4eae686a-e5ce-4bbc-bb28-c9f280d7499a",
   "metadata": {},
   "outputs": [
    {
     "data": {
      "text/plain": [
       "['tfidfvectorizer.joblib']"
      ]
     },
     "execution_count": 74,
     "metadata": {},
     "output_type": "execute_result"
    }
   ],
   "source": [
    "from joblib import dump, load\n",
    "\n",
    "# 불용어 리스트와 tokenizer 함수는 위에서 정의된 대로 사용합니다.\n",
    "\n",
    "# TfidfVectorizer 객체 생성\n",
    "tfidfvectorizer = TfidfVectorizer(tokenizer=tokenizer, max_df=0.95, min_df=3)\n",
    "\n",
    "# 객체를 디스크에 저장\n",
    "dump(tfidfvectorizer, 'tfidfvectorizer.joblib')"
   ]
  },
  {
   "cell_type": "code",
   "execution_count": 78,
   "id": "fe0f180a-0411-4a0c-8ab6-9f84124952b7",
   "metadata": {},
   "outputs": [
    {
     "data": {
      "text/plain": [
       "['tokenizer.joblib']"
      ]
     },
     "execution_count": 78,
     "metadata": {},
     "output_type": "execute_result"
    }
   ],
   "source": [
    "def tokenizer(raw, pos=['Noun', 'Verb']):\n",
    "    stopwords = ['서울대', '희귀질환', '희귀', '대다',  '케다', '소아', '생명', '한국', '한미','사노피', '하다', '급여', '국내', '샤이어',  '스케', '세포'\n",
    "            , '병원',  '질환',  '한독', '화이자제약',  '전달', '질병', '인하대병원',  '관리', '다국적', '환자', '지정', '치료'\n",
    "            , '오다', '헌터', '작년', '브리', '위해', '베다', '받다', '심평원', '코로나', '건보', '화순', '전남대', '실시', '자임','녹십자'\n",
    "            ] #추가 생성 필요\n",
    "    okt=Okt()\n",
    "    return [\n",
    "        word for word, tag in okt.pos(raw, norm=True, stem=True)\n",
    "        if len(word) >1 and tag in pos and word not in stopword\n",
    "    ]\n",
    "dump(tokenizer, 'tokenizer.joblib')"
   ]
  },
  {
   "cell_type": "code",
   "execution_count": null,
   "id": "d78b1713-fd12-4bc1-a946-10884ce59fbb",
   "metadata": {},
   "outputs": [],
   "source": [
    "def tokenizer(raw, pos=['Noun', 'Verb'], stopword=stopwords):\n",
    "    stopwords = ['서울대', '희귀질환', '희귀', '대다',  '케다', '소아', '생명', '한국', '한미','사노피', '하다', '급여', '국내', '샤이어',  '스케', '세포'\n",
    "            , '병원',  '질환',  '한독', '화이자제약',  '전달', '질병', '인하대병원',  '관리', '다국적', '환자', '지정', '치료'\n",
    "            , '오다', '헌터', '작년', '브리', '위해', '베다', '받다', '심평원', '코로나', '건보', '화순', '전남대', '실시', '자임','녹십자'\n",
    "            ] #추가 생성 필요\n",
    "    okt=Okt()\n",
    "    return [\n",
    "        word for word, tag in okt.pos(raw, norm=True, stem=True)\n",
    "        if len(word) >1 and tag in pos and word not in stopword\n",
    "    ]\n",
    "dump(tokenizer, 'tokenizer.joblib')"
   ]
  },
  {
   "cell_type": "markdown",
   "id": "64fbaa13-0f40-4878-8729-e4dad4ad3de6",
   "metadata": {},
   "source": [
    "## 3. 데이터 변경하기"
   ]
  },
  {
   "cell_type": "code",
   "execution_count": null,
   "id": "192bd6bb-46cf-4232-8f68-97aee86d97f7",
   "metadata": {},
   "outputs": [],
   "source": [
    "df_bosa_test1.head()"
   ]
  },
  {
   "cell_type": "code",
   "execution_count": null,
   "id": "5ae2d277-0e94-4bde-8b79-45266777e9eb",
   "metadata": {},
   "outputs": [],
   "source": [
    "df_bosa_test1.drop(columns=['news_topic', 'topic_num'], inplace=True)"
   ]
  },
  {
   "cell_type": "code",
   "execution_count": null,
   "id": "2548c8c3-e170-4222-97e8-22e66228e158",
   "metadata": {},
   "outputs": [],
   "source": [
    "df_bosa_test1.head()"
   ]
  },
  {
   "cell_type": "code",
   "execution_count": null,
   "id": "c08c4359-451a-4c25-a7d6-9283bdd43518",
   "metadata": {},
   "outputs": [],
   "source": [
    "from datetime import datetime"
   ]
  },
  {
   "cell_type": "code",
   "execution_count": null,
   "id": "a01e6cd2-b703-4e9b-a304-f7251bdd2055",
   "metadata": {},
   "outputs": [],
   "source": [
    "df_bosa_test1['news_when'][1][:-6]"
   ]
  },
  {
   "cell_type": "code",
   "execution_count": null,
   "id": "4ed0eed1-8393-40af-9adb-3d69011a542f",
   "metadata": {},
   "outputs": [],
   "source": [
    "def change_datetime(date):\n",
    "    date = date[:-6]\n",
    "    if len(date) == 5 :\n",
    "        date = '2024.' + date\n",
    "    else :\n",
    "        pass\n",
    "    return date"
   ]
  },
  {
   "cell_type": "code",
   "execution_count": null,
   "id": "48b3e467-b1bd-49b8-906a-c41b7356682e",
   "metadata": {},
   "outputs": [],
   "source": [
    "df_bosa_test1['news_when'] = df_bosa_test1['news_when'].apply(change_datetime)"
   ]
  },
  {
   "cell_type": "code",
   "execution_count": null,
   "id": "50813742-3cf7-4abf-8cc4-88bb769787d0",
   "metadata": {},
   "outputs": [],
   "source": [
    "df_bosa_test1['news_paper'] = '의학신문'"
   ]
  },
  {
   "cell_type": "code",
   "execution_count": null,
   "id": "699bc1a9-73a1-4012-b985-6b2e9cc84e76",
   "metadata": {},
   "outputs": [],
   "source": [
    "df_bosa_test1.head()"
   ]
  },
  {
   "cell_type": "code",
   "execution_count": null,
   "id": "e3824d6a-267b-4251-837c-63a821f9012f",
   "metadata": {},
   "outputs": [],
   "source": [
    "df_bosa_test1.to_csv('df_bosa.csv', index=False)"
   ]
  },
  {
   "cell_type": "code",
   "execution_count": null,
   "id": "534c1bfc-dae6-47b5-89f4-bd4f3120d036",
   "metadata": {},
   "outputs": [],
   "source": [
    "df_bosa_test1.info()"
   ]
  },
  {
   "cell_type": "code",
   "execution_count": null,
   "id": "1b61b22f-4558-4491-a62a-2b95f3b541aa",
   "metadata": {},
   "outputs": [],
   "source": [
    "df_bosa = pd.read_csv(\"./csv/bosa_news_all.csv\")"
   ]
  },
  {
   "cell_type": "code",
   "execution_count": null,
   "id": "e570f5c7-2782-44d2-a3c1-2b14f57d2c32",
   "metadata": {},
   "outputs": [],
   "source": [
    "df_bosa_test1['news_contents'] = df_bosa['news_contents']"
   ]
  },
  {
   "cell_type": "code",
   "execution_count": null,
   "id": "76bb2b2b-48dd-4601-984a-e04efb809dc4",
   "metadata": {},
   "outputs": [],
   "source": [
    "df_bosa_test1.head()"
   ]
  },
  {
   "cell_type": "code",
   "execution_count": null,
   "id": "fc7b780d-bde3-4b74-9120-72dce217c39a",
   "metadata": {},
   "outputs": [],
   "source": [
    "df_bosa_test1.to_csv('df_bosa.csv', index=False)"
   ]
  },
  {
   "cell_type": "code",
   "execution_count": null,
   "id": "e7d27348-35f5-4fa7-91c1-464e451b9b56",
   "metadata": {},
   "outputs": [],
   "source": [
    "df_bosa_test1 = df_bosa_test1.rename(columns={'topic_model':'news_topic'})"
   ]
  },
  {
   "cell_type": "code",
   "execution_count": null,
   "id": "0fbf63d3-170f-40d3-a4d3-36d90fdc9857",
   "metadata": {},
   "outputs": [],
   "source": []
  }
 ],
 "metadata": {
  "kernelspec": {
   "display_name": "Python 3 (ipykernel)",
   "language": "python",
   "name": "python3"
  },
  "language_info": {
   "codemirror_mode": {
    "name": "ipython",
    "version": 3
   },
   "file_extension": ".py",
   "mimetype": "text/x-python",
   "name": "python",
   "nbconvert_exporter": "python",
   "pygments_lexer": "ipython3",
   "version": "3.11.8"
  }
 },
 "nbformat": 4,
 "nbformat_minor": 5
}
