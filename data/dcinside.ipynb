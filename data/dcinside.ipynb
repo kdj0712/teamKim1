{
 "cells": [
  {
   "cell_type": "code",
   "execution_count": 1,
   "id": "96afa7cb-d918-4ce0-a858-08300b34e3ac",
   "metadata": {},
   "outputs": [
    {
     "data": {
      "text/html": [
       "<div>\n",
       "<style scoped>\n",
       "    .dataframe tbody tr th:only-of-type {\n",
       "        vertical-align: middle;\n",
       "    }\n",
       "\n",
       "    .dataframe tbody tr th {\n",
       "        vertical-align: top;\n",
       "    }\n",
       "\n",
       "    .dataframe thead th {\n",
       "        text-align: right;\n",
       "    }\n",
       "</style>\n",
       "<table border=\"1\" class=\"dataframe\">\n",
       "  <thead>\n",
       "    <tr style=\"text-align: right;\">\n",
       "      <th></th>\n",
       "      <th>_id</th>\n",
       "      <th>title</th>\n",
       "      <th>date</th>\n",
       "      <th>contents</th>\n",
       "      <th>up</th>\n",
       "      <th>down</th>\n",
       "      <th>comment[0]</th>\n",
       "      <th>comment[1]</th>\n",
       "      <th>comment[2]</th>\n",
       "      <th>comment[3]</th>\n",
       "      <th>...</th>\n",
       "      <th>comment[44]</th>\n",
       "      <th>comment[45]</th>\n",
       "      <th>comment[46]</th>\n",
       "      <th>comment[47]</th>\n",
       "      <th>comment[48]</th>\n",
       "      <th>comment[49]</th>\n",
       "      <th>comment[50]</th>\n",
       "      <th>comment[51]</th>\n",
       "      <th>comment[52]</th>\n",
       "      <th>comment[53]</th>\n",
       "    </tr>\n",
       "  </thead>\n",
       "  <tbody>\n",
       "    <tr>\n",
       "      <th>0</th>\n",
       "      <td>65d87bac24e72d643e1e4bce</td>\n",
       "      <td>갑자기든 생각인데 신섬 반점 문신으로 가릴수있지않을까?</td>\n",
       "      <td>2024.02.23 18:32:18</td>\n",
       "      <td>피부랑 똑같은색으로 점있는 부분만 문신하면 티는 조금 나겠지만 조금은 희미해질듯</td>\n",
       "      <td>0</td>\n",
       "      <td>0</td>\n",
       "      <td>NaN</td>\n",
       "      <td>NaN</td>\n",
       "      <td>NaN</td>\n",
       "      <td>NaN</td>\n",
       "      <td>...</td>\n",
       "      <td>NaN</td>\n",
       "      <td>NaN</td>\n",
       "      <td>NaN</td>\n",
       "      <td>NaN</td>\n",
       "      <td>NaN</td>\n",
       "      <td>NaN</td>\n",
       "      <td>NaN</td>\n",
       "      <td>NaN</td>\n",
       "      <td>NaN</td>\n",
       "      <td>NaN</td>\n",
       "    </tr>\n",
       "  </tbody>\n",
       "</table>\n",
       "<p>1 rows × 60 columns</p>\n",
       "</div>"
      ],
      "text/plain": [
       "                        _id                           title  \\\n",
       "0  65d87bac24e72d643e1e4bce  갑자기든 생각인데 신섬 반점 문신으로 가릴수있지않을까?   \n",
       "\n",
       "                  date                                      contents  up  \\\n",
       "0  2024.02.23 18:32:18  피부랑 똑같은색으로 점있는 부분만 문신하면 티는 조금 나겠지만 조금은 희미해질듯   0   \n",
       "\n",
       "   down comment[0] comment[1] comment[2] comment[3]  ... comment[44]  \\\n",
       "0     0        NaN        NaN        NaN        NaN  ...         NaN   \n",
       "\n",
       "  comment[45] comment[46] comment[47] comment[48] comment[49] comment[50]  \\\n",
       "0         NaN         NaN         NaN         NaN         NaN         NaN   \n",
       "\n",
       "  comment[51] comment[52] comment[53]  \n",
       "0         NaN         NaN         NaN  \n",
       "\n",
       "[1 rows x 60 columns]"
      ]
     },
     "execution_count": 1,
     "metadata": {},
     "output_type": "execute_result"
    }
   ],
   "source": [
    "import pandas as pd\n",
    "df_dc = pd.read_csv('./dummy/project_dcinside.csv')\n",
    "df_dc[:1]"
   ]
  },
  {
   "cell_type": "code",
   "execution_count": 2,
   "id": "09018bfc-a69a-4a77-8bbb-6f476a8a0c4c",
   "metadata": {},
   "outputs": [],
   "source": [
    "df_dc['contents_all'] = df_dc['title']+df_dc['contents']"
   ]
  },
  {
   "cell_type": "code",
   "execution_count": 3,
   "id": "6c017462-cf58-4d2b-aab2-320c9b948b3f",
   "metadata": {},
   "outputs": [
    {
     "data": {
      "text/plain": [
       "0      갑자기든 생각인데 신섬 반점 문신으로 가릴수있지않을까?피부랑 똑같은색으로 점있는 부...\n",
       "1      영국, 부작용 이슈 퀴놀론계 항생제 모든질환 1차사용 금지https://www.ne...\n",
       "2      검사 받는 병원 근처 지역 병원으로 바꿈계속 서울로 정기검진 받으러 가다가 어제를 ...\n",
       "3                            섬유종 수술은 아산병원이 젤 나음?좀 큰 부위인데\n",
       "4      신섬 증상 별로 안 심하면 코셀루고 약 못 먹나?엄청 심한건 아닌 거 같은데...먹...\n",
       "                             ...                        \n",
       "484    희귀병 걸렸다ㅜ베체트 ㅆㅂ 이거 뭐야?\\n\\n확진줘놓고 아프면 오라니 이게 말이냐?...\n",
       "485    희귀병이니 갤마저 글이 희귀하네...자주 들를게 나도 희귀병 환우얍 흑 \\n- dc...\n",
       "486    힘들다병명찾기 몇년째인지\\n정말 사람들 말대로 다 내 머릿속에 있는건지\\n아님 정말...\n",
       "487     좋은 일 하십니다실제로 환우들이 여기를 사용할지는 모르겠다만 모두들 힘내십쇼. 화이팅!\n",
       "488                                                 발도잔꾹\n",
       "Name: contents_all, Length: 489, dtype: object"
      ]
     },
     "execution_count": 3,
     "metadata": {},
     "output_type": "execute_result"
    }
   ],
   "source": [
    "df_dc['contents_all']"
   ]
  },
  {
   "cell_type": "code",
   "execution_count": 25,
   "id": "fd76f0c1-3f6c-4cf5-84ce-2560f4751d17",
   "metadata": {},
   "outputs": [],
   "source": [
    "df_dc.drop(columns = ['title','contents', '_id'], inplace=True)"
   ]
  },
  {
   "cell_type": "code",
   "execution_count": 26,
   "id": "15a3cfda-5227-4bcd-ad80-7e0d7654b998",
   "metadata": {},
   "outputs": [
    {
     "data": {
      "text/html": [
       "<div>\n",
       "<style scoped>\n",
       "    .dataframe tbody tr th:only-of-type {\n",
       "        vertical-align: middle;\n",
       "    }\n",
       "\n",
       "    .dataframe tbody tr th {\n",
       "        vertical-align: top;\n",
       "    }\n",
       "\n",
       "    .dataframe thead th {\n",
       "        text-align: right;\n",
       "    }\n",
       "</style>\n",
       "<table border=\"1\" class=\"dataframe\">\n",
       "  <thead>\n",
       "    <tr style=\"text-align: right;\">\n",
       "      <th></th>\n",
       "      <th>date</th>\n",
       "      <th>up</th>\n",
       "      <th>down</th>\n",
       "      <th>contents_all</th>\n",
       "      <th>comments</th>\n",
       "    </tr>\n",
       "  </thead>\n",
       "  <tbody>\n",
       "    <tr>\n",
       "      <th>0</th>\n",
       "      <td>2024.02.23 18:32:18</td>\n",
       "      <td>0</td>\n",
       "      <td>0</td>\n",
       "      <td>갑자기든 생각인데 신섬 반점 문신으로 가릴수있지않을까?피부랑 똑같은색으로 점있는 부...</td>\n",
       "      <td>NaN</td>\n",
       "    </tr>\n",
       "  </tbody>\n",
       "</table>\n",
       "</div>"
      ],
      "text/plain": [
       "                  date  up  down  \\\n",
       "0  2024.02.23 18:32:18   0     0   \n",
       "\n",
       "                                        contents_all comments  \n",
       "0  갑자기든 생각인데 신섬 반점 문신으로 가릴수있지않을까?피부랑 똑같은색으로 점있는 부...      NaN  "
      ]
     },
     "execution_count": 26,
     "metadata": {},
     "output_type": "execute_result"
    }
   ],
   "source": [
    "df_dc[:1]"
   ]
  },
  {
   "cell_type": "code",
   "execution_count": 14,
   "id": "16829b8a-bdd6-4ac3-a9b7-48223770f531",
   "metadata": {},
   "outputs": [
    {
     "data": {
      "text/plain": [
       "54"
      ]
     },
     "execution_count": 14,
     "metadata": {},
     "output_type": "execute_result"
    }
   ],
   "source": [
    "len(comments)"
   ]
  },
  {
   "cell_type": "code",
   "execution_count": 18,
   "id": "91a4ab33-a7fc-4df4-b849-3e054f050661",
   "metadata": {},
   "outputs": [
    {
     "data": {
      "text/plain": [
       "0                                                    NaN\n",
       "1                                        너 살아 있었구나\\n다행이다\n",
       "2                                                    NaN\n",
       "3                         음..... 그런 듯 나도 9cm 종양 아산에서 제거함\n",
       "4                                   카페에서 부작용 보니까 엄청 심하던데\n",
       "                             ...                        \n",
       "484    헐....힘내요..나도 섬유종이라는 희귀변잇는데 병원에서 답도 안주고 지들 책임안지...\n",
       "485                                      무슨 병?? - dc App\n",
       "486    힘들수록 네 자신을 믿고 사랑해야해 ~! 난 1년 전부터 있던 증상 한달 전쯤에야 ...\n",
       "487                                                ㅎㅇㅌ~!\n",
       "488                                                  NaN\n",
       "Name: comments, Length: 489, dtype: object"
      ]
     },
     "execution_count": 18,
     "metadata": {},
     "output_type": "execute_result"
    }
   ],
   "source": [
    "df_dc['comments'] = df_dc['comment[0]']\n",
    "for x in range(1,len(comments)) :\n",
    "    df_dc['comments']+df_dc[f'comment[{x}]']\n",
    "df_dc['comments']"
   ]
  },
  {
   "cell_type": "code",
   "execution_count": 24,
   "id": "3d8bae2e-8d9a-470b-9ed7-c8f5420fc177",
   "metadata": {},
   "outputs": [],
   "source": [
    "df_dc.drop(columns = comments, inplace=True)"
   ]
  },
  {
   "cell_type": "code",
   "execution_count": 27,
   "id": "948c1b70-f491-44d4-b18e-a4b977141736",
   "metadata": {},
   "outputs": [
    {
     "data": {
      "text/html": [
       "<div>\n",
       "<style scoped>\n",
       "    .dataframe tbody tr th:only-of-type {\n",
       "        vertical-align: middle;\n",
       "    }\n",
       "\n",
       "    .dataframe tbody tr th {\n",
       "        vertical-align: top;\n",
       "    }\n",
       "\n",
       "    .dataframe thead th {\n",
       "        text-align: right;\n",
       "    }\n",
       "</style>\n",
       "<table border=\"1\" class=\"dataframe\">\n",
       "  <thead>\n",
       "    <tr style=\"text-align: right;\">\n",
       "      <th></th>\n",
       "      <th>date</th>\n",
       "      <th>up</th>\n",
       "      <th>down</th>\n",
       "      <th>contents_all</th>\n",
       "      <th>comments</th>\n",
       "    </tr>\n",
       "  </thead>\n",
       "  <tbody>\n",
       "    <tr>\n",
       "      <th>0</th>\n",
       "      <td>2024.02.23 18:32:18</td>\n",
       "      <td>0</td>\n",
       "      <td>0</td>\n",
       "      <td>갑자기든 생각인데 신섬 반점 문신으로 가릴수있지않을까?피부랑 똑같은색으로 점있는 부...</td>\n",
       "      <td>NaN</td>\n",
       "    </tr>\n",
       "    <tr>\n",
       "      <th>1</th>\n",
       "      <td>2024.02.21 17:02:35</td>\n",
       "      <td>0</td>\n",
       "      <td>0</td>\n",
       "      <td>영국, 부작용 이슈 퀴놀론계 항생제 모든질환 1차사용 금지https://www.ne...</td>\n",
       "      <td>너 살아 있었구나\\n다행이다</td>\n",
       "    </tr>\n",
       "    <tr>\n",
       "      <th>2</th>\n",
       "      <td>2024.02.21 16:46:18</td>\n",
       "      <td>0</td>\n",
       "      <td>0</td>\n",
       "      <td>검사 받는 병원 근처 지역 병원으로 바꿈계속 서울로 정기검진 받으러 가다가 어제를 ...</td>\n",
       "      <td>NaN</td>\n",
       "    </tr>\n",
       "    <tr>\n",
       "      <th>3</th>\n",
       "      <td>2024.02.17 21:15:50</td>\n",
       "      <td>2</td>\n",
       "      <td>0</td>\n",
       "      <td>섬유종 수술은 아산병원이 젤 나음?좀 큰 부위인데</td>\n",
       "      <td>음..... 그런 듯 나도 9cm 종양 아산에서 제거함</td>\n",
       "    </tr>\n",
       "    <tr>\n",
       "      <th>4</th>\n",
       "      <td>2024.02.16 14:51:29</td>\n",
       "      <td>0</td>\n",
       "      <td>0</td>\n",
       "      <td>신섬 증상 별로 안 심하면 코셀루고 약 못 먹나?엄청 심한건 아닌 거 같은데...먹...</td>\n",
       "      <td>카페에서 부작용 보니까 엄청 심하던데</td>\n",
       "    </tr>\n",
       "    <tr>\n",
       "      <th>...</th>\n",
       "      <td>...</td>\n",
       "      <td>...</td>\n",
       "      <td>...</td>\n",
       "      <td>...</td>\n",
       "      <td>...</td>\n",
       "    </tr>\n",
       "    <tr>\n",
       "      <th>484</th>\n",
       "      <td>2019.08.06 06:26:42</td>\n",
       "      <td>0</td>\n",
       "      <td>0</td>\n",
       "      <td>희귀병 걸렸다ㅜ베체트 ㅆㅂ 이거 뭐야?\\n\\n확진줘놓고 아프면 오라니 이게 말이냐?...</td>\n",
       "      <td>헐....힘내요..나도 섬유종이라는 희귀변잇는데 병원에서 답도 안주고 지들 책임안지...</td>\n",
       "    </tr>\n",
       "    <tr>\n",
       "      <th>485</th>\n",
       "      <td>2019.08.02 03:19:15</td>\n",
       "      <td>1</td>\n",
       "      <td>0</td>\n",
       "      <td>희귀병이니 갤마저 글이 희귀하네...자주 들를게 나도 희귀병 환우얍 흑 \\n- dc...</td>\n",
       "      <td>무슨 병?? - dc App</td>\n",
       "    </tr>\n",
       "    <tr>\n",
       "      <th>486</th>\n",
       "      <td>2019.07.14 11:18:13</td>\n",
       "      <td>1</td>\n",
       "      <td>0</td>\n",
       "      <td>힘들다병명찾기 몇년째인지\\n정말 사람들 말대로 다 내 머릿속에 있는건지\\n아님 정말...</td>\n",
       "      <td>힘들수록 네 자신을 믿고 사랑해야해 ~! 난 1년 전부터 있던 증상 한달 전쯤에야 ...</td>\n",
       "    </tr>\n",
       "    <tr>\n",
       "      <th>487</th>\n",
       "      <td>2019.04.18 09:47:41</td>\n",
       "      <td>0</td>\n",
       "      <td>0</td>\n",
       "      <td>좋은 일 하십니다실제로 환우들이 여기를 사용할지는 모르겠다만 모두들 힘내십쇼. 화이팅!</td>\n",
       "      <td>ㅎㅇㅌ~!</td>\n",
       "    </tr>\n",
       "    <tr>\n",
       "      <th>488</th>\n",
       "      <td>2019.04.16 20:17:10</td>\n",
       "      <td>1</td>\n",
       "      <td>0</td>\n",
       "      <td>발도잔꾹</td>\n",
       "      <td>NaN</td>\n",
       "    </tr>\n",
       "  </tbody>\n",
       "</table>\n",
       "<p>489 rows × 5 columns</p>\n",
       "</div>"
      ],
      "text/plain": [
       "                    date  up  down  \\\n",
       "0    2024.02.23 18:32:18   0     0   \n",
       "1    2024.02.21 17:02:35   0     0   \n",
       "2    2024.02.21 16:46:18   0     0   \n",
       "3    2024.02.17 21:15:50   2     0   \n",
       "4    2024.02.16 14:51:29   0     0   \n",
       "..                   ...  ..   ...   \n",
       "484  2019.08.06 06:26:42   0     0   \n",
       "485  2019.08.02 03:19:15   1     0   \n",
       "486  2019.07.14 11:18:13   1     0   \n",
       "487  2019.04.18 09:47:41   0     0   \n",
       "488  2019.04.16 20:17:10   1     0   \n",
       "\n",
       "                                          contents_all  \\\n",
       "0    갑자기든 생각인데 신섬 반점 문신으로 가릴수있지않을까?피부랑 똑같은색으로 점있는 부...   \n",
       "1    영국, 부작용 이슈 퀴놀론계 항생제 모든질환 1차사용 금지https://www.ne...   \n",
       "2    검사 받는 병원 근처 지역 병원으로 바꿈계속 서울로 정기검진 받으러 가다가 어제를 ...   \n",
       "3                          섬유종 수술은 아산병원이 젤 나음?좀 큰 부위인데   \n",
       "4    신섬 증상 별로 안 심하면 코셀루고 약 못 먹나?엄청 심한건 아닌 거 같은데...먹...   \n",
       "..                                                 ...   \n",
       "484  희귀병 걸렸다ㅜ베체트 ㅆㅂ 이거 뭐야?\\n\\n확진줘놓고 아프면 오라니 이게 말이냐?...   \n",
       "485  희귀병이니 갤마저 글이 희귀하네...자주 들를게 나도 희귀병 환우얍 흑 \\n- dc...   \n",
       "486  힘들다병명찾기 몇년째인지\\n정말 사람들 말대로 다 내 머릿속에 있는건지\\n아님 정말...   \n",
       "487   좋은 일 하십니다실제로 환우들이 여기를 사용할지는 모르겠다만 모두들 힘내십쇼. 화이팅!   \n",
       "488                                               발도잔꾹   \n",
       "\n",
       "                                              comments  \n",
       "0                                                  NaN  \n",
       "1                                      너 살아 있었구나\\n다행이다  \n",
       "2                                                  NaN  \n",
       "3                       음..... 그런 듯 나도 9cm 종양 아산에서 제거함  \n",
       "4                                 카페에서 부작용 보니까 엄청 심하던데  \n",
       "..                                                 ...  \n",
       "484  헐....힘내요..나도 섬유종이라는 희귀변잇는데 병원에서 답도 안주고 지들 책임안지...  \n",
       "485                                    무슨 병?? - dc App  \n",
       "486  힘들수록 네 자신을 믿고 사랑해야해 ~! 난 1년 전부터 있던 증상 한달 전쯤에야 ...  \n",
       "487                                              ㅎㅇㅌ~!  \n",
       "488                                                NaN  \n",
       "\n",
       "[489 rows x 5 columns]"
      ]
     },
     "execution_count": 27,
     "metadata": {},
     "output_type": "execute_result"
    }
   ],
   "source": [
    "df_dc"
   ]
  },
  {
   "cell_type": "code",
   "execution_count": 31,
   "id": "4a6f73c5-426d-4d92-a4b8-d32653c877a0",
   "metadata": {},
   "outputs": [],
   "source": [
    "from konlpy.tag import Okt\n",
    "okt = Okt()"
   ]
  },
  {
   "cell_type": "code",
   "execution_count": null,
   "id": "6c9b3709-33e4-4cd3-bdb0-241bdf62495e",
   "metadata": {},
   "outputs": [],
   "source": []
  }
 ],
 "metadata": {
  "kernelspec": {
   "display_name": "Python 3 (ipykernel)",
   "language": "python",
   "name": "python3"
  },
  "language_info": {
   "codemirror_mode": {
    "name": "ipython",
    "version": 3
   },
   "file_extension": ".py",
   "mimetype": "text/x-python",
   "name": "python",
   "nbconvert_exporter": "python",
   "pygments_lexer": "ipython3",
   "version": "3.11.8"
  }
 },
 "nbformat": 4,
 "nbformat_minor": 5
}
