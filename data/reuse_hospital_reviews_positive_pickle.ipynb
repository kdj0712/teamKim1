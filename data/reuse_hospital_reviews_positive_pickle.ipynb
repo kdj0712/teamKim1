{
 "cells": [
  {
   "cell_type": "code",
   "execution_count": null,
   "id": "0b9542db-5ad1-4d59-b532-54300d819c5a",
   "metadata": {},
   "outputs": [],
   "source": [
    "import pandas as pd\n"
   ]
  },
  {
   "cell_type": "code",
   "execution_count": null,
   "id": "d59db108-61cb-4133-9873-825ab8d3a4e5",
   "metadata": {},
   "outputs": [],
   "source": [
    "file_path = 'pkl/Hospital_reviews_positive.pkl'\n",
    "\n",
    "import pickle\n",
    "with open(file_path, 'rb') as pickle_file:\n",
    "  positive_model = pickle.load(pickle_file)\n",
    "\n",
    "file_path = 'pkl/Hospital_reviews_vectorize.pkl'\n",
    "with open(file_path, 'rb') as pickle_file:\n",
    "  vectorize_model = pickle.load(pickle_file)\n"
   ]
  },
  {
   "cell_type": "code",
   "execution_count": null,
   "id": "d074c9c1-4a9f-4842-946f-f0211021543b",
   "metadata": {},
   "outputs": [],
   "source": [
    "df_hr = pd.read_csv('./csv/Seleniums_kakao_hospital_reviews_modified.csv')"
   ]
  },
  {
   "cell_type": "code",
   "execution_count": null,
   "id": "31a03774-ed56-4a2d-b134-4d05005b94e3",
   "metadata": {},
   "outputs": [],
   "source": [
    "df_hr_extract = df_hr[['hospital_name', 'text']].dropna()"
   ]
  },
  {
   "cell_type": "code",
   "execution_count": null,
   "id": "2cb2171e-75fd-4c98-a8f9-b8fe0f3d85c3",
   "metadata": {},
   "outputs": [],
   "source": [
    "from mecab import MeCab\n",
    "mecab = MeCab()\n",
    "def extract(sentence) :\n",
    "    # morphs_nouns_list = []\n",
    "    # for sentence in series:\n",
    "    morphs_nouns = ''\n",
    "    for morph, tag in mecab.pos(sentence) : \n",
    "        if tag in ['NNG', 'NNP', 'NNB', 'NNBC', 'NP', 'NR', 'VA', 'MAG', 'SY', 'VV+EC'] :\n",
    "            morphs_nouns += (morph+' ')            \n",
    "    # morphs_nouns_list.append(morphs_nouns)\n",
    "        pass\n",
    "    return morphs_nouns"
   ]
  },
  {
   "cell_type": "code",
   "execution_count": null,
   "id": "eb685dd0-ef68-49d6-9bde-1e09c75422b9",
   "metadata": {},
   "outputs": [],
   "source": [
    "# make predict function\n",
    "def sample_predict(features):\n",
    "    tokenized_features = vectorize_model.transform([extract(features)])\n",
    "    return positive_model.predict(tokenized_features)[0]\n"
   ]
  },
  {
   "cell_type": "code",
   "execution_count": null,
   "id": "97666fe1-cb1a-4483-83ad-49d346217f5b",
   "metadata": {},
   "outputs": [],
   "source": [
    "import datetime\n",
    "start_time = datetime.datetime.now()\n",
    "\n",
    "df_hr_extract['text_predict'] = df_hr_extract['text'].apply(sample_predict)\n",
    "\n",
    "end_time = datetime.datetime.now()\n",
    "print(f\"실행 시간: {end_time - start_time}\")"
   ]
  },
  {
   "cell_type": "code",
   "execution_count": null,
   "id": "63b9d1b9-e7a5-4764-805d-e436038f0e44",
   "metadata": {
    "scrolled": true
   },
   "outputs": [],
   "source": [
    "hospital_name_list = df_hr['hospital_name'].unique().tolist()\n",
    "hospital_name_list"
   ]
  },
  {
   "cell_type": "code",
   "execution_count": null,
   "id": "b4ebff41-8edd-439e-b890-b54e7aadcb7b",
   "metadata": {},
   "outputs": [],
   "source": [
    "df_hr_extract"
   ]
  },
  {
   "cell_type": "code",
   "execution_count": null,
   "id": "9feadafa-32dc-4c80-8f81-ced657a12e56",
   "metadata": {
    "scrolled": true
   },
   "outputs": [],
   "source": [
    "def change_number(row) :\n",
    "    if row==2 :\n",
    "        row=1\n",
    "    return row\n"
   ]
  },
  {
   "cell_type": "code",
   "execution_count": null,
   "id": "6471f0aa-74c4-4869-a984-5e6d57228e6f",
   "metadata": {
    "scrolled": true
   },
   "outputs": [],
   "source": [
    "for x in range(len(hospital_name_list)) :\n",
    "    df_hr_extract['text_predict'] = df_hr_extract['text_predict'].apply(change_number)\n",
    "    "
   ]
  },
  {
   "cell_type": "code",
   "execution_count": null,
   "id": "d64ce456-2c9c-4579-bd36-91215d7feb7d",
   "metadata": {},
   "outputs": [],
   "source": [
    "df_hr_extract"
   ]
  },
  {
   "cell_type": "code",
   "execution_count": null,
   "id": "5faf2ff2-e22e-4ec5-a70b-731eae595e67",
   "metadata": {},
   "outputs": [],
   "source": [
    "df_hr_extract.query(f\"hospital_name=='{hospital_name_list[0]}'\").query(\"text_predict==0\").count()"
   ]
  },
  {
   "cell_type": "code",
   "execution_count": null,
   "id": "01077d84-b6fc-4cf6-8fe1-9712a60bdc2b",
   "metadata": {},
   "outputs": [],
   "source": [
    "nega_list = []\n",
    "posi_list = []\n",
    "all_list = []\n"
   ]
  },
  {
   "cell_type": "code",
   "execution_count": null,
   "id": "9c906a52-34cd-4133-a6ed-d99261421e6b",
   "metadata": {},
   "outputs": [],
   "source": [
    "df_hr_extract.query(f\"hospital_name=='{hospital_name_list[0]}'\")"
   ]
  },
  {
   "cell_type": "code",
   "execution_count": null,
   "id": "05d28802-d15b-4a34-8c59-642aaaa8bce9",
   "metadata": {},
   "outputs": [],
   "source": [
    "mean_list = []\n",
    "nega_list = []\n",
    "posi_list = []\n",
    "all_list = []\n",
    "for x in range(len(hospital_name_list)) :\n",
    "    mean_list.append(round(df_hr_extract.query(f\"hospital_name=='{hospital_name_list[x]}'\")['text_predict'].mean(),2)\n",
    "    nega_list.append(round(df_hr_extract.query(f\"hospital_name=='{hospital_name_list[x]}'\")['text_predict'].mean(),2)"
   ]
  },
  {
   "cell_type": "code",
   "execution_count": null,
   "id": "313e4108-8629-47e8-99f2-c2b79974157e",
   "metadata": {
    "scrolled": true
   },
   "outputs": [],
   "source": [
    "df_hpp = pd.DataFrame(\n",
    "    data = list(zip(hospital_name_list, mean_list)),\n",
    "    columns=['hospital_name', 'percent']\n",
    ")"
   ]
  },
  {
   "cell_type": "code",
   "execution_count": null,
   "id": "650cd04e-8b1c-401e-84a1-8e752f35a71b",
   "metadata": {},
   "outputs": [],
   "source": [
    "def insert_pcs(row) :\n",
    "    row['1'] = \n",
    "    return row\n"
   ]
  },
  {
   "cell_type": "code",
   "execution_count": null,
   "id": "6ac7c168-c2da-425c-adfd-189f3ed6c3f0",
   "metadata": {},
   "outputs": [],
   "source": [
    "df_hr_extract.query(f\"hospital_name=='{hospital_name_list[0]}'\")['text_predict'].value_counts().sum()"
   ]
  },
  {
   "cell_type": "code",
   "execution_count": null,
   "id": "472172f0-1e23-41bb-b6d2-ed3d92c84eb8",
   "metadata": {},
   "outputs": [],
   "source": [
    "df_hr_hospital = pd.DataFrame()"
   ]
  }
 ],
 "metadata": {
  "kernelspec": {
   "display_name": "Python 3 (ipykernel)",
   "language": "python",
   "name": "python3"
  },
  "language_info": {
   "codemirror_mode": {
    "name": "ipython",
    "version": 3
   },
   "file_extension": ".py",
   "mimetype": "text/x-python",
   "name": "python",
   "nbconvert_exporter": "python",
   "pygments_lexer": "ipython3",
   "version": "3.11.8"
  }
 },
 "nbformat": 4,
 "nbformat_minor": 5
}
