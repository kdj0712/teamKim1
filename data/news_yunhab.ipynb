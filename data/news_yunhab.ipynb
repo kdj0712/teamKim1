{
 "cells": [
  {
   "cell_type": "code",
   "execution_count": 1,
   "id": "0ee27a7f-c837-45ac-87fa-493046391a4d",
   "metadata": {},
   "outputs": [],
   "source": [
    "import pandas as pd\n",
    "import numpy as np"
   ]
  },
  {
   "cell_type": "code",
   "execution_count": 5,
   "id": "4cc95bec-179d-43a9-85c8-1e4090f4f4f6",
   "metadata": {},
   "outputs": [
    {
     "data": {
      "text/html": [
       "<div>\n",
       "<style scoped>\n",
       "    .dataframe tbody tr th:only-of-type {\n",
       "        vertical-align: middle;\n",
       "    }\n",
       "\n",
       "    .dataframe tbody tr th {\n",
       "        vertical-align: top;\n",
       "    }\n",
       "\n",
       "    .dataframe thead th {\n",
       "        text-align: right;\n",
       "    }\n",
       "</style>\n",
       "<table border=\"1\" class=\"dataframe\">\n",
       "  <thead>\n",
       "    <tr style=\"text-align: right;\">\n",
       "      <th></th>\n",
       "      <th>_id</th>\n",
       "      <th>news_company</th>\n",
       "      <th>news_time</th>\n",
       "      <th>news_title</th>\n",
       "      <th>news_description</th>\n",
       "    </tr>\n",
       "  </thead>\n",
       "  <tbody>\n",
       "    <tr>\n",
       "      <th>0</th>\n",
       "      <td>65dc2e37d32a49168a710744</td>\n",
       "      <td>연합뉴스</td>\n",
       "      <td>송고시간2024-02-25 08:00</td>\n",
       "      <td>신속 심사·독점권 발판…'희귀 질환' 도전하는 제약기업들</td>\n",
       "      <td>(서울=연합뉴스) 김현수 기자 = 오는 29일은 '세계 희귀 질환의 날'이자 '희귀...</td>\n",
       "    </tr>\n",
       "    <tr>\n",
       "      <th>1</th>\n",
       "      <td>65dc2e39d32a49168a710745</td>\n",
       "      <td>연합뉴스</td>\n",
       "      <td>송고시간2024-02-23 13:41</td>\n",
       "      <td>젬백스 \"진행성 핵상 마비 치료제, 국내 희귀의약품 지정\"</td>\n",
       "      <td>(서울=연합뉴스) 김현수 기자 = 신약 개발 기업 젬백스앤카엘은 식품의약품안전처로부...</td>\n",
       "    </tr>\n",
       "    <tr>\n",
       "      <th>2</th>\n",
       "      <td>65dc2e3ad32a49168a710746</td>\n",
       "      <td>연합뉴스</td>\n",
       "      <td>송고시간2024-02-12 12:00</td>\n",
       "      <td>의료비 지원받는 희귀질환자 늘린다…재산 기준 완화</td>\n",
       "      <td>(서울=연합뉴스) 성서호 기자 = 질병관리청은 저소득층 희귀 질환자를 대상으로 하는...</td>\n",
       "    </tr>\n",
       "    <tr>\n",
       "      <th>3</th>\n",
       "      <td>65dc2e3cd32a49168a710747</td>\n",
       "      <td>연합뉴스</td>\n",
       "      <td>송고시간2024-01-30 14:28</td>\n",
       "      <td>양산부산대병원, 권역별 '희귀질환 전문기관' 재지정</td>\n",
       "      <td>(양산=연합뉴스) 최병길 기자 = 양산부산대병원은 질병관리청에서 주관하는 제1기 권...</td>\n",
       "    </tr>\n",
       "    <tr>\n",
       "      <th>4</th>\n",
       "      <td>65dc2e3ed32a49168a710748</td>\n",
       "      <td>연합뉴스</td>\n",
       "      <td>송고시간2024-01-29 09:46</td>\n",
       "      <td>대웅제약 \"특발성 폐섬유증 신약, 유럽서 희귀의약품 지정\"</td>\n",
       "      <td>(서울=연합뉴스) 조현영 기자 = 대웅제약[069620]은 특발성 폐섬유증 치료제로...</td>\n",
       "    </tr>\n",
       "  </tbody>\n",
       "</table>\n",
       "</div>"
      ],
      "text/plain": [
       "                        _id news_company             news_time  \\\n",
       "0  65dc2e37d32a49168a710744         연합뉴스  송고시간2024-02-25 08:00   \n",
       "1  65dc2e39d32a49168a710745         연합뉴스  송고시간2024-02-23 13:41   \n",
       "2  65dc2e3ad32a49168a710746         연합뉴스  송고시간2024-02-12 12:00   \n",
       "3  65dc2e3cd32a49168a710747         연합뉴스  송고시간2024-01-30 14:28   \n",
       "4  65dc2e3ed32a49168a710748         연합뉴스  송고시간2024-01-29 09:46   \n",
       "\n",
       "                         news_title  \\\n",
       "0   신속 심사·독점권 발판…'희귀 질환' 도전하는 제약기업들   \n",
       "1  젬백스 \"진행성 핵상 마비 치료제, 국내 희귀의약품 지정\"   \n",
       "2       의료비 지원받는 희귀질환자 늘린다…재산 기준 완화   \n",
       "3      양산부산대병원, 권역별 '희귀질환 전문기관' 재지정   \n",
       "4  대웅제약 \"특발성 폐섬유증 신약, 유럽서 희귀의약품 지정\"   \n",
       "\n",
       "                                    news_description  \n",
       "0  (서울=연합뉴스) 김현수 기자 = 오는 29일은 '세계 희귀 질환의 날'이자 '희귀...  \n",
       "1  (서울=연합뉴스) 김현수 기자 = 신약 개발 기업 젬백스앤카엘은 식품의약품안전처로부...  \n",
       "2  (서울=연합뉴스) 성서호 기자 = 질병관리청은 저소득층 희귀 질환자를 대상으로 하는...  \n",
       "3  (양산=연합뉴스) 최병길 기자 = 양산부산대병원은 질병관리청에서 주관하는 제1기 권...  \n",
       "4  (서울=연합뉴스) 조현영 기자 = 대웅제약[069620]은 특발성 폐섬유증 치료제로...  "
      ]
     },
     "execution_count": 5,
     "metadata": {},
     "output_type": "execute_result"
    }
   ],
   "source": [
    "df_yunhab = pd.read_csv(\"rare_disease_news_yunhab.csv\")\n",
    "df_yunhab.head()"
   ]
  },
  {
   "cell_type": "code",
   "execution_count": 17,
   "id": "299ed728-c19f-4a82-a29b-19f0f5c1bc66",
   "metadata": {},
   "outputs": [
    {
     "name": "stdout",
     "output_type": "stream",
     "text": [
      "<class 'pandas.core.frame.DataFrame'>\n",
      "RangeIndex: 254 entries, 0 to 253\n",
      "Data columns (total 6 columns):\n",
      " #   Column            Non-Null Count  Dtype \n",
      "---  ------            --------------  ----- \n",
      " 0   _id               254 non-null    object\n",
      " 1   news_company      254 non-null    object\n",
      " 2   news_time         254 non-null    object\n",
      " 3   news_title        254 non-null    object\n",
      " 4   news_description  254 non-null    object\n",
      " 5   news_day          254 non-null    object\n",
      "dtypes: object(6)\n",
      "memory usage: 12.0+ KB\n"
     ]
    },
    {
     "data": {
      "text/plain": [
       "('(서울=연합뉴스) 김현수 기자 = 신약 개발 기업 젬백스앤카엘은 식품의약품안전처로부터 진행성 핵상 마비(PSP) 치료제 \\'GV1001\\'이 개발 단계 희귀의약품으로 지정됐다고 23일 밝혔다.희귀의약품으로 지정되면 신속 심사 대상에 포함돼 임상 2상만으로 조건부 허가를 받을 수 있다. 품목 허가 유효기간 연장, 시장 독점권 등 다양한 특례도 적용된다.PSP는 비정형 파킨슨 증후군으로, 일반적인 파킨슨병보다 질병 진행 속도가 빠르고 파킨슨병에 사용하는 약물에 잘 반응하지 않는다.젬백스앤카엘은 GV1001이 PSP·알츠하이머 등 신경 퇴행성 질환에 대해 뇌 면역 환경을 개선하고 염증을 줄일 것으로 기대했다.이 치료제는 현재 국내 PSP 임상 2상이 진행 중이며, 최근 미국 식품의약청(FDA)으로부터도 임상 2상 시험 계획을 승인받았다.젬백스[082270]는 FDA 등 해외 희귀의약품 지정 절차도 진행할 예정이다.젬백스 관계자는 \"이번 지정은 세계 최초 치료제 개발이라는 도전에 큰 힘이 될 것\"이라며 \"국내는 물론 글로벌 임상 시험에서도 좋은 결과를 도출해 치료제가 없어 고통받는 PSP 환자들을 위해 개발에 최선을 다하겠다\"고 말했다.hyunsu@yna.co.kr제보는 카카오톡 okjebo\\\\n<저작권자(c) 연합뉴스, 무단 전재-재배포, AI 학습 및 활용 금지> 2024/02/23 13:41 송고',\n",
       " None)"
      ]
     },
     "execution_count": 17,
     "metadata": {},
     "output_type": "execute_result"
    }
   ],
   "source": [
    "df_yunhab['news_description'][1], df_yunhab.info()"
   ]
  },
  {
   "cell_type": "code",
   "execution_count": 20,
   "id": "b22e2f11-a3b3-4246-83e9-b77adef12d0e",
   "metadata": {},
   "outputs": [
    {
     "data": {
      "text/html": [
       "<div>\n",
       "<style scoped>\n",
       "    .dataframe tbody tr th:only-of-type {\n",
       "        vertical-align: middle;\n",
       "    }\n",
       "\n",
       "    .dataframe tbody tr th {\n",
       "        vertical-align: top;\n",
       "    }\n",
       "\n",
       "    .dataframe thead th {\n",
       "        text-align: right;\n",
       "    }\n",
       "</style>\n",
       "<table border=\"1\" class=\"dataframe\">\n",
       "  <thead>\n",
       "    <tr style=\"text-align: right;\">\n",
       "      <th></th>\n",
       "      <th>_id</th>\n",
       "      <th>news_company</th>\n",
       "      <th>news_time</th>\n",
       "      <th>news_title</th>\n",
       "      <th>news_description</th>\n",
       "      <th>news_day</th>\n",
       "    </tr>\n",
       "  </thead>\n",
       "  <tbody>\n",
       "    <tr>\n",
       "      <th>0</th>\n",
       "      <td>65dc2e37d32a49168a710744</td>\n",
       "      <td>연합뉴스</td>\n",
       "      <td>송고시간2024-02-25 08:00</td>\n",
       "      <td>신속 심사·독점권 발판…'희귀 질환' 도전하는 제약기업들</td>\n",
       "      <td>(서울=연합뉴스) 김현수 기자 = 오는 29일은 '세계 희귀 질환의 날'이자 '희귀...</td>\n",
       "      <td>2024-02-25</td>\n",
       "    </tr>\n",
       "    <tr>\n",
       "      <th>1</th>\n",
       "      <td>65dc2e39d32a49168a710745</td>\n",
       "      <td>연합뉴스</td>\n",
       "      <td>송고시간2024-02-23 13:41</td>\n",
       "      <td>젬백스 \"진행성 핵상 마비 치료제, 국내 희귀의약품 지정\"</td>\n",
       "      <td>(서울=연합뉴스) 김현수 기자 = 신약 개발 기업 젬백스앤카엘은 식품의약품안전처로부...</td>\n",
       "      <td>2024-02-23</td>\n",
       "    </tr>\n",
       "    <tr>\n",
       "      <th>2</th>\n",
       "      <td>65dc2e3ad32a49168a710746</td>\n",
       "      <td>연합뉴스</td>\n",
       "      <td>송고시간2024-02-12 12:00</td>\n",
       "      <td>의료비 지원받는 희귀질환자 늘린다…재산 기준 완화</td>\n",
       "      <td>(서울=연합뉴스) 성서호 기자 = 질병관리청은 저소득층 희귀 질환자를 대상으로 하는...</td>\n",
       "      <td>2024-02-12</td>\n",
       "    </tr>\n",
       "    <tr>\n",
       "      <th>3</th>\n",
       "      <td>65dc2e3cd32a49168a710747</td>\n",
       "      <td>연합뉴스</td>\n",
       "      <td>송고시간2024-01-30 14:28</td>\n",
       "      <td>양산부산대병원, 권역별 '희귀질환 전문기관' 재지정</td>\n",
       "      <td>(양산=연합뉴스) 최병길 기자 = 양산부산대병원은 질병관리청에서 주관하는 제1기 권...</td>\n",
       "      <td>2024-01-30</td>\n",
       "    </tr>\n",
       "    <tr>\n",
       "      <th>4</th>\n",
       "      <td>65dc2e3ed32a49168a710748</td>\n",
       "      <td>연합뉴스</td>\n",
       "      <td>송고시간2024-01-29 09:46</td>\n",
       "      <td>대웅제약 \"특발성 폐섬유증 신약, 유럽서 희귀의약품 지정\"</td>\n",
       "      <td>(서울=연합뉴스) 조현영 기자 = 대웅제약[069620]은 특발성 폐섬유증 치료제로...</td>\n",
       "      <td>2024-01-29</td>\n",
       "    </tr>\n",
       "  </tbody>\n",
       "</table>\n",
       "</div>"
      ],
      "text/plain": [
       "                        _id news_company             news_time  \\\n",
       "0  65dc2e37d32a49168a710744         연합뉴스  송고시간2024-02-25 08:00   \n",
       "1  65dc2e39d32a49168a710745         연합뉴스  송고시간2024-02-23 13:41   \n",
       "2  65dc2e3ad32a49168a710746         연합뉴스  송고시간2024-02-12 12:00   \n",
       "3  65dc2e3cd32a49168a710747         연합뉴스  송고시간2024-01-30 14:28   \n",
       "4  65dc2e3ed32a49168a710748         연합뉴스  송고시간2024-01-29 09:46   \n",
       "\n",
       "                         news_title  \\\n",
       "0   신속 심사·독점권 발판…'희귀 질환' 도전하는 제약기업들   \n",
       "1  젬백스 \"진행성 핵상 마비 치료제, 국내 희귀의약품 지정\"   \n",
       "2       의료비 지원받는 희귀질환자 늘린다…재산 기준 완화   \n",
       "3      양산부산대병원, 권역별 '희귀질환 전문기관' 재지정   \n",
       "4  대웅제약 \"특발성 폐섬유증 신약, 유럽서 희귀의약품 지정\"   \n",
       "\n",
       "                                    news_description    news_day  \n",
       "0  (서울=연합뉴스) 김현수 기자 = 오는 29일은 '세계 희귀 질환의 날'이자 '희귀...  2024-02-25  \n",
       "1  (서울=연합뉴스) 김현수 기자 = 신약 개발 기업 젬백스앤카엘은 식품의약품안전처로부...  2024-02-23  \n",
       "2  (서울=연합뉴스) 성서호 기자 = 질병관리청은 저소득층 희귀 질환자를 대상으로 하는...  2024-02-12  \n",
       "3  (양산=연합뉴스) 최병길 기자 = 양산부산대병원은 질병관리청에서 주관하는 제1기 권...  2024-01-30  \n",
       "4  (서울=연합뉴스) 조현영 기자 = 대웅제약[069620]은 특발성 폐섬유증 치료제로...  2024-01-29  "
      ]
     },
     "execution_count": 20,
     "metadata": {},
     "output_type": "execute_result"
    }
   ],
   "source": [
    "for num in range(254) :\n",
    "    df_yunhab.loc[num, 'news_day'] = df_yunhab.loc[num, 'news_time'][4:14]\n",
    "df_yunhab.head()"
   ]
  },
  {
   "cell_type": "code",
   "execution_count": 11,
   "id": "280c0736-6dfb-4d7f-970a-c7eadf58aa8a",
   "metadata": {},
   "outputs": [
    {
     "data": {
      "text/plain": [
       "'2024-02-23'"
      ]
     },
     "execution_count": 11,
     "metadata": {},
     "output_type": "execute_result"
    }
   ],
   "source": []
  },
  {
   "cell_type": "code",
   "execution_count": null,
   "id": "7671cefc-2c51-4fed-9d4e-0e9ddd22c5f9",
   "metadata": {},
   "outputs": [],
   "source": []
  }
 ],
 "metadata": {
  "kernelspec": {
   "display_name": "Python 3 (ipykernel)",
   "language": "python",
   "name": "python3"
  },
  "language_info": {
   "codemirror_mode": {
    "name": "ipython",
    "version": 3
   },
   "file_extension": ".py",
   "mimetype": "text/x-python",
   "name": "python",
   "nbconvert_exporter": "python",
   "pygments_lexer": "ipython3",
   "version": "3.11.8"
  }
 },
 "nbformat": 4,
 "nbformat_minor": 5
}
