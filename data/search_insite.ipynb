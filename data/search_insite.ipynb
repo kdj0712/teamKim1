{
 "cells": [
  {
   "cell_type": "code",
   "execution_count": 1,
   "id": "9e128f48-0b48-45e5-8551-b0147b90e377",
   "metadata": {},
   "outputs": [],
   "source": [
    "import pandas as pd\n",
    "import matplotlib as mpl\n",
    "import matplotlib.dates as mdates\n",
    "import matplotlib.pyplot as plt\n",
    "mpl.rc('font', family='NanumBarunGothic') # 혹은 다른 설치한 Nanum 폰트 사용\n",
    "import matplotlib.font_manager as fm\n",
    "# 설치된 폰트 중 'NanumGothic' 찾기\n",
    "for font in fm.fontManager.ttflist:\n",
    "    if 'NanumGothic' in font.name:\n",
    "        plt.rcParams['font.family'] = font.name\n",
    "        break\n",
    "\n",
    "plt.rcParams['axes.unicode_minus'] = False"
   ]
  },
  {
   "cell_type": "code",
   "execution_count": null,
   "id": "9137c7e8-33fc-4a8c-8cbd-0b2c191926fe",
   "metadata": {},
   "outputs": [],
   "source": []
  }
 ],
 "metadata": {
  "kernelspec": {
   "display_name": "Python 3 (ipykernel)",
   "language": "python",
   "name": "python3"
  },
  "language_info": {
   "codemirror_mode": {
    "name": "ipython",
    "version": 3
   },
   "file_extension": ".py",
   "mimetype": "text/x-python",
   "name": "python",
   "nbconvert_exporter": "python",
   "pygments_lexer": "ipython3",
   "version": "3.11.8"
  }
 },
 "nbformat": 4,
 "nbformat_minor": 5
}
